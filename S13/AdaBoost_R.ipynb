{
 "cells": [
  {
   "cell_type": "code",
   "execution_count": 2,
   "metadata": {},
   "outputs": [],
   "source": [
    "rm(list=ls())\n",
    "oldw <- getOption(\"warn\")\n",
    "options(warn = -1)"
   ]
  },
  {
   "cell_type": "code",
   "execution_count": 17,
   "metadata": {},
   "outputs": [
    {
     "name": "stderr",
     "output_type": "stream",
     "text": [
      "also installing the dependency 'ranger'\n",
      "\n"
     ]
    },
    {
     "name": "stdout",
     "output_type": "stream",
     "text": [
      "package 'ranger' successfully unpacked and MD5 sums checked\n",
      "package 'Boruta' successfully unpacked and MD5 sums checked\n",
      "\n",
      "The downloaded binary packages are in\n",
      "\tC:\\Users\\Aron\\AppData\\Local\\Temp\\RtmpSGP251\\downloaded_packages\n"
     ]
    },
    {
     "name": "stderr",
     "output_type": "stream",
     "text": [
      "Warning message:\n",
      "\"package 'Boruta' was built under R version 3.6.3\""
     ]
    },
    {
     "name": "stdout",
     "output_type": "stream",
     "text": [
      "\n",
      "Bellow Packages Successfully Installed:\n",
      "\n",
      "   ggplot2        gee      leaps       nnet       pROC      party      rpart \n",
      "      TRUE       TRUE       TRUE       TRUE       TRUE       TRUE       TRUE \n",
      "     dplyr      caret  MLmetrics      haven        mlr        UBL       ROSE \n",
      "      TRUE       TRUE       TRUE       TRUE       TRUE       TRUE       TRUE \n",
      "rpart.plot    mlbench     adabag        gbm       lime    xgboost reticulate \n",
      "      TRUE       TRUE       TRUE       TRUE       TRUE       TRUE       TRUE \n",
      "    Boruta \n",
      "      TRUE \n"
     ]
    }
   ],
   "source": [
    "#########################################################################\n",
    "### -- ANAL?TICA PREDICTIVA DE DATOS -- ## \n",
    "#########################################################################\n",
    "source(\"./ins_paquetes.R\")\n",
    "\n",
    "ins_paquetes('ggplot2','gee','leaps','nnet','pROC','party','rpart','dplyr','caret','MLmetrics','haven',\n",
    "             'mlr','UBL','ROSE','rpart.plot','mlbench','adabag','gbm','lime','xgboost','reticulate', 'Boruta')\n",
    "#########################################################################"
   ]
  },
  {
   "cell_type": "code",
   "execution_count": 18,
   "metadata": {},
   "outputs": [],
   "source": [
    "########### 1) LIBRERIAS A UTILIZAR ################# \n",
    "\n",
    "library(ggplot2)\n",
    "library(gee)\n",
    "library(leaps)\n",
    "library(dplyr)\n",
    "library(caret)\n",
    "library(pROC)\n",
    "library(MLmetrics)\n",
    "library(nnet)\n",
    "library(mlbench)\n",
    "library(adabag)\n",
    "library(rpart)\n",
    "library(gbm)\n",
    "library(lime)\n",
    "library(xgboost)\n",
    "library(reticulate)\n",
    "library(Boruta)\n",
    "options(warn = oldw)"
   ]
  },
  {
   "cell_type": "code",
   "execution_count": 5,
   "metadata": {},
   "outputs": [],
   "source": [
    "########### 2) DATA A UTILIZAR ################# \n",
    "\n",
    "data <- read.csv(\"./datasets/PimaIndiansDiabetes.csv\")"
   ]
  },
  {
   "cell_type": "code",
   "execution_count": 6,
   "metadata": {},
   "outputs": [],
   "source": [
    "########### 3) TRATAMIENTO DE LA DATA ################# \n",
    "\n",
    "## en primer lugar ver el analisis descriptivo de la data\n",
    "\n",
    "resumen <- data.frame(summarizeColumns(data))\n",
    "write.csv(resumen,\"tabla_resumen.csv\")"
   ]
  },
  {
   "cell_type": "code",
   "execution_count": 7,
   "metadata": {},
   "outputs": [],
   "source": [
    "########### 4) VARIABLES DEL MODELO ################# \n",
    "\n",
    "## variables del modelo ##\n",
    "\n",
    "data$diabetes <- ifelse(data$diabetes==\"pos\",1,0)\n",
    "data$diabetes <- as.factor(data$diabetes)"
   ]
  },
  {
   "cell_type": "code",
   "execution_count": 8,
   "metadata": {},
   "outputs": [],
   "source": [
    "########### 4) PARTICION MUESTRAL #################  \n",
    "\n",
    "set.seed(123)\n",
    "training.samples <- data$diabetes %>% \n",
    "  createDataPartition(p = 0.7, list = FALSE)\n",
    "train.data  <- data[training.samples, ]\n",
    "test.data <- data[-training.samples, ]"
   ]
  },
  {
   "cell_type": "code",
   "execution_count": 9,
   "metadata": {},
   "outputs": [],
   "source": [
    "########### 5) MODELADO ################# \n",
    "\n",
    "# modelo 1.- AdaBoost\n",
    "\n",
    "# Ejecuci?n del an?lisis AdaBoost\n",
    "\n",
    "modelo1 <- boosting(diabetes ~ ., data = train.data)"
   ]
  },
  {
   "cell_type": "code",
   "execution_count": 10,
   "metadata": {},
   "outputs": [
    {
     "data": {
      "text/html": [
       "<dl class=dl-horizontal>\n",
       "\t<dt>age</dt>\n",
       "\t\t<dd>10.5028076866483</dd>\n",
       "\t<dt>glucose</dt>\n",
       "\t\t<dd>18.1376160653664</dd>\n",
       "\t<dt>insulin</dt>\n",
       "\t\t<dd>12.5442119593092</dd>\n",
       "\t<dt>mass</dt>\n",
       "\t\t<dd>14.3241806180034</dd>\n",
       "\t<dt>pedigree</dt>\n",
       "\t\t<dd>15.6451386391902</dd>\n",
       "\t<dt>pregnant</dt>\n",
       "\t\t<dd>7.59556230959995</dd>\n",
       "\t<dt>pressure</dt>\n",
       "\t\t<dd>10.1708455106783</dd>\n",
       "\t<dt>triceps</dt>\n",
       "\t\t<dd>11.0796372112043</dd>\n",
       "</dl>\n"
      ],
      "text/latex": [
       "\\begin{description*}\n",
       "\\item[age] 10.5028076866483\n",
       "\\item[glucose] 18.1376160653664\n",
       "\\item[insulin] 12.5442119593092\n",
       "\\item[mass] 14.3241806180034\n",
       "\\item[pedigree] 15.6451386391902\n",
       "\\item[pregnant] 7.59556230959995\n",
       "\\item[pressure] 10.1708455106783\n",
       "\\item[triceps] 11.0796372112043\n",
       "\\end{description*}\n"
      ],
      "text/markdown": [
       "age\n",
       ":   10.5028076866483glucose\n",
       ":   18.1376160653664insulin\n",
       ":   12.5442119593092mass\n",
       ":   14.3241806180034pedigree\n",
       ":   15.6451386391902pregnant\n",
       ":   7.59556230959995pressure\n",
       ":   10.1708455106783triceps\n",
       ":   11.0796372112043\n",
       "\n"
      ],
      "text/plain": [
       "      age   glucose   insulin      mass  pedigree  pregnant  pressure   triceps \n",
       "10.502808 18.137616 12.544212 14.324181 15.645139  7.595562 10.170846 11.079637 "
      ]
     },
     "metadata": {},
     "output_type": "display_data"
    }
   ],
   "source": [
    "# Importancia de cada variable\n",
    "#importance\t: returns the relative importance of each variable in the classification task. \n",
    "#This measure takes into account the gain of the Gini index given by a variable in a tree \n",
    "#and the weight of this tree.\n",
    "\n",
    "modelo1$importance"
   ]
  },
  {
   "cell_type": "code",
   "execution_count": 11,
   "metadata": {
    "scrolled": true
   },
   "outputs": [
    {
     "data": {
      "text/html": [
       "<table>\n",
       "<tbody>\n",
       "\t<tr><td>41.18509 </td><td>17.464455</td></tr>\n",
       "\t<tr><td>14.66393 </td><td>43.985620</td></tr>\n",
       "\t<tr><td>18.14732 </td><td>40.502231</td></tr>\n",
       "\t<tr><td>13.17348 </td><td>45.476068</td></tr>\n",
       "\t<tr><td>15.76827 </td><td>42.881274</td></tr>\n",
       "\t<tr><td>16.95337 </td><td>41.696174</td></tr>\n",
       "\t<tr><td>17.40361 </td><td>41.245937</td></tr>\n",
       "\t<tr><td>17.84207 </td><td>40.807479</td></tr>\n",
       "\t<tr><td>17.10439 </td><td>41.545154</td></tr>\n",
       "\t<tr><td>55.14791 </td><td> 3.501640</td></tr>\n",
       "\t<tr><td>41.74681 </td><td>16.902735</td></tr>\n",
       "\t<tr><td>16.96904 </td><td>41.680511</td></tr>\n",
       "\t<tr><td>51.26936 </td><td> 7.380190</td></tr>\n",
       "\t<tr><td>43.25242 </td><td>15.397123</td></tr>\n",
       "\t<tr><td>18.48740 </td><td>40.162146</td></tr>\n",
       "\t<tr><td>40.15121 </td><td>18.498338</td></tr>\n",
       "\t<tr><td>52.85858 </td><td> 5.790968</td></tr>\n",
       "\t<tr><td>49.32034 </td><td> 9.329205</td></tr>\n",
       "\t<tr><td>45.26114 </td><td>13.388410</td></tr>\n",
       "\t<tr><td>13.40253 </td><td>45.247014</td></tr>\n",
       "\t<tr><td>17.86172 </td><td>40.787828</td></tr>\n",
       "\t<tr><td>40.73704 </td><td>17.912512</td></tr>\n",
       "\t<tr><td>41.11723 </td><td>17.532314</td></tr>\n",
       "\t<tr><td>51.28189 </td><td> 7.367658</td></tr>\n",
       "\t<tr><td>40.37525 </td><td>18.274297</td></tr>\n",
       "\t<tr><td>40.91137 </td><td>17.738177</td></tr>\n",
       "\t<tr><td>40.89681 </td><td>17.752743</td></tr>\n",
       "\t<tr><td>47.87887 </td><td>10.770674</td></tr>\n",
       "\t<tr><td>41.21370 </td><td>17.435852</td></tr>\n",
       "\t<tr><td>45.79720 </td><td>12.852351</td></tr>\n",
       "\t<tr><td>...</td><td>...</td></tr>\n",
       "\t<tr><td>14.178305</td><td>44.471243</td></tr>\n",
       "\t<tr><td>41.971913</td><td>16.677635</td></tr>\n",
       "\t<tr><td>42.560377</td><td>16.089171</td></tr>\n",
       "\t<tr><td>40.280495</td><td>18.369053</td></tr>\n",
       "\t<tr><td>40.761041</td><td>17.888507</td></tr>\n",
       "\t<tr><td>42.403383</td><td>16.246165</td></tr>\n",
       "\t<tr><td>16.359834</td><td>42.289714</td></tr>\n",
       "\t<tr><td>47.429873</td><td>11.219675</td></tr>\n",
       "\t<tr><td>42.891939</td><td>15.757609</td></tr>\n",
       "\t<tr><td>41.499778</td><td>17.149770</td></tr>\n",
       "\t<tr><td>40.321635</td><td>18.327913</td></tr>\n",
       "\t<tr><td>16.982103</td><td>41.667445</td></tr>\n",
       "\t<tr><td> 8.760667</td><td>49.888881</td></tr>\n",
       "\t<tr><td>17.515910</td><td>41.133638</td></tr>\n",
       "\t<tr><td>42.920384</td><td>15.729164</td></tr>\n",
       "\t<tr><td>44.080142</td><td>14.569406</td></tr>\n",
       "\t<tr><td>18.108370</td><td>40.541178</td></tr>\n",
       "\t<tr><td>17.689041</td><td>40.960507</td></tr>\n",
       "\t<tr><td>42.865981</td><td>15.783567</td></tr>\n",
       "\t<tr><td>49.280717</td><td> 9.368831</td></tr>\n",
       "\t<tr><td>16.754680</td><td>41.894868</td></tr>\n",
       "\t<tr><td>43.218979</td><td>15.430569</td></tr>\n",
       "\t<tr><td>45.995256</td><td>12.654292</td></tr>\n",
       "\t<tr><td>40.413062</td><td>18.236486</td></tr>\n",
       "\t<tr><td>41.535658</td><td>17.113890</td></tr>\n",
       "\t<tr><td>15.999718</td><td>42.649830</td></tr>\n",
       "\t<tr><td>43.852789</td><td>14.796759</td></tr>\n",
       "\t<tr><td>17.756478</td><td>40.893070</td></tr>\n",
       "\t<tr><td>46.220572</td><td>12.428976</td></tr>\n",
       "\t<tr><td>42.068721</td><td>16.580827</td></tr>\n",
       "</tbody>\n",
       "</table>\n"
      ],
      "text/latex": [
       "\\begin{tabular}{ll}\n",
       "\t 41.18509  & 17.464455\\\\\n",
       "\t 14.66393  & 43.985620\\\\\n",
       "\t 18.14732  & 40.502231\\\\\n",
       "\t 13.17348  & 45.476068\\\\\n",
       "\t 15.76827  & 42.881274\\\\\n",
       "\t 16.95337  & 41.696174\\\\\n",
       "\t 17.40361  & 41.245937\\\\\n",
       "\t 17.84207  & 40.807479\\\\\n",
       "\t 17.10439  & 41.545154\\\\\n",
       "\t 55.14791  &  3.501640\\\\\n",
       "\t 41.74681  & 16.902735\\\\\n",
       "\t 16.96904  & 41.680511\\\\\n",
       "\t 51.26936  &  7.380190\\\\\n",
       "\t 43.25242  & 15.397123\\\\\n",
       "\t 18.48740  & 40.162146\\\\\n",
       "\t 40.15121  & 18.498338\\\\\n",
       "\t 52.85858  &  5.790968\\\\\n",
       "\t 49.32034  &  9.329205\\\\\n",
       "\t 45.26114  & 13.388410\\\\\n",
       "\t 13.40253  & 45.247014\\\\\n",
       "\t 17.86172  & 40.787828\\\\\n",
       "\t 40.73704  & 17.912512\\\\\n",
       "\t 41.11723  & 17.532314\\\\\n",
       "\t 51.28189  &  7.367658\\\\\n",
       "\t 40.37525  & 18.274297\\\\\n",
       "\t 40.91137  & 17.738177\\\\\n",
       "\t 40.89681  & 17.752743\\\\\n",
       "\t 47.87887  & 10.770674\\\\\n",
       "\t 41.21370  & 17.435852\\\\\n",
       "\t 45.79720  & 12.852351\\\\\n",
       "\t ... & ...\\\\\n",
       "\t 14.178305 & 44.471243\\\\\n",
       "\t 41.971913 & 16.677635\\\\\n",
       "\t 42.560377 & 16.089171\\\\\n",
       "\t 40.280495 & 18.369053\\\\\n",
       "\t 40.761041 & 17.888507\\\\\n",
       "\t 42.403383 & 16.246165\\\\\n",
       "\t 16.359834 & 42.289714\\\\\n",
       "\t 47.429873 & 11.219675\\\\\n",
       "\t 42.891939 & 15.757609\\\\\n",
       "\t 41.499778 & 17.149770\\\\\n",
       "\t 40.321635 & 18.327913\\\\\n",
       "\t 16.982103 & 41.667445\\\\\n",
       "\t  8.760667 & 49.888881\\\\\n",
       "\t 17.515910 & 41.133638\\\\\n",
       "\t 42.920384 & 15.729164\\\\\n",
       "\t 44.080142 & 14.569406\\\\\n",
       "\t 18.108370 & 40.541178\\\\\n",
       "\t 17.689041 & 40.960507\\\\\n",
       "\t 42.865981 & 15.783567\\\\\n",
       "\t 49.280717 &  9.368831\\\\\n",
       "\t 16.754680 & 41.894868\\\\\n",
       "\t 43.218979 & 15.430569\\\\\n",
       "\t 45.995256 & 12.654292\\\\\n",
       "\t 40.413062 & 18.236486\\\\\n",
       "\t 41.535658 & 17.113890\\\\\n",
       "\t 15.999718 & 42.649830\\\\\n",
       "\t 43.852789 & 14.796759\\\\\n",
       "\t 17.756478 & 40.893070\\\\\n",
       "\t 46.220572 & 12.428976\\\\\n",
       "\t 42.068721 & 16.580827\\\\\n",
       "\\end{tabular}\n"
      ],
      "text/markdown": [
       "\n",
       "| 41.18509  | 17.464455 |\n",
       "| 14.66393  | 43.985620 |\n",
       "| 18.14732  | 40.502231 |\n",
       "| 13.17348  | 45.476068 |\n",
       "| 15.76827  | 42.881274 |\n",
       "| 16.95337  | 41.696174 |\n",
       "| 17.40361  | 41.245937 |\n",
       "| 17.84207  | 40.807479 |\n",
       "| 17.10439  | 41.545154 |\n",
       "| 55.14791  |  3.501640 |\n",
       "| 41.74681  | 16.902735 |\n",
       "| 16.96904  | 41.680511 |\n",
       "| 51.26936  |  7.380190 |\n",
       "| 43.25242  | 15.397123 |\n",
       "| 18.48740  | 40.162146 |\n",
       "| 40.15121  | 18.498338 |\n",
       "| 52.85858  |  5.790968 |\n",
       "| 49.32034  |  9.329205 |\n",
       "| 45.26114  | 13.388410 |\n",
       "| 13.40253  | 45.247014 |\n",
       "| 17.86172  | 40.787828 |\n",
       "| 40.73704  | 17.912512 |\n",
       "| 41.11723  | 17.532314 |\n",
       "| 51.28189  |  7.367658 |\n",
       "| 40.37525  | 18.274297 |\n",
       "| 40.91137  | 17.738177 |\n",
       "| 40.89681  | 17.752743 |\n",
       "| 47.87887  | 10.770674 |\n",
       "| 41.21370  | 17.435852 |\n",
       "| 45.79720  | 12.852351 |\n",
       "| ... | ... |\n",
       "| 14.178305 | 44.471243 |\n",
       "| 41.971913 | 16.677635 |\n",
       "| 42.560377 | 16.089171 |\n",
       "| 40.280495 | 18.369053 |\n",
       "| 40.761041 | 17.888507 |\n",
       "| 42.403383 | 16.246165 |\n",
       "| 16.359834 | 42.289714 |\n",
       "| 47.429873 | 11.219675 |\n",
       "| 42.891939 | 15.757609 |\n",
       "| 41.499778 | 17.149770 |\n",
       "| 40.321635 | 18.327913 |\n",
       "| 16.982103 | 41.667445 |\n",
       "|  8.760667 | 49.888881 |\n",
       "| 17.515910 | 41.133638 |\n",
       "| 42.920384 | 15.729164 |\n",
       "| 44.080142 | 14.569406 |\n",
       "| 18.108370 | 40.541178 |\n",
       "| 17.689041 | 40.960507 |\n",
       "| 42.865981 | 15.783567 |\n",
       "| 49.280717 |  9.368831 |\n",
       "| 16.754680 | 41.894868 |\n",
       "| 43.218979 | 15.430569 |\n",
       "| 45.995256 | 12.654292 |\n",
       "| 40.413062 | 18.236486 |\n",
       "| 41.535658 | 17.113890 |\n",
       "| 15.999718 | 42.649830 |\n",
       "| 43.852789 | 14.796759 |\n",
       "| 17.756478 | 40.893070 |\n",
       "| 46.220572 | 12.428976 |\n",
       "| 42.068721 | 16.580827 |\n",
       "\n"
      ],
      "text/plain": [
       "      [,1]      [,2]     \n",
       " [1,] 41.18509  17.464455\n",
       " [2,] 14.66393  43.985620\n",
       " [3,] 18.14732  40.502231\n",
       " [4,] 13.17348  45.476068\n",
       " [5,] 15.76827  42.881274\n",
       " [6,] 16.95337  41.696174\n",
       " [7,] 17.40361  41.245937\n",
       " [8,] 17.84207  40.807479\n",
       " [9,] 17.10439  41.545154\n",
       "[10,] 55.14791   3.501640\n",
       "[11,] 41.74681  16.902735\n",
       "[12,] 16.96904  41.680511\n",
       "[13,] 51.26936   7.380190\n",
       "[14,] 43.25242  15.397123\n",
       "[15,] 18.48740  40.162146\n",
       "[16,] 40.15121  18.498338\n",
       "[17,] 52.85858   5.790968\n",
       "[18,] 49.32034   9.329205\n",
       "[19,] 45.26114  13.388410\n",
       "[20,] 13.40253  45.247014\n",
       "[21,] 17.86172  40.787828\n",
       "[22,] 40.73704  17.912512\n",
       "[23,] 41.11723  17.532314\n",
       "[24,] 51.28189   7.367658\n",
       "[25,] 40.37525  18.274297\n",
       "[26,] 40.91137  17.738177\n",
       "[27,] 40.89681  17.752743\n",
       "[28,] 47.87887  10.770674\n",
       "[29,] 41.21370  17.435852\n",
       "[30,] 45.79720  12.852351\n",
       "[31,] ...       ...      \n",
       "[32,] 14.178305 44.471243\n",
       "[33,] 41.971913 16.677635\n",
       "[34,] 42.560377 16.089171\n",
       "[35,] 40.280495 18.369053\n",
       "[36,] 40.761041 17.888507\n",
       "[37,] 42.403383 16.246165\n",
       "[38,] 16.359834 42.289714\n",
       "[39,] 47.429873 11.219675\n",
       "[40,] 42.891939 15.757609\n",
       "[41,] 41.499778 17.149770\n",
       "[42,] 40.321635 18.327913\n",
       "[43,] 16.982103 41.667445\n",
       "[44,]  8.760667 49.888881\n",
       "[45,] 17.515910 41.133638\n",
       "[46,] 42.920384 15.729164\n",
       "[47,] 44.080142 14.569406\n",
       "[48,] 18.108370 40.541178\n",
       "[49,] 17.689041 40.960507\n",
       "[50,] 42.865981 15.783567\n",
       "[51,] 49.280717  9.368831\n",
       "[52,] 16.754680 41.894868\n",
       "[53,] 43.218979 15.430569\n",
       "[54,] 45.995256 12.654292\n",
       "[55,] 40.413062 18.236486\n",
       "[56,] 41.535658 17.113890\n",
       "[57,] 15.999718 42.649830\n",
       "[58,] 43.852789 14.796759\n",
       "[59,] 17.756478 40.893070\n",
       "[60,] 46.220572 12.428976\n",
       "[61,] 42.068721 16.580827"
      ]
     },
     "metadata": {},
     "output_type": "display_data"
    }
   ],
   "source": [
    "modelo1$votes"
   ]
  },
  {
   "cell_type": "code",
   "execution_count": 12,
   "metadata": {},
   "outputs": [
    {
     "data": {
      "text/plain": [
       "diabetes ~ pregnant + glucose + pressure + triceps + insulin + \n",
       "    mass + pedigree + age\n",
       "attr(,\"variables\")\n",
       "list(diabetes, pregnant, glucose, pressure, triceps, insulin, \n",
       "    mass, pedigree, age)\n",
       "attr(,\"factors\")\n",
       "         pregnant glucose pressure triceps insulin mass pedigree age\n",
       "diabetes        0       0        0       0       0    0        0   0\n",
       "pregnant        1       0        0       0       0    0        0   0\n",
       "glucose         0       1        0       0       0    0        0   0\n",
       "pressure        0       0        1       0       0    0        0   0\n",
       "triceps         0       0        0       1       0    0        0   0\n",
       "insulin         0       0        0       0       1    0        0   0\n",
       "mass            0       0        0       0       0    1        0   0\n",
       "pedigree        0       0        0       0       0    0        1   0\n",
       "age             0       0        0       0       0    0        0   1\n",
       "attr(,\"term.labels\")\n",
       "[1] \"pregnant\" \"glucose\"  \"pressure\" \"triceps\"  \"insulin\"  \"mass\"     \"pedigree\"\n",
       "[8] \"age\"     \n",
       "attr(,\"order\")\n",
       "[1] 1 1 1 1 1 1 1 1\n",
       "attr(,\"intercept\")\n",
       "[1] 1\n",
       "attr(,\"response\")\n",
       "[1] 1\n",
       "attr(,\".Environment\")\n",
       "<environment: R_GlobalEnv>\n",
       "attr(,\"predvars\")\n",
       "list(diabetes, pregnant, glucose, pressure, triceps, insulin, \n",
       "    mass, pedigree, age)\n",
       "attr(,\"dataClasses\")\n",
       " diabetes  pregnant   glucose  pressure   triceps   insulin      mass  pedigree \n",
       " \"factor\" \"numeric\" \"numeric\" \"numeric\" \"numeric\" \"numeric\" \"numeric\" \"numeric\" \n",
       "      age \n",
       "\"numeric\" "
      ]
     },
     "metadata": {},
     "output_type": "display_data"
    }
   ],
   "source": [
    "modelo1$terms"
   ]
  },
  {
   "cell_type": "code",
   "execution_count": 13,
   "metadata": {},
   "outputs": [],
   "source": [
    "# Calcular los valores predichos\n",
    "PRED1 <- predict(modelo1, newdata=test.data) #,type=\"response\")"
   ]
  },
  {
   "cell_type": "code",
   "execution_count": 14,
   "metadata": {},
   "outputs": [
    {
     "ename": "ERROR",
     "evalue": "Error: `data` and `reference` should be factors with the same levels.\n",
     "output_type": "error",
     "traceback": [
      "Error: `data` and `reference` should be factors with the same levels.\nTraceback:\n",
      "1. confusionMatrix(PRED1, test.data$diabetes, positive = \"1\")",
      "2. confusionMatrix.default(PRED1, test.data$diabetes, positive = \"1\")",
      "3. stop(\"`data` and `reference` should be factors with the same levels.\", \n .     call. = FALSE)"
     ]
    }
   ],
   "source": [
    "## Para el test\n",
    "\n",
    "# Calcular la matriz de confusion\n",
    "library(caret)\n",
    "tabla <- confusionMatrix(PRED1,test.data$diabetes,positive = \"1\")\n",
    "tabla"
   ]
  },
  {
   "cell_type": "code",
   "execution_count": null,
   "metadata": {},
   "outputs": [],
   "source": [
    "# sensibilidad\n",
    "Sensitivity1 <- as.numeric(tabla$byClass[1])\n",
    "\n",
    "# Precision\n",
    "Accuracy1 <- tabla$overall[1]"
   ]
  }
 ],
 "metadata": {
  "kernelspec": {
   "display_name": "R",
   "language": "R",
   "name": "ir"
  },
  "language_info": {
   "codemirror_mode": "r",
   "file_extension": ".r",
   "mimetype": "text/x-r-source",
   "name": "R",
   "pygments_lexer": "r",
   "version": "3.6.1"
  }
 },
 "nbformat": 4,
 "nbformat_minor": 4
}
