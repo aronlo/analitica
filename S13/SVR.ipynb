{
  "nbformat": 4,
  "nbformat_minor": 0,
  "metadata": {
    "colab": {
      "name": "SVR.ipynb",
      "provenance": []
    },
    "kernelspec": {
      "name": "python3",
      "display_name": "Python 3"
    },
    "accelerator": "GPU"
  },
  "cells": [
    {
      "cell_type": "code",
      "metadata": {
        "id": "DtzkQjH_Z-FE"
      },
      "source": [
        "import matplotlib.pyplot as plt\n",
        "import pandas as pd\n",
        "import os"
      ],
      "execution_count": null,
      "outputs": []
    },
    {
      "cell_type": "code",
      "metadata": {
        "id": "iZJ045jEaZlq",
        "colab": {
          "base_uri": "https://localhost:8080/",
          "height": 35
        },
        "outputId": "5723c8fb-8743-48dc-d91b-af4a41bab006"
      },
      "source": [
        "dataset = pd.read_excel('./datasets/Dataset_inventarios_faltantes.xlsx')\n",
        "dataset.shape"
      ],
      "execution_count": null,
      "outputs": [
        {
          "output_type": "execute_result",
          "data": {
            "text/plain": [
              "(23, 6)"
            ]
          },
          "metadata": {
            "tags": []
          },
          "execution_count": 2
        }
      ]
    },
    {
      "cell_type": "code",
      "metadata": {
        "id": "s5klXnxsavwY"
      },
      "source": [
        "X = dataset.iloc[:,[1,4]].values\n",
        "y = dataset.iloc[:,5].values"
      ],
      "execution_count": null,
      "outputs": []
    },
    {
      "cell_type": "code",
      "metadata": {
        "id": "435uwAvPbHuf"
      },
      "source": [
        "from sklearn.svm import SVR\n",
        "#regressor = SVR('lineal')\n",
        "#regressor = SVR('rbf')\n",
        "regressor = SVR('poly')\n"
      ],
      "execution_count": null,
      "outputs": []
    },
    {
      "cell_type": "code",
      "metadata": {
        "id": "4-Md74OYbm4_"
      },
      "source": [
        "#model=SVR()\n",
        "\n",
        "model = SVR(C=2, cache_size = 200,coef0=1,degree = 3, epsilon = 0.2,  gamma='auto', kernel='poly',\n",
        "           max_iter=-1,shrinking= True,tol=0.001,verbose=True)\n",
        "\n"
      ],
      "execution_count": null,
      "outputs": []
    },
    {
      "cell_type": "code",
      "metadata": {
        "id": "1tyNNrJ2cqKv",
        "colab": {
          "base_uri": "https://localhost:8080/",
          "height": 35
        },
        "outputId": "555f8f87-e15f-4bd3-c553-bbaf15a74b4c"
      },
      "source": [
        "model.fit(X,y)\n",
        "predict_y = model.predict(X)\n",
        "predict_y.shape"
      ],
      "execution_count": null,
      "outputs": [
        {
          "output_type": "stream",
          "text": [
            "[LibSVM]"
          ],
          "name": "stdout"
        },
        {
          "output_type": "execute_result",
          "data": {
            "text/plain": [
              "(23,)"
            ]
          },
          "metadata": {
            "tags": []
          },
          "execution_count": 75
        }
      ]
    },
    {
      "cell_type": "code",
      "metadata": {
        "id": "tOVDmpSKebSZ",
        "colab": {
          "base_uri": "https://localhost:8080/",
          "height": 417
        },
        "outputId": "ed79530b-e640-46de-e0b3-b0f3a5a841a4"
      },
      "source": [
        "for yo, yp in zip(y[1:],predict_y[1:]):\n",
        "  print(yo,yp)"
      ],
      "execution_count": null,
      "outputs": [
        {
          "output_type": "stream",
          "text": [
            "3.8789408125489038 3.9562353121843756\n",
            "4.4207435931212276 4.581285384366296\n",
            "4.581222377883613 4.7541583594052526\n",
            "4.691431774596364 4.8785781929218075\n",
            "4.7475267528021154 4.936584357785549\n",
            "4.7475267528021154 4.947200658417543\n",
            "5.038224314456719 5.234326049654001\n",
            "5.098465856206402 5.285403379064817\n",
            "5.159427700016076 5.358861604818756\n",
            "5.880086356365535 6.043441920354795\n",
            "5.880086356365535 6.048924617437436\n",
            "6.021542220434132 6.178171141810324\n",
            "6.021542220434132 6.195728080422512\n",
            "6.093541195554969 6.261928592073829\n",
            "6.314744725088734 6.438625807508615\n",
            "6.390249493088737 6.522523806682912\n",
            "6.543978232579136 6.646498951736149\n",
            "6.701405188449175 6.790311294463592\n",
            "7.369906932365204 7.303356061931851\n",
            "7.458028168826118 7.347385354619334\n",
            "7.54720306205457 7.417931897615375\n",
            "7.821176422020088 7.621612453609401\n"
          ],
          "name": "stdout"
        }
      ]
    },
    {
      "cell_type": "code",
      "metadata": {
        "id": "uLndwHa7fMZ3",
        "colab": {
          "base_uri": "https://localhost:8080/",
          "height": 269
        },
        "outputId": "14c97469-78c5-4b25-9971-bc27980fc04b"
      },
      "source": [
        "x_ax=range(23)\n",
        "plt.scatter(x_ax,y,s=10, color = 'blue', label='original')\n",
        "plt.plot(x_ax, predict_y,lw=3,color=\"red\",label='predicción')\n",
        "plt.legend()\n",
        "plt.show()\n"
      ],
      "execution_count": null,
      "outputs": [
        {
          "output_type": "display_data",
          "data": {
            "image/png": "[encoded data removed]",
            "text/plain": [
              "<Figure size 432x288 with 1 Axes>"
            ]
          },
          "metadata": {
            "tags": []
          }
        }
      ]
    },
    {
      "cell_type": "code",
      "metadata": {
        "id": "mj1fyVtyg0E0",
        "colab": {
          "base_uri": "https://localhost:8080/",
          "height": 72
        },
        "outputId": "6d9e97b5-3dbc-4afc-b348-7fbc6fa86a1c"
      },
      "source": [
        "score = model.score(X,y)\n",
        "print(\"El score del modelo es\",score)\n",
        "from sklearn.metrics import mean_squared_error\n",
        "import math\n",
        "\n",
        "mse_error = mean_squared_error(y,predict_y )\n",
        "print(\"el valore del mse : \", mse_error)\n",
        "\n",
        "rmse =math.sqrt(mse_error)\n",
        "\n",
        "print(\"rmse\", rmse)\n",
        "\n"
      ],
      "execution_count": null,
      "outputs": [
        {
          "output_type": "stream",
          "text": [
            "El score del modelo es 0.8975109238573145\n",
            "el valore del mse :  0.1810531333737128\n",
            "rmse 0.425503388204739\n"
          ],
          "name": "stdout"
        }
      ]
    },
    {
      "cell_type": "code",
      "metadata": {
        "id": "xz6bV7FukaI3"
      },
      "source": [
        ""
      ],
      "execution_count": null,
      "outputs": []
    },
    {
      "cell_type": "code",
      "metadata": {
        "id": "DWYh_p7Uke4g",
        "colab": {
          "base_uri": "https://localhost:8080/",
          "height": 35
        },
        "outputId": "3cbc1761-2035-45c6-8d52-30f78833056a"
      },
      "source": [
        "y_prediccion = model.predict([[2.38,0.067]])\n",
        "y_prediccion"
      ],
      "execution_count": null,
      "outputs": [
        {
          "output_type": "execute_result",
          "data": {
            "text/plain": [
              "array([4.87471458])"
            ]
          },
          "metadata": {
            "tags": []
          },
          "execution_count": 73
        }
      ]
    }
  ]
}