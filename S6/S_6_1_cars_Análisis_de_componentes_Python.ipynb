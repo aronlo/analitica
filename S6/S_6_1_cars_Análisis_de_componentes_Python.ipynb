{
 "cells": [
  {
   "cell_type": "code",
   "execution_count": 2,
   "metadata": {},
   "outputs": [],
   "source": [
    "import pandas as pd\n",
    "import math\n",
    "import numpy\n",
    "import seaborn as sns"
   ]
  },
  {
   "cell_type": "code",
   "execution_count": 3,
   "metadata": {},
   "outputs": [],
   "source": [
    "my_data = pd.read_excel('./datasets/Cars.xls')"
   ]
  },
  {
   "cell_type": "code",
   "execution_count": 4,
   "metadata": {},
   "outputs": [],
   "source": [
    "my_data= pd.DataFrame(my_data)"
   ]
  },
  {
   "cell_type": "code",
   "execution_count": 5,
   "metadata": {},
   "outputs": [
    {
     "data": {
      "text/html": [
       "<div>\n",
       "<style scoped>\n",
       "    .dataframe tbody tr th:only-of-type {\n",
       "        vertical-align: middle;\n",
       "    }\n",
       "\n",
       "    .dataframe tbody tr th {\n",
       "        vertical-align: top;\n",
       "    }\n",
       "\n",
       "    .dataframe thead th {\n",
       "        text-align: right;\n",
       "    }\n",
       "</style>\n",
       "<table border=\"1\" class=\"dataframe\">\n",
       "  <thead>\n",
       "    <tr style=\"text-align: right;\">\n",
       "      <th></th>\n",
       "      <th>Country</th>\n",
       "      <th>Car</th>\n",
       "      <th>MPG</th>\n",
       "      <th>Weight</th>\n",
       "      <th>Drive_Ratio</th>\n",
       "      <th>Horsepower</th>\n",
       "      <th>Displacement</th>\n",
       "      <th>Cylinders</th>\n",
       "    </tr>\n",
       "  </thead>\n",
       "  <tbody>\n",
       "    <tr>\n",
       "      <th>0</th>\n",
       "      <td>U.S.</td>\n",
       "      <td>Buick Estate Wagon</td>\n",
       "      <td>16.9</td>\n",
       "      <td>4.360</td>\n",
       "      <td>2.73</td>\n",
       "      <td>155</td>\n",
       "      <td>350</td>\n",
       "      <td>8</td>\n",
       "    </tr>\n",
       "    <tr>\n",
       "      <th>1</th>\n",
       "      <td>U.S.</td>\n",
       "      <td>Ford Country Squire Wagon</td>\n",
       "      <td>15.5</td>\n",
       "      <td>4.054</td>\n",
       "      <td>2.26</td>\n",
       "      <td>142</td>\n",
       "      <td>351</td>\n",
       "      <td>8</td>\n",
       "    </tr>\n",
       "    <tr>\n",
       "      <th>2</th>\n",
       "      <td>U.S.</td>\n",
       "      <td>Chevy Malibu Wagon</td>\n",
       "      <td>19.2</td>\n",
       "      <td>3.605</td>\n",
       "      <td>2.56</td>\n",
       "      <td>125</td>\n",
       "      <td>267</td>\n",
       "      <td>8</td>\n",
       "    </tr>\n",
       "    <tr>\n",
       "      <th>3</th>\n",
       "      <td>U.S.</td>\n",
       "      <td>Chrysler LeBaron Wagon</td>\n",
       "      <td>18.5</td>\n",
       "      <td>3.940</td>\n",
       "      <td>2.45</td>\n",
       "      <td>150</td>\n",
       "      <td>360</td>\n",
       "      <td>8</td>\n",
       "    </tr>\n",
       "    <tr>\n",
       "      <th>4</th>\n",
       "      <td>U.S.</td>\n",
       "      <td>Chevette</td>\n",
       "      <td>30.0</td>\n",
       "      <td>2.155</td>\n",
       "      <td>3.70</td>\n",
       "      <td>68</td>\n",
       "      <td>98</td>\n",
       "      <td>4</td>\n",
       "    </tr>\n",
       "  </tbody>\n",
       "</table>\n",
       "</div>"
      ],
      "text/plain": [
       "  Country                        Car   MPG  Weight  Drive_Ratio  Horsepower  \\\n",
       "0    U.S.         Buick Estate Wagon  16.9   4.360         2.73         155   \n",
       "1    U.S.  Ford Country Squire Wagon  15.5   4.054         2.26         142   \n",
       "2    U.S.         Chevy Malibu Wagon  19.2   3.605         2.56         125   \n",
       "3    U.S.     Chrysler LeBaron Wagon  18.5   3.940         2.45         150   \n",
       "4    U.S.                   Chevette  30.0   2.155         3.70          68   \n",
       "\n",
       "   Displacement  Cylinders  \n",
       "0           350          8  \n",
       "1           351          8  \n",
       "2           267          8  \n",
       "3           360          8  \n",
       "4            98          4  "
      ]
     },
     "execution_count": 5,
     "metadata": {},
     "output_type": "execute_result"
    }
   ],
   "source": [
    "my_data.head(5)"
   ]
  },
  {
   "cell_type": "code",
   "execution_count": 6,
   "metadata": {},
   "outputs": [],
   "source": [
    "\n",
    "cars_x = my_data.iloc[:,3:7]\n",
    "cars_y = my_data.iloc[:,2]\n"
   ]
  },
  {
   "cell_type": "code",
   "execution_count": 7,
   "metadata": {},
   "outputs": [],
   "source": [
    "#y = cars_y.values\n",
    "y = cars_y"
   ]
  },
  {
   "cell_type": "code",
   "execution_count": 8,
   "metadata": {},
   "outputs": [],
   "source": [
    "log_cars_x = numpy.log10(cars_x)"
   ]
  },
  {
   "cell_type": "code",
   "execution_count": 9,
   "metadata": {},
   "outputs": [],
   "source": [
    "from sklearn.decomposition import PCA\n",
    "from sklearn.preprocessing import StandardScaler"
   ]
  },
  {
   "cell_type": "code",
   "execution_count": 10,
   "metadata": {},
   "outputs": [],
   "source": [
    "# Standardizing the features\n",
    "x = StandardScaler().fit_transform(log_cars_x)"
   ]
  },
  {
   "cell_type": "code",
   "execution_count": 11,
   "metadata": {},
   "outputs": [],
   "source": [
    "pca = PCA(n_components=2)\n",
    "principalComponents = pca.fit_transform(log_cars_x)\n",
    "principalDf = pd.DataFrame(data = principalComponents\n",
    "             , columns = ['principal component 1', 'principal component 2'])"
   ]
  },
  {
   "cell_type": "code",
   "execution_count": 12,
   "metadata": {},
   "outputs": [
    {
     "name": "stdout",
     "output_type": "stream",
     "text": [
      "[0.93125432 0.04899324]\n"
     ]
    }
   ],
   "source": [
    "expl = pca.explained_variance_ratio_\n",
    "print(expl)"
   ]
  },
  {
   "cell_type": "code",
   "execution_count": 13,
   "metadata": {},
   "outputs": [
    {
     "name": "stdout",
     "output_type": "stream",
     "text": [
      "suma: 0.9802475675231104\n"
     ]
    }
   ],
   "source": [
    "print('suma:',sum(expl[:]))"
   ]
  },
  {
   "cell_type": "code",
   "execution_count": 14,
   "metadata": {},
   "outputs": [
    {
     "data": {
      "image/png": "[encoded data removed]",
      "text/plain": [
       "<Figure size 432x288 with 1 Axes>"
      ]
     },
     "metadata": {
      "needs_background": "light"
     },
     "output_type": "display_data"
    }
   ],
   "source": [
    "df = pd.DataFrame({'var':pca.explained_variance_ratio_,\n",
    "             'PC':['PC1','PC2']})#,'PC3','PC4']})\n",
    "sns.barplot(x='PC',y=\"var\", \n",
    "           data=df, color=\"c\");"
   ]
  },
  {
   "cell_type": "code",
   "execution_count": 15,
   "metadata": {},
   "outputs": [],
   "source": [
    "finalDf = pd.concat([principalDf,my_data['Country']], axis = 1)"
   ]
  },
  {
   "cell_type": "code",
   "execution_count": 16,
   "metadata": {},
   "outputs": [
    {
     "data": {
      "text/html": [
       "<div>\n",
       "<style scoped>\n",
       "    .dataframe tbody tr th:only-of-type {\n",
       "        vertical-align: middle;\n",
       "    }\n",
       "\n",
       "    .dataframe tbody tr th {\n",
       "        vertical-align: top;\n",
       "    }\n",
       "\n",
       "    .dataframe thead th {\n",
       "        text-align: right;\n",
       "    }\n",
       "</style>\n",
       "<table border=\"1\" class=\"dataframe\">\n",
       "  <thead>\n",
       "    <tr style=\"text-align: right;\">\n",
       "      <th></th>\n",
       "      <th>principal component 1</th>\n",
       "      <th>principal component 2</th>\n",
       "      <th>Country</th>\n",
       "    </tr>\n",
       "  </thead>\n",
       "  <tbody>\n",
       "    <tr>\n",
       "      <th>0</th>\n",
       "      <td>0.440729</td>\n",
       "      <td>0.051424</td>\n",
       "      <td>U.S.</td>\n",
       "    </tr>\n",
       "    <tr>\n",
       "      <th>1</th>\n",
       "      <td>0.432316</td>\n",
       "      <td>-0.035894</td>\n",
       "      <td>U.S.</td>\n",
       "    </tr>\n",
       "    <tr>\n",
       "      <th>2</th>\n",
       "      <td>0.283310</td>\n",
       "      <td>-0.016492</td>\n",
       "      <td>U.S.</td>\n",
       "    </tr>\n",
       "    <tr>\n",
       "      <th>3</th>\n",
       "      <td>0.437699</td>\n",
       "      <td>-0.002043</td>\n",
       "      <td>U.S.</td>\n",
       "    </tr>\n",
       "    <tr>\n",
       "      <th>4</th>\n",
       "      <td>-0.293747</td>\n",
       "      <td>-0.019649</td>\n",
       "      <td>U.S.</td>\n",
       "    </tr>\n",
       "    <tr>\n",
       "      <th>5</th>\n",
       "      <td>-0.078068</td>\n",
       "      <td>0.001059</td>\n",
       "      <td>Japan</td>\n",
       "    </tr>\n",
       "    <tr>\n",
       "      <th>6</th>\n",
       "      <td>-0.148416</td>\n",
       "      <td>0.053880</td>\n",
       "      <td>Japan</td>\n",
       "    </tr>\n",
       "    <tr>\n",
       "      <th>7</th>\n",
       "      <td>-0.237444</td>\n",
       "      <td>-0.023289</td>\n",
       "      <td>U.S.</td>\n",
       "    </tr>\n",
       "    <tr>\n",
       "      <th>8</th>\n",
       "      <td>-0.078516</td>\n",
       "      <td>0.107777</td>\n",
       "      <td>Germany</td>\n",
       "    </tr>\n",
       "    <tr>\n",
       "      <th>9</th>\n",
       "      <td>0.059504</td>\n",
       "      <td>0.117047</td>\n",
       "      <td>Sweden</td>\n",
       "    </tr>\n",
       "    <tr>\n",
       "      <th>10</th>\n",
       "      <td>-0.084779</td>\n",
       "      <td>0.137261</td>\n",
       "      <td>Sweden</td>\n",
       "    </tr>\n",
       "    <tr>\n",
       "      <th>11</th>\n",
       "      <td>0.082648</td>\n",
       "      <td>0.149067</td>\n",
       "      <td>France</td>\n",
       "    </tr>\n",
       "    <tr>\n",
       "      <th>12</th>\n",
       "      <td>0.185153</td>\n",
       "      <td>-0.037628</td>\n",
       "      <td>U.S.</td>\n",
       "    </tr>\n",
       "    <tr>\n",
       "      <th>13</th>\n",
       "      <td>0.069510</td>\n",
       "      <td>-0.055955</td>\n",
       "      <td>U.S.</td>\n",
       "    </tr>\n",
       "    <tr>\n",
       "      <th>14</th>\n",
       "      <td>0.197122</td>\n",
       "      <td>-0.017152</td>\n",
       "      <td>U.S.</td>\n",
       "    </tr>\n",
       "    <tr>\n",
       "      <th>15</th>\n",
       "      <td>0.248230</td>\n",
       "      <td>-0.010765</td>\n",
       "      <td>U.S.</td>\n",
       "    </tr>\n",
       "    <tr>\n",
       "      <th>16</th>\n",
       "      <td>0.352758</td>\n",
       "      <td>-0.031853</td>\n",
       "      <td>U.S.</td>\n",
       "    </tr>\n",
       "    <tr>\n",
       "      <th>17</th>\n",
       "      <td>0.349138</td>\n",
       "      <td>-0.054520</td>\n",
       "      <td>U.S.</td>\n",
       "    </tr>\n",
       "    <tr>\n",
       "      <th>18</th>\n",
       "      <td>0.422925</td>\n",
       "      <td>-0.046382</td>\n",
       "      <td>U.S.</td>\n",
       "    </tr>\n",
       "    <tr>\n",
       "      <th>19</th>\n",
       "      <td>0.371638</td>\n",
       "      <td>-0.021099</td>\n",
       "      <td>U.S.</td>\n",
       "    </tr>\n",
       "    <tr>\n",
       "      <th>20</th>\n",
       "      <td>-0.076032</td>\n",
       "      <td>-0.022068</td>\n",
       "      <td>U.S.</td>\n",
       "    </tr>\n",
       "    <tr>\n",
       "      <th>21</th>\n",
       "      <td>0.051005</td>\n",
       "      <td>0.028043</td>\n",
       "      <td>U.S.</td>\n",
       "    </tr>\n",
       "    <tr>\n",
       "      <th>22</th>\n",
       "      <td>-0.362373</td>\n",
       "      <td>-0.023734</td>\n",
       "      <td>Japan</td>\n",
       "    </tr>\n",
       "    <tr>\n",
       "      <th>23</th>\n",
       "      <td>-0.263377</td>\n",
       "      <td>-0.047944</td>\n",
       "      <td>Japan</td>\n",
       "    </tr>\n",
       "    <tr>\n",
       "      <th>24</th>\n",
       "      <td>-0.137193</td>\n",
       "      <td>-0.030217</td>\n",
       "      <td>U.S.</td>\n",
       "    </tr>\n",
       "    <tr>\n",
       "      <th>25</th>\n",
       "      <td>-0.334948</td>\n",
       "      <td>0.002398</td>\n",
       "      <td>Germany</td>\n",
       "    </tr>\n",
       "    <tr>\n",
       "      <th>26</th>\n",
       "      <td>-0.276066</td>\n",
       "      <td>-0.076872</td>\n",
       "      <td>Japan</td>\n",
       "    </tr>\n",
       "    <tr>\n",
       "      <th>27</th>\n",
       "      <td>-0.020916</td>\n",
       "      <td>-0.078452</td>\n",
       "      <td>U.S.</td>\n",
       "    </tr>\n",
       "    <tr>\n",
       "      <th>28</th>\n",
       "      <td>0.058118</td>\n",
       "      <td>-0.007909</td>\n",
       "      <td>U.S.</td>\n",
       "    </tr>\n",
       "    <tr>\n",
       "      <th>29</th>\n",
       "      <td>0.059597</td>\n",
       "      <td>0.011576</td>\n",
       "      <td>U.S.</td>\n",
       "    </tr>\n",
       "    <tr>\n",
       "      <th>30</th>\n",
       "      <td>-0.034634</td>\n",
       "      <td>-0.064581</td>\n",
       "      <td>U.S.</td>\n",
       "    </tr>\n",
       "    <tr>\n",
       "      <th>31</th>\n",
       "      <td>-0.252092</td>\n",
       "      <td>-0.044362</td>\n",
       "      <td>U.S.</td>\n",
       "    </tr>\n",
       "    <tr>\n",
       "      <th>32</th>\n",
       "      <td>-0.361641</td>\n",
       "      <td>-0.022710</td>\n",
       "      <td>Japan</td>\n",
       "    </tr>\n",
       "    <tr>\n",
       "      <th>33</th>\n",
       "      <td>-0.300807</td>\n",
       "      <td>-0.059888</td>\n",
       "      <td>Italy</td>\n",
       "    </tr>\n",
       "    <tr>\n",
       "      <th>34</th>\n",
       "      <td>-0.270004</td>\n",
       "      <td>0.022405</td>\n",
       "      <td>Germany</td>\n",
       "    </tr>\n",
       "    <tr>\n",
       "      <th>35</th>\n",
       "      <td>-0.047850</td>\n",
       "      <td>0.062597</td>\n",
       "      <td>Japan</td>\n",
       "    </tr>\n",
       "    <tr>\n",
       "      <th>36</th>\n",
       "      <td>-0.101773</td>\n",
       "      <td>0.107586</td>\n",
       "      <td>Germany</td>\n",
       "    </tr>\n",
       "    <tr>\n",
       "      <th>37</th>\n",
       "      <td>-0.340725</td>\n",
       "      <td>-0.000661</td>\n",
       "      <td>Germany</td>\n",
       "    </tr>\n",
       "  </tbody>\n",
       "</table>\n",
       "</div>"
      ],
      "text/plain": [
       "    principal component 1  principal component 2  Country\n",
       "0                0.440729               0.051424     U.S.\n",
       "1                0.432316              -0.035894     U.S.\n",
       "2                0.283310              -0.016492     U.S.\n",
       "3                0.437699              -0.002043     U.S.\n",
       "4               -0.293747              -0.019649     U.S.\n",
       "5               -0.078068               0.001059    Japan\n",
       "6               -0.148416               0.053880    Japan\n",
       "7               -0.237444              -0.023289     U.S.\n",
       "8               -0.078516               0.107777  Germany\n",
       "9                0.059504               0.117047   Sweden\n",
       "10              -0.084779               0.137261   Sweden\n",
       "11               0.082648               0.149067   France\n",
       "12               0.185153              -0.037628     U.S.\n",
       "13               0.069510              -0.055955     U.S.\n",
       "14               0.197122              -0.017152     U.S.\n",
       "15               0.248230              -0.010765     U.S.\n",
       "16               0.352758              -0.031853     U.S.\n",
       "17               0.349138              -0.054520     U.S.\n",
       "18               0.422925              -0.046382     U.S.\n",
       "19               0.371638              -0.021099     U.S.\n",
       "20              -0.076032              -0.022068     U.S.\n",
       "21               0.051005               0.028043     U.S.\n",
       "22              -0.362373              -0.023734    Japan\n",
       "23              -0.263377              -0.047944    Japan\n",
       "24              -0.137193              -0.030217     U.S.\n",
       "25              -0.334948               0.002398  Germany\n",
       "26              -0.276066              -0.076872    Japan\n",
       "27              -0.020916              -0.078452     U.S.\n",
       "28               0.058118              -0.007909     U.S.\n",
       "29               0.059597               0.011576     U.S.\n",
       "30              -0.034634              -0.064581     U.S.\n",
       "31              -0.252092              -0.044362     U.S.\n",
       "32              -0.361641              -0.022710    Japan\n",
       "33              -0.300807              -0.059888    Italy\n",
       "34              -0.270004               0.022405  Germany\n",
       "35              -0.047850               0.062597    Japan\n",
       "36              -0.101773               0.107586  Germany\n",
       "37              -0.340725              -0.000661  Germany"
      ]
     },
     "execution_count": 16,
     "metadata": {},
     "output_type": "execute_result"
    }
   ],
   "source": [
    "finalDf"
   ]
  },
  {
   "cell_type": "code",
   "execution_count": 17,
   "metadata": {},
   "outputs": [
    {
     "data": {
      "image/png": "[encoded data removed]",
      "text/plain": [
       "<Figure size 432x288 with 1 Axes>"
      ]
     },
     "metadata": {
      "needs_background": "light"
     },
     "output_type": "display_data"
    }
   ],
   "source": [
    "import matplotlib.pyplot as plt\n",
    "import numpy as np\n",
    "#graficamos el acumulado de varianza explicada en las nuevas dimensiones\n",
    "plt.plot(np.cumsum(pca.explained_variance_ratio_))\n",
    "plt.xlabel('number of components')\n",
    "plt.ylabel('cumulative explained variance')\n",
    "plt.show()"
   ]
  },
  {
   "cell_type": "code",
   "execution_count": 18,
   "metadata": {},
   "outputs": [
    {
     "data": {
      "text/plain": [
       "['U.S.', 'Japan', 'Germany', 'Sweden', 'France', 'Italy']"
      ]
     },
     "execution_count": 18,
     "metadata": {},
     "output_type": "execute_result"
    }
   ],
   "source": [
    "targets = pd.unique(my_data['Country']).tolist()\n",
    "targets"
   ]
  },
  {
   "cell_type": "code",
   "execution_count": 19,
   "metadata": {},
   "outputs": [
    {
     "data": {
      "image/png": "[encoded data removed]",
      "text/plain": [
       "<Figure size 576x576 with 1 Axes>"
      ]
     },
     "metadata": {
      "needs_background": "light"
     },
     "output_type": "display_data"
    }
   ],
   "source": [
    "fig = plt.figure(figsize = (8,8))\n",
    "ax = fig.add_subplot(1,1,1) \n",
    "ax.set_xlabel('Principal Component 1', fontsize = 15)\n",
    "ax.set_ylabel('Principal Component 2', fontsize = 15)\n",
    "ax.set_title('2 component PCA', fontsize = 20)\n",
    "\n",
    "#targets =['U.S.', 'Japan', 'Germany', 'Sweden', 'France', 'Italy']\n",
    "colors = ['r', 'g', 'b','y','m','c']\n",
    "for target, color in zip(targets,colors):\n",
    "    indicesToKeep = finalDf['Country'] == target\n",
    "    ax.scatter(finalDf.loc[indicesToKeep, 'principal component 1']\n",
    "               , finalDf.loc[indicesToKeep, 'principal component 2']\n",
    "               , c = color\n",
    "               , s = 50)\n",
    "ax.legend(targets)\n",
    "ax.grid()"
   ]
  }
 ],
 "metadata": {
  "kernelspec": {
   "display_name": "Python 3",
   "language": "python",
   "name": "python3"
  },
  "language_info": {
   "codemirror_mode": {
    "name": "ipython",
    "version": 3
   },
   "file_extension": ".py",
   "mimetype": "text/x-python",
   "name": "python",
   "nbconvert_exporter": "python",
   "pygments_lexer": "ipython3",
   "version": "3.7.1"
  }
 },
 "nbformat": 4,
 "nbformat_minor": 4
}
