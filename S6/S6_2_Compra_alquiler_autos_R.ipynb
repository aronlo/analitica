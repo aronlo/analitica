{
 "cells": [
  {
   "cell_type": "code",
   "execution_count": 1,
   "metadata": {},
   "outputs": [],
   "source": [
    "rm(list=ls())\n",
    "\n",
    "#########################################################################\n",
    "### -- ANAL?TICA PREDICTIVA DE DATOS -- ## \n",
    "#########################################################################\n",
    "\n",
    "#########################################################################\n",
    "\n",
    "#########################################################################\n",
    "\n",
    "########### 1) LIBRERIAS A UTILIZAR ################# \n",
    "\n",
    "# Comandos necesarios para el ACP o PCA\n",
    "\n",
    "# La funcion de R que nos permite realizar el PCA se llama princomp:\n",
    "\n",
    "# princomp(dataset)\n",
    "\n",
    "# Es importante que el conjunto de datos solo contenga variables \n",
    "# numericas, puesto que para el calculo de \n",
    "# las componentes necesitamos estimar una matriz de correlacion \n",
    "# o de covarianzas. \n",
    "# Si hubiera variables NO numericas en el conjunto de datos, \n",
    "# debemos excluirlas con el comando [ , ].\n",
    "# La funcion princomp nos mostrara las varianzas de cada una de \n",
    "# las componentes. Sin embargo, \n",
    "# existen mas resultados que involucran al PCA y no son \n",
    "# visualizados por defecto, entre ellos las \n",
    "# cargas y los factores. Para organizar correctamente el \n",
    "# output de este analisis podemos guadar todas \n",
    "# los elementos del output en un objeto como se muestra a\n",
    "# continuacion:\n",
    "        \n",
    "# Mi.modelo.PCA <- princomp(dataset)\n",
    "\n",
    "# Una vez guardado los resultados en un objeto, poderemos \n",
    "# recuperar todos los outputs de manera \n",
    "# conveniente. Por ejemplo, puedes utilizar la funcion \n",
    "# summary() para visualizar las varianzas de \n",
    "# cada componente, las cargas y los factores:\n",
    "\n",
    "# summary(Mi.modelo.PCA)\n",
    "\n",
    "# Para visualizar solo las cargas: > Mi.modelo.PCA$loadings\n",
    "# Para visualizar los scores: > Mi.modelo.PCA$scores\n",
    "\n",
    "datos <- read.csv(\"./datasets/comprar_alquilar.csv\")"
   ]
  },
  {
   "cell_type": "code",
   "execution_count": 2,
   "metadata": {},
   "outputs": [
    {
     "data": {
      "text/html": [
       "<table>\n",
       "<thead><tr><th scope=col>ingresos</th><th scope=col>gastos_comunes</th><th scope=col>pago_coche</th><th scope=col>gastos_otros</th><th scope=col>ahorros</th><th scope=col>vivienda</th><th scope=col>estado_civil</th><th scope=col>hijos</th><th scope=col>trabajo</th><th scope=col>comprar</th></tr></thead>\n",
       "<tbody>\n",
       "\t<tr><td>6000  </td><td>1000  </td><td>  0   </td><td>600   </td><td>50000 </td><td>400000</td><td>0     </td><td>2     </td><td>2     </td><td>1     </td></tr>\n",
       "\t<tr><td>6745  </td><td> 944  </td><td>123   </td><td>429   </td><td>43240 </td><td>636897</td><td>1     </td><td>3     </td><td>6     </td><td>0     </td></tr>\n",
       "\t<tr><td>6455  </td><td>1033  </td><td> 98   </td><td>795   </td><td>57463 </td><td>321779</td><td>2     </td><td>1     </td><td>8     </td><td>1     </td></tr>\n",
       "\t<tr><td>7098  </td><td>1278  </td><td> 15   </td><td>254   </td><td>54506 </td><td>660933</td><td>0     </td><td>0     </td><td>3     </td><td>0     </td></tr>\n",
       "\t<tr><td>6167  </td><td> 863  </td><td>223   </td><td>520   </td><td>41512 </td><td>348932</td><td>0     </td><td>0     </td><td>3     </td><td>1     </td></tr>\n",
       "\t<tr><td>5692  </td><td> 911  </td><td> 11   </td><td>325   </td><td>50875 </td><td>360863</td><td>1     </td><td>4     </td><td>5     </td><td>1     </td></tr>\n",
       "\t<tr><td>6830  </td><td>1298  </td><td>345   </td><td>309   </td><td>46761 </td><td>429812</td><td>1     </td><td>1     </td><td>5     </td><td>1     </td></tr>\n",
       "\t<tr><td>6470  </td><td>1035  </td><td> 39   </td><td>782   </td><td>57439 </td><td>606291</td><td>0     </td><td>0     </td><td>1     </td><td>0     </td></tr>\n",
       "\t<tr><td>6251  </td><td>1250  </td><td>209   </td><td>571   </td><td>50503 </td><td>291010</td><td>0     </td><td>0     </td><td>3     </td><td>1     </td></tr>\n",
       "\t<tr><td>6987  </td><td>1258  </td><td>252   </td><td>245   </td><td>40611 </td><td>324098</td><td>2     </td><td>1     </td><td>7     </td><td>1     </td></tr>\n",
       "\t<tr><td>7273  </td><td>1455  </td><td>303   </td><td>201   </td><td>39340 </td><td>577972</td><td>0     </td><td>0     </td><td>0     </td><td>0     </td></tr>\n",
       "\t<tr><td>5058  </td><td>1012  </td><td> 74   </td><td>463   </td><td>51836 </td><td>427334</td><td>2     </td><td>0     </td><td>2     </td><td>0     </td></tr>\n",
       "\t<tr><td>5663  </td><td> 793  </td><td>121   </td><td>225   </td><td>67971 </td><td>524971</td><td>2     </td><td>3     </td><td>6     </td><td>1     </td></tr>\n",
       "\t<tr><td>6139  </td><td> 921  </td><td>210   </td><td>387   </td><td>65438 </td><td>333239</td><td>1     </td><td>3     </td><td>8     </td><td>1     </td></tr>\n",
       "\t<tr><td>7567  </td><td>1059  </td><td>341   </td><td>339   </td><td>42462 </td><td>641963</td><td>2     </td><td>2     </td><td>5     </td><td>0     </td></tr>\n",
       "\t<tr><td>5749  </td><td> 690  </td><td>291   </td><td>698   </td><td>50257 </td><td>305122</td><td>2     </td><td>0     </td><td>4     </td><td>1     </td></tr>\n",
       "\t<tr><td>5685  </td><td> 910  </td><td>182   </td><td>271   </td><td>66947 </td><td>365809</td><td>1     </td><td>2     </td><td>8     </td><td>1     </td></tr>\n",
       "\t<tr><td>6722  </td><td> 807  </td><td> 52   </td><td>779   </td><td>66020 </td><td>593711</td><td>2     </td><td>2     </td><td>7     </td><td>0     </td></tr>\n",
       "\t<tr><td>7705  </td><td>1387  </td><td>348   </td><td>366   </td><td>65410 </td><td>597411</td><td>0     </td><td>0     </td><td>2     </td><td>0     </td></tr>\n",
       "\t<tr><td>6038  </td><td> 966  </td><td> 53   </td><td>270   </td><td>69636 </td><td>286581</td><td>1     </td><td>1     </td><td>7     </td><td>1     </td></tr>\n",
       "\t<tr><td>6840  </td><td> 889  </td><td>127   </td><td>263   </td><td>50080 </td><td>455906</td><td>2     </td><td>0     </td><td>0     </td><td>0     </td></tr>\n",
       "\t<tr><td>6519  </td><td> 782  </td><td>274   </td><td>232   </td><td>69934 </td><td>569270</td><td>2     </td><td>1     </td><td>8     </td><td>1     </td></tr>\n",
       "\t<tr><td>7831  </td><td>1096  </td><td>315   </td><td>229   </td><td>62661 </td><td>653266</td><td>0     </td><td>0     </td><td>1     </td><td>0     </td></tr>\n",
       "\t<tr><td>6717  </td><td> 806  </td><td>265   </td><td>260   </td><td>49606 </td><td>295710</td><td>2     </td><td>1     </td><td>8     </td><td>1     </td></tr>\n",
       "\t<tr><td>5099  </td><td> 867  </td><td> 73   </td><td>336   </td><td>40451 </td><td>340230</td><td>0     </td><td>0     </td><td>1     </td><td>1     </td></tr>\n",
       "\t<tr><td>5897  </td><td>1061  </td><td>273   </td><td>499   </td><td>64423 </td><td>435700</td><td>0     </td><td>0     </td><td>3     </td><td>0     </td></tr>\n",
       "\t<tr><td>5294  </td><td> 688  </td><td> 71   </td><td>725   </td><td>48188 </td><td>444817</td><td>1     </td><td>4     </td><td>5     </td><td>0     </td></tr>\n",
       "\t<tr><td>6148  </td><td>1168  </td><td> 93   </td><td>413   </td><td>68048 </td><td>512193</td><td>0     </td><td>0     </td><td>4     </td><td>0     </td></tr>\n",
       "\t<tr><td>7939  </td><td>1350  </td><td> 69   </td><td>552   </td><td>52197 </td><td>443279</td><td>0     </td><td>0     </td><td>4     </td><td>1     </td></tr>\n",
       "\t<tr><td>7287  </td><td> 874  </td><td>143   </td><td>525   </td><td>40079 </td><td>297363</td><td>1     </td><td>4     </td><td>8     </td><td>1     </td></tr>\n",
       "\t<tr><td>...</td><td>...</td><td>...</td><td>...</td><td>...</td><td>...</td><td>...</td><td>...</td><td>...</td><td>...</td></tr>\n",
       "\t<tr><td>4276  </td><td> 941  </td><td>390   </td><td>728   </td><td>11718 </td><td>294150</td><td>0     </td><td>0     </td><td>3     </td><td>0     </td></tr>\n",
       "\t<tr><td>2028  </td><td> 487  </td><td>411   </td><td>568   </td><td>33194 </td><td>264287</td><td>2     </td><td>1     </td><td>5     </td><td>0     </td></tr>\n",
       "\t<tr><td>4943  </td><td>1186  </td><td>402   </td><td>570   </td><td>27644 </td><td>390089</td><td>0     </td><td>0     </td><td>2     </td><td>0     </td></tr>\n",
       "\t<tr><td>2593  </td><td> 596  </td><td>248   </td><td>708   </td><td>16779 </td><td>275509</td><td>2     </td><td>2     </td><td>8     </td><td>0     </td></tr>\n",
       "\t<tr><td>2064  </td><td> 454  </td><td>199   </td><td>666   </td><td>38718 </td><td>356201</td><td>0     </td><td>0     </td><td>2     </td><td>0     </td></tr>\n",
       "\t<tr><td>2614  </td><td> 732  </td><td>375   </td><td>527   </td><td>21365 </td><td>294601</td><td>0     </td><td>0     </td><td>2     </td><td>0     </td></tr>\n",
       "\t<tr><td>4507  </td><td> 811  </td><td>161   </td><td>687   </td><td>36284 </td><td>211998</td><td>2     </td><td>3     </td><td>6     </td><td>1     </td></tr>\n",
       "\t<tr><td>2028  </td><td> 690  </td><td>167   </td><td>325   </td><td>37309 </td><td>284984</td><td>2     </td><td>0     </td><td>3     </td><td>0     </td></tr>\n",
       "\t<tr><td>2022  </td><td> 384  </td><td> 88   </td><td>701   </td><td>22210 </td><td>291439</td><td>2     </td><td>3     </td><td>7     </td><td>0     </td></tr>\n",
       "\t<tr><td>3608  </td><td> 686  </td><td>195   </td><td>406   </td><td>36506 </td><td>350589</td><td>1     </td><td>1     </td><td>8     </td><td>0     </td></tr>\n",
       "\t<tr><td>3973  </td><td>1112  </td><td>440   </td><td>630   </td><td>17385 </td><td>221634</td><td>2     </td><td>2     </td><td>7     </td><td>0     </td></tr>\n",
       "\t<tr><td>3395  </td><td>1120  </td><td>234   </td><td>597   </td><td>37479 </td><td>239707</td><td>1     </td><td>2     </td><td>8     </td><td>0     </td></tr>\n",
       "\t<tr><td>4434  </td><td>1375  </td><td>167   </td><td>734   </td><td>29498 </td><td>201983</td><td>0     </td><td>0     </td><td>0     </td><td>0     </td></tr>\n",
       "\t<tr><td>4025  </td><td>1369  </td><td> 32   </td><td>493   </td><td>38752 </td><td>225841</td><td>1     </td><td>4     </td><td>5     </td><td>1     </td></tr>\n",
       "\t<tr><td>2308  </td><td> 577  </td><td>152   </td><td>657   </td><td>33131 </td><td>257224</td><td>0     </td><td>0     </td><td>2     </td><td>0     </td></tr>\n",
       "\t<tr><td>3169  </td><td>1014  </td><td>429   </td><td>705   </td><td>14867 </td><td>177454</td><td>2     </td><td>2     </td><td>7     </td><td>0     </td></tr>\n",
       "\t<tr><td>4708  </td><td>1459  </td><td> 84   </td><td>567   </td><td>32314 </td><td>379520</td><td>0     </td><td>0     </td><td>0     </td><td>0     </td></tr>\n",
       "\t<tr><td>2265  </td><td> 430  </td><td>394   </td><td>745   </td><td>19218 </td><td>248465</td><td>0     </td><td>0     </td><td>2     </td><td>0     </td></tr>\n",
       "\t<tr><td>2008  </td><td> 643  </td><td>257   </td><td>494   </td><td>25658 </td><td>180374</td><td>2     </td><td>3     </td><td>5     </td><td>0     </td></tr>\n",
       "\t<tr><td>3796  </td><td>1025  </td><td>323   </td><td>316   </td><td>35445 </td><td>210261</td><td>0     </td><td>0     </td><td>1     </td><td>0     </td></tr>\n",
       "\t<tr><td>4653  </td><td>1024  </td><td>447   </td><td>703   </td><td>16952 </td><td>392957</td><td>0     </td><td>0     </td><td>3     </td><td>0     </td></tr>\n",
       "\t<tr><td>3390  </td><td> 881  </td><td>194   </td><td>584   </td><td>34601 </td><td>304112</td><td>2     </td><td>2     </td><td>5     </td><td>0     </td></tr>\n",
       "\t<tr><td>2969  </td><td> 623  </td><td> 72   </td><td>620   </td><td>29663 </td><td>289205</td><td>2     </td><td>2     </td><td>6     </td><td>0     </td></tr>\n",
       "\t<tr><td>4169  </td><td>1292  </td><td> 48   </td><td>333   </td><td>28503 </td><td>239872</td><td>2     </td><td>1     </td><td>7     </td><td>1     </td></tr>\n",
       "\t<tr><td>4054  </td><td>1095  </td><td>371   </td><td>440   </td><td>22183 </td><td>223971</td><td>1     </td><td>0     </td><td>3     </td><td>0     </td></tr>\n",
       "\t<tr><td>3831  </td><td> 690  </td><td>352   </td><td>488   </td><td>10723 </td><td>363120</td><td>0     </td><td>0     </td><td>2     </td><td>0     </td></tr>\n",
       "\t<tr><td>3961  </td><td>1030  </td><td>270   </td><td>475   </td><td>21880 </td><td>280421</td><td>2     </td><td>3     </td><td>8     </td><td>0     </td></tr>\n",
       "\t<tr><td>3184  </td><td> 955  </td><td>276   </td><td>684   </td><td>35565 </td><td>388025</td><td>1     </td><td>3     </td><td>8     </td><td>0     </td></tr>\n",
       "\t<tr><td>3334  </td><td> 867  </td><td>369   </td><td>652   </td><td>19985 </td><td>376892</td><td>1     </td><td>2     </td><td>5     </td><td>0     </td></tr>\n",
       "\t<tr><td>3988  </td><td>1157  </td><td>105   </td><td>382   </td><td>11980 </td><td>257580</td><td>0     </td><td>0     </td><td>4     </td><td>0     </td></tr>\n",
       "</tbody>\n",
       "</table>\n"
      ],
      "text/latex": [
       "\\begin{tabular}{r|llllllllll}\n",
       " ingresos & gastos\\_comunes & pago\\_coche & gastos\\_otros & ahorros & vivienda & estado\\_civil & hijos & trabajo & comprar\\\\\n",
       "\\hline\n",
       "\t 6000   & 1000   &   0    & 600    & 50000  & 400000 & 0      & 2      & 2      & 1     \\\\\n",
       "\t 6745   &  944   & 123    & 429    & 43240  & 636897 & 1      & 3      & 6      & 0     \\\\\n",
       "\t 6455   & 1033   &  98    & 795    & 57463  & 321779 & 2      & 1      & 8      & 1     \\\\\n",
       "\t 7098   & 1278   &  15    & 254    & 54506  & 660933 & 0      & 0      & 3      & 0     \\\\\n",
       "\t 6167   &  863   & 223    & 520    & 41512  & 348932 & 0      & 0      & 3      & 1     \\\\\n",
       "\t 5692   &  911   &  11    & 325    & 50875  & 360863 & 1      & 4      & 5      & 1     \\\\\n",
       "\t 6830   & 1298   & 345    & 309    & 46761  & 429812 & 1      & 1      & 5      & 1     \\\\\n",
       "\t 6470   & 1035   &  39    & 782    & 57439  & 606291 & 0      & 0      & 1      & 0     \\\\\n",
       "\t 6251   & 1250   & 209    & 571    & 50503  & 291010 & 0      & 0      & 3      & 1     \\\\\n",
       "\t 6987   & 1258   & 252    & 245    & 40611  & 324098 & 2      & 1      & 7      & 1     \\\\\n",
       "\t 7273   & 1455   & 303    & 201    & 39340  & 577972 & 0      & 0      & 0      & 0     \\\\\n",
       "\t 5058   & 1012   &  74    & 463    & 51836  & 427334 & 2      & 0      & 2      & 0     \\\\\n",
       "\t 5663   &  793   & 121    & 225    & 67971  & 524971 & 2      & 3      & 6      & 1     \\\\\n",
       "\t 6139   &  921   & 210    & 387    & 65438  & 333239 & 1      & 3      & 8      & 1     \\\\\n",
       "\t 7567   & 1059   & 341    & 339    & 42462  & 641963 & 2      & 2      & 5      & 0     \\\\\n",
       "\t 5749   &  690   & 291    & 698    & 50257  & 305122 & 2      & 0      & 4      & 1     \\\\\n",
       "\t 5685   &  910   & 182    & 271    & 66947  & 365809 & 1      & 2      & 8      & 1     \\\\\n",
       "\t 6722   &  807   &  52    & 779    & 66020  & 593711 & 2      & 2      & 7      & 0     \\\\\n",
       "\t 7705   & 1387   & 348    & 366    & 65410  & 597411 & 0      & 0      & 2      & 0     \\\\\n",
       "\t 6038   &  966   &  53    & 270    & 69636  & 286581 & 1      & 1      & 7      & 1     \\\\\n",
       "\t 6840   &  889   & 127    & 263    & 50080  & 455906 & 2      & 0      & 0      & 0     \\\\\n",
       "\t 6519   &  782   & 274    & 232    & 69934  & 569270 & 2      & 1      & 8      & 1     \\\\\n",
       "\t 7831   & 1096   & 315    & 229    & 62661  & 653266 & 0      & 0      & 1      & 0     \\\\\n",
       "\t 6717   &  806   & 265    & 260    & 49606  & 295710 & 2      & 1      & 8      & 1     \\\\\n",
       "\t 5099   &  867   &  73    & 336    & 40451  & 340230 & 0      & 0      & 1      & 1     \\\\\n",
       "\t 5897   & 1061   & 273    & 499    & 64423  & 435700 & 0      & 0      & 3      & 0     \\\\\n",
       "\t 5294   &  688   &  71    & 725    & 48188  & 444817 & 1      & 4      & 5      & 0     \\\\\n",
       "\t 6148   & 1168   &  93    & 413    & 68048  & 512193 & 0      & 0      & 4      & 0     \\\\\n",
       "\t 7939   & 1350   &  69    & 552    & 52197  & 443279 & 0      & 0      & 4      & 1     \\\\\n",
       "\t 7287   &  874   & 143    & 525    & 40079  & 297363 & 1      & 4      & 8      & 1     \\\\\n",
       "\t ... & ... & ... & ... & ... & ... & ... & ... & ... & ...\\\\\n",
       "\t 4276   &  941   & 390    & 728    & 11718  & 294150 & 0      & 0      & 3      & 0     \\\\\n",
       "\t 2028   &  487   & 411    & 568    & 33194  & 264287 & 2      & 1      & 5      & 0     \\\\\n",
       "\t 4943   & 1186   & 402    & 570    & 27644  & 390089 & 0      & 0      & 2      & 0     \\\\\n",
       "\t 2593   &  596   & 248    & 708    & 16779  & 275509 & 2      & 2      & 8      & 0     \\\\\n",
       "\t 2064   &  454   & 199    & 666    & 38718  & 356201 & 0      & 0      & 2      & 0     \\\\\n",
       "\t 2614   &  732   & 375    & 527    & 21365  & 294601 & 0      & 0      & 2      & 0     \\\\\n",
       "\t 4507   &  811   & 161    & 687    & 36284  & 211998 & 2      & 3      & 6      & 1     \\\\\n",
       "\t 2028   &  690   & 167    & 325    & 37309  & 284984 & 2      & 0      & 3      & 0     \\\\\n",
       "\t 2022   &  384   &  88    & 701    & 22210  & 291439 & 2      & 3      & 7      & 0     \\\\\n",
       "\t 3608   &  686   & 195    & 406    & 36506  & 350589 & 1      & 1      & 8      & 0     \\\\\n",
       "\t 3973   & 1112   & 440    & 630    & 17385  & 221634 & 2      & 2      & 7      & 0     \\\\\n",
       "\t 3395   & 1120   & 234    & 597    & 37479  & 239707 & 1      & 2      & 8      & 0     \\\\\n",
       "\t 4434   & 1375   & 167    & 734    & 29498  & 201983 & 0      & 0      & 0      & 0     \\\\\n",
       "\t 4025   & 1369   &  32    & 493    & 38752  & 225841 & 1      & 4      & 5      & 1     \\\\\n",
       "\t 2308   &  577   & 152    & 657    & 33131  & 257224 & 0      & 0      & 2      & 0     \\\\\n",
       "\t 3169   & 1014   & 429    & 705    & 14867  & 177454 & 2      & 2      & 7      & 0     \\\\\n",
       "\t 4708   & 1459   &  84    & 567    & 32314  & 379520 & 0      & 0      & 0      & 0     \\\\\n",
       "\t 2265   &  430   & 394    & 745    & 19218  & 248465 & 0      & 0      & 2      & 0     \\\\\n",
       "\t 2008   &  643   & 257    & 494    & 25658  & 180374 & 2      & 3      & 5      & 0     \\\\\n",
       "\t 3796   & 1025   & 323    & 316    & 35445  & 210261 & 0      & 0      & 1      & 0     \\\\\n",
       "\t 4653   & 1024   & 447    & 703    & 16952  & 392957 & 0      & 0      & 3      & 0     \\\\\n",
       "\t 3390   &  881   & 194    & 584    & 34601  & 304112 & 2      & 2      & 5      & 0     \\\\\n",
       "\t 2969   &  623   &  72    & 620    & 29663  & 289205 & 2      & 2      & 6      & 0     \\\\\n",
       "\t 4169   & 1292   &  48    & 333    & 28503  & 239872 & 2      & 1      & 7      & 1     \\\\\n",
       "\t 4054   & 1095   & 371    & 440    & 22183  & 223971 & 1      & 0      & 3      & 0     \\\\\n",
       "\t 3831   &  690   & 352    & 488    & 10723  & 363120 & 0      & 0      & 2      & 0     \\\\\n",
       "\t 3961   & 1030   & 270    & 475    & 21880  & 280421 & 2      & 3      & 8      & 0     \\\\\n",
       "\t 3184   &  955   & 276    & 684    & 35565  & 388025 & 1      & 3      & 8      & 0     \\\\\n",
       "\t 3334   &  867   & 369    & 652    & 19985  & 376892 & 1      & 2      & 5      & 0     \\\\\n",
       "\t 3988   & 1157   & 105    & 382    & 11980  & 257580 & 0      & 0      & 4      & 0     \\\\\n",
       "\\end{tabular}\n"
      ],
      "text/markdown": [
       "\n",
       "| ingresos | gastos_comunes | pago_coche | gastos_otros | ahorros | vivienda | estado_civil | hijos | trabajo | comprar |\n",
       "|---|---|---|---|---|---|---|---|---|---|\n",
       "| 6000   | 1000   |   0    | 600    | 50000  | 400000 | 0      | 2      | 2      | 1      |\n",
       "| 6745   |  944   | 123    | 429    | 43240  | 636897 | 1      | 3      | 6      | 0      |\n",
       "| 6455   | 1033   |  98    | 795    | 57463  | 321779 | 2      | 1      | 8      | 1      |\n",
       "| 7098   | 1278   |  15    | 254    | 54506  | 660933 | 0      | 0      | 3      | 0      |\n",
       "| 6167   |  863   | 223    | 520    | 41512  | 348932 | 0      | 0      | 3      | 1      |\n",
       "| 5692   |  911   |  11    | 325    | 50875  | 360863 | 1      | 4      | 5      | 1      |\n",
       "| 6830   | 1298   | 345    | 309    | 46761  | 429812 | 1      | 1      | 5      | 1      |\n",
       "| 6470   | 1035   |  39    | 782    | 57439  | 606291 | 0      | 0      | 1      | 0      |\n",
       "| 6251   | 1250   | 209    | 571    | 50503  | 291010 | 0      | 0      | 3      | 1      |\n",
       "| 6987   | 1258   | 252    | 245    | 40611  | 324098 | 2      | 1      | 7      | 1      |\n",
       "| 7273   | 1455   | 303    | 201    | 39340  | 577972 | 0      | 0      | 0      | 0      |\n",
       "| 5058   | 1012   |  74    | 463    | 51836  | 427334 | 2      | 0      | 2      | 0      |\n",
       "| 5663   |  793   | 121    | 225    | 67971  | 524971 | 2      | 3      | 6      | 1      |\n",
       "| 6139   |  921   | 210    | 387    | 65438  | 333239 | 1      | 3      | 8      | 1      |\n",
       "| 7567   | 1059   | 341    | 339    | 42462  | 641963 | 2      | 2      | 5      | 0      |\n",
       "| 5749   |  690   | 291    | 698    | 50257  | 305122 | 2      | 0      | 4      | 1      |\n",
       "| 5685   |  910   | 182    | 271    | 66947  | 365809 | 1      | 2      | 8      | 1      |\n",
       "| 6722   |  807   |  52    | 779    | 66020  | 593711 | 2      | 2      | 7      | 0      |\n",
       "| 7705   | 1387   | 348    | 366    | 65410  | 597411 | 0      | 0      | 2      | 0      |\n",
       "| 6038   |  966   |  53    | 270    | 69636  | 286581 | 1      | 1      | 7      | 1      |\n",
       "| 6840   |  889   | 127    | 263    | 50080  | 455906 | 2      | 0      | 0      | 0      |\n",
       "| 6519   |  782   | 274    | 232    | 69934  | 569270 | 2      | 1      | 8      | 1      |\n",
       "| 7831   | 1096   | 315    | 229    | 62661  | 653266 | 0      | 0      | 1      | 0      |\n",
       "| 6717   |  806   | 265    | 260    | 49606  | 295710 | 2      | 1      | 8      | 1      |\n",
       "| 5099   |  867   |  73    | 336    | 40451  | 340230 | 0      | 0      | 1      | 1      |\n",
       "| 5897   | 1061   | 273    | 499    | 64423  | 435700 | 0      | 0      | 3      | 0      |\n",
       "| 5294   |  688   |  71    | 725    | 48188  | 444817 | 1      | 4      | 5      | 0      |\n",
       "| 6148   | 1168   |  93    | 413    | 68048  | 512193 | 0      | 0      | 4      | 0      |\n",
       "| 7939   | 1350   |  69    | 552    | 52197  | 443279 | 0      | 0      | 4      | 1      |\n",
       "| 7287   |  874   | 143    | 525    | 40079  | 297363 | 1      | 4      | 8      | 1      |\n",
       "| ... | ... | ... | ... | ... | ... | ... | ... | ... | ... |\n",
       "| 4276   |  941   | 390    | 728    | 11718  | 294150 | 0      | 0      | 3      | 0      |\n",
       "| 2028   |  487   | 411    | 568    | 33194  | 264287 | 2      | 1      | 5      | 0      |\n",
       "| 4943   | 1186   | 402    | 570    | 27644  | 390089 | 0      | 0      | 2      | 0      |\n",
       "| 2593   |  596   | 248    | 708    | 16779  | 275509 | 2      | 2      | 8      | 0      |\n",
       "| 2064   |  454   | 199    | 666    | 38718  | 356201 | 0      | 0      | 2      | 0      |\n",
       "| 2614   |  732   | 375    | 527    | 21365  | 294601 | 0      | 0      | 2      | 0      |\n",
       "| 4507   |  811   | 161    | 687    | 36284  | 211998 | 2      | 3      | 6      | 1      |\n",
       "| 2028   |  690   | 167    | 325    | 37309  | 284984 | 2      | 0      | 3      | 0      |\n",
       "| 2022   |  384   |  88    | 701    | 22210  | 291439 | 2      | 3      | 7      | 0      |\n",
       "| 3608   |  686   | 195    | 406    | 36506  | 350589 | 1      | 1      | 8      | 0      |\n",
       "| 3973   | 1112   | 440    | 630    | 17385  | 221634 | 2      | 2      | 7      | 0      |\n",
       "| 3395   | 1120   | 234    | 597    | 37479  | 239707 | 1      | 2      | 8      | 0      |\n",
       "| 4434   | 1375   | 167    | 734    | 29498  | 201983 | 0      | 0      | 0      | 0      |\n",
       "| 4025   | 1369   |  32    | 493    | 38752  | 225841 | 1      | 4      | 5      | 1      |\n",
       "| 2308   |  577   | 152    | 657    | 33131  | 257224 | 0      | 0      | 2      | 0      |\n",
       "| 3169   | 1014   | 429    | 705    | 14867  | 177454 | 2      | 2      | 7      | 0      |\n",
       "| 4708   | 1459   |  84    | 567    | 32314  | 379520 | 0      | 0      | 0      | 0      |\n",
       "| 2265   |  430   | 394    | 745    | 19218  | 248465 | 0      | 0      | 2      | 0      |\n",
       "| 2008   |  643   | 257    | 494    | 25658  | 180374 | 2      | 3      | 5      | 0      |\n",
       "| 3796   | 1025   | 323    | 316    | 35445  | 210261 | 0      | 0      | 1      | 0      |\n",
       "| 4653   | 1024   | 447    | 703    | 16952  | 392957 | 0      | 0      | 3      | 0      |\n",
       "| 3390   |  881   | 194    | 584    | 34601  | 304112 | 2      | 2      | 5      | 0      |\n",
       "| 2969   |  623   |  72    | 620    | 29663  | 289205 | 2      | 2      | 6      | 0      |\n",
       "| 4169   | 1292   |  48    | 333    | 28503  | 239872 | 2      | 1      | 7      | 1      |\n",
       "| 4054   | 1095   | 371    | 440    | 22183  | 223971 | 1      | 0      | 3      | 0      |\n",
       "| 3831   |  690   | 352    | 488    | 10723  | 363120 | 0      | 0      | 2      | 0      |\n",
       "| 3961   | 1030   | 270    | 475    | 21880  | 280421 | 2      | 3      | 8      | 0      |\n",
       "| 3184   |  955   | 276    | 684    | 35565  | 388025 | 1      | 3      | 8      | 0      |\n",
       "| 3334   |  867   | 369    | 652    | 19985  | 376892 | 1      | 2      | 5      | 0      |\n",
       "| 3988   | 1157   | 105    | 382    | 11980  | 257580 | 0      | 0      | 4      | 0      |\n",
       "\n"
      ],
      "text/plain": [
       "    ingresos gastos_comunes pago_coche gastos_otros ahorros vivienda\n",
       "1   6000     1000             0        600          50000   400000  \n",
       "2   6745      944           123        429          43240   636897  \n",
       "3   6455     1033            98        795          57463   321779  \n",
       "4   7098     1278            15        254          54506   660933  \n",
       "5   6167      863           223        520          41512   348932  \n",
       "6   5692      911            11        325          50875   360863  \n",
       "7   6830     1298           345        309          46761   429812  \n",
       "8   6470     1035            39        782          57439   606291  \n",
       "9   6251     1250           209        571          50503   291010  \n",
       "10  6987     1258           252        245          40611   324098  \n",
       "11  7273     1455           303        201          39340   577972  \n",
       "12  5058     1012            74        463          51836   427334  \n",
       "13  5663      793           121        225          67971   524971  \n",
       "14  6139      921           210        387          65438   333239  \n",
       "15  7567     1059           341        339          42462   641963  \n",
       "16  5749      690           291        698          50257   305122  \n",
       "17  5685      910           182        271          66947   365809  \n",
       "18  6722      807            52        779          66020   593711  \n",
       "19  7705     1387           348        366          65410   597411  \n",
       "20  6038      966            53        270          69636   286581  \n",
       "21  6840      889           127        263          50080   455906  \n",
       "22  6519      782           274        232          69934   569270  \n",
       "23  7831     1096           315        229          62661   653266  \n",
       "24  6717      806           265        260          49606   295710  \n",
       "25  5099      867            73        336          40451   340230  \n",
       "26  5897     1061           273        499          64423   435700  \n",
       "27  5294      688            71        725          48188   444817  \n",
       "28  6148     1168            93        413          68048   512193  \n",
       "29  7939     1350            69        552          52197   443279  \n",
       "30  7287      874           143        525          40079   297363  \n",
       "... ...      ...            ...        ...          ...     ...     \n",
       "173 4276      941           390        728          11718   294150  \n",
       "174 2028      487           411        568          33194   264287  \n",
       "175 4943     1186           402        570          27644   390089  \n",
       "176 2593      596           248        708          16779   275509  \n",
       "177 2064      454           199        666          38718   356201  \n",
       "178 2614      732           375        527          21365   294601  \n",
       "179 4507      811           161        687          36284   211998  \n",
       "180 2028      690           167        325          37309   284984  \n",
       "181 2022      384            88        701          22210   291439  \n",
       "182 3608      686           195        406          36506   350589  \n",
       "183 3973     1112           440        630          17385   221634  \n",
       "184 3395     1120           234        597          37479   239707  \n",
       "185 4434     1375           167        734          29498   201983  \n",
       "186 4025     1369            32        493          38752   225841  \n",
       "187 2308      577           152        657          33131   257224  \n",
       "188 3169     1014           429        705          14867   177454  \n",
       "189 4708     1459            84        567          32314   379520  \n",
       "190 2265      430           394        745          19218   248465  \n",
       "191 2008      643           257        494          25658   180374  \n",
       "192 3796     1025           323        316          35445   210261  \n",
       "193 4653     1024           447        703          16952   392957  \n",
       "194 3390      881           194        584          34601   304112  \n",
       "195 2969      623            72        620          29663   289205  \n",
       "196 4169     1292            48        333          28503   239872  \n",
       "197 4054     1095           371        440          22183   223971  \n",
       "198 3831      690           352        488          10723   363120  \n",
       "199 3961     1030           270        475          21880   280421  \n",
       "200 3184      955           276        684          35565   388025  \n",
       "201 3334      867           369        652          19985   376892  \n",
       "202 3988     1157           105        382          11980   257580  \n",
       "    estado_civil hijos trabajo comprar\n",
       "1   0            2     2       1      \n",
       "2   1            3     6       0      \n",
       "3   2            1     8       1      \n",
       "4   0            0     3       0      \n",
       "5   0            0     3       1      \n",
       "6   1            4     5       1      \n",
       "7   1            1     5       1      \n",
       "8   0            0     1       0      \n",
       "9   0            0     3       1      \n",
       "10  2            1     7       1      \n",
       "11  0            0     0       0      \n",
       "12  2            0     2       0      \n",
       "13  2            3     6       1      \n",
       "14  1            3     8       1      \n",
       "15  2            2     5       0      \n",
       "16  2            0     4       1      \n",
       "17  1            2     8       1      \n",
       "18  2            2     7       0      \n",
       "19  0            0     2       0      \n",
       "20  1            1     7       1      \n",
       "21  2            0     0       0      \n",
       "22  2            1     8       1      \n",
       "23  0            0     1       0      \n",
       "24  2            1     8       1      \n",
       "25  0            0     1       1      \n",
       "26  0            0     3       0      \n",
       "27  1            4     5       0      \n",
       "28  0            0     4       0      \n",
       "29  0            0     4       1      \n",
       "30  1            4     8       1      \n",
       "... ...          ...   ...     ...    \n",
       "173 0            0     3       0      \n",
       "174 2            1     5       0      \n",
       "175 0            0     2       0      \n",
       "176 2            2     8       0      \n",
       "177 0            0     2       0      \n",
       "178 0            0     2       0      \n",
       "179 2            3     6       1      \n",
       "180 2            0     3       0      \n",
       "181 2            3     7       0      \n",
       "182 1            1     8       0      \n",
       "183 2            2     7       0      \n",
       "184 1            2     8       0      \n",
       "185 0            0     0       0      \n",
       "186 1            4     5       1      \n",
       "187 0            0     2       0      \n",
       "188 2            2     7       0      \n",
       "189 0            0     0       0      \n",
       "190 0            0     2       0      \n",
       "191 2            3     5       0      \n",
       "192 0            0     1       0      \n",
       "193 0            0     3       0      \n",
       "194 2            2     5       0      \n",
       "195 2            2     6       0      \n",
       "196 2            1     7       1      \n",
       "197 1            0     3       0      \n",
       "198 0            0     2       0      \n",
       "199 2            3     8       0      \n",
       "200 1            3     8       0      \n",
       "201 1            2     5       0      \n",
       "202 0            0     4       0      "
      ]
     },
     "metadata": {},
     "output_type": "display_data"
    }
   ],
   "source": [
    "datos"
   ]
  },
  {
   "cell_type": "code",
   "execution_count": 3,
   "metadata": {},
   "outputs": [
    {
     "data": {
      "text/plain": [
       "Importance of components:\n",
       "                          PC1    PC2    PC3    PC4     PC5    PC6     PC7\n",
       "Standard deviation     1.6408 1.4479 1.0267 0.9807 0.93122 0.7118 0.61082\n",
       "Proportion of Variance 0.2991 0.2329 0.1171 0.1069 0.09635 0.0563 0.04146\n",
       "Cumulative Proportion  0.2991 0.5321 0.6492 0.7560 0.85241 0.9087 0.95016\n",
       "                           PC8     PC9\n",
       "Standard deviation     0.52116 0.42065\n",
       "Proportion of Variance 0.03018 0.01966\n",
       "Cumulative Proportion  0.98034 1.00000"
      ]
     },
     "metadata": {},
     "output_type": "display_data"
    }
   ],
   "source": [
    "pca.datos <- prcomp(datos[,1:9],scale=TRUE) \n",
    "# Scale = False -> utilizamos la matriz de COVARIANZA para obtener las componentes! Veamos que ocurre:\n",
    "\n",
    "# Resumen\n",
    "summary(pca.datos)"
   ]
  },
  {
   "cell_type": "code",
   "execution_count": 4,
   "metadata": {},
   "outputs": [
    {
     "data": {
      "image/png": "[encoded data removed]",
      "text/plain": [
       "Plot with title \"pca.datos\""
      ]
     },
     "metadata": {},
     "output_type": "display_data"
    }
   ],
   "source": [
    "# Grafico de la varianza explicada\n",
    "plot(pca.datos)"
   ]
  },
  {
   "cell_type": "code",
   "execution_count": 5,
   "metadata": {},
   "outputs": [
    {
     "name": "stderr",
     "output_type": "stream",
     "text": [
      "Loading required package: ggplot2\n",
      "Registered S3 methods overwritten by 'ggplot2':\n",
      "  method         from \n",
      "  [.quosures     rlang\n",
      "  c.quosures     rlang\n",
      "  print.quosures rlang\n"
     ]
    }
   ],
   "source": [
    "require(ggplot2)\n",
    "theta <- seq(0,2*pi,length.out = 70)\n",
    "circle <- data.frame(x = cos(theta), y = sin(theta))\n",
    "p <- ggplot(circle,aes(x,y)) + geom_path()"
   ]
  },
  {
   "cell_type": "code",
   "execution_count": 6,
   "metadata": {},
   "outputs": [
    {
     "data": {
      "image/png": "[encoded data removed]",
      "text/plain": [
       "plot without title"
      ]
     },
     "metadata": {},
     "output_type": "display_data"
    }
   ],
   "source": [
    "p"
   ]
  },
  {
   "cell_type": "code",
   "execution_count": 7,
   "metadata": {},
   "outputs": [],
   "source": [
    "loadings <- data.frame(pca.datos$rotation, \n",
    "                       .names = row.names(pca.datos$rotation))"
   ]
  },
  {
   "cell_type": "code",
   "execution_count": 8,
   "metadata": {},
   "outputs": [
    {
     "data": {
      "image/png": "[encoded data removed]",
      "text/plain": [
       "plot without title"
      ]
     },
     "metadata": {},
     "output_type": "display_data"
    }
   ],
   "source": [
    "p + geom_text(data=loadings, mapping=aes(x = PC1, y = PC2, label = .names, colour = .names)) + coord_fixed(ratio=1) +  labs(x = \"PC1\", y = \"PC2\")"
   ]
  },
  {
   "cell_type": "code",
   "execution_count": 9,
   "metadata": {},
   "outputs": [
    {
     "data": {
      "text/html": [
       "<ol class=list-inline>\n",
       "\t<li>1.64079861868183</li>\n",
       "\t<li>1.44794443067053</li>\n",
       "\t<li>1.02665071299733</li>\n",
       "\t<li>0.980666081069839</li>\n",
       "\t<li>0.931222355566113</li>\n",
       "\t<li>0.711820171834668</li>\n",
       "\t<li>0.610820854942778</li>\n",
       "\t<li>0.521156119393068</li>\n",
       "\t<li>0.420654631987473</li>\n",
       "</ol>\n"
      ],
      "text/latex": [
       "\\begin{enumerate*}\n",
       "\\item 1.64079861868183\n",
       "\\item 1.44794443067053\n",
       "\\item 1.02665071299733\n",
       "\\item 0.980666081069839\n",
       "\\item 0.931222355566113\n",
       "\\item 0.711820171834668\n",
       "\\item 0.610820854942778\n",
       "\\item 0.521156119393068\n",
       "\\item 0.420654631987473\n",
       "\\end{enumerate*}\n"
      ],
      "text/markdown": [
       "1. 1.64079861868183\n",
       "2. 1.44794443067053\n",
       "3. 1.02665071299733\n",
       "4. 0.980666081069839\n",
       "5. 0.931222355566113\n",
       "6. 0.711820171834668\n",
       "7. 0.610820854942778\n",
       "8. 0.521156119393068\n",
       "9. 0.420654631987473\n",
       "\n",
       "\n"
      ],
      "text/plain": [
       "[1] 1.6407986 1.4479444 1.0266507 0.9806661 0.9312224 0.7118202 0.6108209\n",
       "[8] 0.5211561 0.4206546"
      ]
     },
     "metadata": {},
     "output_type": "display_data"
    },
    {
     "data": {
      "text/html": [
       "<table>\n",
       "<thead><tr><th></th><th scope=col>PC1</th><th scope=col>PC2</th><th scope=col>PC3</th><th scope=col>PC4</th><th scope=col>PC5</th><th scope=col>PC6</th><th scope=col>PC7</th><th scope=col>PC8</th><th scope=col>PC9</th></tr></thead>\n",
       "<tbody>\n",
       "\t<tr><th scope=row>ingresos</th><td>-0.4937203   </td><td> 0.3069585229</td><td>-0.09141925  </td><td> 0.111222044 </td><td>-8.889655e-02</td><td> 0.07547726  </td><td>-0.15431890  </td><td> 0.01273153  </td><td> 0.77698974  </td></tr>\n",
       "\t<tr><th scope=row>gastos_comunes</th><td>-0.3182287   </td><td> 0.1473726341</td><td>-0.36345316  </td><td> 0.081629625 </td><td>-7.630059e-01</td><td>-0.06790280  </td><td> 0.10559750  </td><td>-0.01027447  </td><td>-0.37443974  </td></tr>\n",
       "\t<tr><th scope=row>pago_coche</th><td> 0.1237706   </td><td>-0.0916409584</td><td>-0.51614411  </td><td> 0.780267686 </td><td> 2.655536e-01</td><td> 0.15369652  </td><td>-0.02733309  </td><td> 0.06175856  </td><td>-0.04855731  </td></tr>\n",
       "\t<tr><th scope=row>gastos_otros</th><td> 0.1118757   </td><td> 0.0001115934</td><td> 0.70198591  </td><td> 0.590704378 </td><td>-3.307437e-01</td><td>-0.15442233  </td><td>-0.10187618  </td><td>-0.03797725  </td><td> 0.02663127  </td></tr>\n",
       "\t<tr><th scope=row>ahorros</th><td>-0.4446503   </td><td> 0.2884348823</td><td> 0.19176735  </td><td> 0.022839130 </td><td> 2.890022e-01</td><td> 0.23018052  </td><td>-0.52458392  </td><td> 0.21275895  </td><td>-0.47416776  </td></tr>\n",
       "\t<tr><th scope=row>vivienda</th><td>-0.4626086   </td><td> 0.1489848864</td><td> 0.14051329  </td><td> 0.150085403 </td><td> 3.655556e-01</td><td>-0.29079856  </td><td> 0.64103363  </td><td>-0.26084654  </td><td>-0.15610084  </td></tr>\n",
       "\t<tr><th scope=row>estado_civil</th><td> 0.2522789   </td><td> 0.4690439598</td><td>-0.17288478  </td><td>-0.007663096 </td><td> 1.046389e-01</td><td>-0.76706996  </td><td>-0.21236527  </td><td> 0.20481650  </td><td>-0.00328929  </td></tr>\n",
       "\t<tr><th scope=row>hijos</th><td> 0.2598587   </td><td> 0.5218938719</td><td> 0.11218356  </td><td> 0.007404048 </td><td>-4.366790e-02</td><td> 0.38796361  </td><td> 0.46006668  </td><td> 0.53221626  </td><td> 0.01105122  </td></tr>\n",
       "\t<tr><th scope=row>trabajo</th><td> 0.2902475   </td><td> 0.5271556382</td><td>-0.03691018  </td><td>-0.007492711 </td><td>-8.654730e-06</td><td> 0.25644600  </td><td>-0.10505341  </td><td>-0.74563042  </td><td>-0.06065726  </td></tr>\n",
       "</tbody>\n",
       "</table>\n"
      ],
      "text/latex": [
       "\\begin{tabular}{r|lllllllll}\n",
       "  & PC1 & PC2 & PC3 & PC4 & PC5 & PC6 & PC7 & PC8 & PC9\\\\\n",
       "\\hline\n",
       "\tingresos & -0.4937203    &  0.3069585229 & -0.09141925   &  0.111222044  & -8.889655e-02 &  0.07547726   & -0.15431890   &  0.01273153   &  0.77698974  \\\\\n",
       "\tgastos\\_comunes & -0.3182287    &  0.1473726341 & -0.36345316   &  0.081629625  & -7.630059e-01 & -0.06790280   &  0.10559750   & -0.01027447   & -0.37443974  \\\\\n",
       "\tpago\\_coche &  0.1237706    & -0.0916409584 & -0.51614411   &  0.780267686  &  2.655536e-01 &  0.15369652   & -0.02733309   &  0.06175856   & -0.04855731  \\\\\n",
       "\tgastos\\_otros &  0.1118757    &  0.0001115934 &  0.70198591   &  0.590704378  & -3.307437e-01 & -0.15442233   & -0.10187618   & -0.03797725   &  0.02663127  \\\\\n",
       "\tahorros & -0.4446503    &  0.2884348823 &  0.19176735   &  0.022839130  &  2.890022e-01 &  0.23018052   & -0.52458392   &  0.21275895   & -0.47416776  \\\\\n",
       "\tvivienda & -0.4626086    &  0.1489848864 &  0.14051329   &  0.150085403  &  3.655556e-01 & -0.29079856   &  0.64103363   & -0.26084654   & -0.15610084  \\\\\n",
       "\testado\\_civil &  0.2522789    &  0.4690439598 & -0.17288478   & -0.007663096  &  1.046389e-01 & -0.76706996   & -0.21236527   &  0.20481650   & -0.00328929  \\\\\n",
       "\thijos &  0.2598587    &  0.5218938719 &  0.11218356   &  0.007404048  & -4.366790e-02 &  0.38796361   &  0.46006668   &  0.53221626   &  0.01105122  \\\\\n",
       "\ttrabajo &  0.2902475    &  0.5271556382 & -0.03691018   & -0.007492711  & -8.654730e-06 &  0.25644600   & -0.10505341   & -0.74563042   & -0.06065726  \\\\\n",
       "\\end{tabular}\n"
      ],
      "text/markdown": [
       "\n",
       "| <!--/--> | PC1 | PC2 | PC3 | PC4 | PC5 | PC6 | PC7 | PC8 | PC9 |\n",
       "|---|---|---|---|---|---|---|---|---|---|\n",
       "| ingresos | -0.4937203    |  0.3069585229 | -0.09141925   |  0.111222044  | -8.889655e-02 |  0.07547726   | -0.15431890   |  0.01273153   |  0.77698974   |\n",
       "| gastos_comunes | -0.3182287    |  0.1473726341 | -0.36345316   |  0.081629625  | -7.630059e-01 | -0.06790280   |  0.10559750   | -0.01027447   | -0.37443974   |\n",
       "| pago_coche |  0.1237706    | -0.0916409584 | -0.51614411   |  0.780267686  |  2.655536e-01 |  0.15369652   | -0.02733309   |  0.06175856   | -0.04855731   |\n",
       "| gastos_otros |  0.1118757    |  0.0001115934 |  0.70198591   |  0.590704378  | -3.307437e-01 | -0.15442233   | -0.10187618   | -0.03797725   |  0.02663127   |\n",
       "| ahorros | -0.4446503    |  0.2884348823 |  0.19176735   |  0.022839130  |  2.890022e-01 |  0.23018052   | -0.52458392   |  0.21275895   | -0.47416776   |\n",
       "| vivienda | -0.4626086    |  0.1489848864 |  0.14051329   |  0.150085403  |  3.655556e-01 | -0.29079856   |  0.64103363   | -0.26084654   | -0.15610084   |\n",
       "| estado_civil |  0.2522789    |  0.4690439598 | -0.17288478   | -0.007663096  |  1.046389e-01 | -0.76706996   | -0.21236527   |  0.20481650   | -0.00328929   |\n",
       "| hijos |  0.2598587    |  0.5218938719 |  0.11218356   |  0.007404048  | -4.366790e-02 |  0.38796361   |  0.46006668   |  0.53221626   |  0.01105122   |\n",
       "| trabajo |  0.2902475    |  0.5271556382 | -0.03691018   | -0.007492711  | -8.654730e-06 |  0.25644600   | -0.10505341   | -0.74563042   | -0.06065726   |\n",
       "\n"
      ],
      "text/plain": [
       "               PC1        PC2           PC3         PC4          PC5          \n",
       "ingresos       -0.4937203  0.3069585229 -0.09141925  0.111222044 -8.889655e-02\n",
       "gastos_comunes -0.3182287  0.1473726341 -0.36345316  0.081629625 -7.630059e-01\n",
       "pago_coche      0.1237706 -0.0916409584 -0.51614411  0.780267686  2.655536e-01\n",
       "gastos_otros    0.1118757  0.0001115934  0.70198591  0.590704378 -3.307437e-01\n",
       "ahorros        -0.4446503  0.2884348823  0.19176735  0.022839130  2.890022e-01\n",
       "vivienda       -0.4626086  0.1489848864  0.14051329  0.150085403  3.655556e-01\n",
       "estado_civil    0.2522789  0.4690439598 -0.17288478 -0.007663096  1.046389e-01\n",
       "hijos           0.2598587  0.5218938719  0.11218356  0.007404048 -4.366790e-02\n",
       "trabajo         0.2902475  0.5271556382 -0.03691018 -0.007492711 -8.654730e-06\n",
       "               PC6         PC7         PC8         PC9        \n",
       "ingresos        0.07547726 -0.15431890  0.01273153  0.77698974\n",
       "gastos_comunes -0.06790280  0.10559750 -0.01027447 -0.37443974\n",
       "pago_coche      0.15369652 -0.02733309  0.06175856 -0.04855731\n",
       "gastos_otros   -0.15442233 -0.10187618 -0.03797725  0.02663127\n",
       "ahorros         0.23018052 -0.52458392  0.21275895 -0.47416776\n",
       "vivienda       -0.29079856  0.64103363 -0.26084654 -0.15610084\n",
       "estado_civil   -0.76706996 -0.21236527  0.20481650 -0.00328929\n",
       "hijos           0.38796361  0.46006668  0.53221626  0.01105122\n",
       "trabajo         0.25644600 -0.10505341 -0.74563042 -0.06065726"
      ]
     },
     "metadata": {},
     "output_type": "display_data"
    },
    {
     "data": {
      "text/html": [
       "<table>\n",
       "<thead><tr><th scope=col>PC1</th><th scope=col>PC2</th><th scope=col>PC3</th><th scope=col>PC4</th><th scope=col>PC5</th><th scope=col>PC6</th><th scope=col>PC7</th><th scope=col>PC8</th><th scope=col>PC9</th></tr></thead>\n",
       "<tbody>\n",
       "\t<tr><td>-1.31863913</td><td>-0.22239791</td><td> 1.5958976 </td><td>-0.8828210 </td><td>-0.64501455</td><td> 0.69847244</td><td> 0.3172424 </td><td> 0.7499461 </td><td> 0.2693149 </td></tr>\n",
       "\t<tr><td>-1.14503294</td><td> 1.71271211</td><td> 0.3947412 </td><td>-0.4468498 </td><td> 0.68610075</td><td> 0.23139399</td><td> 1.5386647 </td><td>-0.2212489 </td><td> 0.4373386 </td></tr>\n",
       "\t<tr><td>-0.09014468</td><td> 1.83151592</td><td> 1.3560127 </td><td> 0.3366685 </td><td>-0.74054686</td><td>-0.59155989</td><td>-1.5366772 </td><td>-0.6664638 </td><td> 0.1530824 </td></tr>\n",
       "\t<tr><td>-3.44733348</td><td>-0.07808548</td><td>-0.2018803 </td><td>-1.5696839 </td><td> 0.06838149</td><td> 0.05181628</td><td> 0.9071553 </td><td>-0.6827893 </td><td>-0.1287254 </td></tr>\n",
       "\t<tr><td>-0.91466060</td><td>-1.18174026</td><td> 0.1895648 </td><td> 0.1175117 </td><td> 0.14738638</td><td> 0.61821384</td><td>-0.4493023 </td><td>-0.1938599 </td><td> 0.6857484 </td></tr>\n",
       "</tbody>\n",
       "</table>\n"
      ],
      "text/latex": [
       "\\begin{tabular}{lllllllll}\n",
       " PC1 & PC2 & PC3 & PC4 & PC5 & PC6 & PC7 & PC8 & PC9\\\\\n",
       "\\hline\n",
       "\t -1.31863913 & -0.22239791 &  1.5958976  & -0.8828210  & -0.64501455 &  0.69847244 &  0.3172424  &  0.7499461  &  0.2693149 \\\\\n",
       "\t -1.14503294 &  1.71271211 &  0.3947412  & -0.4468498  &  0.68610075 &  0.23139399 &  1.5386647  & -0.2212489  &  0.4373386 \\\\\n",
       "\t -0.09014468 &  1.83151592 &  1.3560127  &  0.3366685  & -0.74054686 & -0.59155989 & -1.5366772  & -0.6664638  &  0.1530824 \\\\\n",
       "\t -3.44733348 & -0.07808548 & -0.2018803  & -1.5696839  &  0.06838149 &  0.05181628 &  0.9071553  & -0.6827893  & -0.1287254 \\\\\n",
       "\t -0.91466060 & -1.18174026 &  0.1895648  &  0.1175117  &  0.14738638 &  0.61821384 & -0.4493023  & -0.1938599  &  0.6857484 \\\\\n",
       "\\end{tabular}\n"
      ],
      "text/markdown": [
       "\n",
       "| PC1 | PC2 | PC3 | PC4 | PC5 | PC6 | PC7 | PC8 | PC9 |\n",
       "|---|---|---|---|---|---|---|---|---|\n",
       "| -1.31863913 | -0.22239791 |  1.5958976  | -0.8828210  | -0.64501455 |  0.69847244 |  0.3172424  |  0.7499461  |  0.2693149  |\n",
       "| -1.14503294 |  1.71271211 |  0.3947412  | -0.4468498  |  0.68610075 |  0.23139399 |  1.5386647  | -0.2212489  |  0.4373386  |\n",
       "| -0.09014468 |  1.83151592 |  1.3560127  |  0.3366685  | -0.74054686 | -0.59155989 | -1.5366772  | -0.6664638  |  0.1530824  |\n",
       "| -3.44733348 | -0.07808548 | -0.2018803  | -1.5696839  |  0.06838149 |  0.05181628 |  0.9071553  | -0.6827893  | -0.1287254  |\n",
       "| -0.91466060 | -1.18174026 |  0.1895648  |  0.1175117  |  0.14738638 |  0.61821384 | -0.4493023  | -0.1938599  |  0.6857484  |\n",
       "\n"
      ],
      "text/plain": [
       "     PC1         PC2         PC3        PC4        PC5         PC6        \n",
       "[1,] -1.31863913 -0.22239791  1.5958976 -0.8828210 -0.64501455  0.69847244\n",
       "[2,] -1.14503294  1.71271211  0.3947412 -0.4468498  0.68610075  0.23139399\n",
       "[3,] -0.09014468  1.83151592  1.3560127  0.3366685 -0.74054686 -0.59155989\n",
       "[4,] -3.44733348 -0.07808548 -0.2018803 -1.5696839  0.06838149  0.05181628\n",
       "[5,] -0.91466060 -1.18174026  0.1895648  0.1175117  0.14738638  0.61821384\n",
       "     PC7        PC8        PC9       \n",
       "[1,]  0.3172424  0.7499461  0.2693149\n",
       "[2,]  1.5386647 -0.2212489  0.4373386\n",
       "[3,] -1.5366772 -0.6664638  0.1530824\n",
       "[4,]  0.9071553 -0.6827893 -0.1287254\n",
       "[5,] -0.4493023 -0.1938599  0.6857484"
      ]
     },
     "metadata": {},
     "output_type": "display_data"
    }
   ],
   "source": [
    "pca.datos$sdev # Criterio de Kasiser\n",
    "pca.datos$rotation # cargas de cada componente.\n",
    "\n",
    "\n",
    "head(pca.datos$x, 5) # Matriz de datos (solo primeras 5 filas) con las componentes "
   ]
  },
  {
   "cell_type": "code",
   "execution_count": 10,
   "metadata": {},
   "outputs": [
    {
     "data": {
      "text/html": [
       "<ol class=list-inline>\n",
       "\t<li>1.64079861868183</li>\n",
       "\t<li>1.44794443067053</li>\n",
       "\t<li>1.02665071299733</li>\n",
       "\t<li>0.980666081069839</li>\n",
       "\t<li>0.931222355566113</li>\n",
       "\t<li>0.711820171834668</li>\n",
       "\t<li>0.610820854942778</li>\n",
       "\t<li>0.521156119393068</li>\n",
       "\t<li>0.420654631987473</li>\n",
       "</ol>\n"
      ],
      "text/latex": [
       "\\begin{enumerate*}\n",
       "\\item 1.64079861868183\n",
       "\\item 1.44794443067053\n",
       "\\item 1.02665071299733\n",
       "\\item 0.980666081069839\n",
       "\\item 0.931222355566113\n",
       "\\item 0.711820171834668\n",
       "\\item 0.610820854942778\n",
       "\\item 0.521156119393068\n",
       "\\item 0.420654631987473\n",
       "\\end{enumerate*}\n"
      ],
      "text/markdown": [
       "1. 1.64079861868183\n",
       "2. 1.44794443067053\n",
       "3. 1.02665071299733\n",
       "4. 0.980666081069839\n",
       "5. 0.931222355566113\n",
       "6. 0.711820171834668\n",
       "7. 0.610820854942778\n",
       "8. 0.521156119393068\n",
       "9. 0.420654631987473\n",
       "\n",
       "\n"
      ],
      "text/plain": [
       "[1] 1.6407986 1.4479444 1.0266507 0.9806661 0.9312224 0.7118202 0.6108209\n",
       "[8] 0.5211561 0.4206546"
      ]
     },
     "metadata": {},
     "output_type": "display_data"
    }
   ],
   "source": [
    "# (en columnas las nuevas variables).\n",
    "pca.datos$sdev # Autovalores de los Componentes"
   ]
  },
  {
   "cell_type": "code",
   "execution_count": 11,
   "metadata": {},
   "outputs": [
    {
     "data": {
      "text/html": [
       "<table>\n",
       "<thead><tr><th></th><th scope=col>PC1</th><th scope=col>PC2</th><th scope=col>PC3</th><th scope=col>PC4</th><th scope=col>PC5</th><th scope=col>PC6</th><th scope=col>PC7</th><th scope=col>PC8</th><th scope=col>PC9</th></tr></thead>\n",
       "<tbody>\n",
       "\t<tr><th scope=row>ingresos</th><td>-0.4937203   </td><td> 0.3069585229</td><td>-0.09141925  </td><td> 0.111222044 </td><td>-8.889655e-02</td><td> 0.07547726  </td><td>-0.15431890  </td><td> 0.01273153  </td><td> 0.77698974  </td></tr>\n",
       "\t<tr><th scope=row>gastos_comunes</th><td>-0.3182287   </td><td> 0.1473726341</td><td>-0.36345316  </td><td> 0.081629625 </td><td>-7.630059e-01</td><td>-0.06790280  </td><td> 0.10559750  </td><td>-0.01027447  </td><td>-0.37443974  </td></tr>\n",
       "\t<tr><th scope=row>pago_coche</th><td> 0.1237706   </td><td>-0.0916409584</td><td>-0.51614411  </td><td> 0.780267686 </td><td> 2.655536e-01</td><td> 0.15369652  </td><td>-0.02733309  </td><td> 0.06175856  </td><td>-0.04855731  </td></tr>\n",
       "\t<tr><th scope=row>gastos_otros</th><td> 0.1118757   </td><td> 0.0001115934</td><td> 0.70198591  </td><td> 0.590704378 </td><td>-3.307437e-01</td><td>-0.15442233  </td><td>-0.10187618  </td><td>-0.03797725  </td><td> 0.02663127  </td></tr>\n",
       "\t<tr><th scope=row>ahorros</th><td>-0.4446503   </td><td> 0.2884348823</td><td> 0.19176735  </td><td> 0.022839130 </td><td> 2.890022e-01</td><td> 0.23018052  </td><td>-0.52458392  </td><td> 0.21275895  </td><td>-0.47416776  </td></tr>\n",
       "\t<tr><th scope=row>vivienda</th><td>-0.4626086   </td><td> 0.1489848864</td><td> 0.14051329  </td><td> 0.150085403 </td><td> 3.655556e-01</td><td>-0.29079856  </td><td> 0.64103363  </td><td>-0.26084654  </td><td>-0.15610084  </td></tr>\n",
       "\t<tr><th scope=row>estado_civil</th><td> 0.2522789   </td><td> 0.4690439598</td><td>-0.17288478  </td><td>-0.007663096 </td><td> 1.046389e-01</td><td>-0.76706996  </td><td>-0.21236527  </td><td> 0.20481650  </td><td>-0.00328929  </td></tr>\n",
       "\t<tr><th scope=row>hijos</th><td> 0.2598587   </td><td> 0.5218938719</td><td> 0.11218356  </td><td> 0.007404048 </td><td>-4.366790e-02</td><td> 0.38796361  </td><td> 0.46006668  </td><td> 0.53221626  </td><td> 0.01105122  </td></tr>\n",
       "\t<tr><th scope=row>trabajo</th><td> 0.2902475   </td><td> 0.5271556382</td><td>-0.03691018  </td><td>-0.007492711 </td><td>-8.654730e-06</td><td> 0.25644600  </td><td>-0.10505341  </td><td>-0.74563042  </td><td>-0.06065726  </td></tr>\n",
       "</tbody>\n",
       "</table>\n"
      ],
      "text/latex": [
       "\\begin{tabular}{r|lllllllll}\n",
       "  & PC1 & PC2 & PC3 & PC4 & PC5 & PC6 & PC7 & PC8 & PC9\\\\\n",
       "\\hline\n",
       "\tingresos & -0.4937203    &  0.3069585229 & -0.09141925   &  0.111222044  & -8.889655e-02 &  0.07547726   & -0.15431890   &  0.01273153   &  0.77698974  \\\\\n",
       "\tgastos\\_comunes & -0.3182287    &  0.1473726341 & -0.36345316   &  0.081629625  & -7.630059e-01 & -0.06790280   &  0.10559750   & -0.01027447   & -0.37443974  \\\\\n",
       "\tpago\\_coche &  0.1237706    & -0.0916409584 & -0.51614411   &  0.780267686  &  2.655536e-01 &  0.15369652   & -0.02733309   &  0.06175856   & -0.04855731  \\\\\n",
       "\tgastos\\_otros &  0.1118757    &  0.0001115934 &  0.70198591   &  0.590704378  & -3.307437e-01 & -0.15442233   & -0.10187618   & -0.03797725   &  0.02663127  \\\\\n",
       "\tahorros & -0.4446503    &  0.2884348823 &  0.19176735   &  0.022839130  &  2.890022e-01 &  0.23018052   & -0.52458392   &  0.21275895   & -0.47416776  \\\\\n",
       "\tvivienda & -0.4626086    &  0.1489848864 &  0.14051329   &  0.150085403  &  3.655556e-01 & -0.29079856   &  0.64103363   & -0.26084654   & -0.15610084  \\\\\n",
       "\testado\\_civil &  0.2522789    &  0.4690439598 & -0.17288478   & -0.007663096  &  1.046389e-01 & -0.76706996   & -0.21236527   &  0.20481650   & -0.00328929  \\\\\n",
       "\thijos &  0.2598587    &  0.5218938719 &  0.11218356   &  0.007404048  & -4.366790e-02 &  0.38796361   &  0.46006668   &  0.53221626   &  0.01105122  \\\\\n",
       "\ttrabajo &  0.2902475    &  0.5271556382 & -0.03691018   & -0.007492711  & -8.654730e-06 &  0.25644600   & -0.10505341   & -0.74563042   & -0.06065726  \\\\\n",
       "\\end{tabular}\n"
      ],
      "text/markdown": [
       "\n",
       "| <!--/--> | PC1 | PC2 | PC3 | PC4 | PC5 | PC6 | PC7 | PC8 | PC9 |\n",
       "|---|---|---|---|---|---|---|---|---|---|\n",
       "| ingresos | -0.4937203    |  0.3069585229 | -0.09141925   |  0.111222044  | -8.889655e-02 |  0.07547726   | -0.15431890   |  0.01273153   |  0.77698974   |\n",
       "| gastos_comunes | -0.3182287    |  0.1473726341 | -0.36345316   |  0.081629625  | -7.630059e-01 | -0.06790280   |  0.10559750   | -0.01027447   | -0.37443974   |\n",
       "| pago_coche |  0.1237706    | -0.0916409584 | -0.51614411   |  0.780267686  |  2.655536e-01 |  0.15369652   | -0.02733309   |  0.06175856   | -0.04855731   |\n",
       "| gastos_otros |  0.1118757    |  0.0001115934 |  0.70198591   |  0.590704378  | -3.307437e-01 | -0.15442233   | -0.10187618   | -0.03797725   |  0.02663127   |\n",
       "| ahorros | -0.4446503    |  0.2884348823 |  0.19176735   |  0.022839130  |  2.890022e-01 |  0.23018052   | -0.52458392   |  0.21275895   | -0.47416776   |\n",
       "| vivienda | -0.4626086    |  0.1489848864 |  0.14051329   |  0.150085403  |  3.655556e-01 | -0.29079856   |  0.64103363   | -0.26084654   | -0.15610084   |\n",
       "| estado_civil |  0.2522789    |  0.4690439598 | -0.17288478   | -0.007663096  |  1.046389e-01 | -0.76706996   | -0.21236527   |  0.20481650   | -0.00328929   |\n",
       "| hijos |  0.2598587    |  0.5218938719 |  0.11218356   |  0.007404048  | -4.366790e-02 |  0.38796361   |  0.46006668   |  0.53221626   |  0.01105122   |\n",
       "| trabajo |  0.2902475    |  0.5271556382 | -0.03691018   | -0.007492711  | -8.654730e-06 |  0.25644600   | -0.10505341   | -0.74563042   | -0.06065726   |\n",
       "\n"
      ],
      "text/plain": [
       "               PC1        PC2           PC3         PC4          PC5          \n",
       "ingresos       -0.4937203  0.3069585229 -0.09141925  0.111222044 -8.889655e-02\n",
       "gastos_comunes -0.3182287  0.1473726341 -0.36345316  0.081629625 -7.630059e-01\n",
       "pago_coche      0.1237706 -0.0916409584 -0.51614411  0.780267686  2.655536e-01\n",
       "gastos_otros    0.1118757  0.0001115934  0.70198591  0.590704378 -3.307437e-01\n",
       "ahorros        -0.4446503  0.2884348823  0.19176735  0.022839130  2.890022e-01\n",
       "vivienda       -0.4626086  0.1489848864  0.14051329  0.150085403  3.655556e-01\n",
       "estado_civil    0.2522789  0.4690439598 -0.17288478 -0.007663096  1.046389e-01\n",
       "hijos           0.2598587  0.5218938719  0.11218356  0.007404048 -4.366790e-02\n",
       "trabajo         0.2902475  0.5271556382 -0.03691018 -0.007492711 -8.654730e-06\n",
       "               PC6         PC7         PC8         PC9        \n",
       "ingresos        0.07547726 -0.15431890  0.01273153  0.77698974\n",
       "gastos_comunes -0.06790280  0.10559750 -0.01027447 -0.37443974\n",
       "pago_coche      0.15369652 -0.02733309  0.06175856 -0.04855731\n",
       "gastos_otros   -0.15442233 -0.10187618 -0.03797725  0.02663127\n",
       "ahorros         0.23018052 -0.52458392  0.21275895 -0.47416776\n",
       "vivienda       -0.29079856  0.64103363 -0.26084654 -0.15610084\n",
       "estado_civil   -0.76706996 -0.21236527  0.20481650 -0.00328929\n",
       "hijos           0.38796361  0.46006668  0.53221626  0.01105122\n",
       "trabajo         0.25644600 -0.10505341 -0.74563042 -0.06065726"
      ]
     },
     "metadata": {},
     "output_type": "display_data"
    }
   ],
   "source": [
    "pca.datos$rotation"
   ]
  },
  {
   "cell_type": "code",
   "execution_count": 12,
   "metadata": {
    "scrolled": true
   },
   "outputs": [
    {
     "data": {
      "text/html": [
       "<table>\n",
       "<thead><tr><th scope=col>PC1</th><th scope=col>PC2</th><th scope=col>PC3</th><th scope=col>PC4</th><th scope=col>PC5</th><th scope=col>PC6</th><th scope=col>PC7</th><th scope=col>PC8</th><th scope=col>PC9</th></tr></thead>\n",
       "<tbody>\n",
       "\t<tr><td>-1.31863913 </td><td>-0.222397907</td><td> 1.59589762 </td><td>-0.882821025</td><td>-0.64501455 </td><td> 0.69847244 </td><td> 0.31724243 </td><td> 0.749946113</td><td> 0.26931487 </td></tr>\n",
       "\t<tr><td>-1.14503294 </td><td> 1.712712106</td><td> 0.39474122 </td><td>-0.446849775</td><td> 0.68610075 </td><td> 0.23139399 </td><td> 1.53866467 </td><td>-0.221248851</td><td> 0.43733860 </td></tr>\n",
       "\t<tr><td>-0.09014468 </td><td> 1.831515916</td><td> 1.35601268 </td><td> 0.336668537</td><td>-0.74054686 </td><td>-0.59155989 </td><td>-1.53667718 </td><td>-0.666463769</td><td> 0.15308243 </td></tr>\n",
       "\t<tr><td>-3.44733348 </td><td>-0.078085483</td><td>-0.20188030 </td><td>-1.569683944</td><td> 0.06838149 </td><td> 0.05181628 </td><td> 0.90715532 </td><td>-0.682789346</td><td>-0.12872540 </td></tr>\n",
       "\t<tr><td>-0.91466060 </td><td>-1.181740265</td><td> 0.18956482 </td><td> 0.117511748</td><td> 0.14738638 </td><td> 0.61821384 </td><td>-0.44930234 </td><td>-0.193859853</td><td> 0.68574843 </td></tr>\n",
       "\t<tr><td>-0.16127491 </td><td> 1.583763211</td><td> 0.42087878 </td><td>-1.876627816</td><td> 0.15604298 </td><td> 1.02248204 </td><td> 0.55954201 </td><td> 1.044832897</td><td> 0.16311401 </td></tr>\n",
       "\t<tr><td>-1.32600250 </td><td> 0.618294200</td><td>-1.82489948 </td><td> 0.398554239</td><td>-0.03574077 </td><td> 0.35005749 </td><td>-0.01865779 </td><td>-0.142030013</td><td> 0.03282592 </td></tr>\n",
       "\t<tr><td>-2.72239424 </td><td>-0.768246706</td><td> 2.26775212 </td><td> 0.270786685</td><td>-0.30254064 </td><td>-0.41808111 </td><td> 0.28260598 </td><td>-0.057248759</td><td> 0.02032996 </td></tr>\n",
       "\t<tr><td>-1.40556363 </td><td>-0.860456657</td><td>-0.02149946 </td><td> 0.279018117</td><td>-1.07795719 </td><td> 0.70402651 </td><td>-0.87854379 </td><td>-0.005330169</td><td> 0.02630721 </td></tr>\n",
       "\t<tr><td>-0.41365709 </td><td> 1.451831148</td><td>-2.07552521 </td><td>-0.548252304</td><td>-0.26436157 </td><td>-0.25861684 </td><td>-0.63710782 </td><td>-0.387422386</td><td> 0.42352932 </td></tr>\n",
       "\t<tr><td>-3.12926430 </td><td>-1.127775692</td><td>-2.06818472 </td><td> 0.004944719</td><td>-0.19555530 </td><td> 0.09095249 </td><td> 1.12137381 </td><td> 0.321181562</td><td> 0.16902293 </td></tr>\n",
       "\t<tr><td>-0.99118572 </td><td>-0.024300071</td><td> 0.22463135 </td><td>-0.957386588</td><td> 0.21558279 </td><td>-1.56360781 </td><td>-0.63188412 </td><td> 0.491216301</td><td>-0.33802793 </td></tr>\n",
       "\t<tr><td>-0.74097823 </td><td> 2.283667758</td><td>-0.23714010 </td><td>-1.392801477</td><td> 1.80034161 </td><td> 0.05572083 </td><td> 0.17646796 </td><td> 0.583107116</td><td>-0.43708620 </td></tr>\n",
       "\t<tr><td>-0.19149966 </td><td> 1.978613395</td><td>-0.17326833 </td><td>-0.408971349</td><td> 0.60559815 </td><td> 1.49958067 </td><td>-0.58909025 </td><td> 0.092239488</td><td>-0.15765276 </td></tr>\n",
       "\t<tr><td>-1.36498361 </td><td> 1.728415845</td><td>-1.35727324 </td><td> 0.680094017</td><td> 1.11818057 </td><td>-0.73171706 </td><td> 1.01349797 </td><td> 0.039093084</td><td> 0.58698765 </td></tr>\n",
       "\t<tr><td> 0.23795936 </td><td> 0.024365942</td><td> 0.52960911 </td><td> 1.030160005</td><td> 0.72696293 </td><td>-0.95925820 </td><td>-1.61973111 </td><td> 0.189108081</td><td> 0.51217031 </td></tr>\n",
       "\t<tr><td>-0.48948160 </td><td> 1.589404190</td><td>-0.53444111 </td><td>-0.992339607</td><td> 0.97348894 </td><td> 1.22099490 </td><td>-0.70413412 </td><td>-0.331318959</td><td>-0.44619144 </td></tr>\n",
       "\t<tr><td>-1.02644414 </td><td> 2.404421981</td><td> 2.23785193 </td><td> 0.261919295</td><td> 0.65220540 </td><td>-0.84901602 </td><td>-0.23157316 </td><td>-0.407198120</td><td> 0.08976747 </td></tr>\n",
       "\t<tr><td>-3.52665432 </td><td>-0.248674439</td><td>-1.21888335 </td><td> 0.923698623</td><td> 0.22928069 </td><td> 0.53745580 </td><td> 0.16650431 </td><td> 0.006128004</td><td>-0.31124413 </td></tr>\n",
       "\t<tr><td>-0.89152461 </td><td> 1.147413746</td><td>-0.21907834 </td><td>-1.847458928</td><td> 0.38990277 </td><td> 0.88490608 </td><td>-1.43451794 </td><td>-0.304864175</td><td>-0.27718620 </td></tr>\n",
       "\t<tr><td>-1.73162316 </td><td>-0.218606307</td><td>-0.72285667 </td><td>-1.213264049</td><td> 1.01987162 </td><td>-1.49053260 </td><td>-0.46320510 </td><td> 1.092641975</td><td> 0.66479328 </td></tr>\n",
       "\t<tr><td>-1.17459687 </td><td> 2.055307080</td><td>-0.99759716 </td><td>-0.324829299</td><td> 2.31264733 </td><td>-0.15480841 </td><td>-0.55062706 </td><td>-0.762910904</td><td>-0.25338968 </td></tr>\n",
       "\t<tr><td>-3.58070755 </td><td>-0.551708705</td><td>-1.23106445 </td><td> 0.218041346</td><td> 1.34199574 </td><td> 0.44430566 </td><td> 0.51929316 </td><td> 0.186231707</td><td> 0.17353896 </td></tr>\n",
       "\t<tr><td> 0.19746725 </td><td> 1.474532580</td><td>-1.39265827 </td><td>-0.590164772</td><td> 1.08905991 </td><td> 0.12517666 </td><td>-1.24629162 </td><td>-0.498896652</td><td> 0.68114076 </td></tr>\n",
       "\t<tr><td>-1.04929121 </td><td>-1.707382393</td><td> 0.10196425 </td><td>-1.540266906</td><td> 0.19481493 </td><td> 0.35604892 </td><td>-0.13148560 </td><td> 0.357062408</td><td> 0.30306056 </td></tr>\n",
       "\t<tr><td>-1.91244727 </td><td>-0.685097022</td><td>-0.01207338 </td><td> 0.523154485</td><td> 0.36791932 </td><td> 0.75616003 </td><td>-0.63016628 </td><td>-0.059180381</td><td>-0.45905428 </td></tr>\n",
       "\t<tr><td> 0.32594340 </td><td> 1.393735632</td><td> 2.21969557 </td><td>-0.100684822</td><td> 0.32322651 </td><td> 0.55200231 </td><td> 0.72976726 </td><td> 0.796028391</td><td> 0.30354064 </td></tr>\n",
       "\t<tr><td>-2.58461672 </td><td>-0.097729563</td><td> 0.32013360 </td><td>-0.768476571</td><td> 0.10662352 </td><td> 0.58435643 </td><td>-0.31153102 </td><td>-0.526809116</td><td>-0.64453747 </td></tr>\n",
       "\t<tr><td>-2.61452797 </td><td> 0.006648613</td><td> 0.41328994 </td><td>-0.353645453</td><td>-1.27135161 </td><td> 0.39889821 </td><td>-0.32922421 </td><td>-0.625787624</td><td> 0.47498670 </td></tr>\n",
       "\t<tr><td> 0.51315060 </td><td> 2.132933947</td><td> 0.44521426 </td><td>-0.348119883</td><td>-0.28730580 </td><td> 1.37760395 </td><td> 0.15219665 </td><td> 0.185422649</td><td> 1.22655204 </td></tr>\n",
       "\t<tr><td>...</td><td>...</td><td>...</td><td>...</td><td>...</td><td>...</td><td>...</td><td>...</td><td>...</td></tr>\n",
       "\t<tr><td> 0.80149982  </td><td>-2.1614956   </td><td>-0.0186632169</td><td> 1.69028809  </td><td>-0.668430023 </td><td> 0.250190728 </td><td> 0.23431556  </td><td>-0.435804557 </td><td> 0.54962451  </td></tr>\n",
       "\t<tr><td> 2.47927165  </td><td>-0.5909951   </td><td>-0.1987536375</td><td> 0.95101202  </td><td> 1.578215709 </td><td>-0.562784096 </td><td>-0.68633933  </td><td> 0.221411753 </td><td>-0.49691338  </td></tr>\n",
       "\t<tr><td>-0.62168612  </td><td>-1.7545917   </td><td>-0.8022316696</td><td> 1.45709505  </td><td>-0.532064794 </td><td> 0.284263228 </td><td> 0.37265457  </td><td>-0.092723934 </td><td>-0.03001758  </td></tr>\n",
       "\t<tr><td> 3.03334479  </td><td> 0.4355599   </td><td> 0.7516001247</td><td> 0.48236258  </td><td> 0.345787535 </td><td>-0.548255211 </td><td> 0.01565621  </td><td>-0.606243098 </td><td> 0.07118018  </td></tr>\n",
       "\t<tr><td> 0.77322302  </td><td>-2.3803046   </td><td> 1.6587797195</td><td> 0.09407693  </td><td> 1.145714198 </td><td> 0.218948243 </td><td>-0.15500845  </td><td>-0.008398094 </td><td>-0.52147133  </td></tr>\n",
       "\t<tr><td> 1.02188732  </td><td>-2.6141317   </td><td>-0.3050559031</td><td> 0.73390693  </td><td> 0.530765936 </td><td> 0.419774993 </td><td> 0.18283148  </td><td> 0.008882722 </td><td>-0.19615841  </td></tr>\n",
       "\t<tr><td> 1.79727272  </td><td> 1.1852880   </td><td> 0.8932449777</td><td> 0.02332043  </td><td>-0.379340868 </td><td>-0.128448717 </td><td>-0.51322525  </td><td> 0.699494683 </td><td> 0.28554007  </td></tr>\n",
       "\t<tr><td> 1.24395080  </td><td>-1.0086024   </td><td>-0.4627960305</td><td>-1.33709517  </td><td> 1.124382425 </td><td>-1.165859321 </td><td>-0.68742546  </td><td> 0.357852980 </td><td>-0.81621743  </td></tr>\n",
       "\t<tr><td> 3.16805394  </td><td> 0.6152143   </td><td> 1.8704946702</td><td>-0.60974473  </td><td> 0.745282520 </td><td>-0.490832366 </td><td> 0.31358269  </td><td> 0.039141975 </td><td> 0.02581646  </td></tr>\n",
       "\t<tr><td> 1.12568022  </td><td> 0.1759923   </td><td>-0.0462311842</td><td>-0.70344048  </td><td> 0.957844889 </td><td> 0.421035435 </td><td>-0.17356284  </td><td>-1.095592634 </td><td>-0.24002922  </td></tr>\n",
       "\t<tr><td> 2.21608850  </td><td> 0.5691835   </td><td>-1.1657479355</td><td> 1.59779485  </td><td>-0.746790198 </td><td>-0.285499591 </td><td>-0.13550204  </td><td>-0.098241785 </td><td>-0.01965430  </td></tr>\n",
       "\t<tr><td> 1.38756106  </td><td> 0.6202875   </td><td> 0.0006442131</td><td> 0.21206040  </td><td>-0.853732700 </td><td> 0.708675776 </td><td>-0.32415348  </td><td>-0.524356930 </td><td>-0.81205470  </td></tr>\n",
       "\t<tr><td>-0.45533258  </td><td>-2.1630781   </td><td> 0.4844005064</td><td> 0.39016628  </td><td>-2.330667252 </td><td>-0.002037938 </td><td>-0.41267259  </td><td> 0.713679414 </td><td>-0.19525690  </td></tr>\n",
       "\t<tr><td> 0.69322014  </td><td> 1.1635867   </td><td> 0.2414874520</td><td>-1.29246062  </td><td>-1.889766255 </td><td> 0.832157614 </td><td> 0.51526859  </td><td> 1.097088263 </td><td>-0.73276080  </td></tr>\n",
       "\t<tr><td> 0.98405578  </td><td>-2.4356455   </td><td> 1.4741309218</td><td>-0.29432167  </td><td> 0.347437747 </td><td> 0.286649384 </td><td>-0.41039220  </td><td> 0.088472195 </td><td>-0.29537943  </td></tr>\n",
       "\t<tr><td> 2.81994075  </td><td> 0.2874830   </td><td>-0.7058647543</td><td> 1.65817343  </td><td>-0.760797144 </td><td>-0.318699288 </td><td>-0.27446085  </td><td>-0.069349692 </td><td>-0.12052731  </td></tr>\n",
       "\t<tr><td>-1.50168013  </td><td>-1.7661065   </td><td> 0.2168460548</td><td>-0.47260290  </td><td>-1.905752412 </td><td>-0.300657538 </td><td> 0.46363485  </td><td> 0.404196770 </td><td>-0.45865329  </td></tr>\n",
       "\t<tr><td> 1.85285302  </td><td>-2.9412093   </td><td> 0.8778989719</td><td> 1.45134055  </td><td> 0.848095492 </td><td> 0.372520584 </td><td>-0.19064597  </td><td> 0.039729808 </td><td> 0.19686911  </td></tr>\n",
       "\t<tr><td> 2.95846827  </td><td> 0.1490017   </td><td>-0.0845160268</td><td>-0.31672547  </td><td> 0.545910948 </td><td>-0.077764395 </td><td>-0.03952552  </td><td> 1.002328839 </td><td>-0.35470150  </td></tr>\n",
       "\t<tr><td>-0.04837635  </td><td>-2.2680018   </td><td>-1.3437877159</td><td>-0.23761128  </td><td>-0.040394601 </td><td> 0.794881741 </td><td>-0.45296794  </td><td> 0.656599254 </td><td>-0.33082967  </td></tr>\n",
       "\t<tr><td> 0.16445433  </td><td>-1.8947196   </td><td>-0.3302701227</td><td> 2.12385310  </td><td>-0.398777502 </td><td> 0.198153407 </td><td> 0.54097887  </td><td>-0.527130692 </td><td> 0.32734125  </td></tr>\n",
       "\t<tr><td> 1.43343768  </td><td> 0.4784288   </td><td> 0.3028444131</td><td>-0.08864591  </td><td> 0.007009928 </td><td>-0.664298896 </td><td>-0.13951125  </td><td> 0.436117649 </td><td>-0.39929915  </td></tr>\n",
       "\t<tr><td> 2.05325384  </td><td> 0.4609928   </td><td> 1.2402081488</td><td>-0.85512396  </td><td> 0.300422327 </td><td>-0.734483775 </td><td>-0.15848542  </td><td> 0.048207450 </td><td>-0.05755379  </td></tr>\n",
       "\t<tr><td> 0.82555636  </td><td> 0.8127933   </td><td>-0.9781218260</td><td>-1.79769152  </td><td>-1.244853136 </td><td>-0.706171210 </td><td>-0.40435154  </td><td>-0.517986758 </td><td>-0.40409670  </td></tr>\n",
       "\t<tr><td> 0.74747960  </td><td>-1.4474213   </td><td>-1.4997280989</td><td> 0.51851650  </td><td>-0.451238902 </td><td>-0.184891746 </td><td>-0.40655743  </td><td> 0.119475698 </td><td>-0.01238189  </td></tr>\n",
       "\t<tr><td> 0.70528354  </td><td>-2.4999570   </td><td>-0.4298353311</td><td> 0.58247181  </td><td> 0.618657843 </td><td> 0.205199196 </td><td> 0.72716614  </td><td>-0.244329059 </td><td> 0.63844899  </td></tr>\n",
       "\t<tr><td> 2.03386440  </td><td> 1.3754911   </td><td>-0.8228766554</td><td> 0.03914315  </td><td>-0.372119512 </td><td>-0.013326637 </td><td> 0.40036885  </td><td>-0.106571370 </td><td>-0.07671409  </td></tr>\n",
       "\t<tr><td> 1.47779253  </td><td> 0.9734814   </td><td> 0.6359977867</td><td> 0.88275264  </td><td>-0.128019120 </td><td> 0.654124109 </td><td> 0.66060638  </td><td>-0.436670181 </td><td>-0.79439559  </td></tr>\n",
       "\t<tr><td> 1.51087890  </td><td>-0.3912040   </td><td> 0.0056957742</td><td> 1.30532298  </td><td> 0.114242095 </td><td> 0.056809844 </td><td> 0.81800780  </td><td>-0.055572382 </td><td>-0.14341135  </td></tr>\n",
       "\t<tr><td> 0.35258794  </td><td>-1.7159462   </td><td>-0.6083764196</td><td>-1.30248338  </td><td>-1.277560643 </td><td> 0.333204445 </td><td> 0.39534069  </td><td>-0.729730965 </td><td> 0.18615512  </td></tr>\n",
       "</tbody>\n",
       "</table>\n"
      ],
      "text/latex": [
       "\\begin{tabular}{lllllllll}\n",
       " PC1 & PC2 & PC3 & PC4 & PC5 & PC6 & PC7 & PC8 & PC9\\\\\n",
       "\\hline\n",
       "\t -1.31863913  & -0.222397907 &  1.59589762  & -0.882821025 & -0.64501455  &  0.69847244  &  0.31724243  &  0.749946113 &  0.26931487 \\\\\n",
       "\t -1.14503294  &  1.712712106 &  0.39474122  & -0.446849775 &  0.68610075  &  0.23139399  &  1.53866467  & -0.221248851 &  0.43733860 \\\\\n",
       "\t -0.09014468  &  1.831515916 &  1.35601268  &  0.336668537 & -0.74054686  & -0.59155989  & -1.53667718  & -0.666463769 &  0.15308243 \\\\\n",
       "\t -3.44733348  & -0.078085483 & -0.20188030  & -1.569683944 &  0.06838149  &  0.05181628  &  0.90715532  & -0.682789346 & -0.12872540 \\\\\n",
       "\t -0.91466060  & -1.181740265 &  0.18956482  &  0.117511748 &  0.14738638  &  0.61821384  & -0.44930234  & -0.193859853 &  0.68574843 \\\\\n",
       "\t -0.16127491  &  1.583763211 &  0.42087878  & -1.876627816 &  0.15604298  &  1.02248204  &  0.55954201  &  1.044832897 &  0.16311401 \\\\\n",
       "\t -1.32600250  &  0.618294200 & -1.82489948  &  0.398554239 & -0.03574077  &  0.35005749  & -0.01865779  & -0.142030013 &  0.03282592 \\\\\n",
       "\t -2.72239424  & -0.768246706 &  2.26775212  &  0.270786685 & -0.30254064  & -0.41808111  &  0.28260598  & -0.057248759 &  0.02032996 \\\\\n",
       "\t -1.40556363  & -0.860456657 & -0.02149946  &  0.279018117 & -1.07795719  &  0.70402651  & -0.87854379  & -0.005330169 &  0.02630721 \\\\\n",
       "\t -0.41365709  &  1.451831148 & -2.07552521  & -0.548252304 & -0.26436157  & -0.25861684  & -0.63710782  & -0.387422386 &  0.42352932 \\\\\n",
       "\t -3.12926430  & -1.127775692 & -2.06818472  &  0.004944719 & -0.19555530  &  0.09095249  &  1.12137381  &  0.321181562 &  0.16902293 \\\\\n",
       "\t -0.99118572  & -0.024300071 &  0.22463135  & -0.957386588 &  0.21558279  & -1.56360781  & -0.63188412  &  0.491216301 & -0.33802793 \\\\\n",
       "\t -0.74097823  &  2.283667758 & -0.23714010  & -1.392801477 &  1.80034161  &  0.05572083  &  0.17646796  &  0.583107116 & -0.43708620 \\\\\n",
       "\t -0.19149966  &  1.978613395 & -0.17326833  & -0.408971349 &  0.60559815  &  1.49958067  & -0.58909025  &  0.092239488 & -0.15765276 \\\\\n",
       "\t -1.36498361  &  1.728415845 & -1.35727324  &  0.680094017 &  1.11818057  & -0.73171706  &  1.01349797  &  0.039093084 &  0.58698765 \\\\\n",
       "\t  0.23795936  &  0.024365942 &  0.52960911  &  1.030160005 &  0.72696293  & -0.95925820  & -1.61973111  &  0.189108081 &  0.51217031 \\\\\n",
       "\t -0.48948160  &  1.589404190 & -0.53444111  & -0.992339607 &  0.97348894  &  1.22099490  & -0.70413412  & -0.331318959 & -0.44619144 \\\\\n",
       "\t -1.02644414  &  2.404421981 &  2.23785193  &  0.261919295 &  0.65220540  & -0.84901602  & -0.23157316  & -0.407198120 &  0.08976747 \\\\\n",
       "\t -3.52665432  & -0.248674439 & -1.21888335  &  0.923698623 &  0.22928069  &  0.53745580  &  0.16650431  &  0.006128004 & -0.31124413 \\\\\n",
       "\t -0.89152461  &  1.147413746 & -0.21907834  & -1.847458928 &  0.38990277  &  0.88490608  & -1.43451794  & -0.304864175 & -0.27718620 \\\\\n",
       "\t -1.73162316  & -0.218606307 & -0.72285667  & -1.213264049 &  1.01987162  & -1.49053260  & -0.46320510  &  1.092641975 &  0.66479328 \\\\\n",
       "\t -1.17459687  &  2.055307080 & -0.99759716  & -0.324829299 &  2.31264733  & -0.15480841  & -0.55062706  & -0.762910904 & -0.25338968 \\\\\n",
       "\t -3.58070755  & -0.551708705 & -1.23106445  &  0.218041346 &  1.34199574  &  0.44430566  &  0.51929316  &  0.186231707 &  0.17353896 \\\\\n",
       "\t  0.19746725  &  1.474532580 & -1.39265827  & -0.590164772 &  1.08905991  &  0.12517666  & -1.24629162  & -0.498896652 &  0.68114076 \\\\\n",
       "\t -1.04929121  & -1.707382393 &  0.10196425  & -1.540266906 &  0.19481493  &  0.35604892  & -0.13148560  &  0.357062408 &  0.30306056 \\\\\n",
       "\t -1.91244727  & -0.685097022 & -0.01207338  &  0.523154485 &  0.36791932  &  0.75616003  & -0.63016628  & -0.059180381 & -0.45905428 \\\\\n",
       "\t  0.32594340  &  1.393735632 &  2.21969557  & -0.100684822 &  0.32322651  &  0.55200231  &  0.72976726  &  0.796028391 &  0.30354064 \\\\\n",
       "\t -2.58461672  & -0.097729563 &  0.32013360  & -0.768476571 &  0.10662352  &  0.58435643  & -0.31153102  & -0.526809116 & -0.64453747 \\\\\n",
       "\t -2.61452797  &  0.006648613 &  0.41328994  & -0.353645453 & -1.27135161  &  0.39889821  & -0.32922421  & -0.625787624 &  0.47498670 \\\\\n",
       "\t  0.51315060  &  2.132933947 &  0.44521426  & -0.348119883 & -0.28730580  &  1.37760395  &  0.15219665  &  0.185422649 &  1.22655204 \\\\\n",
       "\t ... & ... & ... & ... & ... & ... & ... & ... & ...\\\\\n",
       "\t  0.80149982   & -2.1614956    & -0.0186632169 &  1.69028809   & -0.668430023  &  0.250190728  &  0.23431556   & -0.435804557  &  0.54962451  \\\\\n",
       "\t  2.47927165   & -0.5909951    & -0.1987536375 &  0.95101202   &  1.578215709  & -0.562784096  & -0.68633933   &  0.221411753  & -0.49691338  \\\\\n",
       "\t -0.62168612   & -1.7545917    & -0.8022316696 &  1.45709505   & -0.532064794  &  0.284263228  &  0.37265457   & -0.092723934  & -0.03001758  \\\\\n",
       "\t  3.03334479   &  0.4355599    &  0.7516001247 &  0.48236258   &  0.345787535  & -0.548255211  &  0.01565621   & -0.606243098  &  0.07118018  \\\\\n",
       "\t  0.77322302   & -2.3803046    &  1.6587797195 &  0.09407693   &  1.145714198  &  0.218948243  & -0.15500845   & -0.008398094  & -0.52147133  \\\\\n",
       "\t  1.02188732   & -2.6141317    & -0.3050559031 &  0.73390693   &  0.530765936  &  0.419774993  &  0.18283148   &  0.008882722  & -0.19615841  \\\\\n",
       "\t  1.79727272   &  1.1852880    &  0.8932449777 &  0.02332043   & -0.379340868  & -0.128448717  & -0.51322525   &  0.699494683  &  0.28554007  \\\\\n",
       "\t  1.24395080   & -1.0086024    & -0.4627960305 & -1.33709517   &  1.124382425  & -1.165859321  & -0.68742546   &  0.357852980  & -0.81621743  \\\\\n",
       "\t  3.16805394   &  0.6152143    &  1.8704946702 & -0.60974473   &  0.745282520  & -0.490832366  &  0.31358269   &  0.039141975  &  0.02581646  \\\\\n",
       "\t  1.12568022   &  0.1759923    & -0.0462311842 & -0.70344048   &  0.957844889  &  0.421035435  & -0.17356284   & -1.095592634  & -0.24002922  \\\\\n",
       "\t  2.21608850   &  0.5691835    & -1.1657479355 &  1.59779485   & -0.746790198  & -0.285499591  & -0.13550204   & -0.098241785  & -0.01965430  \\\\\n",
       "\t  1.38756106   &  0.6202875    &  0.0006442131 &  0.21206040   & -0.853732700  &  0.708675776  & -0.32415348   & -0.524356930  & -0.81205470  \\\\\n",
       "\t -0.45533258   & -2.1630781    &  0.4844005064 &  0.39016628   & -2.330667252  & -0.002037938  & -0.41267259   &  0.713679414  & -0.19525690  \\\\\n",
       "\t  0.69322014   &  1.1635867    &  0.2414874520 & -1.29246062   & -1.889766255  &  0.832157614  &  0.51526859   &  1.097088263  & -0.73276080  \\\\\n",
       "\t  0.98405578   & -2.4356455    &  1.4741309218 & -0.29432167   &  0.347437747  &  0.286649384  & -0.41039220   &  0.088472195  & -0.29537943  \\\\\n",
       "\t  2.81994075   &  0.2874830    & -0.7058647543 &  1.65817343   & -0.760797144  & -0.318699288  & -0.27446085   & -0.069349692  & -0.12052731  \\\\\n",
       "\t -1.50168013   & -1.7661065    &  0.2168460548 & -0.47260290   & -1.905752412  & -0.300657538  &  0.46363485   &  0.404196770  & -0.45865329  \\\\\n",
       "\t  1.85285302   & -2.9412093    &  0.8778989719 &  1.45134055   &  0.848095492  &  0.372520584  & -0.19064597   &  0.039729808  &  0.19686911  \\\\\n",
       "\t  2.95846827   &  0.1490017    & -0.0845160268 & -0.31672547   &  0.545910948  & -0.077764395  & -0.03952552   &  1.002328839  & -0.35470150  \\\\\n",
       "\t -0.04837635   & -2.2680018    & -1.3437877159 & -0.23761128   & -0.040394601  &  0.794881741  & -0.45296794   &  0.656599254  & -0.33082967  \\\\\n",
       "\t  0.16445433   & -1.8947196    & -0.3302701227 &  2.12385310   & -0.398777502  &  0.198153407  &  0.54097887   & -0.527130692  &  0.32734125  \\\\\n",
       "\t  1.43343768   &  0.4784288    &  0.3028444131 & -0.08864591   &  0.007009928  & -0.664298896  & -0.13951125   &  0.436117649  & -0.39929915  \\\\\n",
       "\t  2.05325384   &  0.4609928    &  1.2402081488 & -0.85512396   &  0.300422327  & -0.734483775  & -0.15848542   &  0.048207450  & -0.05755379  \\\\\n",
       "\t  0.82555636   &  0.8127933    & -0.9781218260 & -1.79769152   & -1.244853136  & -0.706171210  & -0.40435154   & -0.517986758  & -0.40409670  \\\\\n",
       "\t  0.74747960   & -1.4474213    & -1.4997280989 &  0.51851650   & -0.451238902  & -0.184891746  & -0.40655743   &  0.119475698  & -0.01238189  \\\\\n",
       "\t  0.70528354   & -2.4999570    & -0.4298353311 &  0.58247181   &  0.618657843  &  0.205199196  &  0.72716614   & -0.244329059  &  0.63844899  \\\\\n",
       "\t  2.03386440   &  1.3754911    & -0.8228766554 &  0.03914315   & -0.372119512  & -0.013326637  &  0.40036885   & -0.106571370  & -0.07671409  \\\\\n",
       "\t  1.47779253   &  0.9734814    &  0.6359977867 &  0.88275264   & -0.128019120  &  0.654124109  &  0.66060638   & -0.436670181  & -0.79439559  \\\\\n",
       "\t  1.51087890   & -0.3912040    &  0.0056957742 &  1.30532298   &  0.114242095  &  0.056809844  &  0.81800780   & -0.055572382  & -0.14341135  \\\\\n",
       "\t  0.35258794   & -1.7159462    & -0.6083764196 & -1.30248338   & -1.277560643  &  0.333204445  &  0.39534069   & -0.729730965  &  0.18615512  \\\\\n",
       "\\end{tabular}\n"
      ],
      "text/markdown": [
       "\n",
       "| PC1 | PC2 | PC3 | PC4 | PC5 | PC6 | PC7 | PC8 | PC9 |\n",
       "|---|---|---|---|---|---|---|---|---|\n",
       "| -1.31863913  | -0.222397907 |  1.59589762  | -0.882821025 | -0.64501455  |  0.69847244  |  0.31724243  |  0.749946113 |  0.26931487  |\n",
       "| -1.14503294  |  1.712712106 |  0.39474122  | -0.446849775 |  0.68610075  |  0.23139399  |  1.53866467  | -0.221248851 |  0.43733860  |\n",
       "| -0.09014468  |  1.831515916 |  1.35601268  |  0.336668537 | -0.74054686  | -0.59155989  | -1.53667718  | -0.666463769 |  0.15308243  |\n",
       "| -3.44733348  | -0.078085483 | -0.20188030  | -1.569683944 |  0.06838149  |  0.05181628  |  0.90715532  | -0.682789346 | -0.12872540  |\n",
       "| -0.91466060  | -1.181740265 |  0.18956482  |  0.117511748 |  0.14738638  |  0.61821384  | -0.44930234  | -0.193859853 |  0.68574843  |\n",
       "| -0.16127491  |  1.583763211 |  0.42087878  | -1.876627816 |  0.15604298  |  1.02248204  |  0.55954201  |  1.044832897 |  0.16311401  |\n",
       "| -1.32600250  |  0.618294200 | -1.82489948  |  0.398554239 | -0.03574077  |  0.35005749  | -0.01865779  | -0.142030013 |  0.03282592  |\n",
       "| -2.72239424  | -0.768246706 |  2.26775212  |  0.270786685 | -0.30254064  | -0.41808111  |  0.28260598  | -0.057248759 |  0.02032996  |\n",
       "| -1.40556363  | -0.860456657 | -0.02149946  |  0.279018117 | -1.07795719  |  0.70402651  | -0.87854379  | -0.005330169 |  0.02630721  |\n",
       "| -0.41365709  |  1.451831148 | -2.07552521  | -0.548252304 | -0.26436157  | -0.25861684  | -0.63710782  | -0.387422386 |  0.42352932  |\n",
       "| -3.12926430  | -1.127775692 | -2.06818472  |  0.004944719 | -0.19555530  |  0.09095249  |  1.12137381  |  0.321181562 |  0.16902293  |\n",
       "| -0.99118572  | -0.024300071 |  0.22463135  | -0.957386588 |  0.21558279  | -1.56360781  | -0.63188412  |  0.491216301 | -0.33802793  |\n",
       "| -0.74097823  |  2.283667758 | -0.23714010  | -1.392801477 |  1.80034161  |  0.05572083  |  0.17646796  |  0.583107116 | -0.43708620  |\n",
       "| -0.19149966  |  1.978613395 | -0.17326833  | -0.408971349 |  0.60559815  |  1.49958067  | -0.58909025  |  0.092239488 | -0.15765276  |\n",
       "| -1.36498361  |  1.728415845 | -1.35727324  |  0.680094017 |  1.11818057  | -0.73171706  |  1.01349797  |  0.039093084 |  0.58698765  |\n",
       "|  0.23795936  |  0.024365942 |  0.52960911  |  1.030160005 |  0.72696293  | -0.95925820  | -1.61973111  |  0.189108081 |  0.51217031  |\n",
       "| -0.48948160  |  1.589404190 | -0.53444111  | -0.992339607 |  0.97348894  |  1.22099490  | -0.70413412  | -0.331318959 | -0.44619144  |\n",
       "| -1.02644414  |  2.404421981 |  2.23785193  |  0.261919295 |  0.65220540  | -0.84901602  | -0.23157316  | -0.407198120 |  0.08976747  |\n",
       "| -3.52665432  | -0.248674439 | -1.21888335  |  0.923698623 |  0.22928069  |  0.53745580  |  0.16650431  |  0.006128004 | -0.31124413  |\n",
       "| -0.89152461  |  1.147413746 | -0.21907834  | -1.847458928 |  0.38990277  |  0.88490608  | -1.43451794  | -0.304864175 | -0.27718620  |\n",
       "| -1.73162316  | -0.218606307 | -0.72285667  | -1.213264049 |  1.01987162  | -1.49053260  | -0.46320510  |  1.092641975 |  0.66479328  |\n",
       "| -1.17459687  |  2.055307080 | -0.99759716  | -0.324829299 |  2.31264733  | -0.15480841  | -0.55062706  | -0.762910904 | -0.25338968  |\n",
       "| -3.58070755  | -0.551708705 | -1.23106445  |  0.218041346 |  1.34199574  |  0.44430566  |  0.51929316  |  0.186231707 |  0.17353896  |\n",
       "|  0.19746725  |  1.474532580 | -1.39265827  | -0.590164772 |  1.08905991  |  0.12517666  | -1.24629162  | -0.498896652 |  0.68114076  |\n",
       "| -1.04929121  | -1.707382393 |  0.10196425  | -1.540266906 |  0.19481493  |  0.35604892  | -0.13148560  |  0.357062408 |  0.30306056  |\n",
       "| -1.91244727  | -0.685097022 | -0.01207338  |  0.523154485 |  0.36791932  |  0.75616003  | -0.63016628  | -0.059180381 | -0.45905428  |\n",
       "|  0.32594340  |  1.393735632 |  2.21969557  | -0.100684822 |  0.32322651  |  0.55200231  |  0.72976726  |  0.796028391 |  0.30354064  |\n",
       "| -2.58461672  | -0.097729563 |  0.32013360  | -0.768476571 |  0.10662352  |  0.58435643  | -0.31153102  | -0.526809116 | -0.64453747  |\n",
       "| -2.61452797  |  0.006648613 |  0.41328994  | -0.353645453 | -1.27135161  |  0.39889821  | -0.32922421  | -0.625787624 |  0.47498670  |\n",
       "|  0.51315060  |  2.132933947 |  0.44521426  | -0.348119883 | -0.28730580  |  1.37760395  |  0.15219665  |  0.185422649 |  1.22655204  |\n",
       "| ... | ... | ... | ... | ... | ... | ... | ... | ... |\n",
       "|  0.80149982   | -2.1614956    | -0.0186632169 |  1.69028809   | -0.668430023  |  0.250190728  |  0.23431556   | -0.435804557  |  0.54962451   |\n",
       "|  2.47927165   | -0.5909951    | -0.1987536375 |  0.95101202   |  1.578215709  | -0.562784096  | -0.68633933   |  0.221411753  | -0.49691338   |\n",
       "| -0.62168612   | -1.7545917    | -0.8022316696 |  1.45709505   | -0.532064794  |  0.284263228  |  0.37265457   | -0.092723934  | -0.03001758   |\n",
       "|  3.03334479   |  0.4355599    |  0.7516001247 |  0.48236258   |  0.345787535  | -0.548255211  |  0.01565621   | -0.606243098  |  0.07118018   |\n",
       "|  0.77322302   | -2.3803046    |  1.6587797195 |  0.09407693   |  1.145714198  |  0.218948243  | -0.15500845   | -0.008398094  | -0.52147133   |\n",
       "|  1.02188732   | -2.6141317    | -0.3050559031 |  0.73390693   |  0.530765936  |  0.419774993  |  0.18283148   |  0.008882722  | -0.19615841   |\n",
       "|  1.79727272   |  1.1852880    |  0.8932449777 |  0.02332043   | -0.379340868  | -0.128448717  | -0.51322525   |  0.699494683  |  0.28554007   |\n",
       "|  1.24395080   | -1.0086024    | -0.4627960305 | -1.33709517   |  1.124382425  | -1.165859321  | -0.68742546   |  0.357852980  | -0.81621743   |\n",
       "|  3.16805394   |  0.6152143    |  1.8704946702 | -0.60974473   |  0.745282520  | -0.490832366  |  0.31358269   |  0.039141975  |  0.02581646   |\n",
       "|  1.12568022   |  0.1759923    | -0.0462311842 | -0.70344048   |  0.957844889  |  0.421035435  | -0.17356284   | -1.095592634  | -0.24002922   |\n",
       "|  2.21608850   |  0.5691835    | -1.1657479355 |  1.59779485   | -0.746790198  | -0.285499591  | -0.13550204   | -0.098241785  | -0.01965430   |\n",
       "|  1.38756106   |  0.6202875    |  0.0006442131 |  0.21206040   | -0.853732700  |  0.708675776  | -0.32415348   | -0.524356930  | -0.81205470   |\n",
       "| -0.45533258   | -2.1630781    |  0.4844005064 |  0.39016628   | -2.330667252  | -0.002037938  | -0.41267259   |  0.713679414  | -0.19525690   |\n",
       "|  0.69322014   |  1.1635867    |  0.2414874520 | -1.29246062   | -1.889766255  |  0.832157614  |  0.51526859   |  1.097088263  | -0.73276080   |\n",
       "|  0.98405578   | -2.4356455    |  1.4741309218 | -0.29432167   |  0.347437747  |  0.286649384  | -0.41039220   |  0.088472195  | -0.29537943   |\n",
       "|  2.81994075   |  0.2874830    | -0.7058647543 |  1.65817343   | -0.760797144  | -0.318699288  | -0.27446085   | -0.069349692  | -0.12052731   |\n",
       "| -1.50168013   | -1.7661065    |  0.2168460548 | -0.47260290   | -1.905752412  | -0.300657538  |  0.46363485   |  0.404196770  | -0.45865329   |\n",
       "|  1.85285302   | -2.9412093    |  0.8778989719 |  1.45134055   |  0.848095492  |  0.372520584  | -0.19064597   |  0.039729808  |  0.19686911   |\n",
       "|  2.95846827   |  0.1490017    | -0.0845160268 | -0.31672547   |  0.545910948  | -0.077764395  | -0.03952552   |  1.002328839  | -0.35470150   |\n",
       "| -0.04837635   | -2.2680018    | -1.3437877159 | -0.23761128   | -0.040394601  |  0.794881741  | -0.45296794   |  0.656599254  | -0.33082967   |\n",
       "|  0.16445433   | -1.8947196    | -0.3302701227 |  2.12385310   | -0.398777502  |  0.198153407  |  0.54097887   | -0.527130692  |  0.32734125   |\n",
       "|  1.43343768   |  0.4784288    |  0.3028444131 | -0.08864591   |  0.007009928  | -0.664298896  | -0.13951125   |  0.436117649  | -0.39929915   |\n",
       "|  2.05325384   |  0.4609928    |  1.2402081488 | -0.85512396   |  0.300422327  | -0.734483775  | -0.15848542   |  0.048207450  | -0.05755379   |\n",
       "|  0.82555636   |  0.8127933    | -0.9781218260 | -1.79769152   | -1.244853136  | -0.706171210  | -0.40435154   | -0.517986758  | -0.40409670   |\n",
       "|  0.74747960   | -1.4474213    | -1.4997280989 |  0.51851650   | -0.451238902  | -0.184891746  | -0.40655743   |  0.119475698  | -0.01238189   |\n",
       "|  0.70528354   | -2.4999570    | -0.4298353311 |  0.58247181   |  0.618657843  |  0.205199196  |  0.72716614   | -0.244329059  |  0.63844899   |\n",
       "|  2.03386440   |  1.3754911    | -0.8228766554 |  0.03914315   | -0.372119512  | -0.013326637  |  0.40036885   | -0.106571370  | -0.07671409   |\n",
       "|  1.47779253   |  0.9734814    |  0.6359977867 |  0.88275264   | -0.128019120  |  0.654124109  |  0.66060638   | -0.436670181  | -0.79439559   |\n",
       "|  1.51087890   | -0.3912040    |  0.0056957742 |  1.30532298   |  0.114242095  |  0.056809844  |  0.81800780   | -0.055572382  | -0.14341135   |\n",
       "|  0.35258794   | -1.7159462    | -0.6083764196 | -1.30248338   | -1.277560643  |  0.333204445  |  0.39534069   | -0.729730965  |  0.18615512   |\n",
       "\n"
      ],
      "text/plain": [
       "      PC1         PC2          PC3           PC4          PC5         \n",
       " [1,] -1.31863913 -0.222397907  1.59589762   -0.882821025 -0.64501455 \n",
       " [2,] -1.14503294  1.712712106  0.39474122   -0.446849775  0.68610075 \n",
       " [3,] -0.09014468  1.831515916  1.35601268    0.336668537 -0.74054686 \n",
       " [4,] -3.44733348 -0.078085483 -0.20188030   -1.569683944  0.06838149 \n",
       " [5,] -0.91466060 -1.181740265  0.18956482    0.117511748  0.14738638 \n",
       " [6,] -0.16127491  1.583763211  0.42087878   -1.876627816  0.15604298 \n",
       " [7,] -1.32600250  0.618294200 -1.82489948    0.398554239 -0.03574077 \n",
       " [8,] -2.72239424 -0.768246706  2.26775212    0.270786685 -0.30254064 \n",
       " [9,] -1.40556363 -0.860456657 -0.02149946    0.279018117 -1.07795719 \n",
       "[10,] -0.41365709  1.451831148 -2.07552521   -0.548252304 -0.26436157 \n",
       "[11,] -3.12926430 -1.127775692 -2.06818472    0.004944719 -0.19555530 \n",
       "[12,] -0.99118572 -0.024300071  0.22463135   -0.957386588  0.21558279 \n",
       "[13,] -0.74097823  2.283667758 -0.23714010   -1.392801477  1.80034161 \n",
       "[14,] -0.19149966  1.978613395 -0.17326833   -0.408971349  0.60559815 \n",
       "[15,] -1.36498361  1.728415845 -1.35727324    0.680094017  1.11818057 \n",
       "[16,]  0.23795936  0.024365942  0.52960911    1.030160005  0.72696293 \n",
       "[17,] -0.48948160  1.589404190 -0.53444111   -0.992339607  0.97348894 \n",
       "[18,] -1.02644414  2.404421981  2.23785193    0.261919295  0.65220540 \n",
       "[19,] -3.52665432 -0.248674439 -1.21888335    0.923698623  0.22928069 \n",
       "[20,] -0.89152461  1.147413746 -0.21907834   -1.847458928  0.38990277 \n",
       "[21,] -1.73162316 -0.218606307 -0.72285667   -1.213264049  1.01987162 \n",
       "[22,] -1.17459687  2.055307080 -0.99759716   -0.324829299  2.31264733 \n",
       "[23,] -3.58070755 -0.551708705 -1.23106445    0.218041346  1.34199574 \n",
       "[24,]  0.19746725  1.474532580 -1.39265827   -0.590164772  1.08905991 \n",
       "[25,] -1.04929121 -1.707382393  0.10196425   -1.540266906  0.19481493 \n",
       "[26,] -1.91244727 -0.685097022 -0.01207338    0.523154485  0.36791932 \n",
       "[27,]  0.32594340  1.393735632  2.21969557   -0.100684822  0.32322651 \n",
       "[28,] -2.58461672 -0.097729563  0.32013360   -0.768476571  0.10662352 \n",
       "[29,] -2.61452797  0.006648613  0.41328994   -0.353645453 -1.27135161 \n",
       "[30,]  0.51315060  2.132933947  0.44521426   -0.348119883 -0.28730580 \n",
       "[31,] ...         ...          ...           ...          ...         \n",
       "[32,]  0.80149982 -2.1614956   -0.0186632169  1.69028809  -0.668430023\n",
       "[33,]  2.47927165 -0.5909951   -0.1987536375  0.95101202   1.578215709\n",
       "[34,] -0.62168612 -1.7545917   -0.8022316696  1.45709505  -0.532064794\n",
       "[35,]  3.03334479  0.4355599    0.7516001247  0.48236258   0.345787535\n",
       "[36,]  0.77322302 -2.3803046    1.6587797195  0.09407693   1.145714198\n",
       "[37,]  1.02188732 -2.6141317   -0.3050559031  0.73390693   0.530765936\n",
       "[38,]  1.79727272  1.1852880    0.8932449777  0.02332043  -0.379340868\n",
       "[39,]  1.24395080 -1.0086024   -0.4627960305 -1.33709517   1.124382425\n",
       "[40,]  3.16805394  0.6152143    1.8704946702 -0.60974473   0.745282520\n",
       "[41,]  1.12568022  0.1759923   -0.0462311842 -0.70344048   0.957844889\n",
       "[42,]  2.21608850  0.5691835   -1.1657479355  1.59779485  -0.746790198\n",
       "[43,]  1.38756106  0.6202875    0.0006442131  0.21206040  -0.853732700\n",
       "[44,] -0.45533258 -2.1630781    0.4844005064  0.39016628  -2.330667252\n",
       "[45,]  0.69322014  1.1635867    0.2414874520 -1.29246062  -1.889766255\n",
       "[46,]  0.98405578 -2.4356455    1.4741309218 -0.29432167   0.347437747\n",
       "[47,]  2.81994075  0.2874830   -0.7058647543  1.65817343  -0.760797144\n",
       "[48,] -1.50168013 -1.7661065    0.2168460548 -0.47260290  -1.905752412\n",
       "[49,]  1.85285302 -2.9412093    0.8778989719  1.45134055   0.848095492\n",
       "[50,]  2.95846827  0.1490017   -0.0845160268 -0.31672547   0.545910948\n",
       "[51,] -0.04837635 -2.2680018   -1.3437877159 -0.23761128  -0.040394601\n",
       "[52,]  0.16445433 -1.8947196   -0.3302701227  2.12385310  -0.398777502\n",
       "[53,]  1.43343768  0.4784288    0.3028444131 -0.08864591   0.007009928\n",
       "[54,]  2.05325384  0.4609928    1.2402081488 -0.85512396   0.300422327\n",
       "[55,]  0.82555636  0.8127933   -0.9781218260 -1.79769152  -1.244853136\n",
       "[56,]  0.74747960 -1.4474213   -1.4997280989  0.51851650  -0.451238902\n",
       "[57,]  0.70528354 -2.4999570   -0.4298353311  0.58247181   0.618657843\n",
       "[58,]  2.03386440  1.3754911   -0.8228766554  0.03914315  -0.372119512\n",
       "[59,]  1.47779253  0.9734814    0.6359977867  0.88275264  -0.128019120\n",
       "[60,]  1.51087890 -0.3912040    0.0056957742  1.30532298   0.114242095\n",
       "[61,]  0.35258794 -1.7159462   -0.6083764196 -1.30248338  -1.277560643\n",
       "      PC6          PC7         PC8          PC9        \n",
       " [1,]  0.69847244   0.31724243  0.749946113  0.26931487\n",
       " [2,]  0.23139399   1.53866467 -0.221248851  0.43733860\n",
       " [3,] -0.59155989  -1.53667718 -0.666463769  0.15308243\n",
       " [4,]  0.05181628   0.90715532 -0.682789346 -0.12872540\n",
       " [5,]  0.61821384  -0.44930234 -0.193859853  0.68574843\n",
       " [6,]  1.02248204   0.55954201  1.044832897  0.16311401\n",
       " [7,]  0.35005749  -0.01865779 -0.142030013  0.03282592\n",
       " [8,] -0.41808111   0.28260598 -0.057248759  0.02032996\n",
       " [9,]  0.70402651  -0.87854379 -0.005330169  0.02630721\n",
       "[10,] -0.25861684  -0.63710782 -0.387422386  0.42352932\n",
       "[11,]  0.09095249   1.12137381  0.321181562  0.16902293\n",
       "[12,] -1.56360781  -0.63188412  0.491216301 -0.33802793\n",
       "[13,]  0.05572083   0.17646796  0.583107116 -0.43708620\n",
       "[14,]  1.49958067  -0.58909025  0.092239488 -0.15765276\n",
       "[15,] -0.73171706   1.01349797  0.039093084  0.58698765\n",
       "[16,] -0.95925820  -1.61973111  0.189108081  0.51217031\n",
       "[17,]  1.22099490  -0.70413412 -0.331318959 -0.44619144\n",
       "[18,] -0.84901602  -0.23157316 -0.407198120  0.08976747\n",
       "[19,]  0.53745580   0.16650431  0.006128004 -0.31124413\n",
       "[20,]  0.88490608  -1.43451794 -0.304864175 -0.27718620\n",
       "[21,] -1.49053260  -0.46320510  1.092641975  0.66479328\n",
       "[22,] -0.15480841  -0.55062706 -0.762910904 -0.25338968\n",
       "[23,]  0.44430566   0.51929316  0.186231707  0.17353896\n",
       "[24,]  0.12517666  -1.24629162 -0.498896652  0.68114076\n",
       "[25,]  0.35604892  -0.13148560  0.357062408  0.30306056\n",
       "[26,]  0.75616003  -0.63016628 -0.059180381 -0.45905428\n",
       "[27,]  0.55200231   0.72976726  0.796028391  0.30354064\n",
       "[28,]  0.58435643  -0.31153102 -0.526809116 -0.64453747\n",
       "[29,]  0.39889821  -0.32922421 -0.625787624  0.47498670\n",
       "[30,]  1.37760395   0.15219665  0.185422649  1.22655204\n",
       "[31,] ...          ...         ...          ...        \n",
       "[32,]  0.250190728  0.23431556 -0.435804557  0.54962451\n",
       "[33,] -0.562784096 -0.68633933  0.221411753 -0.49691338\n",
       "[34,]  0.284263228  0.37265457 -0.092723934 -0.03001758\n",
       "[35,] -0.548255211  0.01565621 -0.606243098  0.07118018\n",
       "[36,]  0.218948243 -0.15500845 -0.008398094 -0.52147133\n",
       "[37,]  0.419774993  0.18283148  0.008882722 -0.19615841\n",
       "[38,] -0.128448717 -0.51322525  0.699494683  0.28554007\n",
       "[39,] -1.165859321 -0.68742546  0.357852980 -0.81621743\n",
       "[40,] -0.490832366  0.31358269  0.039141975  0.02581646\n",
       "[41,]  0.421035435 -0.17356284 -1.095592634 -0.24002922\n",
       "[42,] -0.285499591 -0.13550204 -0.098241785 -0.01965430\n",
       "[43,]  0.708675776 -0.32415348 -0.524356930 -0.81205470\n",
       "[44,] -0.002037938 -0.41267259  0.713679414 -0.19525690\n",
       "[45,]  0.832157614  0.51526859  1.097088263 -0.73276080\n",
       "[46,]  0.286649384 -0.41039220  0.088472195 -0.29537943\n",
       "[47,] -0.318699288 -0.27446085 -0.069349692 -0.12052731\n",
       "[48,] -0.300657538  0.46363485  0.404196770 -0.45865329\n",
       "[49,]  0.372520584 -0.19064597  0.039729808  0.19686911\n",
       "[50,] -0.077764395 -0.03952552  1.002328839 -0.35470150\n",
       "[51,]  0.794881741 -0.45296794  0.656599254 -0.33082967\n",
       "[52,]  0.198153407  0.54097887 -0.527130692  0.32734125\n",
       "[53,] -0.664298896 -0.13951125  0.436117649 -0.39929915\n",
       "[54,] -0.734483775 -0.15848542  0.048207450 -0.05755379\n",
       "[55,] -0.706171210 -0.40435154 -0.517986758 -0.40409670\n",
       "[56,] -0.184891746 -0.40655743  0.119475698 -0.01238189\n",
       "[57,]  0.205199196  0.72716614 -0.244329059  0.63844899\n",
       "[58,] -0.013326637  0.40036885 -0.106571370 -0.07671409\n",
       "[59,]  0.654124109  0.66060638 -0.436670181 -0.79439559\n",
       "[60,]  0.056809844  0.81800780 -0.055572382 -0.14341135\n",
       "[61,]  0.333204445  0.39534069 -0.729730965  0.18615512"
      ]
     },
     "metadata": {},
     "output_type": "display_data"
    }
   ],
   "source": [
    "pca.datos$x # Puntuaciones factoriales"
   ]
  },
  {
   "cell_type": "code",
   "execution_count": 13,
   "metadata": {},
   "outputs": [
    {
     "name": "stdout",
     "output_type": "stream",
     "text": [
      "\n",
      "Bellow Packages Successfully Installed:\n",
      "\n",
      "ggfortify \n",
      "     TRUE \n"
     ]
    }
   ],
   "source": [
    "source(\"./ins_paquetes.R\")\n",
    "ins_paquetes('ggfortify')"
   ]
  },
  {
   "cell_type": "code",
   "execution_count": 14,
   "metadata": {},
   "outputs": [
    {
     "data": {
      "image/png": "[encoded data removed]",
      "text/plain": [
       "plot without title"
      ]
     },
     "metadata": {},
     "output_type": "display_data"
    },
    {
     "data": {
      "image/png": "[encoded data removed]",
      "text/plain": [
       "plot without title"
      ]
     },
     "metadata": {},
     "output_type": "display_data"
    }
   ],
   "source": [
    "library(ggfortify)\n",
    "autoplot(pca.datos)\n",
    "autoplot(pca.datos, data = datos, colour = 'comprar')"
   ]
  },
  {
   "cell_type": "code",
   "execution_count": 15,
   "metadata": {},
   "outputs": [],
   "source": [
    "library(readxl)"
   ]
  },
  {
   "cell_type": "code",
   "execution_count": 16,
   "metadata": {},
   "outputs": [],
   "source": [
    "my_data <- read_excel('./datasets/Cars.xls')"
   ]
  },
  {
   "cell_type": "code",
   "execution_count": 17,
   "metadata": {
    "scrolled": true
   },
   "outputs": [
    {
     "data": {
      "text/html": [
       "<table>\n",
       "<thead><tr><th scope=col>Country</th><th scope=col>Car</th><th scope=col>MPG</th><th scope=col>Weight</th><th scope=col>Drive_Ratio</th><th scope=col>Horsepower</th><th scope=col>Displacement</th><th scope=col>Cylinders</th></tr></thead>\n",
       "<tbody>\n",
       "\t<tr><td>U.S.                     </td><td>Buick Estate Wagon       </td><td>16.9                     </td><td>4.360                    </td><td>2.73                     </td><td>155                      </td><td>350                      </td><td>8                        </td></tr>\n",
       "\t<tr><td>U.S.                     </td><td>Ford Country Squire Wagon</td><td>15.5                     </td><td>4.054                    </td><td>2.26                     </td><td>142                      </td><td>351                      </td><td>8                        </td></tr>\n",
       "\t<tr><td>U.S.                     </td><td>Chevy Malibu Wagon       </td><td>19.2                     </td><td>3.605                    </td><td>2.56                     </td><td>125                      </td><td>267                      </td><td>8                        </td></tr>\n",
       "\t<tr><td>U.S.                     </td><td>Chrysler LeBaron Wagon   </td><td>18.5                     </td><td>3.940                    </td><td>2.45                     </td><td>150                      </td><td>360                      </td><td>8                        </td></tr>\n",
       "\t<tr><td>U.S.                     </td><td>Chevette                 </td><td>30.0                     </td><td>2.155                    </td><td>3.70                     </td><td> 68                      </td><td> 98                      </td><td>4                        </td></tr>\n",
       "\t<tr><td>Japan                    </td><td>Toyota Corona            </td><td>27.5                     </td><td>2.560                    </td><td>3.05                     </td><td> 95                      </td><td>134                      </td><td>4                        </td></tr>\n",
       "</tbody>\n",
       "</table>\n"
      ],
      "text/latex": [
       "\\begin{tabular}{r|llllllll}\n",
       " Country & Car & MPG & Weight & Drive\\_Ratio & Horsepower & Displacement & Cylinders\\\\\n",
       "\\hline\n",
       "\t U.S.                      & Buick Estate Wagon        & 16.9                      & 4.360                     & 2.73                      & 155                       & 350                       & 8                        \\\\\n",
       "\t U.S.                      & Ford Country Squire Wagon & 15.5                      & 4.054                     & 2.26                      & 142                       & 351                       & 8                        \\\\\n",
       "\t U.S.                      & Chevy Malibu Wagon        & 19.2                      & 3.605                     & 2.56                      & 125                       & 267                       & 8                        \\\\\n",
       "\t U.S.                      & Chrysler LeBaron Wagon    & 18.5                      & 3.940                     & 2.45                      & 150                       & 360                       & 8                        \\\\\n",
       "\t U.S.                      & Chevette                  & 30.0                      & 2.155                     & 3.70                      &  68                       &  98                       & 4                        \\\\\n",
       "\t Japan                     & Toyota Corona             & 27.5                      & 2.560                     & 3.05                      &  95                       & 134                       & 4                        \\\\\n",
       "\\end{tabular}\n"
      ],
      "text/markdown": [
       "\n",
       "| Country | Car | MPG | Weight | Drive_Ratio | Horsepower | Displacement | Cylinders |\n",
       "|---|---|---|---|---|---|---|---|\n",
       "| U.S.                      | Buick Estate Wagon        | 16.9                      | 4.360                     | 2.73                      | 155                       | 350                       | 8                         |\n",
       "| U.S.                      | Ford Country Squire Wagon | 15.5                      | 4.054                     | 2.26                      | 142                       | 351                       | 8                         |\n",
       "| U.S.                      | Chevy Malibu Wagon        | 19.2                      | 3.605                     | 2.56                      | 125                       | 267                       | 8                         |\n",
       "| U.S.                      | Chrysler LeBaron Wagon    | 18.5                      | 3.940                     | 2.45                      | 150                       | 360                       | 8                         |\n",
       "| U.S.                      | Chevette                  | 30.0                      | 2.155                     | 3.70                      |  68                       |  98                       | 4                         |\n",
       "| Japan                     | Toyota Corona             | 27.5                      | 2.560                     | 3.05                      |  95                       | 134                       | 4                         |\n",
       "\n"
      ],
      "text/plain": [
       "  Country Car                       MPG  Weight Drive_Ratio Horsepower\n",
       "1 U.S.    Buick Estate Wagon        16.9 4.360  2.73        155       \n",
       "2 U.S.    Ford Country Squire Wagon 15.5 4.054  2.26        142       \n",
       "3 U.S.    Chevy Malibu Wagon        19.2 3.605  2.56        125       \n",
       "4 U.S.    Chrysler LeBaron Wagon    18.5 3.940  2.45        150       \n",
       "5 U.S.    Chevette                  30.0 2.155  3.70         68       \n",
       "6 Japan   Toyota Corona             27.5 2.560  3.05         95       \n",
       "  Displacement Cylinders\n",
       "1 350          8        \n",
       "2 351          8        \n",
       "3 267          8        \n",
       "4 360          8        \n",
       "5  98          4        \n",
       "6 134          4        "
      ]
     },
     "metadata": {},
     "output_type": "display_data"
    }
   ],
   "source": [
    "head(my_data)"
   ]
  },
  {
   "cell_type": "markdown",
   "metadata": {},
   "source": [
    "Analisis de componenetes principales solo se trabaja con columnas numericas"
   ]
  },
  {
   "cell_type": "code",
   "execution_count": 18,
   "metadata": {},
   "outputs": [],
   "source": [
    "df <- my_data[c(3, 4,5,6,7,8)]"
   ]
  },
  {
   "cell_type": "code",
   "execution_count": 19,
   "metadata": {},
   "outputs": [
    {
     "data": {
      "text/html": [
       "<table>\n",
       "<thead><tr><th scope=col>MPG</th><th scope=col>Weight</th><th scope=col>Drive_Ratio</th><th scope=col>Horsepower</th><th scope=col>Displacement</th><th scope=col>Cylinders</th></tr></thead>\n",
       "<tbody>\n",
       "\t<tr><td>16.9 </td><td>4.360</td><td>2.73 </td><td>155  </td><td>350  </td><td>8    </td></tr>\n",
       "\t<tr><td>15.5 </td><td>4.054</td><td>2.26 </td><td>142  </td><td>351  </td><td>8    </td></tr>\n",
       "\t<tr><td>19.2 </td><td>3.605</td><td>2.56 </td><td>125  </td><td>267  </td><td>8    </td></tr>\n",
       "\t<tr><td>18.5 </td><td>3.940</td><td>2.45 </td><td>150  </td><td>360  </td><td>8    </td></tr>\n",
       "\t<tr><td>30.0 </td><td>2.155</td><td>3.70 </td><td> 68  </td><td> 98  </td><td>4    </td></tr>\n",
       "\t<tr><td>27.5 </td><td>2.560</td><td>3.05 </td><td> 95  </td><td>134  </td><td>4    </td></tr>\n",
       "\t<tr><td>27.2 </td><td>2.300</td><td>3.54 </td><td> 97  </td><td>119  </td><td>4    </td></tr>\n",
       "\t<tr><td>30.9 </td><td>2.230</td><td>3.37 </td><td> 75  </td><td>105  </td><td>4    </td></tr>\n",
       "\t<tr><td>20.3 </td><td>2.830</td><td>3.90 </td><td>103  </td><td>131  </td><td>5    </td></tr>\n",
       "\t<tr><td>17.0 </td><td>3.140</td><td>3.50 </td><td>125  </td><td>163  </td><td>6    </td></tr>\n",
       "\t<tr><td>21.6 </td><td>2.795</td><td>3.77 </td><td>115  </td><td>121  </td><td>4    </td></tr>\n",
       "\t<tr><td>16.2 </td><td>3.410</td><td>3.58 </td><td>133  </td><td>163  </td><td>6    </td></tr>\n",
       "\t<tr><td>20.6 </td><td>3.380</td><td>2.73 </td><td>105  </td><td>231  </td><td>6    </td></tr>\n",
       "\t<tr><td>20.8 </td><td>3.070</td><td>3.08 </td><td> 85  </td><td>200  </td><td>6    </td></tr>\n",
       "\t<tr><td>18.6 </td><td>3.620</td><td>2.71 </td><td>110  </td><td>225  </td><td>6    </td></tr>\n",
       "\t<tr><td>18.1 </td><td>3.410</td><td>2.73 </td><td>120  </td><td>258  </td><td>6    </td></tr>\n",
       "\t<tr><td>17.0 </td><td>3.840</td><td>2.41 </td><td>130  </td><td>305  </td><td>8    </td></tr>\n",
       "\t<tr><td>17.6 </td><td>3.725</td><td>2.26 </td><td>129  </td><td>302  </td><td>8    </td></tr>\n",
       "\t<tr><td>16.5 </td><td>3.955</td><td>2.26 </td><td>138  </td><td>351  </td><td>8    </td></tr>\n",
       "\t<tr><td>18.2 </td><td>3.830</td><td>2.45 </td><td>135  </td><td>318  </td><td>8    </td></tr>\n",
       "\t<tr><td>26.5 </td><td>2.585</td><td>3.08 </td><td> 88  </td><td>140  </td><td>4    </td></tr>\n",
       "\t<tr><td>21.9 </td><td>2.910</td><td>3.08 </td><td>109  </td><td>171  </td><td>6    </td></tr>\n",
       "\t<tr><td>34.1 </td><td>1.975</td><td>3.73 </td><td> 65  </td><td> 86  </td><td>4    </td></tr>\n",
       "\t<tr><td>35.1 </td><td>1.915</td><td>2.97 </td><td> 80  </td><td> 98  </td><td>4    </td></tr>\n",
       "\t<tr><td>27.4 </td><td>2.670</td><td>3.08 </td><td> 80  </td><td>121  </td><td>4    </td></tr>\n",
       "\t<tr><td>31.5 </td><td>1.990</td><td>3.78 </td><td> 71  </td><td> 89  </td><td>4    </td></tr>\n",
       "\t<tr><td>29.5 </td><td>2.135</td><td>3.05 </td><td> 68  </td><td> 98  </td><td>4    </td></tr>\n",
       "\t<tr><td>28.4 </td><td>2.670</td><td>2.53 </td><td> 90  </td><td>151  </td><td>4    </td></tr>\n",
       "\t<tr><td>28.8 </td><td>2.595</td><td>2.69 </td><td>115  </td><td>173  </td><td>6    </td></tr>\n",
       "\t<tr><td>26.8 </td><td>2.700</td><td>2.84 </td><td>115  </td><td>173  </td><td>6    </td></tr>\n",
       "\t<tr><td>33.5 </td><td>2.556</td><td>2.69 </td><td> 90  </td><td>151  </td><td>4    </td></tr>\n",
       "\t<tr><td>34.2 </td><td>2.200</td><td>3.37 </td><td> 70  </td><td>105  </td><td>4    </td></tr>\n",
       "\t<tr><td>31.8 </td><td>2.020</td><td>3.70 </td><td> 65  </td><td> 85  </td><td>4    </td></tr>\n",
       "\t<tr><td>37.3 </td><td>2.130</td><td>3.10 </td><td> 69  </td><td> 91  </td><td>4    </td></tr>\n",
       "\t<tr><td>30.5 </td><td>2.190</td><td>3.70 </td><td> 78  </td><td> 97  </td><td>4    </td></tr>\n",
       "\t<tr><td>22.0 </td><td>2.815</td><td>3.70 </td><td> 97  </td><td>146  </td><td>6    </td></tr>\n",
       "\t<tr><td>21.5 </td><td>2.600</td><td>3.64 </td><td>110  </td><td>121  </td><td>4    </td></tr>\n",
       "\t<tr><td>31.9 </td><td>1.925</td><td>3.78 </td><td> 71  </td><td> 89  </td><td>4    </td></tr>\n",
       "</tbody>\n",
       "</table>\n"
      ],
      "text/latex": [
       "\\begin{tabular}{r|llllll}\n",
       " MPG & Weight & Drive\\_Ratio & Horsepower & Displacement & Cylinders\\\\\n",
       "\\hline\n",
       "\t 16.9  & 4.360 & 2.73  & 155   & 350   & 8    \\\\\n",
       "\t 15.5  & 4.054 & 2.26  & 142   & 351   & 8    \\\\\n",
       "\t 19.2  & 3.605 & 2.56  & 125   & 267   & 8    \\\\\n",
       "\t 18.5  & 3.940 & 2.45  & 150   & 360   & 8    \\\\\n",
       "\t 30.0  & 2.155 & 3.70  &  68   &  98   & 4    \\\\\n",
       "\t 27.5  & 2.560 & 3.05  &  95   & 134   & 4    \\\\\n",
       "\t 27.2  & 2.300 & 3.54  &  97   & 119   & 4    \\\\\n",
       "\t 30.9  & 2.230 & 3.37  &  75   & 105   & 4    \\\\\n",
       "\t 20.3  & 2.830 & 3.90  & 103   & 131   & 5    \\\\\n",
       "\t 17.0  & 3.140 & 3.50  & 125   & 163   & 6    \\\\\n",
       "\t 21.6  & 2.795 & 3.77  & 115   & 121   & 4    \\\\\n",
       "\t 16.2  & 3.410 & 3.58  & 133   & 163   & 6    \\\\\n",
       "\t 20.6  & 3.380 & 2.73  & 105   & 231   & 6    \\\\\n",
       "\t 20.8  & 3.070 & 3.08  &  85   & 200   & 6    \\\\\n",
       "\t 18.6  & 3.620 & 2.71  & 110   & 225   & 6    \\\\\n",
       "\t 18.1  & 3.410 & 2.73  & 120   & 258   & 6    \\\\\n",
       "\t 17.0  & 3.840 & 2.41  & 130   & 305   & 8    \\\\\n",
       "\t 17.6  & 3.725 & 2.26  & 129   & 302   & 8    \\\\\n",
       "\t 16.5  & 3.955 & 2.26  & 138   & 351   & 8    \\\\\n",
       "\t 18.2  & 3.830 & 2.45  & 135   & 318   & 8    \\\\\n",
       "\t 26.5  & 2.585 & 3.08  &  88   & 140   & 4    \\\\\n",
       "\t 21.9  & 2.910 & 3.08  & 109   & 171   & 6    \\\\\n",
       "\t 34.1  & 1.975 & 3.73  &  65   &  86   & 4    \\\\\n",
       "\t 35.1  & 1.915 & 2.97  &  80   &  98   & 4    \\\\\n",
       "\t 27.4  & 2.670 & 3.08  &  80   & 121   & 4    \\\\\n",
       "\t 31.5  & 1.990 & 3.78  &  71   &  89   & 4    \\\\\n",
       "\t 29.5  & 2.135 & 3.05  &  68   &  98   & 4    \\\\\n",
       "\t 28.4  & 2.670 & 2.53  &  90   & 151   & 4    \\\\\n",
       "\t 28.8  & 2.595 & 2.69  & 115   & 173   & 6    \\\\\n",
       "\t 26.8  & 2.700 & 2.84  & 115   & 173   & 6    \\\\\n",
       "\t 33.5  & 2.556 & 2.69  &  90   & 151   & 4    \\\\\n",
       "\t 34.2  & 2.200 & 3.37  &  70   & 105   & 4    \\\\\n",
       "\t 31.8  & 2.020 & 3.70  &  65   &  85   & 4    \\\\\n",
       "\t 37.3  & 2.130 & 3.10  &  69   &  91   & 4    \\\\\n",
       "\t 30.5  & 2.190 & 3.70  &  78   &  97   & 4    \\\\\n",
       "\t 22.0  & 2.815 & 3.70  &  97   & 146   & 6    \\\\\n",
       "\t 21.5  & 2.600 & 3.64  & 110   & 121   & 4    \\\\\n",
       "\t 31.9  & 1.925 & 3.78  &  71   &  89   & 4    \\\\\n",
       "\\end{tabular}\n"
      ],
      "text/markdown": [
       "\n",
       "| MPG | Weight | Drive_Ratio | Horsepower | Displacement | Cylinders |\n",
       "|---|---|---|---|---|---|\n",
       "| 16.9  | 4.360 | 2.73  | 155   | 350   | 8     |\n",
       "| 15.5  | 4.054 | 2.26  | 142   | 351   | 8     |\n",
       "| 19.2  | 3.605 | 2.56  | 125   | 267   | 8     |\n",
       "| 18.5  | 3.940 | 2.45  | 150   | 360   | 8     |\n",
       "| 30.0  | 2.155 | 3.70  |  68   |  98   | 4     |\n",
       "| 27.5  | 2.560 | 3.05  |  95   | 134   | 4     |\n",
       "| 27.2  | 2.300 | 3.54  |  97   | 119   | 4     |\n",
       "| 30.9  | 2.230 | 3.37  |  75   | 105   | 4     |\n",
       "| 20.3  | 2.830 | 3.90  | 103   | 131   | 5     |\n",
       "| 17.0  | 3.140 | 3.50  | 125   | 163   | 6     |\n",
       "| 21.6  | 2.795 | 3.77  | 115   | 121   | 4     |\n",
       "| 16.2  | 3.410 | 3.58  | 133   | 163   | 6     |\n",
       "| 20.6  | 3.380 | 2.73  | 105   | 231   | 6     |\n",
       "| 20.8  | 3.070 | 3.08  |  85   | 200   | 6     |\n",
       "| 18.6  | 3.620 | 2.71  | 110   | 225   | 6     |\n",
       "| 18.1  | 3.410 | 2.73  | 120   | 258   | 6     |\n",
       "| 17.0  | 3.840 | 2.41  | 130   | 305   | 8     |\n",
       "| 17.6  | 3.725 | 2.26  | 129   | 302   | 8     |\n",
       "| 16.5  | 3.955 | 2.26  | 138   | 351   | 8     |\n",
       "| 18.2  | 3.830 | 2.45  | 135   | 318   | 8     |\n",
       "| 26.5  | 2.585 | 3.08  |  88   | 140   | 4     |\n",
       "| 21.9  | 2.910 | 3.08  | 109   | 171   | 6     |\n",
       "| 34.1  | 1.975 | 3.73  |  65   |  86   | 4     |\n",
       "| 35.1  | 1.915 | 2.97  |  80   |  98   | 4     |\n",
       "| 27.4  | 2.670 | 3.08  |  80   | 121   | 4     |\n",
       "| 31.5  | 1.990 | 3.78  |  71   |  89   | 4     |\n",
       "| 29.5  | 2.135 | 3.05  |  68   |  98   | 4     |\n",
       "| 28.4  | 2.670 | 2.53  |  90   | 151   | 4     |\n",
       "| 28.8  | 2.595 | 2.69  | 115   | 173   | 6     |\n",
       "| 26.8  | 2.700 | 2.84  | 115   | 173   | 6     |\n",
       "| 33.5  | 2.556 | 2.69  |  90   | 151   | 4     |\n",
       "| 34.2  | 2.200 | 3.37  |  70   | 105   | 4     |\n",
       "| 31.8  | 2.020 | 3.70  |  65   |  85   | 4     |\n",
       "| 37.3  | 2.130 | 3.10  |  69   |  91   | 4     |\n",
       "| 30.5  | 2.190 | 3.70  |  78   |  97   | 4     |\n",
       "| 22.0  | 2.815 | 3.70  |  97   | 146   | 6     |\n",
       "| 21.5  | 2.600 | 3.64  | 110   | 121   | 4     |\n",
       "| 31.9  | 1.925 | 3.78  |  71   |  89   | 4     |\n",
       "\n"
      ],
      "text/plain": [
       "   MPG  Weight Drive_Ratio Horsepower Displacement Cylinders\n",
       "1  16.9 4.360  2.73        155        350          8        \n",
       "2  15.5 4.054  2.26        142        351          8        \n",
       "3  19.2 3.605  2.56        125        267          8        \n",
       "4  18.5 3.940  2.45        150        360          8        \n",
       "5  30.0 2.155  3.70         68         98          4        \n",
       "6  27.5 2.560  3.05         95        134          4        \n",
       "7  27.2 2.300  3.54         97        119          4        \n",
       "8  30.9 2.230  3.37         75        105          4        \n",
       "9  20.3 2.830  3.90        103        131          5        \n",
       "10 17.0 3.140  3.50        125        163          6        \n",
       "11 21.6 2.795  3.77        115        121          4        \n",
       "12 16.2 3.410  3.58        133        163          6        \n",
       "13 20.6 3.380  2.73        105        231          6        \n",
       "14 20.8 3.070  3.08         85        200          6        \n",
       "15 18.6 3.620  2.71        110        225          6        \n",
       "16 18.1 3.410  2.73        120        258          6        \n",
       "17 17.0 3.840  2.41        130        305          8        \n",
       "18 17.6 3.725  2.26        129        302          8        \n",
       "19 16.5 3.955  2.26        138        351          8        \n",
       "20 18.2 3.830  2.45        135        318          8        \n",
       "21 26.5 2.585  3.08         88        140          4        \n",
       "22 21.9 2.910  3.08        109        171          6        \n",
       "23 34.1 1.975  3.73         65         86          4        \n",
       "24 35.1 1.915  2.97         80         98          4        \n",
       "25 27.4 2.670  3.08         80        121          4        \n",
       "26 31.5 1.990  3.78         71         89          4        \n",
       "27 29.5 2.135  3.05         68         98          4        \n",
       "28 28.4 2.670  2.53         90        151          4        \n",
       "29 28.8 2.595  2.69        115        173          6        \n",
       "30 26.8 2.700  2.84        115        173          6        \n",
       "31 33.5 2.556  2.69         90        151          4        \n",
       "32 34.2 2.200  3.37         70        105          4        \n",
       "33 31.8 2.020  3.70         65         85          4        \n",
       "34 37.3 2.130  3.10         69         91          4        \n",
       "35 30.5 2.190  3.70         78         97          4        \n",
       "36 22.0 2.815  3.70         97        146          6        \n",
       "37 21.5 2.600  3.64        110        121          4        \n",
       "38 31.9 1.925  3.78         71         89          4        "
      ]
     },
     "metadata": {},
     "output_type": "display_data"
    }
   ],
   "source": [
    "df"
   ]
  },
  {
   "cell_type": "code",
   "execution_count": 20,
   "metadata": {},
   "outputs": [
    {
     "data": {
      "text/plain": [
       "Importance of components:\n",
       "                         PC1    PC2     PC3     PC4     PC5     PC6\n",
       "Standard deviation     2.245 0.8057 0.36487 0.33196 0.22126 0.13622\n",
       "Proportion of Variance 0.840 0.1082 0.02219 0.01837 0.00816 0.00309\n",
       "Cumulative Proportion  0.840 0.9482 0.97038 0.98875 0.99691 1.00000"
      ]
     },
     "metadata": {},
     "output_type": "display_data"
    }
   ],
   "source": [
    "pca.df <- prcomp(df,scale=TRUE) \n",
    "summary(pca.df)"
   ]
  },
  {
   "cell_type": "code",
   "execution_count": 21,
   "metadata": {},
   "outputs": [
    {
     "data": {
      "image/png": "[encoded data removed]",
      "text/plain": [
       "Plot with title \"pca.df\""
      ]
     },
     "metadata": {},
     "output_type": "display_data"
    }
   ],
   "source": [
    "# Grafico de la varianza explicada\n",
    "plot(pca.df)"
   ]
  },
  {
   "cell_type": "code",
   "execution_count": 22,
   "metadata": {},
   "outputs": [
    {
     "data": {
      "image/png": "[encoded data removed]",
      "text/plain": [
       "plot without title"
      ]
     },
     "metadata": {},
     "output_type": "display_data"
    }
   ],
   "source": [
    "autoplot(pca.df, data = my_data, colour = 'Country', label = TRUE, label.size = 6)"
   ]
  },
  {
   "cell_type": "code",
   "execution_count": 23,
   "metadata": {},
   "outputs": [
    {
     "data": {
      "image/png": "[encoded data removed]",
      "text/plain": [
       "plot without title"
      ]
     },
     "metadata": {},
     "output_type": "display_data"
    }
   ],
   "source": [
    "autoplot(prcomp(df), data = my_data, colour = 'Country', loadings = TRUE)"
   ]
  },
  {
   "cell_type": "code",
   "execution_count": 24,
   "metadata": {},
   "outputs": [
    {
     "data": {
      "image/png": "[encoded data removed]",
      "text/plain": [
       "plot without title"
      ]
     },
     "metadata": {},
     "output_type": "display_data"
    }
   ],
   "source": [
    "autoplot(prcomp(df), data = my_data, colour = 'Country',\n",
    "         loadings = TRUE, loadings.colour = 'blue',\n",
    "         loadings.label = TRUE, loadings.label.size = 3)"
   ]
  },
  {
   "cell_type": "code",
   "execution_count": 25,
   "metadata": {},
   "outputs": [
    {
     "data": {
      "image/png": "[encoded data removed]",
      "text/plain": [
       "plot without title"
      ]
     },
     "metadata": {},
     "output_type": "display_data"
    }
   ],
   "source": [
    "autoplot(pca.df, data = my_data, colour = 'Country',\n",
    "         loadings = TRUE, loadings.colour = 'blue',\n",
    "         loadings.label = TRUE, loadings.label.size = 3)"
   ]
  }
 ],
 "metadata": {
  "kernelspec": {
   "display_name": "R",
   "language": "R",
   "name": "ir"
  },
  "language_info": {
   "codemirror_mode": "r",
   "file_extension": ".r",
   "mimetype": "text/x-r-source",
   "name": "R",
   "pygments_lexer": "r",
   "version": "3.6.1"
  }
 },
 "nbformat": 4,
 "nbformat_minor": 4
}
