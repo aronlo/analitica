{
 "cells": [
  {
   "cell_type": "code",
   "execution_count": 1,
   "metadata": {},
   "outputs": [],
   "source": [
    "rm(list=ls())\n",
    "\n",
    "#########################################################################\n",
    "### -- ANAL?TICA PREDICTIVA DE DATOS -- ## \n",
    "#########################################################################\n",
    "\n",
    "#########################################################################\n",
    "\n",
    "#########################################################################\n",
    "\n",
    "########### 1) LIBRERIAS A UTILIZAR ################# \n",
    "\n",
    "# Comandos necesarios para el ACP o PCA\n",
    "\n",
    "# La funcion de R que nos permite realizar el PCA se llama princomp:\n",
    "\n",
    "# princomp(dataset)\n",
    "\n",
    "# Es importante que el conjunto de datos solo contenga variables \n",
    "# numericas, puesto que para el calculo de \n",
    "# las componentes necesitamos estimar una matriz de correlacion \n",
    "# o de covarianzas. \n",
    "# Si hubiera variables NO numericas en el conjunto de datos, \n",
    "# debemos excluirlas con el comando [ , ].\n",
    "# La funcion princomp nos mostrara las varianzas de cada una de \n",
    "# las componentes. Sin embargo, \n",
    "# existen mas resultados que involucran al PCA y no son \n",
    "# visualizados por defecto, entre ellos las \n",
    "# cargas y los factores. Para organizar correctamente el \n",
    "# output de este analisis podemos guadar todas \n",
    "# los elementos del output en un objeto como se muestra a\n",
    "# continuacion:\n",
    "        \n",
    "# Mi.modelo.PCA <- princomp(dataset)\n",
    "\n",
    "# Una vez guardado los resultados en un objeto, poderemos \n",
    "# recuperar todos los outputs de manera \n",
    "# conveniente. Por ejemplo, puedes utilizar la funcion \n",
    "# summary() para visualizar las varianzas de \n",
    "# cada componente, las cargas y los factores:\n",
    "\n",
    "# summary(Mi.modelo.PCA)\n",
    "\n",
    "# Para visualizar solo las cargas: > Mi.modelo.PCA$loadings\n",
    "# Para visualizar los scores: > Mi.modelo.PCA$scores"
   ]
  },
  {
   "cell_type": "code",
   "execution_count": 2,
   "metadata": {},
   "outputs": [
    {
     "data": {
      "text/html": [
       "<table>\n",
       "<thead><tr><th scope=col>Country</th><th scope=col>Area</th><th scope=col>GDP</th><th scope=col>Inflation</th><th scope=col>Life.expect</th><th scope=col>Military</th><th scope=col>Pop.growth</th><th scope=col>Unemployment</th></tr></thead>\n",
       "<tbody>\n",
       "\t<tr><td>Austria </td><td> 83871  </td><td>41600   </td><td>3.5     </td><td>79.91   </td><td>0.8     </td><td> 0.03   </td><td>4.2     </td></tr>\n",
       "\t<tr><td>Belgium </td><td> 30528  </td><td>37800   </td><td>3.5     </td><td>79.65   </td><td>1.3     </td><td> 0.06   </td><td>7.2     </td></tr>\n",
       "\t<tr><td>Bulgaria</td><td>110879  </td><td>13800   </td><td>4.2     </td><td>73.84   </td><td>2.6     </td><td>-0.80   </td><td>9.6     </td></tr>\n",
       "</tbody>\n",
       "</table>\n"
      ],
      "text/latex": [
       "\\begin{tabular}{r|llllllll}\n",
       " Country & Area & GDP & Inflation & Life.expect & Military & Pop.growth & Unemployment\\\\\n",
       "\\hline\n",
       "\t Austria  &  83871   & 41600    & 3.5      & 79.91    & 0.8      &  0.03    & 4.2     \\\\\n",
       "\t Belgium  &  30528   & 37800    & 3.5      & 79.65    & 1.3      &  0.06    & 7.2     \\\\\n",
       "\t Bulgaria & 110879   & 13800    & 4.2      & 73.84    & 2.6      & -0.80    & 9.6     \\\\\n",
       "\\end{tabular}\n"
      ],
      "text/markdown": [
       "\n",
       "| Country | Area | GDP | Inflation | Life.expect | Military | Pop.growth | Unemployment |\n",
       "|---|---|---|---|---|---|---|---|\n",
       "| Austria  |  83871   | 41600    | 3.5      | 79.91    | 0.8      |  0.03    | 4.2      |\n",
       "| Belgium  |  30528   | 37800    | 3.5      | 79.65    | 1.3      |  0.06    | 7.2      |\n",
       "| Bulgaria | 110879   | 13800    | 4.2      | 73.84    | 2.6      | -0.80    | 9.6      |\n",
       "\n"
      ],
      "text/plain": [
       "  Country  Area   GDP   Inflation Life.expect Military Pop.growth Unemployment\n",
       "1 Austria   83871 41600 3.5       79.91       0.8       0.03      4.2         \n",
       "2 Belgium   30528 37800 3.5       79.65       1.3       0.06      7.2         \n",
       "3 Bulgaria 110879 13800 4.2       73.84       2.6      -0.80      9.6         "
      ]
     },
     "metadata": {},
     "output_type": "display_data"
    }
   ],
   "source": [
    "# Ejemplo I: PCA datos Economicos de Europa\n",
    "Europa <- read.csv(\"http://www.instantr.com/wp-content/uploads/2013/01/europe.csv\", header=TRUE)\n",
    "head(Europa, 3)"
   ]
  },
  {
   "cell_type": "code",
   "execution_count": 3,
   "metadata": {},
   "outputs": [
    {
     "data": {
      "text/html": [
       "<table>\n",
       "<thead><tr><th scope=col>Area</th><th scope=col>GDP</th><th scope=col>Inflation</th><th scope=col>Life.expect</th><th scope=col>Military</th></tr></thead>\n",
       "<tbody>\n",
       "\t<tr><td> 83871</td><td>41600 </td><td>3.5   </td><td>79.91 </td><td>0.8   </td></tr>\n",
       "\t<tr><td> 30528</td><td>37800 </td><td>3.5   </td><td>79.65 </td><td>1.3   </td></tr>\n",
       "\t<tr><td>110879</td><td>13800 </td><td>4.2   </td><td>73.84 </td><td>2.6   </td></tr>\n",
       "</tbody>\n",
       "</table>\n"
      ],
      "text/latex": [
       "\\begin{tabular}{r|lllll}\n",
       " Area & GDP & Inflation & Life.expect & Military\\\\\n",
       "\\hline\n",
       "\t  83871 & 41600  & 3.5    & 79.91  & 0.8   \\\\\n",
       "\t  30528 & 37800  & 3.5    & 79.65  & 1.3   \\\\\n",
       "\t 110879 & 13800  & 4.2    & 73.84  & 2.6   \\\\\n",
       "\\end{tabular}\n"
      ],
      "text/markdown": [
       "\n",
       "| Area | GDP | Inflation | Life.expect | Military |\n",
       "|---|---|---|---|---|\n",
       "|  83871 | 41600  | 3.5    | 79.91  | 0.8    |\n",
       "|  30528 | 37800  | 3.5    | 79.65  | 1.3    |\n",
       "| 110879 | 13800  | 4.2    | 73.84  | 2.6    |\n",
       "\n"
      ],
      "text/plain": [
       "  Area   GDP   Inflation Life.expect Military\n",
       "1  83871 41600 3.5       79.91       0.8     \n",
       "2  30528 37800 3.5       79.65       1.3     \n",
       "3 110879 13800 4.2       73.84       2.6     "
      ]
     },
     "metadata": {},
     "output_type": "display_data"
    }
   ],
   "source": [
    "# Como podemos ver, este conjunto de datos tiene 1 variable \n",
    "# categorica (Country) y las restantes numericas. \n",
    "# Por ello deberiamos quitar la primera columna para poder \n",
    "# llevar adelante el analisis:\n",
    "\n",
    "Europa2 <- Europa[,c(2,3,4,5,6)]\n",
    "head(Europa2, 3)"
   ]
  },
  {
   "cell_type": "code",
   "execution_count": 4,
   "metadata": {},
   "outputs": [],
   "source": [
    "# A continuacion utilizamos la funcion prcomp() para obtener \n",
    "# las componentes principales:       \n",
    "pca.Europa2 <- prcomp(Europa[,2:8],scale=FALSE) \n",
    "# Scale = False -> utilizamos la matriz de COVARIANZA para obtener las componentes! Veamos que ocurre:"
   ]
  },
  {
   "cell_type": "code",
   "execution_count": 5,
   "metadata": {},
   "outputs": [
    {
     "data": {
      "text/plain": [
       "Importance of components:\n",
       "                             PC1       PC2   PC3   PC4    PC5    PC6    PC7\n",
       "Standard deviation     1.656e+05 1.436e+04 4.017 2.317 0.8816 0.7474 0.2411\n",
       "Proportion of Variance 9.925e-01 7.470e-03 0.000 0.000 0.0000 0.0000 0.0000\n",
       "Cumulative Proportion  9.925e-01 1.000e+00 1.000 1.000 1.0000 1.0000 1.0000"
      ]
     },
     "metadata": {},
     "output_type": "display_data"
    }
   ],
   "source": [
    "# Resumen\n",
    "summary(pca.Europa2)"
   ]
  },
  {
   "cell_type": "code",
   "execution_count": 6,
   "metadata": {},
   "outputs": [
    {
     "data": {
      "image/png": "[encoded data removed]",
      "text/plain": [
       "Plot with title \"pca.Europa2\""
      ]
     },
     "metadata": {},
     "output_type": "display_data"
    }
   ],
   "source": [
    "# Grafico de la varianza explicada\n",
    "plot(pca.Europa2)"
   ]
  },
  {
   "cell_type": "code",
   "execution_count": 7,
   "metadata": {},
   "outputs": [
    {
     "data": {
      "text/plain": [
       "Importance of components:\n",
       "                          PC1    PC2    PC3     PC4     PC5\n",
       "Standard deviation     1.5338 1.0241 0.9967 0.64490 0.43508\n",
       "Proportion of Variance 0.4705 0.2098 0.1987 0.08318 0.03786\n",
       "Cumulative Proportion  0.4705 0.6803 0.8790 0.96214 1.00000"
      ]
     },
     "metadata": {},
     "output_type": "display_data"
    }
   ],
   "source": [
    "# La primera componente captura casi toda la variabilidad de \n",
    "# los datos! Esto quiere decir que podriamos \n",
    "# reducir las 7 variables originales a una sola variable \n",
    "# (componente principal) manteniendo (practicamente) \n",
    "# constante la cantidad de informacion disponible con \n",
    "# respecto al conjunto de datos originales.\n",
    "\n",
    "# ?PORQUE OCURRE ESTO?\n",
    "# Por ello, en vez de utilizar la matriz de covarianzas \n",
    "# para hacer PCA, se utiliza la matriz de \n",
    "# correlacion:\n",
    "\n",
    "pca.Europa2 <- prcomp(Europa2,scale=T) \n",
    "# Scale = True -> utilizamos la matriz de CORRELACIoN para obtener las componentes! \n",
    "#Veamos que ocurre:\n",
    "summary(pca.Europa2)"
   ]
  },
  {
   "cell_type": "code",
   "execution_count": 8,
   "metadata": {},
   "outputs": [
    {
     "data": {
      "image/png": "[encoded data removed]",
      "text/plain": [
       "Plot with title \"pca.Europa2\""
      ]
     },
     "metadata": {},
     "output_type": "display_data"
    }
   ],
   "source": [
    "plot(pca.Europa2)"
   ]
  },
  {
   "cell_type": "code",
   "execution_count": 9,
   "metadata": {},
   "outputs": [
    {
     "data": {
      "text/html": [
       "<ol class=list-inline>\n",
       "\t<li>1.53381808845046</li>\n",
       "\t<li>1.02412998361946</li>\n",
       "\t<li>0.996679920210378</li>\n",
       "\t<li>0.644895883411721</li>\n",
       "\t<li>0.435084226790431</li>\n",
       "</ol>\n"
      ],
      "text/latex": [
       "\\begin{enumerate*}\n",
       "\\item 1.53381808845046\n",
       "\\item 1.02412998361946\n",
       "\\item 0.996679920210378\n",
       "\\item 0.644895883411721\n",
       "\\item 0.435084226790431\n",
       "\\end{enumerate*}\n"
      ],
      "text/markdown": [
       "1. 1.53381808845046\n",
       "2. 1.02412998361946\n",
       "3. 0.996679920210378\n",
       "4. 0.644895883411721\n",
       "5. 0.435084226790431\n",
       "\n",
       "\n"
      ],
      "text/plain": [
       "[1] 1.5338181 1.0241300 0.9966799 0.6448959 0.4350842"
      ]
     },
     "metadata": {},
     "output_type": "display_data"
    },
    {
     "data": {
      "text/html": [
       "<table>\n",
       "<thead><tr><th></th><th scope=col>PC1</th><th scope=col>PC2</th><th scope=col>PC3</th><th scope=col>PC4</th><th scope=col>PC5</th></tr></thead>\n",
       "<tbody>\n",
       "\t<tr><th scope=row>Area</th><td> 0.2075747 </td><td> 0.63474232</td><td>-0.66651136</td><td> 0.24842044</td><td>-0.21923696</td></tr>\n",
       "\t<tr><th scope=row>GDP</th><td>-0.5521591 </td><td> 0.01761569</td><td>-0.25547191</td><td>-0.65901870</td><td>-0.44185797</td></tr>\n",
       "\t<tr><th scope=row>Inflation</th><td> 0.5430932 </td><td>-0.09061045</td><td>-0.30155296</td><td>-0.63878875</td><td> 0.44480815</td></tr>\n",
       "\t<tr><th scope=row>Life.expect</th><td>-0.5705019 </td><td> 0.34170664</td><td>-0.08720548</td><td> 0.02388032</td><td> 0.74134275</td></tr>\n",
       "\t<tr><th scope=row>Military</th><td> 0.1777933 </td><td> 0.68689024</td><td> 0.62606528</td><td>-0.30880464</td><td>-0.09619422</td></tr>\n",
       "</tbody>\n",
       "</table>\n"
      ],
      "text/latex": [
       "\\begin{tabular}{r|lllll}\n",
       "  & PC1 & PC2 & PC3 & PC4 & PC5\\\\\n",
       "\\hline\n",
       "\tArea &  0.2075747  &  0.63474232 & -0.66651136 &  0.24842044 & -0.21923696\\\\\n",
       "\tGDP & -0.5521591  &  0.01761569 & -0.25547191 & -0.65901870 & -0.44185797\\\\\n",
       "\tInflation &  0.5430932  & -0.09061045 & -0.30155296 & -0.63878875 &  0.44480815\\\\\n",
       "\tLife.expect & -0.5705019  &  0.34170664 & -0.08720548 &  0.02388032 &  0.74134275\\\\\n",
       "\tMilitary &  0.1777933  &  0.68689024 &  0.62606528 & -0.30880464 & -0.09619422\\\\\n",
       "\\end{tabular}\n"
      ],
      "text/markdown": [
       "\n",
       "| <!--/--> | PC1 | PC2 | PC3 | PC4 | PC5 |\n",
       "|---|---|---|---|---|---|\n",
       "| Area |  0.2075747  |  0.63474232 | -0.66651136 |  0.24842044 | -0.21923696 |\n",
       "| GDP | -0.5521591  |  0.01761569 | -0.25547191 | -0.65901870 | -0.44185797 |\n",
       "| Inflation |  0.5430932  | -0.09061045 | -0.30155296 | -0.63878875 |  0.44480815 |\n",
       "| Life.expect | -0.5705019  |  0.34170664 | -0.08720548 |  0.02388032 |  0.74134275 |\n",
       "| Military |  0.1777933  |  0.68689024 |  0.62606528 | -0.30880464 | -0.09619422 |\n",
       "\n"
      ],
      "text/plain": [
       "            PC1        PC2         PC3         PC4         PC5        \n",
       "Area         0.2075747  0.63474232 -0.66651136  0.24842044 -0.21923696\n",
       "GDP         -0.5521591  0.01761569 -0.25547191 -0.65901870 -0.44185797\n",
       "Inflation    0.5430932 -0.09061045 -0.30155296 -0.63878875  0.44480815\n",
       "Life.expect -0.5705019  0.34170664 -0.08720548  0.02388032  0.74134275\n",
       "Military     0.1777933  0.68689024  0.62606528 -0.30880464 -0.09619422"
      ]
     },
     "metadata": {},
     "output_type": "display_data"
    }
   ],
   "source": [
    "# Al homogeneizar la escala en la que hemos medido las variables, \n",
    "# la distribucion de la variabilidad entre las com ponentes \n",
    "# parece mas racional. Podemos ver mas elementos \n",
    "# del output del PCA:\n",
    "\n",
    "pca.Europa2$sdev # Criterio de Kasiser\n",
    "pca.Europa2$rotation # cargas de cada componente."
   ]
  },
  {
   "cell_type": "code",
   "execution_count": 10,
   "metadata": {},
   "outputs": [
    {
     "data": {
      "text/html": [
       "<table>\n",
       "<thead><tr><th scope=col>PC1</th><th scope=col>PC2</th><th scope=col>PC3</th><th scope=col>PC4</th><th scope=col>PC5</th></tr></thead>\n",
       "<tbody>\n",
       "\t<tr><td>-0.9118989 </td><td>-0.8143000 </td><td>-0.5517104 </td><td>-0.31424714</td><td> 0.3748562 </td></tr>\n",
       "\t<tr><td>-0.6766607 </td><td>-0.6227307 </td><td> 0.1277470 </td><td>-0.41623879</td><td> 0.4408244 </td></tr>\n",
       "\t<tr><td> 1.9375299 </td><td> 0.1026456 </td><td> 1.2505627 </td><td>-0.06928488</td><td>-0.2182951 </td></tr>\n",
       "</tbody>\n",
       "</table>\n"
      ],
      "text/latex": [
       "\\begin{tabular}{lllll}\n",
       " PC1 & PC2 & PC3 & PC4 & PC5\\\\\n",
       "\\hline\n",
       "\t -0.9118989  & -0.8143000  & -0.5517104  & -0.31424714 &  0.3748562 \\\\\n",
       "\t -0.6766607  & -0.6227307  &  0.1277470  & -0.41623879 &  0.4408244 \\\\\n",
       "\t  1.9375299  &  0.1026456  &  1.2505627  & -0.06928488 & -0.2182951 \\\\\n",
       "\\end{tabular}\n"
      ],
      "text/markdown": [
       "\n",
       "| PC1 | PC2 | PC3 | PC4 | PC5 |\n",
       "|---|---|---|---|---|\n",
       "| -0.9118989  | -0.8143000  | -0.5517104  | -0.31424714 |  0.3748562  |\n",
       "| -0.6766607  | -0.6227307  |  0.1277470  | -0.41623879 |  0.4408244  |\n",
       "|  1.9375299  |  0.1026456  |  1.2505627  | -0.06928488 | -0.2182951  |\n",
       "\n"
      ],
      "text/plain": [
       "     PC1        PC2        PC3        PC4         PC5       \n",
       "[1,] -0.9118989 -0.8143000 -0.5517104 -0.31424714  0.3748562\n",
       "[2,] -0.6766607 -0.6227307  0.1277470 -0.41623879  0.4408244\n",
       "[3,]  1.9375299  0.1026456  1.2505627 -0.06928488 -0.2182951"
      ]
     },
     "metadata": {},
     "output_type": "display_data"
    }
   ],
   "source": [
    "head(pca.Europa2$x, 3) # Matriz de datos (solo primeras 3 filas) con las componentes "
   ]
  },
  {
   "cell_type": "code",
   "execution_count": 11,
   "metadata": {},
   "outputs": [
    {
     "data": {
      "text/html": [
       "<ol class=list-inline>\n",
       "\t<li>1.53381808845046</li>\n",
       "\t<li>1.02412998361946</li>\n",
       "\t<li>0.996679920210378</li>\n",
       "\t<li>0.644895883411721</li>\n",
       "\t<li>0.435084226790431</li>\n",
       "</ol>\n"
      ],
      "text/latex": [
       "\\begin{enumerate*}\n",
       "\\item 1.53381808845046\n",
       "\\item 1.02412998361946\n",
       "\\item 0.996679920210378\n",
       "\\item 0.644895883411721\n",
       "\\item 0.435084226790431\n",
       "\\end{enumerate*}\n"
      ],
      "text/markdown": [
       "1. 1.53381808845046\n",
       "2. 1.02412998361946\n",
       "3. 0.996679920210378\n",
       "4. 0.644895883411721\n",
       "5. 0.435084226790431\n",
       "\n",
       "\n"
      ],
      "text/plain": [
       "[1] 1.5338181 1.0241300 0.9966799 0.6448959 0.4350842"
      ]
     },
     "metadata": {},
     "output_type": "display_data"
    },
    {
     "data": {
      "text/html": [
       "<table>\n",
       "<thead><tr><th></th><th scope=col>PC1</th><th scope=col>PC2</th><th scope=col>PC3</th><th scope=col>PC4</th><th scope=col>PC5</th></tr></thead>\n",
       "<tbody>\n",
       "\t<tr><th scope=row>Area</th><td> 0.2075747 </td><td> 0.63474232</td><td>-0.66651136</td><td> 0.24842044</td><td>-0.21923696</td></tr>\n",
       "\t<tr><th scope=row>GDP</th><td>-0.5521591 </td><td> 0.01761569</td><td>-0.25547191</td><td>-0.65901870</td><td>-0.44185797</td></tr>\n",
       "\t<tr><th scope=row>Inflation</th><td> 0.5430932 </td><td>-0.09061045</td><td>-0.30155296</td><td>-0.63878875</td><td> 0.44480815</td></tr>\n",
       "\t<tr><th scope=row>Life.expect</th><td>-0.5705019 </td><td> 0.34170664</td><td>-0.08720548</td><td> 0.02388032</td><td> 0.74134275</td></tr>\n",
       "\t<tr><th scope=row>Military</th><td> 0.1777933 </td><td> 0.68689024</td><td> 0.62606528</td><td>-0.30880464</td><td>-0.09619422</td></tr>\n",
       "</tbody>\n",
       "</table>\n"
      ],
      "text/latex": [
       "\\begin{tabular}{r|lllll}\n",
       "  & PC1 & PC2 & PC3 & PC4 & PC5\\\\\n",
       "\\hline\n",
       "\tArea &  0.2075747  &  0.63474232 & -0.66651136 &  0.24842044 & -0.21923696\\\\\n",
       "\tGDP & -0.5521591  &  0.01761569 & -0.25547191 & -0.65901870 & -0.44185797\\\\\n",
       "\tInflation &  0.5430932  & -0.09061045 & -0.30155296 & -0.63878875 &  0.44480815\\\\\n",
       "\tLife.expect & -0.5705019  &  0.34170664 & -0.08720548 &  0.02388032 &  0.74134275\\\\\n",
       "\tMilitary &  0.1777933  &  0.68689024 &  0.62606528 & -0.30880464 & -0.09619422\\\\\n",
       "\\end{tabular}\n"
      ],
      "text/markdown": [
       "\n",
       "| <!--/--> | PC1 | PC2 | PC3 | PC4 | PC5 |\n",
       "|---|---|---|---|---|---|\n",
       "| Area |  0.2075747  |  0.63474232 | -0.66651136 |  0.24842044 | -0.21923696 |\n",
       "| GDP | -0.5521591  |  0.01761569 | -0.25547191 | -0.65901870 | -0.44185797 |\n",
       "| Inflation |  0.5430932  | -0.09061045 | -0.30155296 | -0.63878875 |  0.44480815 |\n",
       "| Life.expect | -0.5705019  |  0.34170664 | -0.08720548 |  0.02388032 |  0.74134275 |\n",
       "| Military |  0.1777933  |  0.68689024 |  0.62606528 | -0.30880464 | -0.09619422 |\n",
       "\n"
      ],
      "text/plain": [
       "            PC1        PC2         PC3         PC4         PC5        \n",
       "Area         0.2075747  0.63474232 -0.66651136  0.24842044 -0.21923696\n",
       "GDP         -0.5521591  0.01761569 -0.25547191 -0.65901870 -0.44185797\n",
       "Inflation    0.5430932 -0.09061045 -0.30155296 -0.63878875  0.44480815\n",
       "Life.expect -0.5705019  0.34170664 -0.08720548  0.02388032  0.74134275\n",
       "Military     0.1777933  0.68689024  0.62606528 -0.30880464 -0.09619422"
      ]
     },
     "metadata": {},
     "output_type": "display_data"
    },
    {
     "data": {
      "text/html": [
       "<table>\n",
       "<thead><tr><th scope=col>PC1</th><th scope=col>PC2</th><th scope=col>PC3</th><th scope=col>PC4</th><th scope=col>PC5</th></tr></thead>\n",
       "<tbody>\n",
       "\t<tr><td>-0.9118989 </td><td>-0.81430003</td><td>-0.55171041</td><td>-0.31424714</td><td> 0.37485621</td></tr>\n",
       "\t<tr><td>-0.6766607 </td><td>-0.62273067</td><td> 0.12774700</td><td>-0.41623879</td><td> 0.44082441</td></tr>\n",
       "\t<tr><td> 1.9375299 </td><td> 0.10264561</td><td> 1.25056273</td><td>-0.06928488</td><td>-0.21829512</td></tr>\n",
       "\t<tr><td> 0.5403744 </td><td> 0.07308136</td><td> 1.58204781</td><td> 0.62342011</td><td>-0.35379619</td></tr>\n",
       "\t<tr><td>-0.4573051 </td><td>-0.71848997</td><td> 0.41155524</td><td> 0.91429992</td><td>-0.31583872</td></tr>\n",
       "\t<tr><td>-0.7466961 </td><td>-0.62337510</td><td> 0.26599889</td><td>-0.04774972</td><td> 0.02363834</td></tr>\n",
       "\t<tr><td> 1.8280329 </td><td>-0.73506811</td><td> 0.76445033</td><td>-0.60393982</td><td>-0.06636282</td></tr>\n",
       "\t<tr><td>-0.1018368 </td><td> 1.14187105</td><td>-0.48252983</td><td>-0.05298323</td><td>-0.11517638</td></tr>\n",
       "\t<tr><td>-0.7193135 </td><td> 0.92363805</td><td>-0.83495738</td><td> 0.44390901</td><td>-0.21731632</td></tr>\n",
       "\t<tr><td> 0.4047432 </td><td> 2.37953084</td><td> 2.29792548</td><td>-0.80313165</td><td> 0.32612157</td></tr>\n",
       "\t<tr><td> 1.1781181 </td><td>-0.54147295</td><td> 0.58862336</td><td> 0.11379813</td><td>-0.09047198</td></tr>\n",
       "\t<tr><td>-0.9329301 </td><td>-1.34654579</td><td>-1.32971884</td><td>-0.03846761</td><td> 0.96462995</td></tr>\n",
       "\t<tr><td>-1.2992135 </td><td>-0.67944357</td><td>-0.22185605</td><td> 0.07739639</td><td> 0.21423970</td></tr>\n",
       "\t<tr><td>-0.5765903 </td><td> 1.11106179</td><td>-0.37443294</td><td> 0.41987496</td><td> 0.56742679</td></tr>\n",
       "\t<tr><td> 1.6729317 </td><td>-1.46741442</td><td> 0.19395176</td><td> 0.20476838</td><td>-0.21624821</td></tr>\n",
       "\t<tr><td> 0.9566702 </td><td>-1.33316283</td><td>-0.01262375</td><td> 0.33505958</td><td> 0.25034419</td></tr>\n",
       "\t<tr><td>-2.4867578 </td><td>-1.00355323</td><td>-0.80739475</td><td>-2.20255328</td><td>-0.78677202</td></tr>\n",
       "\t<tr><td>-1.4476876 </td><td>-0.10547660</td><td> 0.46812905</td><td>-0.14852623</td><td> 0.17341439</td></tr>\n",
       "\t<tr><td>-1.7441037 </td><td> 1.24940131</td><td>-0.40298552</td><td> 0.09382561</td><td>-1.03902350</td></tr>\n",
       "\t<tr><td> 1.3604785 </td><td> 0.54243376</td><td>-0.28749862</td><td> 0.23052050</td><td>-0.03631237</td></tr>\n",
       "\t<tr><td> 0.4182966 </td><td> 0.33824565</td><td> 0.89765738</td><td>-0.15331278</td><td> 0.52078799</td></tr>\n",
       "\t<tr><td> 0.6527510 </td><td>-1.17174746</td><td> 0.14951061</td><td> 0.14539021</td><td> 0.17026682</td></tr>\n",
       "\t<tr><td>-0.5302074 </td><td>-0.45246310</td><td> 1.06605121</td><td> 0.58360454</td><td>-0.36462191</td></tr>\n",
       "\t<tr><td>-0.2706448 </td><td> 1.30292026</td><td>-1.69167861</td><td> 0.86148421</td><td> 0.29570966</td></tr>\n",
       "\t<tr><td>-0.6842447 </td><td> 1.35811654</td><td>-1.39120861</td><td> 0.24472066</td><td>-0.03087337</td></tr>\n",
       "\t<tr><td>-2.5384912 </td><td>-0.45381531</td><td> 0.40218563</td><td> 0.93000196</td><td>-0.43798408</td></tr>\n",
       "\t<tr><td> 4.9286312 </td><td> 0.16243671</td><td>-2.23439665</td><td>-0.34179601</td><td>-0.50233527</td></tr>\n",
       "\t<tr><td> 0.2460245 </td><td> 1.38367621</td><td> 0.15659550</td><td>-1.02984302</td><td> 0.46916824</td></tr>\n",
       "</tbody>\n",
       "</table>\n"
      ],
      "text/latex": [
       "\\begin{tabular}{lllll}\n",
       " PC1 & PC2 & PC3 & PC4 & PC5\\\\\n",
       "\\hline\n",
       "\t -0.9118989  & -0.81430003 & -0.55171041 & -0.31424714 &  0.37485621\\\\\n",
       "\t -0.6766607  & -0.62273067 &  0.12774700 & -0.41623879 &  0.44082441\\\\\n",
       "\t  1.9375299  &  0.10264561 &  1.25056273 & -0.06928488 & -0.21829512\\\\\n",
       "\t  0.5403744  &  0.07308136 &  1.58204781 &  0.62342011 & -0.35379619\\\\\n",
       "\t -0.4573051  & -0.71848997 &  0.41155524 &  0.91429992 & -0.31583872\\\\\n",
       "\t -0.7466961  & -0.62337510 &  0.26599889 & -0.04774972 &  0.02363834\\\\\n",
       "\t  1.8280329  & -0.73506811 &  0.76445033 & -0.60393982 & -0.06636282\\\\\n",
       "\t -0.1018368  &  1.14187105 & -0.48252983 & -0.05298323 & -0.11517638\\\\\n",
       "\t -0.7193135  &  0.92363805 & -0.83495738 &  0.44390901 & -0.21731632\\\\\n",
       "\t  0.4047432  &  2.37953084 &  2.29792548 & -0.80313165 &  0.32612157\\\\\n",
       "\t  1.1781181  & -0.54147295 &  0.58862336 &  0.11379813 & -0.09047198\\\\\n",
       "\t -0.9329301  & -1.34654579 & -1.32971884 & -0.03846761 &  0.96462995\\\\\n",
       "\t -1.2992135  & -0.67944357 & -0.22185605 &  0.07739639 &  0.21423970\\\\\n",
       "\t -0.5765903  &  1.11106179 & -0.37443294 &  0.41987496 &  0.56742679\\\\\n",
       "\t  1.6729317  & -1.46741442 &  0.19395176 &  0.20476838 & -0.21624821\\\\\n",
       "\t  0.9566702  & -1.33316283 & -0.01262375 &  0.33505958 &  0.25034419\\\\\n",
       "\t -2.4867578  & -1.00355323 & -0.80739475 & -2.20255328 & -0.78677202\\\\\n",
       "\t -1.4476876  & -0.10547660 &  0.46812905 & -0.14852623 &  0.17341439\\\\\n",
       "\t -1.7441037  &  1.24940131 & -0.40298552 &  0.09382561 & -1.03902350\\\\\n",
       "\t  1.3604785  &  0.54243376 & -0.28749862 &  0.23052050 & -0.03631237\\\\\n",
       "\t  0.4182966  &  0.33824565 &  0.89765738 & -0.15331278 &  0.52078799\\\\\n",
       "\t  0.6527510  & -1.17174746 &  0.14951061 &  0.14539021 &  0.17026682\\\\\n",
       "\t -0.5302074  & -0.45246310 &  1.06605121 &  0.58360454 & -0.36462191\\\\\n",
       "\t -0.2706448  &  1.30292026 & -1.69167861 &  0.86148421 &  0.29570966\\\\\n",
       "\t -0.6842447  &  1.35811654 & -1.39120861 &  0.24472066 & -0.03087337\\\\\n",
       "\t -2.5384912  & -0.45381531 &  0.40218563 &  0.93000196 & -0.43798408\\\\\n",
       "\t  4.9286312  &  0.16243671 & -2.23439665 & -0.34179601 & -0.50233527\\\\\n",
       "\t  0.2460245  &  1.38367621 &  0.15659550 & -1.02984302 &  0.46916824\\\\\n",
       "\\end{tabular}\n"
      ],
      "text/markdown": [
       "\n",
       "| PC1 | PC2 | PC3 | PC4 | PC5 |\n",
       "|---|---|---|---|---|\n",
       "| -0.9118989  | -0.81430003 | -0.55171041 | -0.31424714 |  0.37485621 |\n",
       "| -0.6766607  | -0.62273067 |  0.12774700 | -0.41623879 |  0.44082441 |\n",
       "|  1.9375299  |  0.10264561 |  1.25056273 | -0.06928488 | -0.21829512 |\n",
       "|  0.5403744  |  0.07308136 |  1.58204781 |  0.62342011 | -0.35379619 |\n",
       "| -0.4573051  | -0.71848997 |  0.41155524 |  0.91429992 | -0.31583872 |\n",
       "| -0.7466961  | -0.62337510 |  0.26599889 | -0.04774972 |  0.02363834 |\n",
       "|  1.8280329  | -0.73506811 |  0.76445033 | -0.60393982 | -0.06636282 |\n",
       "| -0.1018368  |  1.14187105 | -0.48252983 | -0.05298323 | -0.11517638 |\n",
       "| -0.7193135  |  0.92363805 | -0.83495738 |  0.44390901 | -0.21731632 |\n",
       "|  0.4047432  |  2.37953084 |  2.29792548 | -0.80313165 |  0.32612157 |\n",
       "|  1.1781181  | -0.54147295 |  0.58862336 |  0.11379813 | -0.09047198 |\n",
       "| -0.9329301  | -1.34654579 | -1.32971884 | -0.03846761 |  0.96462995 |\n",
       "| -1.2992135  | -0.67944357 | -0.22185605 |  0.07739639 |  0.21423970 |\n",
       "| -0.5765903  |  1.11106179 | -0.37443294 |  0.41987496 |  0.56742679 |\n",
       "|  1.6729317  | -1.46741442 |  0.19395176 |  0.20476838 | -0.21624821 |\n",
       "|  0.9566702  | -1.33316283 | -0.01262375 |  0.33505958 |  0.25034419 |\n",
       "| -2.4867578  | -1.00355323 | -0.80739475 | -2.20255328 | -0.78677202 |\n",
       "| -1.4476876  | -0.10547660 |  0.46812905 | -0.14852623 |  0.17341439 |\n",
       "| -1.7441037  |  1.24940131 | -0.40298552 |  0.09382561 | -1.03902350 |\n",
       "|  1.3604785  |  0.54243376 | -0.28749862 |  0.23052050 | -0.03631237 |\n",
       "|  0.4182966  |  0.33824565 |  0.89765738 | -0.15331278 |  0.52078799 |\n",
       "|  0.6527510  | -1.17174746 |  0.14951061 |  0.14539021 |  0.17026682 |\n",
       "| -0.5302074  | -0.45246310 |  1.06605121 |  0.58360454 | -0.36462191 |\n",
       "| -0.2706448  |  1.30292026 | -1.69167861 |  0.86148421 |  0.29570966 |\n",
       "| -0.6842447  |  1.35811654 | -1.39120861 |  0.24472066 | -0.03087337 |\n",
       "| -2.5384912  | -0.45381531 |  0.40218563 |  0.93000196 | -0.43798408 |\n",
       "|  4.9286312  |  0.16243671 | -2.23439665 | -0.34179601 | -0.50233527 |\n",
       "|  0.2460245  |  1.38367621 |  0.15659550 | -1.02984302 |  0.46916824 |\n",
       "\n"
      ],
      "text/plain": [
       "      PC1        PC2         PC3         PC4         PC5        \n",
       " [1,] -0.9118989 -0.81430003 -0.55171041 -0.31424714  0.37485621\n",
       " [2,] -0.6766607 -0.62273067  0.12774700 -0.41623879  0.44082441\n",
       " [3,]  1.9375299  0.10264561  1.25056273 -0.06928488 -0.21829512\n",
       " [4,]  0.5403744  0.07308136  1.58204781  0.62342011 -0.35379619\n",
       " [5,] -0.4573051 -0.71848997  0.41155524  0.91429992 -0.31583872\n",
       " [6,] -0.7466961 -0.62337510  0.26599889 -0.04774972  0.02363834\n",
       " [7,]  1.8280329 -0.73506811  0.76445033 -0.60393982 -0.06636282\n",
       " [8,] -0.1018368  1.14187105 -0.48252983 -0.05298323 -0.11517638\n",
       " [9,] -0.7193135  0.92363805 -0.83495738  0.44390901 -0.21731632\n",
       "[10,]  0.4047432  2.37953084  2.29792548 -0.80313165  0.32612157\n",
       "[11,]  1.1781181 -0.54147295  0.58862336  0.11379813 -0.09047198\n",
       "[12,] -0.9329301 -1.34654579 -1.32971884 -0.03846761  0.96462995\n",
       "[13,] -1.2992135 -0.67944357 -0.22185605  0.07739639  0.21423970\n",
       "[14,] -0.5765903  1.11106179 -0.37443294  0.41987496  0.56742679\n",
       "[15,]  1.6729317 -1.46741442  0.19395176  0.20476838 -0.21624821\n",
       "[16,]  0.9566702 -1.33316283 -0.01262375  0.33505958  0.25034419\n",
       "[17,] -2.4867578 -1.00355323 -0.80739475 -2.20255328 -0.78677202\n",
       "[18,] -1.4476876 -0.10547660  0.46812905 -0.14852623  0.17341439\n",
       "[19,] -1.7441037  1.24940131 -0.40298552  0.09382561 -1.03902350\n",
       "[20,]  1.3604785  0.54243376 -0.28749862  0.23052050 -0.03631237\n",
       "[21,]  0.4182966  0.33824565  0.89765738 -0.15331278  0.52078799\n",
       "[22,]  0.6527510 -1.17174746  0.14951061  0.14539021  0.17026682\n",
       "[23,] -0.5302074 -0.45246310  1.06605121  0.58360454 -0.36462191\n",
       "[24,] -0.2706448  1.30292026 -1.69167861  0.86148421  0.29570966\n",
       "[25,] -0.6842447  1.35811654 -1.39120861  0.24472066 -0.03087337\n",
       "[26,] -2.5384912 -0.45381531  0.40218563  0.93000196 -0.43798408\n",
       "[27,]  4.9286312  0.16243671 -2.23439665 -0.34179601 -0.50233527\n",
       "[28,]  0.2460245  1.38367621  0.15659550 -1.02984302  0.46916824"
      ]
     },
     "metadata": {},
     "output_type": "display_data"
    }
   ],
   "source": [
    "# (en columnas las nuevas variables).\n",
    "pca.Europa2$sdev # Autovalores de los Componentes\n",
    "pca.Europa2$rotation\n",
    "pca.Europa2$x # Puntuaciones factoriales"
   ]
  },
  {
   "cell_type": "code",
   "execution_count": 12,
   "metadata": {},
   "outputs": [
    {
     "data": {
      "text/html": [
       "<table>\n",
       "<thead><tr><th scope=col>Country</th><th scope=col>Area</th><th scope=col>GDP</th><th scope=col>Inflation</th><th scope=col>Life.expect</th><th scope=col>Military</th><th scope=col>Pop.growth</th><th scope=col>Unemployment</th><th scope=col>PC1</th><th scope=col>PC2</th><th scope=col>PC3</th></tr></thead>\n",
       "<tbody>\n",
       "\t<tr><td>Austria       </td><td> 83871        </td><td>41600         </td><td>3.5           </td><td>79.91         </td><td>0.80          </td><td> 0.03         </td><td> 4.2          </td><td>-0.9118989    </td><td>-0.81430003   </td><td>-0.55171041   </td></tr>\n",
       "\t<tr><td>Belgium       </td><td> 30528        </td><td>37800         </td><td>3.5           </td><td>79.65         </td><td>1.30          </td><td> 0.06         </td><td> 7.2          </td><td>-0.6766607    </td><td>-0.62273067   </td><td> 0.12774700   </td></tr>\n",
       "\t<tr><td>Bulgaria      </td><td>110879        </td><td>13800         </td><td>4.2           </td><td>73.84         </td><td>2.60          </td><td>-0.80         </td><td> 9.6          </td><td> 1.9375299    </td><td> 0.10264561   </td><td> 1.25056273   </td></tr>\n",
       "\t<tr><td>Croatia       </td><td> 56594        </td><td>18000         </td><td>2.3           </td><td>75.99         </td><td>2.39          </td><td>-0.09         </td><td>17.7          </td><td> 0.5403744    </td><td> 0.07308136   </td><td> 1.58204781   </td></tr>\n",
       "\t<tr><td>Czech Republic</td><td> 78867        </td><td>27100         </td><td>1.9           </td><td>77.38         </td><td>1.15          </td><td>-0.13         </td><td> 8.5          </td><td>-0.4573051    </td><td>-0.71848997   </td><td> 0.41155524   </td></tr>\n",
       "\t<tr><td>Denmark       </td><td> 43094        </td><td>37000         </td><td>2.8           </td><td>78.78         </td><td>1.30          </td><td> 0.24         </td><td> 6.1          </td><td>-0.7466961    </td><td>-0.62337510   </td><td> 0.26599889   </td></tr>\n",
       "\t<tr><td>Estonia       </td><td> 45228        </td><td>20400         </td><td>5.0           </td><td>73.58         </td><td>2.00          </td><td>-0.65         </td><td>12.5          </td><td> 1.8280329    </td><td>-0.73506811   </td><td> 0.76445033   </td></tr>\n",
       "\t<tr><td>Finland       </td><td>338145        </td><td>36000         </td><td>3.3           </td><td>79.41         </td><td>2.00          </td><td> 0.07         </td><td> 7.8          </td><td>-0.1018368    </td><td> 1.14187105   </td><td>-0.48252983   </td></tr>\n",
       "\t<tr><td>Germany       </td><td>357022        </td><td>38100         </td><td>2.5           </td><td>80.19         </td><td>1.50          </td><td>-0.20         </td><td> 6.0          </td><td>-0.7193135    </td><td> 0.92363805   </td><td>-0.83495738   </td></tr>\n",
       "\t<tr><td>Greece        </td><td>131957        </td><td>26300         </td><td>3.3           </td><td>80.05         </td><td>4.30          </td><td> 0.06         </td><td>17.4          </td><td> 0.4047432    </td><td> 2.37953084   </td><td> 2.29792548   </td></tr>\n",
       "\t<tr><td>Hungary       </td><td> 93028        </td><td>19600         </td><td>3.9           </td><td>75.02         </td><td>1.75          </td><td>-0.18         </td><td>10.9          </td><td> 1.1781181    </td><td>-0.54147295   </td><td> 0.58862336   </td></tr>\n",
       "\t<tr><td>Iceland       </td><td>103000        </td><td>38100         </td><td>4.0           </td><td>81.00         </td><td>0.00          </td><td> 0.67         </td><td> 7.4          </td><td>-0.9329301    </td><td>-1.34654579   </td><td>-1.32971884   </td></tr>\n",
       "\t<tr><td>Ireland       </td><td> 70273        </td><td>40800         </td><td>2.6           </td><td>80.32         </td><td>0.90          </td><td> 1.11         </td><td>14.4          </td><td>-1.2992135    </td><td>-0.67944357   </td><td>-0.22185605   </td></tr>\n",
       "\t<tr><td>Italy         </td><td>301340        </td><td>30500         </td><td>2.9           </td><td>81.86         </td><td>1.80          </td><td> 0.38         </td><td> 8.4          </td><td>-0.5765903    </td><td> 1.11106179   </td><td>-0.37443294   </td></tr>\n",
       "\t<tr><td>Latvia        </td><td> 64589        </td><td>16800         </td><td>4.4           </td><td>72.93         </td><td>1.10          </td><td>-0.60         </td><td>12.8          </td><td> 1.6729317    </td><td>-1.46741442   </td><td> 0.19395176   </td></tr>\n",
       "\t<tr><td>Lithuania     </td><td> 65300        </td><td>19100         </td><td>4.1           </td><td>75.55         </td><td>0.90          </td><td>-0.28         </td><td>15.4          </td><td> 0.9566702    </td><td>-1.33316283   </td><td>-0.01262375   </td></tr>\n",
       "\t<tr><td>Luxembourg    </td><td>  2586        </td><td>80600         </td><td>3.4           </td><td>79.75         </td><td>0.90          </td><td> 1.14         </td><td> 5.7          </td><td>-2.4867578    </td><td>-1.00355323   </td><td>-0.80739475   </td></tr>\n",
       "\t<tr><td>Netherlands   </td><td> 41543        </td><td>42000         </td><td>2.3           </td><td>80.91         </td><td>1.60          </td><td> 0.45         </td><td> 4.4          </td><td>-1.4476876    </td><td>-0.10547660   </td><td> 0.46812905   </td></tr>\n",
       "\t<tr><td>Norway        </td><td>323802        </td><td>53400         </td><td>1.3           </td><td>80.32         </td><td>1.90          </td><td> 0.33         </td><td> 3.3          </td><td>-1.7441037    </td><td> 1.24940131   </td><td>-0.40298552   </td></tr>\n",
       "\t<tr><td>Poland        </td><td>312685        </td><td>20200         </td><td>4.2           </td><td>76.25         </td><td>1.90          </td><td>-0.08         </td><td>12.4          </td><td> 1.3604785    </td><td> 0.54243376   </td><td>-0.28749862   </td></tr>\n",
       "\t<tr><td>Portugal      </td><td> 92090        </td><td>23400         </td><td>3.7           </td><td>78.70         </td><td>2.30          </td><td> 0.18         </td><td>12.7          </td><td> 0.4182966    </td><td> 0.33824565   </td><td> 0.89765738   </td></tr>\n",
       "\t<tr><td>Slovakia      </td><td> 49035        </td><td>23300         </td><td>3.9           </td><td>76.03         </td><td>1.08          </td><td> 0.10         </td><td>13.2          </td><td> 0.6527510    </td><td>-1.17174746   </td><td> 0.14951061   </td></tr>\n",
       "\t<tr><td>Slovenia      </td><td> 20273        </td><td>28800         </td><td>1.8           </td><td>77.48         </td><td>1.70          </td><td>-0.19         </td><td>11.8          </td><td>-0.5302074    </td><td>-0.45246310   </td><td> 1.06605121   </td></tr>\n",
       "\t<tr><td>Spain         </td><td>505370        </td><td>30500         </td><td>3.1           </td><td>81.27         </td><td>1.20          </td><td> 0.65         </td><td>21.7          </td><td>-0.2706448    </td><td> 1.30292026   </td><td>-1.69167861   </td></tr>\n",
       "\t<tr><td>Sweden        </td><td>450295        </td><td>40700         </td><td>3.0           </td><td>81.18         </td><td>1.50          </td><td> 0.17         </td><td> 7.5          </td><td>-0.6842447    </td><td> 1.35811654   </td><td>-1.39120861   </td></tr>\n",
       "\t<tr><td>Switzerland   </td><td> 41277        </td><td>44500         </td><td>0.2           </td><td>81.17         </td><td>1.00          </td><td> 0.92         </td><td> 2.8          </td><td>-2.5384912    </td><td>-0.45381531   </td><td> 0.40218563   </td></tr>\n",
       "\t<tr><td>Ukraine       </td><td>603550        </td><td> 7200         </td><td>8.0           </td><td>68.74         </td><td>1.40          </td><td>-0.63         </td><td> 7.9          </td><td> 4.9286312    </td><td> 0.16243671   </td><td>-2.23439665   </td></tr>\n",
       "\t<tr><td>United Kingdom</td><td>243610        </td><td>36500         </td><td>4.5           </td><td>80.17         </td><td>2.70          </td><td> 0.55         </td><td> 8.1          </td><td> 0.2460245    </td><td> 1.38367621   </td><td> 0.15659550   </td></tr>\n",
       "</tbody>\n",
       "</table>\n"
      ],
      "text/latex": [
       "\\begin{tabular}{r|lllllllllll}\n",
       " Country & Area & GDP & Inflation & Life.expect & Military & Pop.growth & Unemployment & PC1 & PC2 & PC3\\\\\n",
       "\\hline\n",
       "\t Austria        &  83871         & 41600          & 3.5            & 79.91          & 0.80           &  0.03          &  4.2           & -0.9118989     & -0.81430003    & -0.55171041   \\\\\n",
       "\t Belgium        &  30528         & 37800          & 3.5            & 79.65          & 1.30           &  0.06          &  7.2           & -0.6766607     & -0.62273067    &  0.12774700   \\\\\n",
       "\t Bulgaria       & 110879         & 13800          & 4.2            & 73.84          & 2.60           & -0.80          &  9.6           &  1.9375299     &  0.10264561    &  1.25056273   \\\\\n",
       "\t Croatia        &  56594         & 18000          & 2.3            & 75.99          & 2.39           & -0.09          & 17.7           &  0.5403744     &  0.07308136    &  1.58204781   \\\\\n",
       "\t Czech Republic &  78867         & 27100          & 1.9            & 77.38          & 1.15           & -0.13          &  8.5           & -0.4573051     & -0.71848997    &  0.41155524   \\\\\n",
       "\t Denmark        &  43094         & 37000          & 2.8            & 78.78          & 1.30           &  0.24          &  6.1           & -0.7466961     & -0.62337510    &  0.26599889   \\\\\n",
       "\t Estonia        &  45228         & 20400          & 5.0            & 73.58          & 2.00           & -0.65          & 12.5           &  1.8280329     & -0.73506811    &  0.76445033   \\\\\n",
       "\t Finland        & 338145         & 36000          & 3.3            & 79.41          & 2.00           &  0.07          &  7.8           & -0.1018368     &  1.14187105    & -0.48252983   \\\\\n",
       "\t Germany        & 357022         & 38100          & 2.5            & 80.19          & 1.50           & -0.20          &  6.0           & -0.7193135     &  0.92363805    & -0.83495738   \\\\\n",
       "\t Greece         & 131957         & 26300          & 3.3            & 80.05          & 4.30           &  0.06          & 17.4           &  0.4047432     &  2.37953084    &  2.29792548   \\\\\n",
       "\t Hungary        &  93028         & 19600          & 3.9            & 75.02          & 1.75           & -0.18          & 10.9           &  1.1781181     & -0.54147295    &  0.58862336   \\\\\n",
       "\t Iceland        & 103000         & 38100          & 4.0            & 81.00          & 0.00           &  0.67          &  7.4           & -0.9329301     & -1.34654579    & -1.32971884   \\\\\n",
       "\t Ireland        &  70273         & 40800          & 2.6            & 80.32          & 0.90           &  1.11          & 14.4           & -1.2992135     & -0.67944357    & -0.22185605   \\\\\n",
       "\t Italy          & 301340         & 30500          & 2.9            & 81.86          & 1.80           &  0.38          &  8.4           & -0.5765903     &  1.11106179    & -0.37443294   \\\\\n",
       "\t Latvia         &  64589         & 16800          & 4.4            & 72.93          & 1.10           & -0.60          & 12.8           &  1.6729317     & -1.46741442    &  0.19395176   \\\\\n",
       "\t Lithuania      &  65300         & 19100          & 4.1            & 75.55          & 0.90           & -0.28          & 15.4           &  0.9566702     & -1.33316283    & -0.01262375   \\\\\n",
       "\t Luxembourg     &   2586         & 80600          & 3.4            & 79.75          & 0.90           &  1.14          &  5.7           & -2.4867578     & -1.00355323    & -0.80739475   \\\\\n",
       "\t Netherlands    &  41543         & 42000          & 2.3            & 80.91          & 1.60           &  0.45          &  4.4           & -1.4476876     & -0.10547660    &  0.46812905   \\\\\n",
       "\t Norway         & 323802         & 53400          & 1.3            & 80.32          & 1.90           &  0.33          &  3.3           & -1.7441037     &  1.24940131    & -0.40298552   \\\\\n",
       "\t Poland         & 312685         & 20200          & 4.2            & 76.25          & 1.90           & -0.08          & 12.4           &  1.3604785     &  0.54243376    & -0.28749862   \\\\\n",
       "\t Portugal       &  92090         & 23400          & 3.7            & 78.70          & 2.30           &  0.18          & 12.7           &  0.4182966     &  0.33824565    &  0.89765738   \\\\\n",
       "\t Slovakia       &  49035         & 23300          & 3.9            & 76.03          & 1.08           &  0.10          & 13.2           &  0.6527510     & -1.17174746    &  0.14951061   \\\\\n",
       "\t Slovenia       &  20273         & 28800          & 1.8            & 77.48          & 1.70           & -0.19          & 11.8           & -0.5302074     & -0.45246310    &  1.06605121   \\\\\n",
       "\t Spain          & 505370         & 30500          & 3.1            & 81.27          & 1.20           &  0.65          & 21.7           & -0.2706448     &  1.30292026    & -1.69167861   \\\\\n",
       "\t Sweden         & 450295         & 40700          & 3.0            & 81.18          & 1.50           &  0.17          &  7.5           & -0.6842447     &  1.35811654    & -1.39120861   \\\\\n",
       "\t Switzerland    &  41277         & 44500          & 0.2            & 81.17          & 1.00           &  0.92          &  2.8           & -2.5384912     & -0.45381531    &  0.40218563   \\\\\n",
       "\t Ukraine        & 603550         &  7200          & 8.0            & 68.74          & 1.40           & -0.63          &  7.9           &  4.9286312     &  0.16243671    & -2.23439665   \\\\\n",
       "\t United Kingdom & 243610         & 36500          & 4.5            & 80.17          & 2.70           &  0.55          &  8.1           &  0.2460245     &  1.38367621    &  0.15659550   \\\\\n",
       "\\end{tabular}\n"
      ],
      "text/markdown": [
       "\n",
       "| Country | Area | GDP | Inflation | Life.expect | Military | Pop.growth | Unemployment | PC1 | PC2 | PC3 |\n",
       "|---|---|---|---|---|---|---|---|---|---|---|\n",
       "| Austria        |  83871         | 41600          | 3.5            | 79.91          | 0.80           |  0.03          |  4.2           | -0.9118989     | -0.81430003    | -0.55171041    |\n",
       "| Belgium        |  30528         | 37800          | 3.5            | 79.65          | 1.30           |  0.06          |  7.2           | -0.6766607     | -0.62273067    |  0.12774700    |\n",
       "| Bulgaria       | 110879         | 13800          | 4.2            | 73.84          | 2.60           | -0.80          |  9.6           |  1.9375299     |  0.10264561    |  1.25056273    |\n",
       "| Croatia        |  56594         | 18000          | 2.3            | 75.99          | 2.39           | -0.09          | 17.7           |  0.5403744     |  0.07308136    |  1.58204781    |\n",
       "| Czech Republic |  78867         | 27100          | 1.9            | 77.38          | 1.15           | -0.13          |  8.5           | -0.4573051     | -0.71848997    |  0.41155524    |\n",
       "| Denmark        |  43094         | 37000          | 2.8            | 78.78          | 1.30           |  0.24          |  6.1           | -0.7466961     | -0.62337510    |  0.26599889    |\n",
       "| Estonia        |  45228         | 20400          | 5.0            | 73.58          | 2.00           | -0.65          | 12.5           |  1.8280329     | -0.73506811    |  0.76445033    |\n",
       "| Finland        | 338145         | 36000          | 3.3            | 79.41          | 2.00           |  0.07          |  7.8           | -0.1018368     |  1.14187105    | -0.48252983    |\n",
       "| Germany        | 357022         | 38100          | 2.5            | 80.19          | 1.50           | -0.20          |  6.0           | -0.7193135     |  0.92363805    | -0.83495738    |\n",
       "| Greece         | 131957         | 26300          | 3.3            | 80.05          | 4.30           |  0.06          | 17.4           |  0.4047432     |  2.37953084    |  2.29792548    |\n",
       "| Hungary        |  93028         | 19600          | 3.9            | 75.02          | 1.75           | -0.18          | 10.9           |  1.1781181     | -0.54147295    |  0.58862336    |\n",
       "| Iceland        | 103000         | 38100          | 4.0            | 81.00          | 0.00           |  0.67          |  7.4           | -0.9329301     | -1.34654579    | -1.32971884    |\n",
       "| Ireland        |  70273         | 40800          | 2.6            | 80.32          | 0.90           |  1.11          | 14.4           | -1.2992135     | -0.67944357    | -0.22185605    |\n",
       "| Italy          | 301340         | 30500          | 2.9            | 81.86          | 1.80           |  0.38          |  8.4           | -0.5765903     |  1.11106179    | -0.37443294    |\n",
       "| Latvia         |  64589         | 16800          | 4.4            | 72.93          | 1.10           | -0.60          | 12.8           |  1.6729317     | -1.46741442    |  0.19395176    |\n",
       "| Lithuania      |  65300         | 19100          | 4.1            | 75.55          | 0.90           | -0.28          | 15.4           |  0.9566702     | -1.33316283    | -0.01262375    |\n",
       "| Luxembourg     |   2586         | 80600          | 3.4            | 79.75          | 0.90           |  1.14          |  5.7           | -2.4867578     | -1.00355323    | -0.80739475    |\n",
       "| Netherlands    |  41543         | 42000          | 2.3            | 80.91          | 1.60           |  0.45          |  4.4           | -1.4476876     | -0.10547660    |  0.46812905    |\n",
       "| Norway         | 323802         | 53400          | 1.3            | 80.32          | 1.90           |  0.33          |  3.3           | -1.7441037     |  1.24940131    | -0.40298552    |\n",
       "| Poland         | 312685         | 20200          | 4.2            | 76.25          | 1.90           | -0.08          | 12.4           |  1.3604785     |  0.54243376    | -0.28749862    |\n",
       "| Portugal       |  92090         | 23400          | 3.7            | 78.70          | 2.30           |  0.18          | 12.7           |  0.4182966     |  0.33824565    |  0.89765738    |\n",
       "| Slovakia       |  49035         | 23300          | 3.9            | 76.03          | 1.08           |  0.10          | 13.2           |  0.6527510     | -1.17174746    |  0.14951061    |\n",
       "| Slovenia       |  20273         | 28800          | 1.8            | 77.48          | 1.70           | -0.19          | 11.8           | -0.5302074     | -0.45246310    |  1.06605121    |\n",
       "| Spain          | 505370         | 30500          | 3.1            | 81.27          | 1.20           |  0.65          | 21.7           | -0.2706448     |  1.30292026    | -1.69167861    |\n",
       "| Sweden         | 450295         | 40700          | 3.0            | 81.18          | 1.50           |  0.17          |  7.5           | -0.6842447     |  1.35811654    | -1.39120861    |\n",
       "| Switzerland    |  41277         | 44500          | 0.2            | 81.17          | 1.00           |  0.92          |  2.8           | -2.5384912     | -0.45381531    |  0.40218563    |\n",
       "| Ukraine        | 603550         |  7200          | 8.0            | 68.74          | 1.40           | -0.63          |  7.9           |  4.9286312     |  0.16243671    | -2.23439665    |\n",
       "| United Kingdom | 243610         | 36500          | 4.5            | 80.17          | 2.70           |  0.55          |  8.1           |  0.2460245     |  1.38367621    |  0.15659550    |\n",
       "\n"
      ],
      "text/plain": [
       "   Country        Area   GDP   Inflation Life.expect Military Pop.growth\n",
       "1  Austria         83871 41600 3.5       79.91       0.80      0.03     \n",
       "2  Belgium         30528 37800 3.5       79.65       1.30      0.06     \n",
       "3  Bulgaria       110879 13800 4.2       73.84       2.60     -0.80     \n",
       "4  Croatia         56594 18000 2.3       75.99       2.39     -0.09     \n",
       "5  Czech Republic  78867 27100 1.9       77.38       1.15     -0.13     \n",
       "6  Denmark         43094 37000 2.8       78.78       1.30      0.24     \n",
       "7  Estonia         45228 20400 5.0       73.58       2.00     -0.65     \n",
       "8  Finland        338145 36000 3.3       79.41       2.00      0.07     \n",
       "9  Germany        357022 38100 2.5       80.19       1.50     -0.20     \n",
       "10 Greece         131957 26300 3.3       80.05       4.30      0.06     \n",
       "11 Hungary         93028 19600 3.9       75.02       1.75     -0.18     \n",
       "12 Iceland        103000 38100 4.0       81.00       0.00      0.67     \n",
       "13 Ireland         70273 40800 2.6       80.32       0.90      1.11     \n",
       "14 Italy          301340 30500 2.9       81.86       1.80      0.38     \n",
       "15 Latvia          64589 16800 4.4       72.93       1.10     -0.60     \n",
       "16 Lithuania       65300 19100 4.1       75.55       0.90     -0.28     \n",
       "17 Luxembourg       2586 80600 3.4       79.75       0.90      1.14     \n",
       "18 Netherlands     41543 42000 2.3       80.91       1.60      0.45     \n",
       "19 Norway         323802 53400 1.3       80.32       1.90      0.33     \n",
       "20 Poland         312685 20200 4.2       76.25       1.90     -0.08     \n",
       "21 Portugal        92090 23400 3.7       78.70       2.30      0.18     \n",
       "22 Slovakia        49035 23300 3.9       76.03       1.08      0.10     \n",
       "23 Slovenia        20273 28800 1.8       77.48       1.70     -0.19     \n",
       "24 Spain          505370 30500 3.1       81.27       1.20      0.65     \n",
       "25 Sweden         450295 40700 3.0       81.18       1.50      0.17     \n",
       "26 Switzerland     41277 44500 0.2       81.17       1.00      0.92     \n",
       "27 Ukraine        603550  7200 8.0       68.74       1.40     -0.63     \n",
       "28 United Kingdom 243610 36500 4.5       80.17       2.70      0.55     \n",
       "   Unemployment PC1        PC2         PC3        \n",
       "1   4.2         -0.9118989 -0.81430003 -0.55171041\n",
       "2   7.2         -0.6766607 -0.62273067  0.12774700\n",
       "3   9.6          1.9375299  0.10264561  1.25056273\n",
       "4  17.7          0.5403744  0.07308136  1.58204781\n",
       "5   8.5         -0.4573051 -0.71848997  0.41155524\n",
       "6   6.1         -0.7466961 -0.62337510  0.26599889\n",
       "7  12.5          1.8280329 -0.73506811  0.76445033\n",
       "8   7.8         -0.1018368  1.14187105 -0.48252983\n",
       "9   6.0         -0.7193135  0.92363805 -0.83495738\n",
       "10 17.4          0.4047432  2.37953084  2.29792548\n",
       "11 10.9          1.1781181 -0.54147295  0.58862336\n",
       "12  7.4         -0.9329301 -1.34654579 -1.32971884\n",
       "13 14.4         -1.2992135 -0.67944357 -0.22185605\n",
       "14  8.4         -0.5765903  1.11106179 -0.37443294\n",
       "15 12.8          1.6729317 -1.46741442  0.19395176\n",
       "16 15.4          0.9566702 -1.33316283 -0.01262375\n",
       "17  5.7         -2.4867578 -1.00355323 -0.80739475\n",
       "18  4.4         -1.4476876 -0.10547660  0.46812905\n",
       "19  3.3         -1.7441037  1.24940131 -0.40298552\n",
       "20 12.4          1.3604785  0.54243376 -0.28749862\n",
       "21 12.7          0.4182966  0.33824565  0.89765738\n",
       "22 13.2          0.6527510 -1.17174746  0.14951061\n",
       "23 11.8         -0.5302074 -0.45246310  1.06605121\n",
       "24 21.7         -0.2706448  1.30292026 -1.69167861\n",
       "25  7.5         -0.6842447  1.35811654 -1.39120861\n",
       "26  2.8         -2.5384912 -0.45381531  0.40218563\n",
       "27  7.9          4.9286312  0.16243671 -2.23439665\n",
       "28  8.1          0.2460245  1.38367621  0.15659550"
      ]
     },
     "metadata": {},
     "output_type": "display_data"
    }
   ],
   "source": [
    "Componentes <- pca.Europa2$x[,1:3]\n",
    "Europa3 <- cbind(Europa,Componentes)\n",
    "\n",
    "Europa3\n",
    "\n",
    "# !! FIN"
   ]
  }
 ],
 "metadata": {
  "kernelspec": {
   "display_name": "R",
   "language": "R",
   "name": "ir"
  },
  "language_info": {
   "codemirror_mode": "r",
   "file_extension": ".r",
   "mimetype": "text/x-r-source",
   "name": "R",
   "pygments_lexer": "r",
   "version": "3.6.1"
  }
 },
 "nbformat": 4,
 "nbformat_minor": 4
}
