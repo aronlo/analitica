{
 "cells": [
  {
   "cell_type": "markdown",
   "metadata": {},
   "source": [
    "# S2_1 Time Series"
   ]
  },
  {
   "cell_type": "code",
   "execution_count": 1,
   "metadata": {
    "scrolled": false
   },
   "outputs": [
    {
     "name": "stderr",
     "output_type": "stream",
     "text": [
      "Registered S3 methods overwritten by 'ggplot2':\n",
      "  method         from \n",
      "  [.quosures     rlang\n",
      "  c.quosures     rlang\n",
      "  print.quosures rlang\n",
      "Warning message:\n",
      "\"package 'tsapp' was built under R version 3.6.3\"Warning message:\n",
      "\"package 'vars' was built under R version 3.6.3\"Warning message:\n",
      "\"package 'strucchange' was built under R version 3.6.3\"\n",
      "Attaching package: 'zoo'\n",
      "\n",
      "The following objects are masked from 'package:base':\n",
      "\n",
      "    as.Date, as.Date.numeric\n",
      "\n",
      "Warning message:\n",
      "\"package 'sandwich' was built under R version 3.6.3\"Warning message:\n",
      "\"package 'urca' was built under R version 3.6.3\"Warning message:\n",
      "\"package 'lmtest' was built under R version 3.6.3\"Warning message:\n",
      "\"package 'fftwtools' was built under R version 3.6.2\"Warning message:\n",
      "\"package 'forecast' was built under R version 3.6.3\"Registered S3 method overwritten by 'xts':\n",
      "  method     from\n",
      "  as.zoo.xts zoo \n",
      "Registered S3 method overwritten by 'quantmod':\n",
      "  method            from\n",
      "  as.zoo.data.frame zoo \n",
      "\n",
      "Attaching package: 'forecast'\n",
      "\n",
      "The following object is masked from 'package:tsapp':\n",
      "\n",
      "    BoxCox\n",
      "\n"
     ]
    },
    {
     "name": "stdout",
     "output_type": "stream",
     "text": [
      "\n",
      "Bellow Packages Successfully Installed:\n",
      "\n",
      " ggplot2    tsapp forecast   scales    stats      TTR \n",
      "    TRUE     TRUE     TRUE     TRUE     TRUE     TRUE \n"
     ]
    }
   ],
   "source": [
    "rm(list=ls())\n",
    "\n",
    "source(\"./ins_paquetes.R\")\n",
    "ins_paquetes('ggplot2', 'tsapp','forecast','scales', 'stats','TTR')"
   ]
  },
  {
   "cell_type": "markdown",
   "metadata": {},
   "source": [
    "### Carga de librerias"
   ]
  },
  {
   "cell_type": "code",
   "execution_count": 2,
   "metadata": {
    "scrolled": true
   },
   "outputs": [],
   "source": [
    "library(ggplot2)\n",
    "library(tsapp)\n",
    "library(forecast)\n",
    "library(scales)\n",
    "library(stats)\n",
    "library(TTR)"
   ]
  },
  {
   "cell_type": "markdown",
   "metadata": {},
   "source": [
    "### Carga de datos"
   ]
  },
  {
   "cell_type": "code",
   "execution_count": 3,
   "metadata": {},
   "outputs": [
    {
     "name": "stderr",
     "output_type": "stream",
     "text": [
      "ERROR while rich displaying an object: Error in repr_matrix_generic(obj, \"\\n%s%s\\n\", sprintf(\"|%%s\\n|%s|\\n\", : el argumento formal \"cols\" concuerda con múltiples argumentos especificados\n",
      "\n",
      "Traceback:\n",
      "1. FUN(X[[i]], ...)\n",
      "2. tryCatch(withCallingHandlers({\n",
      " .     if (!mime %in% names(repr::mime2repr)) \n",
      " .         stop(\"No repr_* for mimetype \", mime, \" in repr::mime2repr\")\n",
      " .     rpr <- repr::mime2repr[[mime]](obj)\n",
      " .     if (is.null(rpr)) \n",
      " .         return(NULL)\n",
      " .     prepare_content(is.raw(rpr), rpr)\n",
      " . }, error = error_handler), error = outer_handler)\n",
      "3. tryCatchList(expr, classes, parentenv, handlers)\n",
      "4. tryCatchOne(expr, names, parentenv, handlers[[1L]])\n",
      "5. doTryCatch(return(expr), name, parentenv, handler)\n",
      "6. withCallingHandlers({\n",
      " .     if (!mime %in% names(repr::mime2repr)) \n",
      " .         stop(\"No repr_* for mimetype \", mime, \" in repr::mime2repr\")\n",
      " .     rpr <- repr::mime2repr[[mime]](obj)\n",
      " .     if (is.null(rpr)) \n",
      " .         return(NULL)\n",
      " .     prepare_content(is.raw(rpr), rpr)\n",
      " . }, error = error_handler)\n",
      "7. repr::mime2repr[[mime]](obj)\n",
      "8. repr_markdown.ts(obj)\n",
      "9. repr_ts_generic(obj, repr_markdown.matrix, ...)\n",
      "10. repr_func(m, ..., rows = nrow(m), cols = ncol(m))\n"
     ]
    },
    {
     "data": {
      "text/html": [
       "<table>\n",
       "<thead><tr><th></th><th scope=col>Jan</th><th scope=col>Feb</th><th scope=col>Mar</th><th scope=col>Apr</th><th scope=col>May</th><th scope=col>Jun</th><th scope=col>Jul</th><th scope=col>Aug</th><th scope=col>Sep</th><th scope=col>Oct</th><th scope=col>Nov</th><th scope=col>Dec</th></tr></thead>\n",
       "<tbody>\n",
       "\t<tr><th scope=row>2000</th><td> 354</td><td> 430</td><td> 393</td><td> 305</td><td> 327</td><td> 347</td><td> 392</td><td> 423</td><td> 354</td><td> 379</td><td> 419</td><td> 876</td></tr>\n",
       "\t<tr><th scope=row>2001</th><td> 514</td><td> 515</td><td> 542</td><td> 509</td><td> 455</td><td> 507</td><td> 555</td><td> 599</td><td> 484</td><td> 612</td><td> 673</td><td>1343</td></tr>\n",
       "\t<tr><th scope=row>2002</th><td> 893</td><td>1248</td><td>1452</td><td>1323</td><td>1193</td><td>1155</td><td>1164</td><td>1055</td><td> 896</td><td> 847</td><td> 934</td><td>1688</td></tr>\n",
       "\t<tr><th scope=row>2003</th><td> 786</td><td> 818</td><td> 886</td><td> 620</td><td> 610</td><td> 550</td><td> 612</td><td> 544</td><td> 527</td><td> 445</td><td> 591</td><td>1021</td></tr>\n",
       "\t<tr><th scope=row>2004</th><td> 704</td><td> 686</td><td> 644</td><td> 511</td><td> 486</td><td> 552</td><td> 584</td><td> 469</td><td> 465</td><td> 477</td><td> 542</td><td> 921</td></tr>\n",
       "\t<tr><th scope=row>2005</th><td> 685</td><td> 705</td><td> 797</td><td> 585</td><td> 546</td><td> 673</td><td> 735</td><td> 657</td><td> 528</td><td> 546</td><td> 608</td><td> 995</td></tr>\n",
       "\t<tr><th scope=row>2006</th><td> 662</td><td> 651</td><td> 647</td><td> 532</td><td> 551</td><td> 596</td><td> 627</td><td> 626</td><td> 580</td><td> 610</td><td> 702</td><td>1042</td></tr>\n",
       "\t<tr><th scope=row>2007</th><td> 924</td><td> 733</td><td> 720</td><td> 592</td><td> 602</td><td> 696</td><td> 707</td><td> 606</td><td> 661</td><td> 813</td><td> 846</td><td>1207</td></tr>\n",
       "\t<tr><th scope=row>2008</th><td> 897</td><td> 882</td><td> 837</td><td> 752</td><td> 771</td><td> 907</td><td> 915</td><td> 806</td><td> 856</td><td> 911</td><td>1153</td><td>1541</td></tr>\n",
       "\t<tr><th scope=row>2009</th><td>1244</td><td>1387</td><td>1505</td><td> 987</td><td>1140</td><td>1303</td><td>1231</td><td>1122</td><td>1181</td><td>1363</td><td>1441</td><td>1709</td></tr>\n",
       "\t<tr><th scope=row>2010</th><td>1323</td><td>1373</td><td>1486</td><td>1089</td><td>1189</td><td>1394</td><td>1110</td><td>1154</td><td>1137</td><td>1238</td><td>1567</td><td>1843</td></tr>\n",
       "\t<tr><th scope=row>2011</th><td>1609</td><td>1668</td><td>1698</td><td>1403</td><td>1346</td><td>1406</td><td>1203</td><td>1375</td><td>1324</td><td>1364</td><td>1643</td><td>2212</td></tr>\n",
       "\t<tr><th scope=row>2012</th><td>1772</td><td>1754</td><td>1984</td><td>1432</td><td>1618</td><td>1698</td><td>1437</td><td>1639</td><td>1872</td><td>1858</td><td>2264</td><td>2779</td></tr>\n",
       "</tbody>\n",
       "</table>\n"
      ],
      "text/latex": [
       "\\begin{tabular}{r|llllllllllll}\n",
       "  & Jan & Feb & Mar & Apr & May & Jun & Jul & Aug & Sep & Oct & Nov & Dec\\\\\n",
       "\\hline\n",
       "\t2000 &  354 &  430 &  393 &  305 &  327 &  347 &  392 &  423 &  354 &  379 &  419 &  876\\\\\n",
       "\t2001 &  514 &  515 &  542 &  509 &  455 &  507 &  555 &  599 &  484 &  612 &  673 & 1343\\\\\n",
       "\t2002 &  893 & 1248 & 1452 & 1323 & 1193 & 1155 & 1164 & 1055 &  896 &  847 &  934 & 1688\\\\\n",
       "\t2003 &  786 &  818 &  886 &  620 &  610 &  550 &  612 &  544 &  527 &  445 &  591 & 1021\\\\\n",
       "\t2004 &  704 &  686 &  644 &  511 &  486 &  552 &  584 &  469 &  465 &  477 &  542 &  921\\\\\n",
       "\t2005 &  685 &  705 &  797 &  585 &  546 &  673 &  735 &  657 &  528 &  546 &  608 &  995\\\\\n",
       "\t2006 &  662 &  651 &  647 &  532 &  551 &  596 &  627 &  626 &  580 &  610 &  702 & 1042\\\\\n",
       "\t2007 &  924 &  733 &  720 &  592 &  602 &  696 &  707 &  606 &  661 &  813 &  846 & 1207\\\\\n",
       "\t2008 &  897 &  882 &  837 &  752 &  771 &  907 &  915 &  806 &  856 &  911 & 1153 & 1541\\\\\n",
       "\t2009 & 1244 & 1387 & 1505 &  987 & 1140 & 1303 & 1231 & 1122 & 1181 & 1363 & 1441 & 1709\\\\\n",
       "\t2010 & 1323 & 1373 & 1486 & 1089 & 1189 & 1394 & 1110 & 1154 & 1137 & 1238 & 1567 & 1843\\\\\n",
       "\t2011 & 1609 & 1668 & 1698 & 1403 & 1346 & 1406 & 1203 & 1375 & 1324 & 1364 & 1643 & 2212\\\\\n",
       "\t2012 & 1772 & 1754 & 1984 & 1432 & 1618 & 1698 & 1437 & 1639 & 1872 & 1858 & 2264 & 2779\\\\\n",
       "\\end{tabular}\n"
      ],
      "text/plain": [
       "     Jan  Feb  Mar  Apr  May  Jun  Jul  Aug  Sep  Oct  Nov  Dec \n",
       "2000  354  430  393  305  327  347  392  423  354  379  419  876\n",
       "2001  514  515  542  509  455  507  555  599  484  612  673 1343\n",
       "2002  893 1248 1452 1323 1193 1155 1164 1055  896  847  934 1688\n",
       "2003  786  818  886  620  610  550  612  544  527  445  591 1021\n",
       "2004  704  686  644  511  486  552  584  469  465  477  542  921\n",
       "2005  685  705  797  585  546  673  735  657  528  546  608  995\n",
       "2006  662  651  647  532  551  596  627  626  580  610  702 1042\n",
       "2007  924  733  720  592  602  696  707  606  661  813  846 1207\n",
       "2008  897  882  837  752  771  907  915  806  856  911 1153 1541\n",
       "2009 1244 1387 1505  987 1140 1303 1231 1122 1181 1363 1441 1709\n",
       "2010 1323 1373 1486 1089 1189 1394 1110 1154 1137 1238 1567 1843\n",
       "2011 1609 1668 1698 1403 1346 1406 1203 1375 1324 1364 1643 2212\n",
       "2012 1772 1754 1984 1432 1618 1698 1437 1639 1872 1858 2264 2779"
      ]
     },
     "metadata": {},
     "output_type": "display_data"
    }
   ],
   "source": [
    "#Carga de datos\n",
    "Yt <- read.delim(\"./datasets/datatesisaereo.txt\", header=T)\n",
    "#ts para convertir a serie de tiempo\n",
    "Yt <- ts(Yt, start = c(2000, 1), freq = 12 )\n",
    "Yt"
   ]
  },
  {
   "cell_type": "markdown",
   "metadata": {},
   "source": [
    "### Grafico de la serie"
   ]
  },
  {
   "cell_type": "code",
   "execution_count": 4,
   "metadata": {},
   "outputs": [
    {
     "data": {
      "image/png": "[encoded data removed]",
      "text/plain": [
       "plot without title"
      ]
     },
     "metadata": {},
     "output_type": "display_data"
    }
   ],
   "source": [
    "plot(Yt)"
   ]
  },
  {
   "cell_type": "markdown",
   "metadata": {},
   "source": [
    "### Agrupacion de meses"
   ]
  },
  {
   "cell_type": "code",
   "execution_count": 5,
   "metadata": {
    "scrolled": false
   },
   "outputs": [
    {
     "name": "stderr",
     "output_type": "stream",
     "text": [
      "ERROR while rich displaying an object: Error in repr_matrix_generic(obj, \"\\n%s%s\\n\", sprintf(\"|%%s\\n|%s|\\n\", : el argumento formal \"cols\" concuerda con múltiples argumentos especificados\n",
      "\n",
      "Traceback:\n",
      "1. FUN(X[[i]], ...)\n",
      "2. tryCatch(withCallingHandlers({\n",
      " .     if (!mime %in% names(repr::mime2repr)) \n",
      " .         stop(\"No repr_* for mimetype \", mime, \" in repr::mime2repr\")\n",
      " .     rpr <- repr::mime2repr[[mime]](obj)\n",
      " .     if (is.null(rpr)) \n",
      " .         return(NULL)\n",
      " .     prepare_content(is.raw(rpr), rpr)\n",
      " . }, error = error_handler), error = outer_handler)\n",
      "3. tryCatchList(expr, classes, parentenv, handlers)\n",
      "4. tryCatchOne(expr, names, parentenv, handlers[[1L]])\n",
      "5. doTryCatch(return(expr), name, parentenv, handler)\n",
      "6. withCallingHandlers({\n",
      " .     if (!mime %in% names(repr::mime2repr)) \n",
      " .         stop(\"No repr_* for mimetype \", mime, \" in repr::mime2repr\")\n",
      " .     rpr <- repr::mime2repr[[mime]](obj)\n",
      " .     if (is.null(rpr)) \n",
      " .         return(NULL)\n",
      " .     prepare_content(is.raw(rpr), rpr)\n",
      " . }, error = error_handler)\n",
      "7. repr::mime2repr[[mime]](obj)\n",
      "8. repr_markdown.ts(obj)\n",
      "9. repr_ts_generic(obj, repr_markdown.matrix, ...)\n",
      "10. repr_func(m, ..., rows = nrow(m), cols = ncol(m))\n"
     ]
    },
    {
     "data": {
      "text/html": [
       "<table>\n",
       "<thead><tr><th></th><th scope=col>Jan</th><th scope=col>Feb</th><th scope=col>Mar</th><th scope=col>Apr</th><th scope=col>May</th><th scope=col>Jun</th><th scope=col>Jul</th><th scope=col>Aug</th><th scope=col>Sep</th><th scope=col>Oct</th><th scope=col>Nov</th><th scope=col>Dec</th></tr></thead>\n",
       "<tbody>\n",
       "\t<tr><th scope=row>2000</th><td> 1</td><td> 2</td><td> 3</td><td> 4</td><td> 5</td><td> 6</td><td> 7</td><td> 8</td><td> 9</td><td>10</td><td>11</td><td>12</td></tr>\n",
       "\t<tr><th scope=row>2001</th><td> 1</td><td> 2</td><td> 3</td><td> 4</td><td> 5</td><td> 6</td><td> 7</td><td> 8</td><td> 9</td><td>10</td><td>11</td><td>12</td></tr>\n",
       "\t<tr><th scope=row>2002</th><td> 1</td><td> 2</td><td> 3</td><td> 4</td><td> 5</td><td> 6</td><td> 7</td><td> 8</td><td> 9</td><td>10</td><td>11</td><td>12</td></tr>\n",
       "\t<tr><th scope=row>2003</th><td> 1</td><td> 2</td><td> 3</td><td> 4</td><td> 5</td><td> 6</td><td> 7</td><td> 8</td><td> 9</td><td>10</td><td>11</td><td>12</td></tr>\n",
       "\t<tr><th scope=row>2004</th><td> 1</td><td> 2</td><td> 3</td><td> 4</td><td> 5</td><td> 6</td><td> 7</td><td> 8</td><td> 9</td><td>10</td><td>11</td><td>12</td></tr>\n",
       "\t<tr><th scope=row>2005</th><td> 1</td><td> 2</td><td> 3</td><td> 4</td><td> 5</td><td> 6</td><td> 7</td><td> 8</td><td> 9</td><td>10</td><td>11</td><td>12</td></tr>\n",
       "\t<tr><th scope=row>2006</th><td> 1</td><td> 2</td><td> 3</td><td> 4</td><td> 5</td><td> 6</td><td> 7</td><td> 8</td><td> 9</td><td>10</td><td>11</td><td>12</td></tr>\n",
       "\t<tr><th scope=row>2007</th><td> 1</td><td> 2</td><td> 3</td><td> 4</td><td> 5</td><td> 6</td><td> 7</td><td> 8</td><td> 9</td><td>10</td><td>11</td><td>12</td></tr>\n",
       "\t<tr><th scope=row>2008</th><td> 1</td><td> 2</td><td> 3</td><td> 4</td><td> 5</td><td> 6</td><td> 7</td><td> 8</td><td> 9</td><td>10</td><td>11</td><td>12</td></tr>\n",
       "\t<tr><th scope=row>2009</th><td> 1</td><td> 2</td><td> 3</td><td> 4</td><td> 5</td><td> 6</td><td> 7</td><td> 8</td><td> 9</td><td>10</td><td>11</td><td>12</td></tr>\n",
       "\t<tr><th scope=row>2010</th><td> 1</td><td> 2</td><td> 3</td><td> 4</td><td> 5</td><td> 6</td><td> 7</td><td> 8</td><td> 9</td><td>10</td><td>11</td><td>12</td></tr>\n",
       "\t<tr><th scope=row>2011</th><td> 1</td><td> 2</td><td> 3</td><td> 4</td><td> 5</td><td> 6</td><td> 7</td><td> 8</td><td> 9</td><td>10</td><td>11</td><td>12</td></tr>\n",
       "\t<tr><th scope=row>2012</th><td> 1</td><td> 2</td><td> 3</td><td> 4</td><td> 5</td><td> 6</td><td> 7</td><td> 8</td><td> 9</td><td>10</td><td>11</td><td>12</td></tr>\n",
       "</tbody>\n",
       "</table>\n"
      ],
      "text/latex": [
       "\\begin{tabular}{r|llllllllllll}\n",
       "  & Jan & Feb & Mar & Apr & May & Jun & Jul & Aug & Sep & Oct & Nov & Dec\\\\\n",
       "\\hline\n",
       "\t2000 &  1 &  2 &  3 &  4 &  5 &  6 &  7 &  8 &  9 & 10 & 11 & 12\\\\\n",
       "\t2001 &  1 &  2 &  3 &  4 &  5 &  6 &  7 &  8 &  9 & 10 & 11 & 12\\\\\n",
       "\t2002 &  1 &  2 &  3 &  4 &  5 &  6 &  7 &  8 &  9 & 10 & 11 & 12\\\\\n",
       "\t2003 &  1 &  2 &  3 &  4 &  5 &  6 &  7 &  8 &  9 & 10 & 11 & 12\\\\\n",
       "\t2004 &  1 &  2 &  3 &  4 &  5 &  6 &  7 &  8 &  9 & 10 & 11 & 12\\\\\n",
       "\t2005 &  1 &  2 &  3 &  4 &  5 &  6 &  7 &  8 &  9 & 10 & 11 & 12\\\\\n",
       "\t2006 &  1 &  2 &  3 &  4 &  5 &  6 &  7 &  8 &  9 & 10 & 11 & 12\\\\\n",
       "\t2007 &  1 &  2 &  3 &  4 &  5 &  6 &  7 &  8 &  9 & 10 & 11 & 12\\\\\n",
       "\t2008 &  1 &  2 &  3 &  4 &  5 &  6 &  7 &  8 &  9 & 10 & 11 & 12\\\\\n",
       "\t2009 &  1 &  2 &  3 &  4 &  5 &  6 &  7 &  8 &  9 & 10 & 11 & 12\\\\\n",
       "\t2010 &  1 &  2 &  3 &  4 &  5 &  6 &  7 &  8 &  9 & 10 & 11 & 12\\\\\n",
       "\t2011 &  1 &  2 &  3 &  4 &  5 &  6 &  7 &  8 &  9 & 10 & 11 & 12\\\\\n",
       "\t2012 &  1 &  2 &  3 &  4 &  5 &  6 &  7 &  8 &  9 & 10 & 11 & 12\\\\\n",
       "\\end{tabular}\n"
      ],
      "text/plain": [
       "     Jan Feb Mar Apr May Jun Jul Aug Sep Oct Nov Dec\n",
       "2000  1   2   3   4   5   6   7   8   9  10  11  12 \n",
       "2001  1   2   3   4   5   6   7   8   9  10  11  12 \n",
       "2002  1   2   3   4   5   6   7   8   9  10  11  12 \n",
       "2003  1   2   3   4   5   6   7   8   9  10  11  12 \n",
       "2004  1   2   3   4   5   6   7   8   9  10  11  12 \n",
       "2005  1   2   3   4   5   6   7   8   9  10  11  12 \n",
       "2006  1   2   3   4   5   6   7   8   9  10  11  12 \n",
       "2007  1   2   3   4   5   6   7   8   9  10  11  12 \n",
       "2008  1   2   3   4   5   6   7   8   9  10  11  12 \n",
       "2009  1   2   3   4   5   6   7   8   9  10  11  12 \n",
       "2010  1   2   3   4   5   6   7   8   9  10  11  12 \n",
       "2011  1   2   3   4   5   6   7   8   9  10  11  12 \n",
       "2012  1   2   3   4   5   6   7   8   9  10  11  12 "
      ]
     },
     "metadata": {},
     "output_type": "display_data"
    }
   ],
   "source": [
    "cycle(Yt)"
   ]
  },
  {
   "cell_type": "markdown",
   "metadata": {},
   "source": [
    "### Diagrama de Cajas"
   ]
  },
  {
   "cell_type": "code",
   "execution_count": 6,
   "metadata": {},
   "outputs": [
    {
     "data": {
      "image/png": "[encoded data removed]",
      "text/plain": [
       "plot without title"
      ]
     },
     "metadata": {},
     "output_type": "display_data"
    }
   ],
   "source": [
    "boxplot(Yt ~ cycle(Yt), horizontal = FALSE, col = \"YELLOW\") ## ALT + 126"
   ]
  },
  {
   "cell_type": "code",
   "execution_count": 7,
   "metadata": {},
   "outputs": [
    {
     "data": {
      "image/png": "[encoded data removed]",
      "text/plain": [
       "plot without title"
      ]
     },
     "metadata": {},
     "output_type": "display_data"
    }
   ],
   "source": [
    "boxplot(Yt ~ cycle(Yt), horizontal = TRUE, col = \"YELLOW\") ## ALT + 126"
   ]
  },
  {
   "cell_type": "markdown",
   "metadata": {},
   "source": [
    "### Descomposición de la serie de tipo multiplicativo"
   ]
  },
  {
   "cell_type": "code",
   "execution_count": 8,
   "metadata": {},
   "outputs": [
    {
     "data": {
      "text/plain": [
       "$x\n",
       "      Jan  Feb  Mar  Apr  May  Jun  Jul  Aug  Sep  Oct  Nov  Dec\n",
       "2000  354  430  393  305  327  347  392  423  354  379  419  876\n",
       "2001  514  515  542  509  455  507  555  599  484  612  673 1343\n",
       "2002  893 1248 1452 1323 1193 1155 1164 1055  896  847  934 1688\n",
       "2003  786  818  886  620  610  550  612  544  527  445  591 1021\n",
       "2004  704  686  644  511  486  552  584  469  465  477  542  921\n",
       "2005  685  705  797  585  546  673  735  657  528  546  608  995\n",
       "2006  662  651  647  532  551  596  627  626  580  610  702 1042\n",
       "2007  924  733  720  592  602  696  707  606  661  813  846 1207\n",
       "2008  897  882  837  752  771  907  915  806  856  911 1153 1541\n",
       "2009 1244 1387 1505  987 1140 1303 1231 1122 1181 1363 1441 1709\n",
       "2010 1323 1373 1486 1089 1189 1394 1110 1154 1137 1238 1567 1843\n",
       "2011 1609 1668 1698 1403 1346 1406 1203 1375 1324 1364 1643 2212\n",
       "2012 1772 1754 1984 1432 1618 1698 1437 1639 1872 1858 2264 2779\n",
       "\n",
       "$seasonal\n",
       "           Jan       Feb       Mar       Apr       May       Jun       Jul\n",
       "2000 1.0695399 1.0839904 1.1300115 0.8881280 0.8784004 0.9503415 0.9404621\n",
       "2001 1.0695399 1.0839904 1.1300115 0.8881280 0.8784004 0.9503415 0.9404621\n",
       "2002 1.0695399 1.0839904 1.1300115 0.8881280 0.8784004 0.9503415 0.9404621\n",
       "2003 1.0695399 1.0839904 1.1300115 0.8881280 0.8784004 0.9503415 0.9404621\n",
       "2004 1.0695399 1.0839904 1.1300115 0.8881280 0.8784004 0.9503415 0.9404621\n",
       "2005 1.0695399 1.0839904 1.1300115 0.8881280 0.8784004 0.9503415 0.9404621\n",
       "2006 1.0695399 1.0839904 1.1300115 0.8881280 0.8784004 0.9503415 0.9404621\n",
       "2007 1.0695399 1.0839904 1.1300115 0.8881280 0.8784004 0.9503415 0.9404621\n",
       "2008 1.0695399 1.0839904 1.1300115 0.8881280 0.8784004 0.9503415 0.9404621\n",
       "2009 1.0695399 1.0839904 1.1300115 0.8881280 0.8784004 0.9503415 0.9404621\n",
       "2010 1.0695399 1.0839904 1.1300115 0.8881280 0.8784004 0.9503415 0.9404621\n",
       "2011 1.0695399 1.0839904 1.1300115 0.8881280 0.8784004 0.9503415 0.9404621\n",
       "2012 1.0695399 1.0839904 1.1300115 0.8881280 0.8784004 0.9503415 0.9404621\n",
       "           Aug       Sep       Oct       Nov       Dec\n",
       "2000 0.8828837 0.8193779 0.8621479 0.9833222 1.5113946\n",
       "2001 0.8828837 0.8193779 0.8621479 0.9833222 1.5113946\n",
       "2002 0.8828837 0.8193779 0.8621479 0.9833222 1.5113946\n",
       "2003 0.8828837 0.8193779 0.8621479 0.9833222 1.5113946\n",
       "2004 0.8828837 0.8193779 0.8621479 0.9833222 1.5113946\n",
       "2005 0.8828837 0.8193779 0.8621479 0.9833222 1.5113946\n",
       "2006 0.8828837 0.8193779 0.8621479 0.9833222 1.5113946\n",
       "2007 0.8828837 0.8193779 0.8621479 0.9833222 1.5113946\n",
       "2008 0.8828837 0.8193779 0.8621479 0.9833222 1.5113946\n",
       "2009 0.8828837 0.8193779 0.8621479 0.9833222 1.5113946\n",
       "2010 0.8828837 0.8193779 0.8621479 0.9833222 1.5113946\n",
       "2011 0.8828837 0.8193779 0.8621479 0.9833222 1.5113946\n",
       "2012 0.8828837 0.8193779 0.8621479 0.9833222 1.5113946\n",
       "\n",
       "$trend\n",
       "           Jan       Feb       Mar       Apr       May       Jun       Jul\n",
       "2000        NA        NA        NA        NA        NA        NA  423.2500\n",
       "2001  497.2083  511.3333  524.0833  539.2083  559.5000  589.5417  624.7917\n",
       "2002  986.2083 1030.5833 1066.7500 1093.7083 1114.3750 1139.6250 1149.5417\n",
       "2003  881.5000  837.2083  800.5417  768.4167  737.3750  695.2917  664.0833\n",
       "2004  609.0833  604.7917  599.0833  597.8333  597.1250  590.9167  585.9583\n",
       "2005  627.0417  641.1667  651.6250  657.1250  662.7500  668.5833  670.7083\n",
       "2006  637.8333  632.0417  632.9167  637.7500  644.3333  650.2083  663.0833\n",
       "2007  707.8333  710.3333  712.8750  724.7083  739.1667  752.0417  757.7917\n",
       "2008  832.5000  849.5000  865.9583  878.1667  895.0417  921.7500  950.1250\n",
       "2009 1158.8333 1185.1667 1211.8750 1244.2500 1275.0833 1294.0833 1304.3750\n",
       "2010 1320.0417 1316.3333 1315.8333 1308.7917 1308.8333 1319.6667 1337.1667\n",
       "2011 1435.4583 1448.5417 1465.5417 1478.5833 1487.0000 1505.5417 1527.7083\n",
       "2012 1624.6667 1645.4167 1679.2500 1722.6667 1769.1250 1818.6250        NA\n",
       "           Aug       Sep       Oct       Nov       Dec\n",
       "2000  433.4583  443.2083  457.9167  471.7500  483.7500\n",
       "2001  671.1250  739.5833  811.4167  876.0833  933.8333\n",
       "2002 1127.1667 1085.6667 1032.7917  979.2083  929.7083\n",
       "2003  655.1667  639.5833  624.9583  615.2500  610.1667\n",
       "2004  585.9583  593.1250  602.5833  608.1667  615.7083\n",
       "2005  667.5000  659.0000  650.5417  648.5417  645.5417\n",
       "2006  677.4167  683.8750  689.4167  694.0417  700.3333\n",
       "2007  762.8750  773.9583  785.5000  799.2083  815.0417\n",
       "2008  985.6250 1034.5000 1072.1250 1097.2917 1129.1667\n",
       "2009 1307.0833 1305.7083 1309.1667 1315.4583 1321.2917\n",
       "2010 1361.3750 1382.5000 1404.4167 1424.0417 1431.0833\n",
       "2011 1538.0833 1553.5833 1566.7083 1579.2500 1602.7500\n",
       "2012        NA        NA        NA        NA        NA\n",
       "\n",
       "$random\n",
       "           Jan       Feb       Mar       Apr       May       Jun       Jul\n",
       "2000        NA        NA        NA        NA        NA        NA 0.9847995\n",
       "2001 0.9665576 0.9291326 0.9152001 1.0628835 0.9258034 0.9049274 0.9445316\n",
       "2002 0.8466147 1.1171360 1.2045396 1.3620178 1.2187554 1.0664495 1.0766808\n",
       "2003 0.8336874 0.9013518 0.9794153 0.9084884 0.9417788 0.8323691 0.9799131\n",
       "2004 1.0806846 1.0463884 0.9512962 0.9624213 0.9265706 0.9829538 1.0597534\n",
       "2005 1.0214032 1.0143615 1.0823749 1.0023799 0.9378867 1.0592045 1.1652319\n",
       "2006 0.9704067 0.9501887 0.9046381 0.9392596 0.9735281 0.9645262 1.0054446\n",
       "2007 1.2205174 0.9519549 0.8937915 0.9197778 0.9271748 0.9738400 0.9920380\n",
       "2008 1.0074215 0.9578109 0.8553534 0.9641961 0.9806603 1.0354149 1.0239979\n",
       "2009 1.0036965 1.0796217 1.0989952 0.8931697 1.0178265 1.0595037 1.0034929\n",
       "2010 0.9370769 0.9622308 0.9993901 0.9368754 1.0342011 1.1115239 0.8826655\n",
       "2011 1.0480174 1.0622815 1.0253134 1.0684060 1.0304848 0.9826816 0.8373054\n",
       "2012 1.0197706 0.9833956 1.0455467 0.9359793 1.0411840 0.9824599        NA\n",
       "           Aug       Sep       Oct       Nov       Dec\n",
       "2000 1.1053238 0.9747901 0.9599994 0.9032465 1.1981337\n",
       "2001 1.0109273 0.7986822 0.8748341 0.7812208 0.9515438\n",
       "2002 1.0601341 1.0072268 0.9512374 0.9700094 1.2012900\n",
       "2003 0.9404671 1.0056092 0.8258994 0.9768773 1.1071320\n",
       "2004 0.9065726 0.9568029 0.9181623 0.9063185 0.9897072\n",
       "2005 1.1148350 0.9778320 0.9734995 0.9533884 1.0198139\n",
       "2006 1.0466825 1.0350636 1.0262810 1.0286218 0.9844305\n",
       "2007 0.8997373 1.0423165 1.2005011 1.0765012 0.9798275\n",
       "2008 0.9262321 1.0098550 0.9855784 1.0685907 0.9029563\n",
       "2009 0.9722682 1.1038739 1.2075889 1.1140150 0.8557867\n",
       "2010 0.9601178 1.0037165 1.0224519 1.1190525 0.8520843\n",
       "2011 1.0125567 1.0400858 1.0098211 1.0580126 0.9131487\n",
       "2012        NA        NA        NA        NA        NA\n",
       "\n",
       "$figure\n",
       " [1] 1.0695399 1.0839904 1.1300115 0.8881280 0.8784004 0.9503415 0.9404621\n",
       " [8] 0.8828837 0.8193779 0.8621479 0.9833222 1.5113946\n",
       "\n",
       "$type\n",
       "[1] \"multiplicative\"\n",
       "\n",
       "attr(,\"class\")\n",
       "[1] \"decomposed.ts\""
      ]
     },
     "metadata": {},
     "output_type": "display_data"
    }
   ],
   "source": [
    "#Aplicamos la sentencia para un enf. de descomposicion\n",
    "Yt.ts.desc <- decompose(Yt, type = \"multiplicative\")\n",
    "Yt.ts.desc"
   ]
  },
  {
   "cell_type": "code",
   "execution_count": 9,
   "metadata": {},
   "outputs": [
    {
     "name": "stderr",
     "output_type": "stream",
     "text": [
      "ERROR while rich displaying an object: Error in repr_matrix_generic(obj, \"\\n%s%s\\n\", sprintf(\"|%%s\\n|%s|\\n\", : el argumento formal \"cols\" concuerda con múltiples argumentos especificados\n",
      "\n",
      "Traceback:\n",
      "1. FUN(X[[i]], ...)\n",
      "2. tryCatch(withCallingHandlers({\n",
      " .     if (!mime %in% names(repr::mime2repr)) \n",
      " .         stop(\"No repr_* for mimetype \", mime, \" in repr::mime2repr\")\n",
      " .     rpr <- repr::mime2repr[[mime]](obj)\n",
      " .     if (is.null(rpr)) \n",
      " .         return(NULL)\n",
      " .     prepare_content(is.raw(rpr), rpr)\n",
      " . }, error = error_handler), error = outer_handler)\n",
      "3. tryCatchList(expr, classes, parentenv, handlers)\n",
      "4. tryCatchOne(expr, names, parentenv, handlers[[1L]])\n",
      "5. doTryCatch(return(expr), name, parentenv, handler)\n",
      "6. withCallingHandlers({\n",
      " .     if (!mime %in% names(repr::mime2repr)) \n",
      " .         stop(\"No repr_* for mimetype \", mime, \" in repr::mime2repr\")\n",
      " .     rpr <- repr::mime2repr[[mime]](obj)\n",
      " .     if (is.null(rpr)) \n",
      " .         return(NULL)\n",
      " .     prepare_content(is.raw(rpr), rpr)\n",
      " . }, error = error_handler)\n",
      "7. repr::mime2repr[[mime]](obj)\n",
      "8. repr_markdown.ts(obj)\n",
      "9. repr_ts_generic(obj, repr_markdown.matrix, ...)\n",
      "10. repr_func(m, ..., rows = nrow(m), cols = ncol(m))\n"
     ]
    },
    {
     "data": {
      "text/html": [
       "<table>\n",
       "<thead><tr><th></th><th scope=col>Jan</th><th scope=col>Feb</th><th scope=col>Mar</th><th scope=col>Apr</th><th scope=col>May</th><th scope=col>Jun</th><th scope=col>Jul</th><th scope=col>Aug</th><th scope=col>Sep</th><th scope=col>Oct</th><th scope=col>Nov</th><th scope=col>Dec</th></tr></thead>\n",
       "<tbody>\n",
       "\t<tr><th scope=row>2000</th><td> 354</td><td> 430</td><td> 393</td><td> 305</td><td> 327</td><td> 347</td><td> 392</td><td> 423</td><td> 354</td><td> 379</td><td> 419</td><td> 876</td></tr>\n",
       "\t<tr><th scope=row>2001</th><td> 514</td><td> 515</td><td> 542</td><td> 509</td><td> 455</td><td> 507</td><td> 555</td><td> 599</td><td> 484</td><td> 612</td><td> 673</td><td>1343</td></tr>\n",
       "\t<tr><th scope=row>2002</th><td> 893</td><td>1248</td><td>1452</td><td>1323</td><td>1193</td><td>1155</td><td>1164</td><td>1055</td><td> 896</td><td> 847</td><td> 934</td><td>1688</td></tr>\n",
       "\t<tr><th scope=row>2003</th><td> 786</td><td> 818</td><td> 886</td><td> 620</td><td> 610</td><td> 550</td><td> 612</td><td> 544</td><td> 527</td><td> 445</td><td> 591</td><td>1021</td></tr>\n",
       "\t<tr><th scope=row>2004</th><td> 704</td><td> 686</td><td> 644</td><td> 511</td><td> 486</td><td> 552</td><td> 584</td><td> 469</td><td> 465</td><td> 477</td><td> 542</td><td> 921</td></tr>\n",
       "\t<tr><th scope=row>2005</th><td> 685</td><td> 705</td><td> 797</td><td> 585</td><td> 546</td><td> 673</td><td> 735</td><td> 657</td><td> 528</td><td> 546</td><td> 608</td><td> 995</td></tr>\n",
       "\t<tr><th scope=row>2006</th><td> 662</td><td> 651</td><td> 647</td><td> 532</td><td> 551</td><td> 596</td><td> 627</td><td> 626</td><td> 580</td><td> 610</td><td> 702</td><td>1042</td></tr>\n",
       "\t<tr><th scope=row>2007</th><td> 924</td><td> 733</td><td> 720</td><td> 592</td><td> 602</td><td> 696</td><td> 707</td><td> 606</td><td> 661</td><td> 813</td><td> 846</td><td>1207</td></tr>\n",
       "\t<tr><th scope=row>2008</th><td> 897</td><td> 882</td><td> 837</td><td> 752</td><td> 771</td><td> 907</td><td> 915</td><td> 806</td><td> 856</td><td> 911</td><td>1153</td><td>1541</td></tr>\n",
       "\t<tr><th scope=row>2009</th><td>1244</td><td>1387</td><td>1505</td><td> 987</td><td>1140</td><td>1303</td><td>1231</td><td>1122</td><td>1181</td><td>1363</td><td>1441</td><td>1709</td></tr>\n",
       "\t<tr><th scope=row>2010</th><td>1323</td><td>1373</td><td>1486</td><td>1089</td><td>1189</td><td>1394</td><td>1110</td><td>1154</td><td>1137</td><td>1238</td><td>1567</td><td>1843</td></tr>\n",
       "\t<tr><th scope=row>2011</th><td>1609</td><td>1668</td><td>1698</td><td>1403</td><td>1346</td><td>1406</td><td>1203</td><td>1375</td><td>1324</td><td>1364</td><td>1643</td><td>2212</td></tr>\n",
       "\t<tr><th scope=row>2012</th><td>1772</td><td>1754</td><td>1984</td><td>1432</td><td>1618</td><td>1698</td><td>1437</td><td>1639</td><td>1872</td><td>1858</td><td>2264</td><td>2779</td></tr>\n",
       "</tbody>\n",
       "</table>\n"
      ],
      "text/latex": [
       "\\begin{tabular}{r|llllllllllll}\n",
       "  & Jan & Feb & Mar & Apr & May & Jun & Jul & Aug & Sep & Oct & Nov & Dec\\\\\n",
       "\\hline\n",
       "\t2000 &  354 &  430 &  393 &  305 &  327 &  347 &  392 &  423 &  354 &  379 &  419 &  876\\\\\n",
       "\t2001 &  514 &  515 &  542 &  509 &  455 &  507 &  555 &  599 &  484 &  612 &  673 & 1343\\\\\n",
       "\t2002 &  893 & 1248 & 1452 & 1323 & 1193 & 1155 & 1164 & 1055 &  896 &  847 &  934 & 1688\\\\\n",
       "\t2003 &  786 &  818 &  886 &  620 &  610 &  550 &  612 &  544 &  527 &  445 &  591 & 1021\\\\\n",
       "\t2004 &  704 &  686 &  644 &  511 &  486 &  552 &  584 &  469 &  465 &  477 &  542 &  921\\\\\n",
       "\t2005 &  685 &  705 &  797 &  585 &  546 &  673 &  735 &  657 &  528 &  546 &  608 &  995\\\\\n",
       "\t2006 &  662 &  651 &  647 &  532 &  551 &  596 &  627 &  626 &  580 &  610 &  702 & 1042\\\\\n",
       "\t2007 &  924 &  733 &  720 &  592 &  602 &  696 &  707 &  606 &  661 &  813 &  846 & 1207\\\\\n",
       "\t2008 &  897 &  882 &  837 &  752 &  771 &  907 &  915 &  806 &  856 &  911 & 1153 & 1541\\\\\n",
       "\t2009 & 1244 & 1387 & 1505 &  987 & 1140 & 1303 & 1231 & 1122 & 1181 & 1363 & 1441 & 1709\\\\\n",
       "\t2010 & 1323 & 1373 & 1486 & 1089 & 1189 & 1394 & 1110 & 1154 & 1137 & 1238 & 1567 & 1843\\\\\n",
       "\t2011 & 1609 & 1668 & 1698 & 1403 & 1346 & 1406 & 1203 & 1375 & 1324 & 1364 & 1643 & 2212\\\\\n",
       "\t2012 & 1772 & 1754 & 1984 & 1432 & 1618 & 1698 & 1437 & 1639 & 1872 & 1858 & 2264 & 2779\\\\\n",
       "\\end{tabular}\n"
      ],
      "text/plain": [
       "     Jan  Feb  Mar  Apr  May  Jun  Jul  Aug  Sep  Oct  Nov  Dec \n",
       "2000  354  430  393  305  327  347  392  423  354  379  419  876\n",
       "2001  514  515  542  509  455  507  555  599  484  612  673 1343\n",
       "2002  893 1248 1452 1323 1193 1155 1164 1055  896  847  934 1688\n",
       "2003  786  818  886  620  610  550  612  544  527  445  591 1021\n",
       "2004  704  686  644  511  486  552  584  469  465  477  542  921\n",
       "2005  685  705  797  585  546  673  735  657  528  546  608  995\n",
       "2006  662  651  647  532  551  596  627  626  580  610  702 1042\n",
       "2007  924  733  720  592  602  696  707  606  661  813  846 1207\n",
       "2008  897  882  837  752  771  907  915  806  856  911 1153 1541\n",
       "2009 1244 1387 1505  987 1140 1303 1231 1122 1181 1363 1441 1709\n",
       "2010 1323 1373 1486 1089 1189 1394 1110 1154 1137 1238 1567 1843\n",
       "2011 1609 1668 1698 1403 1346 1406 1203 1375 1324 1364 1643 2212\n",
       "2012 1772 1754 1984 1432 1618 1698 1437 1639 1872 1858 2264 2779"
      ]
     },
     "metadata": {},
     "output_type": "display_data"
    }
   ],
   "source": [
    "Yt.ts.desc$x"
   ]
  },
  {
   "cell_type": "markdown",
   "metadata": {},
   "source": [
    "### Ploteo de la descomposion"
   ]
  },
  {
   "cell_type": "code",
   "execution_count": 10,
   "metadata": {},
   "outputs": [
    {
     "data": {
      "image/png": "[encoded data removed]",
      "text/plain": [
       "plot without title"
      ]
     },
     "metadata": {},
     "output_type": "display_data"
    }
   ],
   "source": [
    "plot(Yt.ts.desc, xlab = 'Anho')"
   ]
  },
  {
   "cell_type": "markdown",
   "metadata": {},
   "source": [
    "### Resumen de la tendencia"
   ]
  },
  {
   "cell_type": "code",
   "execution_count": 11,
   "metadata": {},
   "outputs": [
    {
     "data": {
      "text/html": [
       "<table>\n",
       "<thead><tr><th scope=col>Yt.ts.desc.trend</th></tr></thead>\n",
       "<tbody>\n",
       "\t<tr><td>      NA</td></tr>\n",
       "\t<tr><td>      NA</td></tr>\n",
       "\t<tr><td>      NA</td></tr>\n",
       "\t<tr><td>      NA</td></tr>\n",
       "\t<tr><td>      NA</td></tr>\n",
       "\t<tr><td>      NA</td></tr>\n",
       "\t<tr><td>423.2500</td></tr>\n",
       "\t<tr><td>433.4583</td></tr>\n",
       "\t<tr><td>443.2083</td></tr>\n",
       "\t<tr><td>457.9167</td></tr>\n",
       "</tbody>\n",
       "</table>\n"
      ],
      "text/latex": [
       "\\begin{tabular}{r|l}\n",
       " Yt.ts.desc.trend\\\\\n",
       "\\hline\n",
       "\t       NA\\\\\n",
       "\t       NA\\\\\n",
       "\t       NA\\\\\n",
       "\t       NA\\\\\n",
       "\t       NA\\\\\n",
       "\t       NA\\\\\n",
       "\t 423.2500\\\\\n",
       "\t 433.4583\\\\\n",
       "\t 443.2083\\\\\n",
       "\t 457.9167\\\\\n",
       "\\end{tabular}\n"
      ],
      "text/markdown": [
       "\n",
       "| Yt.ts.desc.trend |\n",
       "|---|\n",
       "|       NA |\n",
       "|       NA |\n",
       "|       NA |\n",
       "|       NA |\n",
       "|       NA |\n",
       "|       NA |\n",
       "| 423.2500 |\n",
       "| 433.4583 |\n",
       "| 443.2083 |\n",
       "| 457.9167 |\n",
       "\n"
      ],
      "text/plain": [
       "   Yt.ts.desc.trend\n",
       "1        NA        \n",
       "2        NA        \n",
       "3        NA        \n",
       "4        NA        \n",
       "5        NA        \n",
       "6        NA        \n",
       "7  423.2500        \n",
       "8  433.4583        \n",
       "9  443.2083        \n",
       "10 457.9167        "
      ]
     },
     "metadata": {},
     "output_type": "display_data"
    }
   ],
   "source": [
    "tendencia <- data.frame(Yt.ts.desc$trend)\n",
    "head(tendencia, 10)"
   ]
  },
  {
   "cell_type": "code",
   "execution_count": 12,
   "metadata": {},
   "outputs": [
    {
     "data": {
      "text/plain": [
       " Yt.ts.desc.trend\n",
       " Min.   : 423.2  \n",
       " 1st Qu.: 645.2  \n",
       " Median : 806.0  \n",
       " Mean   : 939.6  \n",
       " 3rd Qu.:1296.7  \n",
       " Max.   :1818.6  \n",
       " NA's   :12      "
      ]
     },
     "metadata": {},
     "output_type": "display_data"
    }
   ],
   "source": [
    "summary(tendencia)"
   ]
  },
  {
   "cell_type": "markdown",
   "metadata": {},
   "source": [
    "Remplazar valores nulos por 0"
   ]
  },
  {
   "cell_type": "code",
   "execution_count": 13,
   "metadata": {},
   "outputs": [],
   "source": [
    "tendencia$Yt.ts.desc.trend[is.na(tendencia$Yt.ts.desc.trend)]=0"
   ]
  },
  {
   "cell_type": "markdown",
   "metadata": {},
   "source": [
    "### Modelamiento de la tendencia"
   ]
  },
  {
   "cell_type": "code",
   "execution_count": 14,
   "metadata": {},
   "outputs": [
    {
     "data": {
      "text/html": [
       "<ol class=list-inline>\n",
       "\t<li>1</li>\n",
       "\t<li>2</li>\n",
       "\t<li>3</li>\n",
       "\t<li>4</li>\n",
       "\t<li>5</li>\n",
       "\t<li>6</li>\n",
       "\t<li>7</li>\n",
       "\t<li>8</li>\n",
       "\t<li>9</li>\n",
       "\t<li>10</li>\n",
       "\t<li>11</li>\n",
       "\t<li>12</li>\n",
       "\t<li>13</li>\n",
       "\t<li>14</li>\n",
       "\t<li>15</li>\n",
       "\t<li>16</li>\n",
       "\t<li>17</li>\n",
       "\t<li>18</li>\n",
       "\t<li>19</li>\n",
       "\t<li>20</li>\n",
       "\t<li>21</li>\n",
       "\t<li>22</li>\n",
       "\t<li>23</li>\n",
       "\t<li>24</li>\n",
       "\t<li>25</li>\n",
       "\t<li>26</li>\n",
       "\t<li>27</li>\n",
       "\t<li>28</li>\n",
       "\t<li>29</li>\n",
       "\t<li>30</li>\n",
       "\t<li>31</li>\n",
       "\t<li>32</li>\n",
       "\t<li>33</li>\n",
       "\t<li>34</li>\n",
       "\t<li>35</li>\n",
       "\t<li>36</li>\n",
       "\t<li>37</li>\n",
       "\t<li>38</li>\n",
       "\t<li>39</li>\n",
       "\t<li>40</li>\n",
       "\t<li>41</li>\n",
       "\t<li>42</li>\n",
       "\t<li>43</li>\n",
       "\t<li>44</li>\n",
       "\t<li>45</li>\n",
       "\t<li>46</li>\n",
       "\t<li>47</li>\n",
       "\t<li>48</li>\n",
       "\t<li>49</li>\n",
       "\t<li>50</li>\n",
       "\t<li>51</li>\n",
       "\t<li>52</li>\n",
       "\t<li>53</li>\n",
       "\t<li>54</li>\n",
       "\t<li>55</li>\n",
       "\t<li>56</li>\n",
       "\t<li>57</li>\n",
       "\t<li>58</li>\n",
       "\t<li>59</li>\n",
       "\t<li>60</li>\n",
       "\t<li>61</li>\n",
       "\t<li>62</li>\n",
       "\t<li>63</li>\n",
       "\t<li>64</li>\n",
       "\t<li>65</li>\n",
       "\t<li>66</li>\n",
       "\t<li>67</li>\n",
       "\t<li>68</li>\n",
       "\t<li>69</li>\n",
       "\t<li>70</li>\n",
       "\t<li>71</li>\n",
       "\t<li>72</li>\n",
       "\t<li>73</li>\n",
       "\t<li>74</li>\n",
       "\t<li>75</li>\n",
       "\t<li>76</li>\n",
       "\t<li>77</li>\n",
       "\t<li>78</li>\n",
       "\t<li>79</li>\n",
       "\t<li>80</li>\n",
       "\t<li>81</li>\n",
       "\t<li>82</li>\n",
       "\t<li>83</li>\n",
       "\t<li>84</li>\n",
       "\t<li>85</li>\n",
       "\t<li>86</li>\n",
       "\t<li>87</li>\n",
       "\t<li>88</li>\n",
       "\t<li>89</li>\n",
       "\t<li>90</li>\n",
       "\t<li>91</li>\n",
       "\t<li>92</li>\n",
       "\t<li>93</li>\n",
       "\t<li>94</li>\n",
       "\t<li>95</li>\n",
       "\t<li>96</li>\n",
       "\t<li>97</li>\n",
       "\t<li>98</li>\n",
       "\t<li>99</li>\n",
       "\t<li>100</li>\n",
       "\t<li>101</li>\n",
       "\t<li>102</li>\n",
       "\t<li>103</li>\n",
       "\t<li>104</li>\n",
       "\t<li>105</li>\n",
       "\t<li>106</li>\n",
       "\t<li>107</li>\n",
       "\t<li>108</li>\n",
       "\t<li>109</li>\n",
       "\t<li>110</li>\n",
       "\t<li>111</li>\n",
       "\t<li>112</li>\n",
       "\t<li>113</li>\n",
       "\t<li>114</li>\n",
       "\t<li>115</li>\n",
       "\t<li>116</li>\n",
       "\t<li>117</li>\n",
       "\t<li>118</li>\n",
       "\t<li>119</li>\n",
       "\t<li>120</li>\n",
       "\t<li>121</li>\n",
       "\t<li>122</li>\n",
       "\t<li>123</li>\n",
       "\t<li>124</li>\n",
       "\t<li>125</li>\n",
       "\t<li>126</li>\n",
       "\t<li>127</li>\n",
       "\t<li>128</li>\n",
       "\t<li>129</li>\n",
       "\t<li>130</li>\n",
       "\t<li>131</li>\n",
       "\t<li>132</li>\n",
       "\t<li>133</li>\n",
       "\t<li>134</li>\n",
       "\t<li>135</li>\n",
       "\t<li>136</li>\n",
       "\t<li>137</li>\n",
       "\t<li>138</li>\n",
       "\t<li>139</li>\n",
       "\t<li>140</li>\n",
       "\t<li>141</li>\n",
       "\t<li>142</li>\n",
       "\t<li>143</li>\n",
       "\t<li>144</li>\n",
       "\t<li>145</li>\n",
       "\t<li>146</li>\n",
       "\t<li>147</li>\n",
       "\t<li>148</li>\n",
       "\t<li>149</li>\n",
       "\t<li>150</li>\n",
       "\t<li>151</li>\n",
       "\t<li>152</li>\n",
       "\t<li>153</li>\n",
       "\t<li>154</li>\n",
       "\t<li>155</li>\n",
       "\t<li>156</li>\n",
       "</ol>\n"
      ],
      "text/latex": [
       "\\begin{enumerate*}\n",
       "\\item 1\n",
       "\\item 2\n",
       "\\item 3\n",
       "\\item 4\n",
       "\\item 5\n",
       "\\item 6\n",
       "\\item 7\n",
       "\\item 8\n",
       "\\item 9\n",
       "\\item 10\n",
       "\\item 11\n",
       "\\item 12\n",
       "\\item 13\n",
       "\\item 14\n",
       "\\item 15\n",
       "\\item 16\n",
       "\\item 17\n",
       "\\item 18\n",
       "\\item 19\n",
       "\\item 20\n",
       "\\item 21\n",
       "\\item 22\n",
       "\\item 23\n",
       "\\item 24\n",
       "\\item 25\n",
       "\\item 26\n",
       "\\item 27\n",
       "\\item 28\n",
       "\\item 29\n",
       "\\item 30\n",
       "\\item 31\n",
       "\\item 32\n",
       "\\item 33\n",
       "\\item 34\n",
       "\\item 35\n",
       "\\item 36\n",
       "\\item 37\n",
       "\\item 38\n",
       "\\item 39\n",
       "\\item 40\n",
       "\\item 41\n",
       "\\item 42\n",
       "\\item 43\n",
       "\\item 44\n",
       "\\item 45\n",
       "\\item 46\n",
       "\\item 47\n",
       "\\item 48\n",
       "\\item 49\n",
       "\\item 50\n",
       "\\item 51\n",
       "\\item 52\n",
       "\\item 53\n",
       "\\item 54\n",
       "\\item 55\n",
       "\\item 56\n",
       "\\item 57\n",
       "\\item 58\n",
       "\\item 59\n",
       "\\item 60\n",
       "\\item 61\n",
       "\\item 62\n",
       "\\item 63\n",
       "\\item 64\n",
       "\\item 65\n",
       "\\item 66\n",
       "\\item 67\n",
       "\\item 68\n",
       "\\item 69\n",
       "\\item 70\n",
       "\\item 71\n",
       "\\item 72\n",
       "\\item 73\n",
       "\\item 74\n",
       "\\item 75\n",
       "\\item 76\n",
       "\\item 77\n",
       "\\item 78\n",
       "\\item 79\n",
       "\\item 80\n",
       "\\item 81\n",
       "\\item 82\n",
       "\\item 83\n",
       "\\item 84\n",
       "\\item 85\n",
       "\\item 86\n",
       "\\item 87\n",
       "\\item 88\n",
       "\\item 89\n",
       "\\item 90\n",
       "\\item 91\n",
       "\\item 92\n",
       "\\item 93\n",
       "\\item 94\n",
       "\\item 95\n",
       "\\item 96\n",
       "\\item 97\n",
       "\\item 98\n",
       "\\item 99\n",
       "\\item 100\n",
       "\\item 101\n",
       "\\item 102\n",
       "\\item 103\n",
       "\\item 104\n",
       "\\item 105\n",
       "\\item 106\n",
       "\\item 107\n",
       "\\item 108\n",
       "\\item 109\n",
       "\\item 110\n",
       "\\item 111\n",
       "\\item 112\n",
       "\\item 113\n",
       "\\item 114\n",
       "\\item 115\n",
       "\\item 116\n",
       "\\item 117\n",
       "\\item 118\n",
       "\\item 119\n",
       "\\item 120\n",
       "\\item 121\n",
       "\\item 122\n",
       "\\item 123\n",
       "\\item 124\n",
       "\\item 125\n",
       "\\item 126\n",
       "\\item 127\n",
       "\\item 128\n",
       "\\item 129\n",
       "\\item 130\n",
       "\\item 131\n",
       "\\item 132\n",
       "\\item 133\n",
       "\\item 134\n",
       "\\item 135\n",
       "\\item 136\n",
       "\\item 137\n",
       "\\item 138\n",
       "\\item 139\n",
       "\\item 140\n",
       "\\item 141\n",
       "\\item 142\n",
       "\\item 143\n",
       "\\item 144\n",
       "\\item 145\n",
       "\\item 146\n",
       "\\item 147\n",
       "\\item 148\n",
       "\\item 149\n",
       "\\item 150\n",
       "\\item 151\n",
       "\\item 152\n",
       "\\item 153\n",
       "\\item 154\n",
       "\\item 155\n",
       "\\item 156\n",
       "\\end{enumerate*}\n"
      ],
      "text/markdown": [
       "1. 1\n",
       "2. 2\n",
       "3. 3\n",
       "4. 4\n",
       "5. 5\n",
       "6. 6\n",
       "7. 7\n",
       "8. 8\n",
       "9. 9\n",
       "10. 10\n",
       "11. 11\n",
       "12. 12\n",
       "13. 13\n",
       "14. 14\n",
       "15. 15\n",
       "16. 16\n",
       "17. 17\n",
       "18. 18\n",
       "19. 19\n",
       "20. 20\n",
       "21. 21\n",
       "22. 22\n",
       "23. 23\n",
       "24. 24\n",
       "25. 25\n",
       "26. 26\n",
       "27. 27\n",
       "28. 28\n",
       "29. 29\n",
       "30. 30\n",
       "31. 31\n",
       "32. 32\n",
       "33. 33\n",
       "34. 34\n",
       "35. 35\n",
       "36. 36\n",
       "37. 37\n",
       "38. 38\n",
       "39. 39\n",
       "40. 40\n",
       "41. 41\n",
       "42. 42\n",
       "43. 43\n",
       "44. 44\n",
       "45. 45\n",
       "46. 46\n",
       "47. 47\n",
       "48. 48\n",
       "49. 49\n",
       "50. 50\n",
       "51. 51\n",
       "52. 52\n",
       "53. 53\n",
       "54. 54\n",
       "55. 55\n",
       "56. 56\n",
       "57. 57\n",
       "58. 58\n",
       "59. 59\n",
       "60. 60\n",
       "61. 61\n",
       "62. 62\n",
       "63. 63\n",
       "64. 64\n",
       "65. 65\n",
       "66. 66\n",
       "67. 67\n",
       "68. 68\n",
       "69. 69\n",
       "70. 70\n",
       "71. 71\n",
       "72. 72\n",
       "73. 73\n",
       "74. 74\n",
       "75. 75\n",
       "76. 76\n",
       "77. 77\n",
       "78. 78\n",
       "79. 79\n",
       "80. 80\n",
       "81. 81\n",
       "82. 82\n",
       "83. 83\n",
       "84. 84\n",
       "85. 85\n",
       "86. 86\n",
       "87. 87\n",
       "88. 88\n",
       "89. 89\n",
       "90. 90\n",
       "91. 91\n",
       "92. 92\n",
       "93. 93\n",
       "94. 94\n",
       "95. 95\n",
       "96. 96\n",
       "97. 97\n",
       "98. 98\n",
       "99. 99\n",
       "100. 100\n",
       "101. 101\n",
       "102. 102\n",
       "103. 103\n",
       "104. 104\n",
       "105. 105\n",
       "106. 106\n",
       "107. 107\n",
       "108. 108\n",
       "109. 109\n",
       "110. 110\n",
       "111. 111\n",
       "112. 112\n",
       "113. 113\n",
       "114. 114\n",
       "115. 115\n",
       "116. 116\n",
       "117. 117\n",
       "118. 118\n",
       "119. 119\n",
       "120. 120\n",
       "121. 121\n",
       "122. 122\n",
       "123. 123\n",
       "124. 124\n",
       "125. 125\n",
       "126. 126\n",
       "127. 127\n",
       "128. 128\n",
       "129. 129\n",
       "130. 130\n",
       "131. 131\n",
       "132. 132\n",
       "133. 133\n",
       "134. 134\n",
       "135. 135\n",
       "136. 136\n",
       "137. 137\n",
       "138. 138\n",
       "139. 139\n",
       "140. 140\n",
       "141. 141\n",
       "142. 142\n",
       "143. 143\n",
       "144. 144\n",
       "145. 145\n",
       "146. 146\n",
       "147. 147\n",
       "148. 148\n",
       "149. 149\n",
       "150. 150\n",
       "151. 151\n",
       "152. 152\n",
       "153. 153\n",
       "154. 154\n",
       "155. 155\n",
       "156. 156\n",
       "\n",
       "\n"
      ],
      "text/plain": [
       "  [1]   1   2   3   4   5   6   7   8   9  10  11  12  13  14  15  16  17  18\n",
       " [19]  19  20  21  22  23  24  25  26  27  28  29  30  31  32  33  34  35  36\n",
       " [37]  37  38  39  40  41  42  43  44  45  46  47  48  49  50  51  52  53  54\n",
       " [55]  55  56  57  58  59  60  61  62  63  64  65  66  67  68  69  70  71  72\n",
       " [73]  73  74  75  76  77  78  79  80  81  82  83  84  85  86  87  88  89  90\n",
       " [91]  91  92  93  94  95  96  97  98  99 100 101 102 103 104 105 106 107 108\n",
       "[109] 109 110 111 112 113 114 115 116 117 118 119 120 121 122 123 124 125 126\n",
       "[127] 127 128 129 130 131 132 133 134 135 136 137 138 139 140 141 142 143 144\n",
       "[145] 145 146 147 148 149 150 151 152 153 154 155 156"
      ]
     },
     "metadata": {},
     "output_type": "display_data"
    }
   ],
   "source": [
    "tendencia$x <- seq(1:nrow(tendencia))\n",
    "tendencia$x"
   ]
  },
  {
   "cell_type": "code",
   "execution_count": 15,
   "metadata": {},
   "outputs": [
    {
     "data": {
      "text/html": [
       "<dl class=dl-horizontal>\n",
       "\t<dt>1</dt>\n",
       "\t\t<dd>455.457523545105</dd>\n",
       "\t<dt>2</dt>\n",
       "\t\t<dd>460.77202255202</dd>\n",
       "\t<dt>3</dt>\n",
       "\t\t<dd>466.086521558938</dd>\n",
       "\t<dt>4</dt>\n",
       "\t\t<dd>471.401020565855</dd>\n",
       "\t<dt>5</dt>\n",
       "\t\t<dd>476.715519572772</dd>\n",
       "\t<dt>6</dt>\n",
       "\t\t<dd>482.03001857969</dd>\n",
       "</dl>\n"
      ],
      "text/latex": [
       "\\begin{description*}\n",
       "\\item[1] 455.457523545105\n",
       "\\item[2] 460.77202255202\n",
       "\\item[3] 466.086521558938\n",
       "\\item[4] 471.401020565855\n",
       "\\item[5] 476.715519572772\n",
       "\\item[6] 482.03001857969\n",
       "\\end{description*}\n"
      ],
      "text/markdown": [
       "1\n",
       ":   455.4575235451052\n",
       ":   460.772022552023\n",
       ":   466.0865215589384\n",
       ":   471.4010205658555\n",
       ":   476.7155195727726\n",
       ":   482.03001857969\n",
       "\n"
      ],
      "text/plain": [
       "       1        2        3        4        5        6 \n",
       "455.4575 460.7720 466.0865 471.4010 476.7155 482.0300 "
      ]
     },
     "metadata": {},
     "output_type": "display_data"
    }
   ],
   "source": [
    "modelo <- lm(Yt.ts.desc.trend ~x, data= tendencia)\n",
    "tendencia_estimada <- modelo$fitted.values\n",
    "head(tendencia_estimada)"
   ]
  },
  {
   "cell_type": "markdown",
   "metadata": {},
   "source": [
    "### Estacionalidad"
   ]
  },
  {
   "cell_type": "code",
   "execution_count": 16,
   "metadata": {},
   "outputs": [
    {
     "data": {
      "text/html": [
       "<table>\n",
       "<thead><tr><th scope=col>Yt.ts.desc.seasonal</th></tr></thead>\n",
       "<tbody>\n",
       "\t<tr><td>1.0695399</td></tr>\n",
       "\t<tr><td>1.0839904</td></tr>\n",
       "\t<tr><td>1.1300115</td></tr>\n",
       "\t<tr><td>0.8881280</td></tr>\n",
       "\t<tr><td>0.8784004</td></tr>\n",
       "\t<tr><td>0.9503415</td></tr>\n",
       "</tbody>\n",
       "</table>\n"
      ],
      "text/latex": [
       "\\begin{tabular}{r|l}\n",
       " Yt.ts.desc.seasonal\\\\\n",
       "\\hline\n",
       "\t 1.0695399\\\\\n",
       "\t 1.0839904\\\\\n",
       "\t 1.1300115\\\\\n",
       "\t 0.8881280\\\\\n",
       "\t 0.8784004\\\\\n",
       "\t 0.9503415\\\\\n",
       "\\end{tabular}\n"
      ],
      "text/markdown": [
       "\n",
       "| Yt.ts.desc.seasonal |\n",
       "|---|\n",
       "| 1.0695399 |\n",
       "| 1.0839904 |\n",
       "| 1.1300115 |\n",
       "| 0.8881280 |\n",
       "| 0.8784004 |\n",
       "| 0.9503415 |\n",
       "\n"
      ],
      "text/plain": [
       "  Yt.ts.desc.seasonal\n",
       "1 1.0695399          \n",
       "2 1.0839904          \n",
       "3 1.1300115          \n",
       "4 0.8881280          \n",
       "5 0.8784004          \n",
       "6 0.9503415          "
      ]
     },
     "metadata": {},
     "output_type": "display_data"
    }
   ],
   "source": [
    "estacional <- data.frame(Yt.ts.desc$seasonal)\n",
    "head(estacional)"
   ]
  },
  {
   "cell_type": "markdown",
   "metadata": {},
   "source": [
    "### Estimacion de la serie en base a un modelo multiplicativo"
   ]
  },
  {
   "cell_type": "code",
   "execution_count": 17,
   "metadata": {},
   "outputs": [],
   "source": [
    "dataf <- data.frame(tendencia_estimada,estacional)\n",
    "colnames(dataf) <- c('tend_est','estacionalidad')\n",
    "\n",
    "dataf$Yt_est <- dataf$tend_est*dataf$estacionalidad"
   ]
  },
  {
   "cell_type": "markdown",
   "metadata": {},
   "source": [
    "### Grafico del modelo final"
   ]
  },
  {
   "cell_type": "code",
   "execution_count": 18,
   "metadata": {},
   "outputs": [
    {
     "data": {
      "image/png": "[encoded data removed]",
      "text/plain": [
       "plot without title"
      ]
     },
     "metadata": {},
     "output_type": "display_data"
    }
   ],
   "source": [
    "plot(Yt, col = \"red\")\n",
    "points(dataf$Yt_est, type = 'l', col = 'blue' )"
   ]
  }
 ],
 "metadata": {
  "kernelspec": {
   "display_name": "R",
   "language": "R",
   "name": "ir"
  },
  "language_info": {
   "codemirror_mode": "r",
   "file_extension": ".r",
   "mimetype": "text/x-r-source",
   "name": "R",
   "pygments_lexer": "r",
   "version": "3.6.1"
  }
 },
 "nbformat": 4,
 "nbformat_minor": 4
}
