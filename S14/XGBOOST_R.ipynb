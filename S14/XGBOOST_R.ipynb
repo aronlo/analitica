{
 "cells": [
  {
   "cell_type": "code",
   "execution_count": 1,
   "metadata": {},
   "outputs": [
    {
     "name": "stderr",
     "output_type": "stream",
     "text": [
      "Warning message:\n",
      "\"package 'xgboost' was built under R version 3.6.3\""
     ]
    },
    {
     "name": "stdout",
     "output_type": "stream",
     "text": [
      "\n",
      "Bellow Packages Successfully Installed:\n",
      "\n",
      "magrittr  xgboost \n",
      "    TRUE     TRUE \n"
     ]
    }
   ],
   "source": [
    "########### 1) LIBRERIAS A UTILIZAR ################# \n",
    "source(\"./ins_paquetes.R\")\n",
    "ins_paquetes('magrittr', 'xgboost')"
   ]
  },
  {
   "cell_type": "code",
   "execution_count": 2,
   "metadata": {},
   "outputs": [
    {
     "name": "stderr",
     "output_type": "stream",
     "text": [
      "Warning message:\n",
      "\"package 'rattle' was built under R version 3.6.3\"Loading required package: tibble\n",
      "Warning message:\n",
      "\"package 'tibble' was built under R version 3.6.3\"Loading required package: bitops\n",
      "Rattle: A free graphical interface for data science with R.\n",
      "Versión 5.4.0 Copyright (c) 2006-2020 Togaware Pty Ltd.\n",
      "Escriba 'rattle()' para agitar, sacudir y  rotar sus datos.\n",
      "\n",
      "Attaching package: 'rattle'\n",
      "\n",
      "The following object is masked from 'package:xgboost':\n",
      "\n",
      "    xgboost\n",
      "\n"
     ]
    }
   ],
   "source": [
    "library(rattle)   # Access the weather dataset and utilities.\n",
    "library(magrittr) # Utilise %>% and %<>% pipeline operators.\n",
    "library(xgboost)\n",
    "\n",
    "building <- TRUE\n",
    "scoring  <- ! building"
   ]
  },
  {
   "cell_type": "code",
   "execution_count": 20,
   "metadata": {},
   "outputs": [],
   "source": [
    "# A pre-defined value is used to reset the random seed \n",
    "# so that results are repeatable.\n",
    "\n",
    "crv$seed <- 42 "
   ]
  },
  {
   "cell_type": "code",
   "execution_count": 21,
   "metadata": {},
   "outputs": [],
   "source": [
    "#=======================================================================\n",
    "\n",
    "# Load a dataset from file.\n",
    "\n",
    "library(readxl, quietly=TRUE)"
   ]
  },
  {
   "cell_type": "code",
   "execution_count": 22,
   "metadata": {},
   "outputs": [
    {
     "data": {
      "text/html": [
       "<table>\n",
       "<thead><tr><th scope=col>Referencia_ID</th><th scope=col>CUM_Vta</th><th scope=col>Prod_B</th><th scope=col>Prod_C</th><th scope=col>Prod_D</th><th scope=col>Prod_E</th><th scope=col>APLICA</th></tr></thead>\n",
       "<tbody>\n",
       "\t<tr><td>ID_CLIENTE_4871</td><td>13             </td><td> 56            </td><td>14             </td><td> 29            </td><td> 7             </td><td>0              </td></tr>\n",
       "\t<tr><td>ID_CLIENTE_5187</td><td>13             </td><td> 81            </td><td>17             </td><td> 48            </td><td> 5             </td><td>1              </td></tr>\n",
       "\t<tr><td>ID_CLIENTE_2592</td><td>13             </td><td>161            </td><td>61             </td><td>114            </td><td>25             </td><td>1              </td></tr>\n",
       "\t<tr><td>ID_CLIENTE_2678</td><td>13             </td><td> 29            </td><td> 2             </td><td> 14            </td><td> 1             </td><td>1              </td></tr>\n",
       "\t<tr><td>ID_CLIENTE_3118</td><td>13             </td><td> 85            </td><td>31             </td><td> 48            </td><td> 7             </td><td>1              </td></tr>\n",
       "\t<tr><td>ID_CLIENTE_2819</td><td>13             </td><td>114            </td><td>17             </td><td> 45            </td><td> 6             </td><td>1              </td></tr>\n",
       "</tbody>\n",
       "</table>\n"
      ],
      "text/latex": [
       "\\begin{tabular}{r|lllllll}\n",
       " Referencia\\_ID & CUM\\_Vta & Prod\\_B & Prod\\_C & Prod\\_D & Prod\\_E & APLICA\\\\\n",
       "\\hline\n",
       "\t ID\\_CLIENTE\\_4871 & 13                  &  56                 & 14                  &  29                 &  7                  & 0                  \\\\\n",
       "\t ID\\_CLIENTE\\_5187 & 13                  &  81                 & 17                  &  48                 &  5                  & 1                  \\\\\n",
       "\t ID\\_CLIENTE\\_2592 & 13                  & 161                 & 61                  & 114                 & 25                  & 1                  \\\\\n",
       "\t ID\\_CLIENTE\\_2678 & 13                  &  29                 &  2                  &  14                 &  1                  & 1                  \\\\\n",
       "\t ID\\_CLIENTE\\_3118 & 13                  &  85                 & 31                  &  48                 &  7                  & 1                  \\\\\n",
       "\t ID\\_CLIENTE\\_2819 & 13                  & 114                 & 17                  &  45                 &  6                  & 1                  \\\\\n",
       "\\end{tabular}\n"
      ],
      "text/markdown": [
       "\n",
       "| Referencia_ID | CUM_Vta | Prod_B | Prod_C | Prod_D | Prod_E | APLICA |\n",
       "|---|---|---|---|---|---|---|\n",
       "| ID_CLIENTE_4871 | 13              |  56             | 14              |  29             |  7              | 0               |\n",
       "| ID_CLIENTE_5187 | 13              |  81             | 17              |  48             |  5              | 1               |\n",
       "| ID_CLIENTE_2592 | 13              | 161             | 61              | 114             | 25              | 1               |\n",
       "| ID_CLIENTE_2678 | 13              |  29             |  2              |  14             |  1              | 1               |\n",
       "| ID_CLIENTE_3118 | 13              |  85             | 31              |  48             |  7              | 1               |\n",
       "| ID_CLIENTE_2819 | 13              | 114             | 17              |  45             |  6              | 1               |\n",
       "\n"
      ],
      "text/plain": [
       "  Referencia_ID   CUM_Vta Prod_B Prod_C Prod_D Prod_E APLICA\n",
       "1 ID_CLIENTE_4871 13       56    14      29     7     0     \n",
       "2 ID_CLIENTE_5187 13       81    17      48     5     1     \n",
       "3 ID_CLIENTE_2592 13      161    61     114    25     1     \n",
       "4 ID_CLIENTE_2678 13       29     2      14     1     1     \n",
       "5 ID_CLIENTE_3118 13       85    31      48     7     1     \n",
       "6 ID_CLIENTE_2819 13      114    17      45     6     1     "
      ]
     },
     "metadata": {},
     "output_type": "display_data"
    }
   ],
   "source": [
    "crs$dataset <- read_excel(\"./datasets/Marvel_Travel.xlsx\", guess_max=1e4)\n",
    "#dataset <- read_excel(\"D:/CIS/2020-2B/PARTICIPACIONES EN CLASE/P6_GRUPAL/Marvel_Travel.xlsx\", guess_max=1e4)\n",
    "\n",
    "head(crs$dataset)"
   ]
  },
  {
   "cell_type": "code",
   "execution_count": 23,
   "metadata": {},
   "outputs": [
    {
     "name": "stdout",
     "output_type": "stream",
     "text": [
      "tibble [3,087 x 7] (S3: tbl_df/tbl/data.frame)\n",
      " $ Referencia_ID: chr [1:3087] \"ID_CLIENTE_4871\" \"ID_CLIENTE_5187\" \"ID_CLIENTE_2592\" \"ID_CLIENTE_2678\" ...\n",
      " $ CUM_Vta      : num [1:3087] 13 13 13 13 13 13 13 13 13 13 ...\n",
      " $ Prod_B       : num [1:3087] 56 81 161 29 85 114 61 22 33 31 ...\n",
      " $ Prod_C       : num [1:3087] 14 17 61 2 31 17 9 5 13 10 ...\n",
      " $ Prod_D       : num [1:3087] 29 48 114 14 48 45 44 8 16 10 ...\n",
      " $ Prod_E       : num [1:3087] 7 5 25 1 7 6 4 2 3 4 ...\n",
      " $ APLICA       : num [1:3087] 0 1 1 1 1 1 1 1 0 0 ...\n"
     ]
    }
   ],
   "source": [
    "str(crs$dataset)"
   ]
  },
  {
   "cell_type": "code",
   "execution_count": 24,
   "metadata": {},
   "outputs": [],
   "source": [
    "#=======================================================================\n",
    "#setdiff (MINUS or EXCEPT in SQL) \n",
    "#fsetdiff will return max(0, xn-yn) copies of that row.\n",
    "#Generate regular sequences. seq is a standard generic with a default\n",
    "#method. seq_len are very fast\n",
    "\n",
    "set.seed(crv$seed)\n",
    "crs$nobs <- nrow(crs$dataset)\n",
    "crs$train <- sample(crs$nobs, 0.7*crs$nobs)"
   ]
  },
  {
   "cell_type": "code",
   "execution_count": 25,
   "metadata": {},
   "outputs": [],
   "source": [
    "crs$nobs %>%\n",
    "  seq_len() %>%\n",
    "  setdiff(crs$train) %>%\n",
    "  sample(0.15*crs$nobs) ->\n",
    "  crs$validate"
   ]
  },
  {
   "cell_type": "code",
   "execution_count": 26,
   "metadata": {},
   "outputs": [],
   "source": [
    "#?seq_len()\n",
    "\n",
    "crs$nobs %>%\n",
    "  seq_len() %>%\n",
    "  setdiff(crs$train) %>%\n",
    "  setdiff(crs$validate) ->\n",
    "  crs$test"
   ]
  },
  {
   "cell_type": "code",
   "execution_count": 27,
   "metadata": {},
   "outputs": [],
   "source": [
    "# Se han anotado las siguientes selecciones de variable.\n",
    "\n",
    "crs$input     <- c(\"CUM_Vta\", \"Prod_B\", \"Prod_C\", \"Prod_D\",\n",
    "                   \"Prod_E\")\n",
    "\n",
    "crs$numeric   <- c(\"CUM_Vta\", \"Prod_B\", \"Prod_C\", \"Prod_D\",\n",
    "                   \"Prod_E\")\n",
    "\n",
    "crs$categoric <- NULL\n",
    "\n",
    "crs$target    <- \"APLICA\"\n",
    "crs$risk      <- NULL\n",
    "crs$ident     <- NULL\n",
    "crs$ignore    <- \"Referencia_ID\"\n",
    "crs$weights   <- NULL"
   ]
  },
  {
   "cell_type": "code",
   "execution_count": 28,
   "metadata": {},
   "outputs": [
    {
     "name": "stderr",
     "output_type": "stream",
     "text": [
      "Warning message in xgb.get.DMatrix(data, label, missing, weight):\n",
      "\"xgboost: label will be ignored.\""
     ]
    },
    {
     "ename": "ERROR",
     "evalue": "Error in xgb.get.DMatrix(data, label, missing, weight): xgboost doesn't support data.frame as input. Convert it to matrix first.\n",
     "output_type": "error",
     "traceback": [
      "Error in xgb.get.DMatrix(data, label, missing, weight): xgboost doesn't support data.frame as input. Convert it to matrix first.\nTraceback:\n",
      "1. xgboost(APLICA ~ ., data = crs$dataset[crs$train, c(crs$input, \n .     crs$target)], max_depth = 6, eta = 0.3, num_parallel_tree = 1, \n .     nthread = 2, nround = 50, metrics = \"error\", objective = \"binary:logistic\")",
      "2. xgb.get.DMatrix(data, label, missing, weight)",
      "3. stop(\"xgboost doesn't support data.frame as input. Convert it to matrix first.\")"
     ]
    }
   ],
   "source": [
    "#=======================================================================\n",
    "# Extreme Boost \n",
    "\n",
    "# The `xgboost' package implements the extreme gradient boost algorithm.\n",
    "# Construir el modelo Extreme Boost.\n",
    "\n",
    "#crs$dataset[crs$train,c(crs$input, crs$target)]\n",
    "\n",
    "set.seed(crv$seed)\n",
    "\n",
    "crs$ada <- xgboost(APLICA ~ .,\n",
    "                   data              = crs$dataset[crs$train,c(crs$input, crs$target)],\n",
    "                   max_depth         = 6,\n",
    "                   eta               = 0.3, \n",
    "                   num_parallel_tree = 1, \n",
    "                   nthread           = 2, \n",
    "                   nround            = 50,\n",
    "                   metrics           = 'error',\n",
    "                   objective         = 'binary:logistic')"
   ]
  },
  {
   "cell_type": "code",
   "execution_count": 1,
   "metadata": {},
   "outputs": [
    {
     "ename": "ERROR",
     "evalue": "Error in crv$seed <- 42: objeto 'crv' no encontrado\n",
     "output_type": "error",
     "traceback": [
      "Error in crv$seed <- 42: objeto 'crv' no encontrado\nTraceback:\n"
     ]
    }
   ],
   "source": [
    "# Imprimir los resultados del modelo.\n",
    "\n",
    "print(crs$ada)\n",
    "\n",
    "cat('\\nFinal iteration error rate:\\n')\n",
    "print(round(crs$ada$evaluation_log[crs$ada$niter, ], 2))\n",
    "\n",
    "cat('\\nImportance/Frequency of variables actually used:\\n')\n",
    "print(crs$imp <- importance(crs$ada, crs$dataset[crs$train,c(crs$input, crs$target)]))\n",
    "\n",
    "# Tiempo transcurrido: 0.12 segs\n",
    "\n",
    "# Diagramar la importancia relativa de las variables.\n",
    "\n",
    "ggVarImp(crs$ada)\n",
    "\n",
    "# Plot the error rate as we increase the number of iteration.\n",
    "\n",
    "plot(crs$ada$evaluation_log, type='o')\n",
    "\n",
    "# Evaluate model performance on the testing dataset. \n",
    "\n",
    "# Curva ROC: necesita el paquete ROCR.\n",
    "\n",
    "library(ROCR)\n",
    "\n",
    "# ROC Curve: requires the ggplot2 package.\n",
    "\n",
    "library(ggplot2, quietly=TRUE)\n",
    "\n",
    "# Generar una curva ROC para el modelo xgb en Marvel_Travel.xlsx [prueba].\n",
    "\n",
    "crs$pr <- predict(crs$ada, crs$dataset[crs$test, c(crs$input, crs$target)])\n",
    "crs$pr\n",
    "\n",
    "\n",
    "\n",
    "# Remove observations with missing target.\n",
    "no.miss   <- na.omit(crs$dataset[crs$test, c(crs$input, crs$target)]$APLICA)\n",
    "no.miss\n",
    "\n",
    "pred <- prediction(crs$pr, no.miss)\n",
    "\n",
    "\n",
    "pe <- performance(pred, \"tpr\", \"fpr\")\n",
    "au <- performance(pred, \"auc\")@y.values[[1]]\n",
    "pd <- data.frame(fpr=unlist(pe@x.values), tpr=unlist(pe@y.values))\n",
    "p <- ggplot(pd, aes(x=fpr, y=tpr))\n",
    "p <- p + geom_line(colour=\"red\")\n",
    "p <- p + xlab(\"False Positive Rate\") + ylab(\"True Positive Rate\")\n",
    "p <- p + ggtitle(\"ROC Curve Extreme Boost Marvel_Travel.xlsx [prueba] APLICA\")\n",
    "p <- p + theme(plot.title=element_text(size=10))\n",
    "p <- p + geom_line(data=data.frame(), aes(x=c(0,1), y=c(0,1)), colour=\"grey\")\n",
    "p <- p + annotate(\"text\", x=0.50, y=0.00, hjust=0, vjust=0, size=5,\n",
    "                  label=paste(\"AUC =\", round(au, 2)))\n",
    "print(p)\n",
    "\n",
    "# Calcular el área bajo la curva del diagrama.\n",
    "\n",
    "\n",
    "# Evaluate model performance on the testing dataset. \n",
    "\n",
    "# Generar una matriz de error para el modelo Extreme Boost.\n",
    "\n",
    "# Obtenga la respuesta del modelo Extreme Boost.\n",
    "\n",
    "lvls <- levels(as.factor(crs$dataset[[crs$target]]))\n",
    "lvls[2]\n",
    "\n",
    "\n",
    "crs$pr <- factor(ifelse(predict(crs$ada, crs$dataset[crs$test, c(crs$input, crs$target)]) > 0.5,\n",
    "                        lvls[2], lvls[1]))\n",
    "crs$pr\n",
    "# Generate the confusion matrix showing counts.\n",
    "\n",
    "rattle::errorMatrix(crs$dataset[crs$test, c(crs$input, crs$target)]$APLICA, crs$pr, count=TRUE)\n",
    "\n",
    "###########################################################\n",
    "#errorMatrix(actual,\n",
    "#            predicted,\n",
    "#            percentage=TRUE,\n",
    "#            digits=ifelse(percentage,1,3),\n",
    "#            count=FALSE)\n",
    "#Arguments\n",
    "#actual\t: a vector of true values.\n",
    "#predicted:a vector of predicted values.\n",
    "#percentage\t:return percentages.\n",
    "#digits\t:the number of digits to round results.\n",
    "#count:return counts.\n",
    "############################################################\n",
    "\n",
    "# Generate the confusion matrix showing proportions.\n",
    "\n",
    "per <- rattle::errorMatrix(crs$dataset[crs$test, c(crs$input, crs$target)]$APLICA, crs$pr)\n",
    "\n",
    "# Calculate the overall error percentage.\n",
    "\n",
    "cat(100-sum(diag(per), na.rm=TRUE))"
   ]
  }
 ],
 "metadata": {
  "kernelspec": {
   "display_name": "R",
   "language": "R",
   "name": "ir"
  },
  "language_info": {
   "codemirror_mode": "r",
   "file_extension": ".r",
   "mimetype": "text/x-r-source",
   "name": "R",
   "pygments_lexer": "r",
   "version": "3.6.1"
  }
 },
 "nbformat": 4,
 "nbformat_minor": 4
}
