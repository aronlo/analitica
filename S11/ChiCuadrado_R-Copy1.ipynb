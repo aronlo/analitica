{
 "cells": [
  {
   "cell_type": "code",
   "execution_count": 1,
   "metadata": {},
   "outputs": [],
   "source": [
    "rm(list=ls())"
   ]
  },
  {
   "cell_type": "code",
   "execution_count": 2,
   "metadata": {},
   "outputs": [
    {
     "name": "stderr",
     "output_type": "stream",
     "text": [
      "Warning message:\n",
      "\"package 'party' was built under R version 3.6.3\"Warning message:\n",
      "\"package 'mvtnorm' was built under R version 3.6.3\"Warning message:\n",
      "\"package 'modeltools' was built under R version 3.6.3\"Warning message:\n",
      "\"package 'strucchange' was built under R version 3.6.3\"\n",
      "Attaching package: 'zoo'\n",
      "\n",
      "The following objects are masked from 'package:base':\n",
      "\n",
      "    as.Date, as.Date.numeric\n",
      "\n",
      "Warning message:\n",
      "\"package 'sandwich' was built under R version 3.6.3\"Warning message:\n",
      "\"package 'dplyr' was built under R version 3.6.3\"\n",
      "Attaching package: 'dplyr'\n",
      "\n",
      "The following objects are masked from 'package:stats':\n",
      "\n",
      "    filter, lag\n",
      "\n",
      "The following objects are masked from 'package:base':\n",
      "\n",
      "    intersect, setdiff, setequal, union\n",
      "\n",
      "Registered S3 methods overwritten by 'ggplot2':\n",
      "  method         from \n",
      "  [.quosures     rlang\n",
      "  c.quosures     rlang\n",
      "  print.quosures rlang\n",
      "Warning message:\n",
      "\"package 'MLmetrics' was built under R version 3.6.3\"\n",
      "Attaching package: 'MLmetrics'\n",
      "\n",
      "The following objects are masked from 'package:caret':\n",
      "\n",
      "    MAE, RMSE\n",
      "\n",
      "The following object is masked from 'package:base':\n",
      "\n",
      "    Recall\n",
      "\n",
      "Warning message:\n",
      "\"package 'mlr' was built under R version 3.6.3\"Warning message:\n",
      "\"package 'ParamHelpers' was built under R version 3.6.3\"'mlr' is in maintenance mode since July 2019. Future development\n",
      "efforts will go into its successor 'mlr3' (<https://mlr3.mlr-org.com>).\n",
      "\n",
      "Attaching package: 'mlr'\n",
      "\n",
      "The following object is masked from 'package:caret':\n",
      "\n",
      "    train\n",
      "\n",
      "Warning message:\n",
      "\"package 'UBL' was built under R version 3.6.3\"Warning message:\n",
      "\"package 'MBA' was built under R version 3.6.3\"Warning message:\n",
      "\"package 'gstat' was built under R version 3.6.3\"Registered S3 method overwritten by 'xts':\n",
      "  method     from\n",
      "  as.zoo.xts zoo \n",
      "Warning message:\n",
      "\"package 'automap' was built under R version 3.6.3\"Warning message:\n",
      "\"package 'sp' was built under R version 3.6.3\"randomForest 4.6-14\n",
      "Type rfNews() to see new features/changes/bug fixes.\n",
      "\n",
      "Attaching package: 'randomForest'\n",
      "\n",
      "The following object is masked from 'package:ggplot2':\n",
      "\n",
      "    margin\n",
      "\n",
      "The following object is masked from 'package:dplyr':\n",
      "\n",
      "    combine\n",
      "\n",
      "Warning message:\n",
      "\"package 'ROSE' was built under R version 3.6.3\"Loaded ROSE 0.0-3\n",
      "\n",
      "Warning message:\n",
      "\"package 'rpart.plot' was built under R version 3.6.3\""
     ]
    },
    {
     "name": "stdout",
     "output_type": "stream",
     "text": [
      "\n",
      "Bellow Packages Successfully Installed:\n",
      "\n",
      "     party      rpart      dplyr      caret  MLmetrics      haven        mlr \n",
      "      TRUE       TRUE       TRUE       TRUE       TRUE       TRUE       TRUE \n",
      "       UBL       ROSE rpart.plot \n",
      "      TRUE       TRUE       TRUE \n"
     ]
    }
   ],
   "source": [
    "source(\"./ins_paquetes.R\")\n",
    "\n",
    "ins_paquetes('party','rpart','dplyr','caret','MLmetrics','haven',\n",
    "             'mlr','UBL','ROSE','rpart.plot')"
   ]
  },
  {
   "cell_type": "code",
   "execution_count": 3,
   "metadata": {},
   "outputs": [],
   "source": [
    "########### 1) LIBRERIAS A UTILIZAR ################# \n",
    "\n",
    "library(party)\n",
    "library(rpart)\n",
    "library(dplyr)\n",
    "library(caret)\n",
    "library(MLmetrics)\n",
    "library(haven)\n",
    "library(mlr)\n",
    "library(UBL)\n",
    "library(ROSE)\n",
    "library(rpart.plot)"
   ]
  },
  {
   "cell_type": "code",
   "execution_count": 4,
   "metadata": {},
   "outputs": [],
   "source": [
    "#################################################################\n",
    "####################### CLASIFICACION ########################### \n",
    "#################################################################\n",
    "\n",
    "########### 2) DATA A UTILIZAR ################# \n",
    "\n",
    "## En Rstudio Cloud utilizar el siguiente comando\n",
    "# datos <- read_sav(\"./Churn.sav\")\n",
    "\n",
    "## En Rstudio de escritorio utilizar el siguiente comando\n",
    "\n",
    "datos <- haven::read_sav(\"./datasets/Churn.sav\")\n",
    "datos <- data.frame(datos)\n",
    "datos <- datos %>% select(-ID)\n",
    "#datos <- sqldf(\" select EDAD,SEXO,CIVIL,HIJOS,INGRESO,AUTO,CHURN from datos\")"
   ]
  },
  {
   "cell_type": "code",
   "execution_count": 5,
   "metadata": {},
   "outputs": [],
   "source": [
    "########### 3) TRATAMIENTO DE LA DATA ################# \n",
    "\n",
    "## en primer lugar ver el analisis descriptivo de la data\n",
    "\n",
    "datos$SEXO <- as.factor(datos$SEXO)\n",
    "datos$CIVIL <- as.factor(datos$CIVIL)\n",
    "datos$AUTO <- as.factor(datos$AUTO)\n",
    "datos$CHURN <- as.factor(datos$CHURN)\n",
    "\n",
    "resumen <- data.frame(mlr::summarizeColumns(datos))\n",
    "write.csv(resumen,\"tabla_resumen_clasificacion.csv\")"
   ]
  },
  {
   "cell_type": "code",
   "execution_count": 6,
   "metadata": {},
   "outputs": [
    {
     "data": {
      "text/html": [
       "<table>\n",
       "<thead><tr><th scope=col>EDAD</th><th scope=col>SEXO</th><th scope=col>CIVIL</th><th scope=col>HIJOS</th><th scope=col>INGRESO</th><th scope=col>AUTO</th><th scope=col>CHURN</th></tr></thead>\n",
       "<tbody>\n",
       "\t<tr><td>57     </td><td>1      </td><td>1      </td><td>2      </td><td>27535.3</td><td>1      </td><td>1      </td></tr>\n",
       "\t<tr><td>68     </td><td>1      </td><td>1      </td><td>2      </td><td>81000.9</td><td>2      </td><td>1      </td></tr>\n",
       "\t<tr><td>34     </td><td>2      </td><td>2      </td><td>0      </td><td>87467.1</td><td>1      </td><td>0      </td></tr>\n",
       "\t<tr><td>60     </td><td>2      </td><td>1      </td><td>2      </td><td>83220.6</td><td>2      </td><td>1      </td></tr>\n",
       "\t<tr><td>28     </td><td>1      </td><td>1      </td><td>2      </td><td>20850.4</td><td>2      </td><td>1      </td></tr>\n",
       "\t<tr><td>52     </td><td>2      </td><td>2      </td><td>0      </td><td>84112.6</td><td>2      </td><td>0      </td></tr>\n",
       "</tbody>\n",
       "</table>\n"
      ],
      "text/latex": [
       "\\begin{tabular}{r|lllllll}\n",
       " EDAD & SEXO & CIVIL & HIJOS & INGRESO & AUTO & CHURN\\\\\n",
       "\\hline\n",
       "\t 57      & 1       & 1       & 2       & 27535.3 & 1       & 1      \\\\\n",
       "\t 68      & 1       & 1       & 2       & 81000.9 & 2       & 1      \\\\\n",
       "\t 34      & 2       & 2       & 0       & 87467.1 & 1       & 0      \\\\\n",
       "\t 60      & 2       & 1       & 2       & 83220.6 & 2       & 1      \\\\\n",
       "\t 28      & 1       & 1       & 2       & 20850.4 & 2       & 1      \\\\\n",
       "\t 52      & 2       & 2       & 0       & 84112.6 & 2       & 0      \\\\\n",
       "\\end{tabular}\n"
      ],
      "text/markdown": [
       "\n",
       "| EDAD | SEXO | CIVIL | HIJOS | INGRESO | AUTO | CHURN |\n",
       "|---|---|---|---|---|---|---|\n",
       "| 57      | 1       | 1       | 2       | 27535.3 | 1       | 1       |\n",
       "| 68      | 1       | 1       | 2       | 81000.9 | 2       | 1       |\n",
       "| 34      | 2       | 2       | 0       | 87467.1 | 1       | 0       |\n",
       "| 60      | 2       | 1       | 2       | 83220.6 | 2       | 1       |\n",
       "| 28      | 1       | 1       | 2       | 20850.4 | 2       | 1       |\n",
       "| 52      | 2       | 2       | 0       | 84112.6 | 2       | 0       |\n",
       "\n"
      ],
      "text/plain": [
       "  EDAD SEXO CIVIL HIJOS INGRESO AUTO CHURN\n",
       "1 57   1    1     2     27535.3 1    1    \n",
       "2 68   1    1     2     81000.9 2    1    \n",
       "3 34   2    2     0     87467.1 1    0    \n",
       "4 60   2    1     2     83220.6 2    1    \n",
       "5 28   1    1     2     20850.4 2    1    \n",
       "6 52   2    2     0     84112.6 2    0    "
      ]
     },
     "metadata": {},
     "output_type": "display_data"
    }
   ],
   "source": [
    "head(datos)"
   ]
  },
  {
   "cell_type": "code",
   "execution_count": 7,
   "metadata": {},
   "outputs": [],
   "source": [
    "########### 4) PARTICION MUESTRAL #################  \n",
    "\n",
    "set.seed(123)\n",
    "training.samples <- datos$CHURN %>% \n",
    "  createDataPartition(p = 0.7, list = FALSE)\n",
    "train.data  <- datos[training.samples, ]\n",
    "test.data <- datos[-training.samples, ]"
   ]
  },
  {
   "cell_type": "code",
   "execution_count": 8,
   "metadata": {
    "scrolled": false
   },
   "outputs": [
    {
     "data": {
      "image/png": "[encoded data removed]",
      "text/plain": [
       "plot without title"
      ]
     },
     "metadata": {},
     "output_type": "display_data"
    }
   ],
   "source": [
    "########### 5) MODELADO ########################### \n",
    "\n",
    "# modelo 1.- Arbol CHAID\n",
    "\n",
    "n <- nrow(train.data) # numero de filas\n",
    "# mincriterion: nivel de confianza para los x^2\n",
    "# minbucket: criterio para el numero de casos en el nodo hijo\n",
    "modelo1 <- party::ctree(CHURN~.,data = train.data, \n",
    "                 controls=ctree_control(mincriterion=0.95,minbucket = 0.05*n))\n",
    "\n",
    "plot(modelo1 , cex=0.5,type=\"simple\")"
   ]
  },
  {
   "cell_type": "code",
   "execution_count": 9,
   "metadata": {},
   "outputs": [],
   "source": [
    "##probabilidades\n",
    "\n",
    "proba1 <- sapply(predict(modelo1, newdata=test.data,type=\"prob\"),'[[',2)\n",
    "predit <- predict(modelo1, newdata=test.data) "
   ]
  },
  {
   "cell_type": "code",
   "execution_count": 10,
   "metadata": {},
   "outputs": [],
   "source": [
    "# Indicadores\n",
    "\n",
    "AUC_1     <- MLmetrics::AUC(proba1,as.numeric(as.character(test.data$CHURN)))\n",
    "GINI_1    <- 2*AUC_1-1\n",
    "ks_1      <- MLmetrics::KS_Stat(proba1,as.numeric(as.character(test.data$CHURN)))\n",
    "LogLoss_1 <- MLmetrics::LogLoss(proba1,as.numeric(as.character(test.data$CHURN)))"
   ]
  },
  {
   "cell_type": "code",
   "execution_count": 11,
   "metadata": {},
   "outputs": [],
   "source": [
    "# Calcular los valores predichos\n",
    "\n",
    "PRED <- as.factor(predit)"
   ]
  },
  {
   "cell_type": "code",
   "execution_count": 12,
   "metadata": {},
   "outputs": [
    {
     "data": {
      "text/plain": [
       "Confusion Matrix and Statistics\n",
       "\n",
       "          Reference\n",
       "Prediction   0   1\n",
       "         0 222  40\n",
       "         1  27 113\n",
       "                                          \n",
       "               Accuracy : 0.8333          \n",
       "                 95% CI : (0.7932, 0.8684)\n",
       "    No Information Rate : 0.6194          \n",
       "    P-Value [Acc > NIR] : <2e-16          \n",
       "                                          \n",
       "                  Kappa : 0.6406          \n",
       "                                          \n",
       " Mcnemar's Test P-Value : 0.1426          \n",
       "                                          \n",
       "            Sensitivity : 0.7386          \n",
       "            Specificity : 0.8916          \n",
       "         Pos Pred Value : 0.8071          \n",
       "         Neg Pred Value : 0.8473          \n",
       "             Prevalence : 0.3806          \n",
       "         Detection Rate : 0.2811          \n",
       "   Detection Prevalence : 0.3483          \n",
       "      Balanced Accuracy : 0.8151          \n",
       "                                          \n",
       "       'Positive' Class : 1               \n",
       "                                          "
      ]
     },
     "metadata": {},
     "output_type": "display_data"
    }
   ],
   "source": [
    "# Calcular la matriz de confusion\n",
    "tabla <- caret::confusionMatrix(PRED,test.data$CHURN,positive = \"1\")\n",
    "tabla"
   ]
  },
  {
   "cell_type": "code",
   "execution_count": 13,
   "metadata": {},
   "outputs": [],
   "source": [
    "# sensibilidad\n",
    "Sensitivity1 <-  MLmetrics::Sensitivity(PRED,test.data$CHURN)"
   ]
  },
  {
   "cell_type": "code",
   "execution_count": 14,
   "metadata": {},
   "outputs": [],
   "source": [
    "# Precision\n",
    "Accuracy1 <- MLmetrics::Accuracy(PRED,test.data$CHURN)"
   ]
  },
  {
   "cell_type": "code",
   "execution_count": 15,
   "metadata": {},
   "outputs": [],
   "source": [
    "# modelo 2.- Arbol CART \n",
    "\n",
    "arbol.completo <- rpart::rpart(CHURN~.,data = train.data,method=\"class\",cp=0, minbucket=0)"
   ]
  },
  {
   "cell_type": "code",
   "execution_count": 16,
   "metadata": {},
   "outputs": [
    {
     "data": {
      "image/png": "[encoded data removed]",
      "text/plain": [
       "plot without title"
      ]
     },
     "metadata": {},
     "output_type": "display_data"
    }
   ],
   "source": [
    "#rpart.plot::rpart.plot(arbol.completo, digits=-1, type=2, extra=101, cex = 0.7, nn=TRUE)\n",
    "\n",
    "xerr    <- arbol.completo$cptable[,\"xerror\"] ## error de la validacion cruzada\n",
    "minxerr <- which.min(xerr)\n",
    "mincp   <- arbol.completo$cptable[minxerr, \"CP\"]\n",
    "\n",
    "modelo2 <- rpart::prune(arbol.completo,cp=mincp)\n",
    "\n",
    "rpart.plot::rpart.plot(modelo2, digits=-1, type=2, extra=101, cex = 0.7, nn=TRUE)"
   ]
  },
  {
   "cell_type": "code",
   "execution_count": 17,
   "metadata": {},
   "outputs": [],
   "source": [
    "## probabilidades\n",
    "\n",
    "proba2 <- predict(modelo2, newdata=test.data,type=\"prob\")[,2]\n",
    "predit <- predict(modelo2, newdata=test.data,type=\"class\") "
   ]
  },
  {
   "cell_type": "code",
   "execution_count": 18,
   "metadata": {},
   "outputs": [],
   "source": [
    "# Indicadores\n",
    "\n",
    "AUC_2     <- MLmetrics::AUC(proba2,as.numeric(as.character(test.data$CHURN)))\n",
    "GINI_2    <- 2*AUC_2-1\n",
    "ks_2      <- KS_Stat(proba2,as.numeric(as.character(test.data$CHURN)))\n",
    "LogLoss_2 <- LogLoss(proba2,as.numeric(as.character(test.data$CHURN)))"
   ]
  },
  {
   "cell_type": "code",
   "execution_count": 19,
   "metadata": {},
   "outputs": [],
   "source": [
    "# Calcular los valores predichos\n",
    "\n",
    "PRED <- as.factor(predit)"
   ]
  },
  {
   "cell_type": "code",
   "execution_count": 20,
   "metadata": {},
   "outputs": [
    {
     "data": {
      "text/plain": [
       "Confusion Matrix and Statistics\n",
       "\n",
       "          Reference\n",
       "Prediction   0   1\n",
       "         0 212  25\n",
       "         1  37 128\n",
       "                                          \n",
       "               Accuracy : 0.8458          \n",
       "                 95% CI : (0.8067, 0.8797)\n",
       "    No Information Rate : 0.6194          \n",
       "    P-Value [Acc > NIR] : <2e-16          \n",
       "                                          \n",
       "                  Kappa : 0.6778          \n",
       "                                          \n",
       " Mcnemar's Test P-Value : 0.1624          \n",
       "                                          \n",
       "            Sensitivity : 0.8366          \n",
       "            Specificity : 0.8514          \n",
       "         Pos Pred Value : 0.7758          \n",
       "         Neg Pred Value : 0.8945          \n",
       "             Prevalence : 0.3806          \n",
       "         Detection Rate : 0.3184          \n",
       "   Detection Prevalence : 0.4104          \n",
       "      Balanced Accuracy : 0.8440          \n",
       "                                          \n",
       "       'Positive' Class : 1               \n",
       "                                          "
      ]
     },
     "metadata": {},
     "output_type": "display_data"
    }
   ],
   "source": [
    "# Calcular la matriz de confusion\n",
    "tabla <- caret::confusionMatrix(PRED,test.data$CHURN,positive = \"1\")\n",
    "tabla"
   ]
  },
  {
   "cell_type": "code",
   "execution_count": 21,
   "metadata": {},
   "outputs": [],
   "source": [
    "# sensibilidad\n",
    "Sensitivity2 <- MLmetrics::Sensitivity(PRED,test.data$CHURN)"
   ]
  },
  {
   "cell_type": "code",
   "execution_count": 22,
   "metadata": {},
   "outputs": [],
   "source": [
    "# Precision\n",
    "Accuracy2 <- MLmetrics::Accuracy(PRED,test.data$CHURN)"
   ]
  },
  {
   "cell_type": "code",
   "execution_count": 23,
   "metadata": {},
   "outputs": [
    {
     "data": {
      "text/html": [
       "<table>\n",
       "<thead><tr><th></th><th scope=col>GINI</th><th scope=col>KS</th><th scope=col>LogLoss</th><th scope=col>Accuracy</th><th scope=col>Sensibilidad</th></tr></thead>\n",
       "<tbody>\n",
       "\t<tr><th scope=row>Chaid</th><td>0.73 </td><td>63.52</td><td>0.43 </td><td>0.83 </td><td>0.85 </td></tr>\n",
       "\t<tr><th scope=row>Cart</th><td>0.67 </td><td>68.80</td><td>0.44 </td><td>0.85 </td><td>0.89 </td></tr>\n",
       "</tbody>\n",
       "</table>\n"
      ],
      "text/latex": [
       "\\begin{tabular}{r|lllll}\n",
       "  & GINI & KS & LogLoss & Accuracy & Sensibilidad\\\\\n",
       "\\hline\n",
       "\tChaid & 0.73  & 63.52 & 0.43  & 0.83  & 0.85 \\\\\n",
       "\tCart & 0.67  & 68.80 & 0.44  & 0.85  & 0.89 \\\\\n",
       "\\end{tabular}\n"
      ],
      "text/markdown": [
       "\n",
       "| <!--/--> | GINI | KS | LogLoss | Accuracy | Sensibilidad |\n",
       "|---|---|---|---|---|---|\n",
       "| Chaid | 0.73  | 63.52 | 0.43  | 0.83  | 0.85  |\n",
       "| Cart | 0.67  | 68.80 | 0.44  | 0.85  | 0.89  |\n",
       "\n"
      ],
      "text/plain": [
       "      GINI KS    LogLoss Accuracy Sensibilidad\n",
       "Chaid 0.73 63.52 0.43    0.83     0.85        \n",
       "Cart  0.67 68.80 0.44    0.85     0.89        "
      ]
     },
     "metadata": {},
     "output_type": "display_data"
    }
   ],
   "source": [
    "## --Tabla De Resultados ####\n",
    "\n",
    "GINI <- rbind(GINI_1,\n",
    "              GINI_2\n",
    ")\n",
    "KS <- rbind(ks_1,\n",
    "            ks_2\n",
    ")\n",
    "LogLoss <- rbind(LogLoss_1,\n",
    "                 LogLoss_2\n",
    ")\n",
    "Accuracy=rbind(Accuracy1,\n",
    "               Accuracy2\n",
    ")\n",
    "Sensibilidad=rbind(Sensitivity1,\n",
    "                   Sensitivity2\n",
    ")\n",
    "\n",
    "resultado <- data.frame(GINI,KS,LogLoss,Accuracy,Sensibilidad)\n",
    "rownames(resultado) <- c('Chaid','Cart')\n",
    "resultado <- round(resultado,2)\n",
    "resultado"
   ]
  },
  {
   "cell_type": "code",
   "execution_count": 24,
   "metadata": {},
   "outputs": [
    {
     "data": {
      "text/html": [
       "<table>\n",
       "<thead><tr><th></th><th scope=col>GINI</th><th scope=col>KS</th><th scope=col>LogLoss</th><th scope=col>Accuracy</th><th scope=col>Sensibilidad</th></tr></thead>\n",
       "<tbody>\n",
       "\t<tr><th scope=row>Cart</th><td>0.67 </td><td>68.80</td><td>0.44 </td><td>0.85 </td><td>0.89 </td></tr>\n",
       "\t<tr><th scope=row>Chaid</th><td>0.73 </td><td>63.52</td><td>0.43 </td><td>0.83 </td><td>0.85 </td></tr>\n",
       "</tbody>\n",
       "</table>\n"
      ],
      "text/latex": [
       "\\begin{tabular}{r|lllll}\n",
       "  & GINI & KS & LogLoss & Accuracy & Sensibilidad\\\\\n",
       "\\hline\n",
       "\tCart & 0.67  & 68.80 & 0.44  & 0.85  & 0.89 \\\\\n",
       "\tChaid & 0.73  & 63.52 & 0.43  & 0.83  & 0.85 \\\\\n",
       "\\end{tabular}\n"
      ],
      "text/markdown": [
       "\n",
       "| <!--/--> | GINI | KS | LogLoss | Accuracy | Sensibilidad |\n",
       "|---|---|---|---|---|---|\n",
       "| Cart | 0.67  | 68.80 | 0.44  | 0.85  | 0.89  |\n",
       "| Chaid | 0.73  | 63.52 | 0.43  | 0.83  | 0.85  |\n",
       "\n"
      ],
      "text/plain": [
       "      GINI KS    LogLoss Accuracy Sensibilidad\n",
       "Cart  0.67 68.80 0.44    0.85     0.89        \n",
       "Chaid 0.73 63.52 0.43    0.83     0.85        "
      ]
     },
     "metadata": {},
     "output_type": "display_data"
    }
   ],
   "source": [
    "## Resultado Ordenado #####\n",
    "\n",
    "# ordenamos por el Indicador que deseamos, quiza Sensibilidad en forma decreciente\n",
    "Resultado_ordenado <- resultado[order(-Sensibilidad),] \n",
    "Resultado_ordenado"
   ]
  }
 ],
 "metadata": {
  "kernelspec": {
   "display_name": "R",
   "language": "R",
   "name": "ir"
  },
  "language_info": {
   "codemirror_mode": "r",
   "file_extension": ".r",
   "mimetype": "text/x-r-source",
   "name": "R",
   "pygments_lexer": "r",
   "version": "3.6.1"
  }
 },
 "nbformat": 4,
 "nbformat_minor": 4
}
