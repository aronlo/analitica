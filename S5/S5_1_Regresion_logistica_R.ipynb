{
 "cells": [
  {
   "cell_type": "code",
   "execution_count": 1,
   "metadata": {
    "scrolled": true
   },
   "outputs": [
    {
     "name": "stderr",
     "output_type": "stream",
     "text": [
      "Warning message:\n",
      "\"package 'MLmetrics' was built under R version 3.6.3\"\n",
      "Attaching package: 'MLmetrics'\n",
      "\n",
      "The following object is masked from 'package:base':\n",
      "\n",
      "    Recall\n",
      "\n",
      "Warning message:\n",
      "\"package 'reshape' was built under R version 3.6.3\"Warning message:\n",
      "\"package 'data.table' was built under R version 3.6.3\"\n",
      "Attaching package: 'data.table'\n",
      "\n",
      "The following object is masked from 'package:reshape':\n",
      "\n",
      "    melt\n",
      "\n",
      "\n",
      "Attaching package: 'dplyr'\n",
      "\n",
      "The following objects are masked from 'package:data.table':\n",
      "\n",
      "    between, first, last\n",
      "\n",
      "The following object is masked from 'package:reshape':\n",
      "\n",
      "    rename\n",
      "\n",
      "The following objects are masked from 'package:stats':\n",
      "\n",
      "    filter, lag\n",
      "\n",
      "The following objects are masked from 'package:base':\n",
      "\n",
      "    intersect, setdiff, setequal, union\n",
      "\n",
      "Warning message:\n",
      "\"package 'party' was built under R version 3.6.3\"Warning message:\n",
      "\"package 'mvtnorm' was built under R version 3.6.3\"Warning message:\n",
      "\"package 'modeltools' was built under R version 3.6.3\"Warning message:\n",
      "\"package 'strucchange' was built under R version 3.6.3\"\n",
      "Attaching package: 'zoo'\n",
      "\n",
      "The following objects are masked from 'package:base':\n",
      "\n",
      "    as.Date, as.Date.numeric\n",
      "\n",
      "Warning message:\n",
      "\"package 'sandwich' was built under R version 3.6.3\"Warning message:\n",
      "\"package 'sqldf' was built under R version 3.6.3\"Warning message:\n",
      "\"package 'gsubfn' was built under R version 3.6.3\"Warning message:\n",
      "\"package 'proto' was built under R version 3.6.3\"Warning message:\n",
      "\"package 'RSQLite' was built under R version 3.6.3\"Registered S3 methods overwritten by 'ggplot2':\n",
      "  method         from \n",
      "  [.quosures     rlang\n",
      "  c.quosures     rlang\n",
      "  print.quosures rlang\n",
      "Warning message:\n",
      "\"package 'mlr' was built under R version 3.6.3\"Warning message:\n",
      "\"package 'ParamHelpers' was built under R version 3.6.3\"'mlr' is in maintenance mode since July 2019. Future development\n",
      "efforts will go into its successor 'mlr3' (<https://mlr3.mlr-org.com>).\n",
      "\n",
      "Attaching package: 'mlr'\n",
      "\n",
      "The following object is masked from 'package:gsubfn':\n",
      "\n",
      "    fn\n",
      "\n",
      "Warning message:\n",
      "\"package 'corrplot' was built under R version 3.6.3\"corrplot 0.84 loaded\n",
      "Warning message:\n",
      "\"package 'pROC' was built under R version 3.6.3\"Type 'citation(\"pROC\")' for a citation.\n",
      "\n",
      "Attaching package: 'pROC'\n",
      "\n",
      "The following objects are masked from 'package:stats':\n",
      "\n",
      "    cov, smooth, var\n",
      "\n",
      "\n",
      "Attaching package: 'reshape2'\n",
      "\n",
      "The following objects are masked from 'package:data.table':\n",
      "\n",
      "    dcast, melt\n",
      "\n",
      "The following objects are masked from 'package:reshape':\n",
      "\n",
      "    colsplit, melt, recast\n",
      "\n"
     ]
    },
    {
     "name": "stdout",
     "output_type": "stream",
     "text": [
      "\n",
      "Bellow Packages Successfully Installed:\n",
      "\n",
      " MLmetrics    reshape data.table      dplyr      party    lattice      sqldf \n",
      "      TRUE       TRUE       TRUE       TRUE       TRUE       TRUE       TRUE \n",
      "   ggplot2        mlr   corrplot      haven       pROC   reshape2 \n",
      "      TRUE       TRUE       TRUE       TRUE       TRUE       TRUE \n"
     ]
    }
   ],
   "source": [
    "rm(list=ls())\n",
    "\n",
    "source(\"./ins_paquetes.R\")\n",
    "ins_paquetes('MLmetrics','reshape','data.table','dplyr',\n",
    "             'party','lattice','sqldf','ggplot2','mlr',\n",
    "             'corrplot','haven','pROC','reshape2')"
   ]
  },
  {
   "cell_type": "code",
   "execution_count": 2,
   "metadata": {},
   "outputs": [
    {
     "data": {
      "text/html": [
       "'C:/Users/Aron/Desktop/Analitica/S5'"
      ],
      "text/latex": [
       "'C:/Users/Aron/Desktop/Analitica/S5'"
      ],
      "text/markdown": [
       "'C:/Users/Aron/Desktop/Analitica/S5'"
      ],
      "text/plain": [
       "[1] \"C:/Users/Aron/Desktop/Analitica/S5\""
      ]
     },
     "metadata": {},
     "output_type": "display_data"
    }
   ],
   "source": [
    "getwd()\n",
    "setwd('C:/Users/Aron/Desktop/Analitica/S5')"
   ]
  },
  {
   "cell_type": "code",
   "execution_count": 3,
   "metadata": {},
   "outputs": [],
   "source": [
    "library(dplyr)\n",
    "library(MLmetrics)\n",
    "library(corrplot)\n",
    "library(mlr)\n",
    "library(sqldf)\n",
    "library(ggplot2)\n",
    "library(haven)\n",
    "library(pROC)\n",
    "library(reshape2)"
   ]
  },
  {
   "cell_type": "code",
   "execution_count": 4,
   "metadata": {},
   "outputs": [
    {
     "data": {
      "text/html": [
       "<table>\n",
       "<thead><tr><th scope=col>ID</th><th scope=col>EDAD</th><th scope=col>SEXO</th><th scope=col>CIVIL</th><th scope=col>HIJOS</th><th scope=col>INGRESO</th><th scope=col>AUTO</th><th scope=col>CHURN</th></tr></thead>\n",
       "<tbody>\n",
       "\t<tr><td> 0     </td><td>57     </td><td>1      </td><td>1      </td><td>2      </td><td>27535.3</td><td>1      </td><td>1      </td></tr>\n",
       "\t<tr><td> 4     </td><td>68     </td><td>1      </td><td>1      </td><td>2      </td><td>81000.9</td><td>2      </td><td>1      </td></tr>\n",
       "\t<tr><td> 8     </td><td>34     </td><td>2      </td><td>2      </td><td>0      </td><td>87467.1</td><td>1      </td><td>0      </td></tr>\n",
       "\t<tr><td>10     </td><td>60     </td><td>2      </td><td>1      </td><td>2      </td><td>83220.6</td><td>2      </td><td>1      </td></tr>\n",
       "\t<tr><td>13     </td><td>28     </td><td>1      </td><td>1      </td><td>2      </td><td>20850.4</td><td>2      </td><td>1      </td></tr>\n",
       "\t<tr><td>17     </td><td>52     </td><td>2      </td><td>2      </td><td>0      </td><td>84112.6</td><td>2      </td><td>0      </td></tr>\n",
       "</tbody>\n",
       "</table>\n"
      ],
      "text/latex": [
       "\\begin{tabular}{r|llllllll}\n",
       " ID & EDAD & SEXO & CIVIL & HIJOS & INGRESO & AUTO & CHURN\\\\\n",
       "\\hline\n",
       "\t  0      & 57      & 1       & 1       & 2       & 27535.3 & 1       & 1      \\\\\n",
       "\t  4      & 68      & 1       & 1       & 2       & 81000.9 & 2       & 1      \\\\\n",
       "\t  8      & 34      & 2       & 2       & 0       & 87467.1 & 1       & 0      \\\\\n",
       "\t 10      & 60      & 2       & 1       & 2       & 83220.6 & 2       & 1      \\\\\n",
       "\t 13      & 28      & 1       & 1       & 2       & 20850.4 & 2       & 1      \\\\\n",
       "\t 17      & 52      & 2       & 2       & 0       & 84112.6 & 2       & 0      \\\\\n",
       "\\end{tabular}\n"
      ],
      "text/markdown": [
       "\n",
       "| ID | EDAD | SEXO | CIVIL | HIJOS | INGRESO | AUTO | CHURN |\n",
       "|---|---|---|---|---|---|---|---|\n",
       "|  0      | 57      | 1       | 1       | 2       | 27535.3 | 1       | 1       |\n",
       "|  4      | 68      | 1       | 1       | 2       | 81000.9 | 2       | 1       |\n",
       "|  8      | 34      | 2       | 2       | 0       | 87467.1 | 1       | 0       |\n",
       "| 10      | 60      | 2       | 1       | 2       | 83220.6 | 2       | 1       |\n",
       "| 13      | 28      | 1       | 1       | 2       | 20850.4 | 2       | 1       |\n",
       "| 17      | 52      | 2       | 2       | 0       | 84112.6 | 2       | 0       |\n",
       "\n"
      ],
      "text/plain": [
       "  ID EDAD SEXO CIVIL HIJOS INGRESO AUTO CHURN\n",
       "1  0 57   1    1     2     27535.3 1    1    \n",
       "2  4 68   1    1     2     81000.9 2    1    \n",
       "3  8 34   2    2     0     87467.1 1    0    \n",
       "4 10 60   2    1     2     83220.6 2    1    \n",
       "5 13 28   1    1     2     20850.4 2    1    \n",
       "6 17 52   2    2     0     84112.6 2    0    "
      ]
     },
     "metadata": {},
     "output_type": "display_data"
    }
   ],
   "source": [
    "datos <- haven::read_sav(\"./datasets/Churn.sav\")\n",
    "datos <- data.frame(datos)\n",
    "head(datos)"
   ]
  },
  {
   "cell_type": "code",
   "execution_count": 5,
   "metadata": {},
   "outputs": [
    {
     "data": {
      "text/html": [
       "<table>\n",
       "<thead><tr><th scope=col>name</th><th scope=col>type</th><th scope=col>na</th><th scope=col>mean</th><th scope=col>disp</th><th scope=col>median</th><th scope=col>mad</th><th scope=col>min</th><th scope=col>max</th><th scope=col>nlevs</th></tr></thead>\n",
       "<tbody>\n",
       "\t<tr><td>ID          </td><td>numeric     </td><td>0           </td><td>2.538752e+03</td><td>1.459052e+03</td><td> 2595.0     </td><td> 1851.7674  </td><td>  0.000     </td><td> 4999.0     </td><td>0           </td></tr>\n",
       "\t<tr><td>EDAD        </td><td>numeric     </td><td>0           </td><td>5.745279e+01</td><td>2.270700e+01</td><td>   58.0     </td><td>   28.1694  </td><td> 18.000     </td><td>   97.0     </td><td>0           </td></tr>\n",
       "\t<tr><td>SEXO        </td><td>factor      </td><td>0           </td><td>          NA</td><td>4.996283e-01</td><td>     NA     </td><td>        NA  </td><td>672.000     </td><td>  673.0     </td><td>2           </td></tr>\n",
       "\t<tr><td>CIVIL       </td><td>factor      </td><td>0           </td><td>          NA</td><td>4.052045e-01</td><td>     NA     </td><td>        NA  </td><td>545.000     </td><td>  800.0     </td><td>2           </td></tr>\n",
       "\t<tr><td>HIJOS       </td><td>numeric     </td><td>0           </td><td>9.918216e-01</td><td>8.232621e-01</td><td>    1.0     </td><td>    1.4826  </td><td>  0.000     </td><td>    2.0     </td><td>0           </td></tr>\n",
       "\t<tr><td>INGRESO     </td><td>numeric     </td><td>0           </td><td>5.064071e+04</td><td>2.835441e+04</td><td>50290.7     </td><td>36315.1009  </td><td>110.284     </td><td>99832.9     </td><td>0           </td></tr>\n",
       "\t<tr><td>AUTO        </td><td>factor      </td><td>0           </td><td>          NA</td><td>3.152416e-01</td><td>     NA     </td><td>        NA  </td><td>424.000     </td><td>  921.0     </td><td>2           </td></tr>\n",
       "\t<tr><td>CHURN       </td><td>factor      </td><td>0           </td><td>          NA</td><td>3.814126e-01</td><td>     NA     </td><td>        NA  </td><td>513.000     </td><td>  832.0     </td><td>2           </td></tr>\n",
       "</tbody>\n",
       "</table>\n"
      ],
      "text/latex": [
       "\\begin{tabular}{r|llllllllll}\n",
       " name & type & na & mean & disp & median & mad & min & max & nlevs\\\\\n",
       "\\hline\n",
       "\t ID           & numeric      & 0            & 2.538752e+03 & 1.459052e+03 &  2595.0      &  1851.7674   &   0.000      &  4999.0      & 0           \\\\\n",
       "\t EDAD         & numeric      & 0            & 5.745279e+01 & 2.270700e+01 &    58.0      &    28.1694   &  18.000      &    97.0      & 0           \\\\\n",
       "\t SEXO         & factor       & 0            &           NA & 4.996283e-01 &      NA      &         NA   & 672.000      &   673.0      & 2           \\\\\n",
       "\t CIVIL        & factor       & 0            &           NA & 4.052045e-01 &      NA      &         NA   & 545.000      &   800.0      & 2           \\\\\n",
       "\t HIJOS        & numeric      & 0            & 9.918216e-01 & 8.232621e-01 &     1.0      &     1.4826   &   0.000      &     2.0      & 0           \\\\\n",
       "\t INGRESO      & numeric      & 0            & 5.064071e+04 & 2.835441e+04 & 50290.7      & 36315.1009   & 110.284      & 99832.9      & 0           \\\\\n",
       "\t AUTO         & factor       & 0            &           NA & 3.152416e-01 &      NA      &         NA   & 424.000      &   921.0      & 2           \\\\\n",
       "\t CHURN        & factor       & 0            &           NA & 3.814126e-01 &      NA      &         NA   & 513.000      &   832.0      & 2           \\\\\n",
       "\\end{tabular}\n"
      ],
      "text/markdown": [
       "\n",
       "| name | type | na | mean | disp | median | mad | min | max | nlevs |\n",
       "|---|---|---|---|---|---|---|---|---|---|\n",
       "| ID           | numeric      | 0            | 2.538752e+03 | 1.459052e+03 |  2595.0      |  1851.7674   |   0.000      |  4999.0      | 0            |\n",
       "| EDAD         | numeric      | 0            | 5.745279e+01 | 2.270700e+01 |    58.0      |    28.1694   |  18.000      |    97.0      | 0            |\n",
       "| SEXO         | factor       | 0            |           NA | 4.996283e-01 |      NA      |         NA   | 672.000      |   673.0      | 2            |\n",
       "| CIVIL        | factor       | 0            |           NA | 4.052045e-01 |      NA      |         NA   | 545.000      |   800.0      | 2            |\n",
       "| HIJOS        | numeric      | 0            | 9.918216e-01 | 8.232621e-01 |     1.0      |     1.4826   |   0.000      |     2.0      | 0            |\n",
       "| INGRESO      | numeric      | 0            | 5.064071e+04 | 2.835441e+04 | 50290.7      | 36315.1009   | 110.284      | 99832.9      | 0            |\n",
       "| AUTO         | factor       | 0            |           NA | 3.152416e-01 |      NA      |         NA   | 424.000      |   921.0      | 2            |\n",
       "| CHURN        | factor       | 0            |           NA | 3.814126e-01 |      NA      |         NA   | 513.000      |   832.0      | 2            |\n",
       "\n"
      ],
      "text/plain": [
       "  name    type    na mean         disp         median  mad        min    \n",
       "1 ID      numeric 0  2.538752e+03 1.459052e+03  2595.0  1851.7674   0.000\n",
       "2 EDAD    numeric 0  5.745279e+01 2.270700e+01    58.0    28.1694  18.000\n",
       "3 SEXO    factor  0            NA 4.996283e-01      NA         NA 672.000\n",
       "4 CIVIL   factor  0            NA 4.052045e-01      NA         NA 545.000\n",
       "5 HIJOS   numeric 0  9.918216e-01 8.232621e-01     1.0     1.4826   0.000\n",
       "6 INGRESO numeric 0  5.064071e+04 2.835441e+04 50290.7 36315.1009 110.284\n",
       "7 AUTO    factor  0            NA 3.152416e-01      NA         NA 424.000\n",
       "8 CHURN   factor  0            NA 3.814126e-01      NA         NA 513.000\n",
       "  max     nlevs\n",
       "1  4999.0 0    \n",
       "2    97.0 0    \n",
       "3   673.0 2    \n",
       "4   800.0 2    \n",
       "5     2.0 0    \n",
       "6 99832.9 0    \n",
       "7   921.0 2    \n",
       "8   832.0 2    "
      ]
     },
     "metadata": {},
     "output_type": "display_data"
    }
   ],
   "source": [
    "########### 3) TRATAMIENTO DE LA DATA ################# \n",
    "\n",
    "## en primer lugar ver el analisis descriptivo de la data\n",
    "\n",
    "datos$SEXO <- as.factor(datos$SEXO)\n",
    "datos$CIVIL <- as.factor(datos$CIVIL)\n",
    "datos$AUTO <- as.factor(datos$AUTO)\n",
    "datos$CHURN <- as.factor(datos$CHURN)\n",
    "\n",
    "resumen <- data.frame(mlr::summarizeColumns(datos))\n",
    "write.csv(resumen,\"output/tabla_resumen_logistica.csv\")\n",
    "resumen"
   ]
  },
  {
   "cell_type": "code",
   "execution_count": 6,
   "metadata": {},
   "outputs": [],
   "source": [
    "########### 4)  ANALISIS  ###################### \n",
    "\n",
    "## ver correlacion antes de categorizar\n",
    "\n",
    "source(\"./funciones.R\")\n",
    "\n",
    "## Generamos una copia para realizar la correlacion\n",
    "data_datos <- datos\n",
    "data_datos[,1:ncol(data_datos)] <- lapply(data_datos[,1:ncol(data_datos)],as.character)\n",
    "data_datos[,1:ncol(data_datos)] <- lapply(data_datos[,1:ncol(data_datos)],as.numeric)\n",
    "\n",
    "corre <- cor(data_datos,method = c(\"spearman\"))\n",
    "\n",
    "## colocamos la primera funcion de correlacion\n",
    "corre <- correlacionS(corre)\n",
    "corre$filtro <- ifelse(abs(corre$cor)>0.6,1,0)\n",
    "\n",
    "write.csv(corre,\"output/correlacion_variables_logistica.csv\",row.names = F)"
   ]
  },
  {
   "cell_type": "code",
   "execution_count": 7,
   "metadata": {},
   "outputs": [],
   "source": [
    "########### 4)  ANALISIS  ###################### \n",
    "\n",
    "## ver correlacion antes de categorizar\n",
    "\n",
    "source(\"./funciones.R\")\n",
    "\n",
    "## Generamos una copia para realizar la correlacion\n",
    "data_datos <- datos\n",
    "data_datos[,1:ncol(data_datos)] <- lapply(data_datos[,1:ncol(data_datos)],as.character)\n",
    "data_datos[,1:ncol(data_datos)] <- lapply(data_datos[,1:ncol(data_datos)],as.numeric)\n",
    "\n",
    "corre <- cor(data_datos,method = c(\"spearman\"))\n",
    "\n",
    "## colocamos la primera funcion de correlacion\n",
    "corre <- correlacionS(corre)\n",
    "corre$filtro <- ifelse(abs(corre$cor)>0.6,1,0)\n",
    "\n",
    "write.csv(corre,\"output/correlacion_variables_logistica.csv\",row.names = F)"
   ]
  },
  {
   "cell_type": "code",
   "execution_count": 8,
   "metadata": {},
   "outputs": [
    {
     "data": {
      "text/html": [
       "<table>\n",
       "<thead><tr><th scope=col>names.datos.</th></tr></thead>\n",
       "<tbody>\n",
       "\t<tr><td>ID     </td></tr>\n",
       "\t<tr><td>EDAD   </td></tr>\n",
       "\t<tr><td>SEXO   </td></tr>\n",
       "\t<tr><td>CIVIL  </td></tr>\n",
       "\t<tr><td>HIJOS  </td></tr>\n",
       "\t<tr><td>INGRESO</td></tr>\n",
       "\t<tr><td>AUTO   </td></tr>\n",
       "\t<tr><td>CHURN  </td></tr>\n",
       "</tbody>\n",
       "</table>\n"
      ],
      "text/latex": [
       "\\begin{tabular}{r|l}\n",
       " names.datos.\\\\\n",
       "\\hline\n",
       "\t ID     \\\\\n",
       "\t EDAD   \\\\\n",
       "\t SEXO   \\\\\n",
       "\t CIVIL  \\\\\n",
       "\t HIJOS  \\\\\n",
       "\t INGRESO\\\\\n",
       "\t AUTO   \\\\\n",
       "\t CHURN  \\\\\n",
       "\\end{tabular}\n"
      ],
      "text/markdown": [
       "\n",
       "| names.datos. |\n",
       "|---|\n",
       "| ID      |\n",
       "| EDAD    |\n",
       "| SEXO    |\n",
       "| CIVIL   |\n",
       "| HIJOS   |\n",
       "| INGRESO |\n",
       "| AUTO    |\n",
       "| CHURN   |\n",
       "\n"
      ],
      "text/plain": [
       "  names.datos.\n",
       "1 ID          \n",
       "2 EDAD        \n",
       "3 SEXO        \n",
       "4 CIVIL       \n",
       "5 HIJOS       \n",
       "6 INGRESO     \n",
       "7 AUTO        \n",
       "8 CHURN       "
      ]
     },
     "metadata": {},
     "output_type": "display_data"
    }
   ],
   "source": [
    "## primer modelo logistica ##\n",
    "\n",
    "# retiramos la variable correlacionada\n",
    "\n",
    "data.frame(names(datos))\n",
    "\n",
    "formula <-    CHURN ~\n",
    "         EDAD+\n",
    "         SEXO+\n",
    "        CIVIL+\n",
    "        HIJOS+\n",
    "      INGRESO+\n",
    "         AUTO\n",
    "        \n",
    "              \n",
    "modelo1 <- glm(formula,data=datos,family = binomial() )"
   ]
  },
  {
   "cell_type": "code",
   "execution_count": 9,
   "metadata": {},
   "outputs": [
    {
     "name": "stderr",
     "output_type": "stream",
     "text": [
      "Setting levels: control = 0, case = 1\n",
      "Setting direction: controls < cases\n"
     ]
    },
    {
     "data": {
      "text/html": [
       "<table>\n",
       "<thead><tr><th scope=col>variable</th><th scope=col>Gini</th><th scope=col>KS</th></tr></thead>\n",
       "<tbody>\n",
       "\t<tr><td>logistico</td><td>58.94    </td><td>56.04    </td></tr>\n",
       "</tbody>\n",
       "</table>\n"
      ],
      "text/latex": [
       "\\begin{tabular}{r|lll}\n",
       " variable & Gini & KS\\\\\n",
       "\\hline\n",
       "\t logistico & 58.94     & 56.04    \\\\\n",
       "\\end{tabular}\n"
      ],
      "text/markdown": [
       "\n",
       "| variable | Gini | KS |\n",
       "|---|---|---|\n",
       "| logistico | 58.94     | 56.04     |\n",
       "\n"
      ],
      "text/plain": [
       "  variable  Gini  KS   \n",
       "1 logistico 58.94 56.04"
      ]
     },
     "metadata": {},
     "output_type": "display_data"
    }
   ],
   "source": [
    "# indicadores mediante la segunda funcion\n",
    "calcula_indicadores(modelo1)"
   ]
  },
  {
   "cell_type": "code",
   "execution_count": 10,
   "metadata": {},
   "outputs": [
    {
     "data": {
      "text/plain": [
       "\n",
       "Call:\n",
       "glm(formula = formula, family = binomial(), data = datos)\n",
       "\n",
       "Deviance Residuals: \n",
       "    Min       1Q   Median       3Q      Max  \n",
       "-1.8069  -0.6306  -0.4777   0.9101   2.3761  \n",
       "\n",
       "Coefficients:\n",
       "              Estimate Std. Error z value Pr(>|z|)    \n",
       "(Intercept)  5.342e-01  2.553e-01   2.092 0.036410 *  \n",
       "EDAD         1.048e-02  2.943e-03   3.561 0.000370 ***\n",
       "SEXO2       -2.485e+00  1.428e-01 -17.406  < 2e-16 ***\n",
       "CIVIL2       3.088e-02  1.349e-01   0.229 0.818955    \n",
       "HIJOS       -1.058e-01  8.079e-02  -1.310 0.190139    \n",
       "INGRESO     -8.119e-06  2.356e-06  -3.446 0.000568 ***\n",
       "AUTO2       -1.072e-01  1.423e-01  -0.753 0.451262    \n",
       "---\n",
       "Signif. codes:  0 '***' 0.001 '**' 0.01 '*' 0.05 '.' 0.1 ' ' 1\n",
       "\n",
       "(Dispersion parameter for binomial family taken to be 1)\n",
       "\n",
       "    Null deviance: 1788.2  on 1344  degrees of freedom\n",
       "Residual deviance: 1391.3  on 1338  degrees of freedom\n",
       "AIC: 1405.3\n",
       "\n",
       "Number of Fisher Scoring iterations: 4\n"
      ]
     },
     "metadata": {},
     "output_type": "display_data"
    }
   ],
   "source": [
    "# ver la significancia del modelo\n",
    "summary(modelo1)"
   ]
  },
  {
   "cell_type": "code",
   "execution_count": 11,
   "metadata": {},
   "outputs": [],
   "source": [
    "## reajustando\n",
    "formula <-    CHURN ~\n",
    "  EDAD+\n",
    "  SEXO+\n",
    "  #CIVIL+\n",
    "  #HIJOS+\n",
    "  INGRESO\n",
    "  #AUTO\n",
    "\n",
    "modelo2 <- glm(formula,data=datos,family = binomial())"
   ]
  },
  {
   "cell_type": "code",
   "execution_count": 12,
   "metadata": {},
   "outputs": [
    {
     "name": "stderr",
     "output_type": "stream",
     "text": [
      "Warning message in ks.test(x = objeto_logit$fitted.values[which(objeto_logit$y == :\n",
      "\"p-value will be approximate in the presence of ties\"Setting levels: control = 0, case = 1\n",
      "Setting direction: controls < cases\n"
     ]
    },
    {
     "data": {
      "text/html": [
       "<table>\n",
       "<thead><tr><th scope=col>variable</th><th scope=col>Gini</th><th scope=col>KS</th></tr></thead>\n",
       "<tbody>\n",
       "\t<tr><td>logistico</td><td>58.62    </td><td>56.43    </td></tr>\n",
       "</tbody>\n",
       "</table>\n"
      ],
      "text/latex": [
       "\\begin{tabular}{r|lll}\n",
       " variable & Gini & KS\\\\\n",
       "\\hline\n",
       "\t logistico & 58.62     & 56.43    \\\\\n",
       "\\end{tabular}\n"
      ],
      "text/markdown": [
       "\n",
       "| variable | Gini | KS |\n",
       "|---|---|---|\n",
       "| logistico | 58.62     | 56.43     |\n",
       "\n"
      ],
      "text/plain": [
       "  variable  Gini  KS   \n",
       "1 logistico 58.62 56.43"
      ]
     },
     "metadata": {},
     "output_type": "display_data"
    }
   ],
   "source": [
    "# indicadores mediante la segunda funcion\n",
    "calcula_indicadores(modelo2)"
   ]
  },
  {
   "cell_type": "code",
   "execution_count": 13,
   "metadata": {},
   "outputs": [
    {
     "data": {
      "text/plain": [
       "\n",
       "Call:\n",
       "glm(formula = formula, family = binomial(), data = datos)\n",
       "\n",
       "Deviance Residuals: \n",
       "    Min       1Q   Median       3Q      Max  \n",
       "-1.7474  -0.6227  -0.4799   0.9218   2.3539  \n",
       "\n",
       "Coefficients:\n",
       "              Estimate Std. Error z value Pr(>|z|)    \n",
       "(Intercept)  3.528e-01  2.131e-01   1.655 0.097863 .  \n",
       "EDAD         1.057e-02  2.935e-03   3.601 0.000316 ***\n",
       "SEXO2       -2.475e+00  1.423e-01 -17.391  < 2e-16 ***\n",
       "INGRESO     -7.994e-06  2.352e-06  -3.398 0.000678 ***\n",
       "---\n",
       "Signif. codes:  0 '***' 0.001 '**' 0.01 '*' 0.05 '.' 0.1 ' ' 1\n",
       "\n",
       "(Dispersion parameter for binomial family taken to be 1)\n",
       "\n",
       "    Null deviance: 1788.2  on 1344  degrees of freedom\n",
       "Residual deviance: 1393.7  on 1341  degrees of freedom\n",
       "AIC: 1401.7\n",
       "\n",
       "Number of Fisher Scoring iterations: 4\n"
      ]
     },
     "metadata": {},
     "output_type": "display_data"
    }
   ],
   "source": [
    "# ver la significancia del modelo\n",
    "summary(modelo2)"
   ]
  },
  {
   "cell_type": "code",
   "execution_count": 14,
   "metadata": {},
   "outputs": [],
   "source": [
    "## reajustando\n",
    "\n",
    "formula <-    CHURN ~\n",
    "  EDAD+\n",
    "  SEXO+\n",
    "  #CIVIL+\n",
    "  #HIJOS+\n",
    "  INGRESO-1\n",
    "#AUTO\n",
    "\n",
    "modelo3 <- glm(formula,data=datos,family = binomial())"
   ]
  },
  {
   "cell_type": "code",
   "execution_count": 15,
   "metadata": {
    "scrolled": true
   },
   "outputs": [
    {
     "name": "stderr",
     "output_type": "stream",
     "text": [
      "Warning message in ks.test(x = objeto_logit$fitted.values[which(objeto_logit$y == :\n",
      "\"p-value will be approximate in the presence of ties\"Setting levels: control = 0, case = 1\n",
      "Setting direction: controls < cases\n"
     ]
    },
    {
     "data": {
      "text/html": [
       "<table>\n",
       "<thead><tr><th scope=col>variable</th><th scope=col>Gini</th><th scope=col>KS</th></tr></thead>\n",
       "<tbody>\n",
       "\t<tr><td>logistico</td><td>58.62    </td><td>56.43    </td></tr>\n",
       "</tbody>\n",
       "</table>\n"
      ],
      "text/latex": [
       "\\begin{tabular}{r|lll}\n",
       " variable & Gini & KS\\\\\n",
       "\\hline\n",
       "\t logistico & 58.62     & 56.43    \\\\\n",
       "\\end{tabular}\n"
      ],
      "text/markdown": [
       "\n",
       "| variable | Gini | KS |\n",
       "|---|---|---|\n",
       "| logistico | 58.62     | 56.43     |\n",
       "\n"
      ],
      "text/plain": [
       "  variable  Gini  KS   \n",
       "1 logistico 58.62 56.43"
      ]
     },
     "metadata": {},
     "output_type": "display_data"
    }
   ],
   "source": [
    "# indicadores mediante la segunda funcion\n",
    "calcula_indicadores(modelo3)"
   ]
  },
  {
   "cell_type": "code",
   "execution_count": 16,
   "metadata": {},
   "outputs": [
    {
     "data": {
      "text/plain": [
       "\n",
       "Call:\n",
       "glm(formula = formula, family = binomial(), data = datos)\n",
       "\n",
       "Deviance Residuals: \n",
       "    Min       1Q   Median       3Q      Max  \n",
       "-1.7474  -0.6227  -0.4799   0.9218   2.3539  \n",
       "\n",
       "Coefficients:\n",
       "          Estimate Std. Error z value Pr(>|z|)    \n",
       "EDAD     1.057e-02  2.935e-03   3.601 0.000316 ***\n",
       "SEXO1    3.528e-01  2.131e-01   1.655 0.097863 .  \n",
       "SEXO2   -2.123e+00  2.348e-01  -9.040  < 2e-16 ***\n",
       "INGRESO -7.994e-06  2.352e-06  -3.398 0.000678 ***\n",
       "---\n",
       "Signif. codes:  0 '***' 0.001 '**' 0.01 '*' 0.05 '.' 0.1 ' ' 1\n",
       "\n",
       "(Dispersion parameter for binomial family taken to be 1)\n",
       "\n",
       "    Null deviance: 1864.6  on 1345  degrees of freedom\n",
       "Residual deviance: 1393.7  on 1341  degrees of freedom\n",
       "AIC: 1401.7\n",
       "\n",
       "Number of Fisher Scoring iterations: 4\n"
      ]
     },
     "metadata": {},
     "output_type": "display_data"
    }
   ],
   "source": [
    "# ver la significancia del modelo\n",
    "summary(modelo3)"
   ]
  },
  {
   "cell_type": "code",
   "execution_count": null,
   "metadata": {},
   "outputs": [],
   "source": [
    "## representacion de las variables\n",
    "\n",
    "datosF <- sqldf::sqldf(\"select   EDAD,  SEXO,  INGRESO from datos\")\n",
    "datosF$probabilidades_result1 <- predict(modelo3, newdata = datos, type = \"response\")\n",
    "\n",
    "tabla <- reshape2::melt(datosF, id.vars = c(\"EDAD\", \"SEXO\",\"INGRESO\"), value.name = \"probability\")\n",
    "\n",
    "# Grafico de las probabilidades\n",
    "\n",
    "ggplot2::ggplot(tabla, aes(x = EDAD, \n",
    "                           y = probability, colour = SEXO)) + geom_line() + \n",
    "  facet_grid(variable ~., scales = \"free\")\n",
    "\n",
    "ggplot2::ggplot(tabla, aes(x = INGRESO, \n",
    "                           y = probability, colour = SEXO)) + geom_line() + \n",
    "  facet_grid(variable ~., scales = \"free\")\n",
    "\n",
    "## Indicadores\n",
    "\n",
    "## calcular el AUC\n",
    "AUC1 <- MLmetrics::AUC(datosF$probabilidades_result1,datos$CHURN)\n",
    "\n",
    "## calcular el GINI\n",
    "gini1 <- 2*(AUC1) -1\n",
    "\n",
    "## calcular el LOGLOSS\n",
    "LogLoss1 <- MLmetrics::LogLoss(datosF$probabilidades_result1,as.numeric(as.character(datos$CHURN)))\n",
    "\n",
    "## Calcular el KS\n",
    "KS1 <- MLmetrics::KS_Stat(datosF$probabilidades_result1,datos$CHURN)\n",
    "\n",
    "# Calcular los valores predichos\n",
    "\n",
    "table(datos$CHURN)\n",
    "\n",
    "PRED <- ifelse(datosF$probabilidades_result1<=0.5,0,1) # pto de corte 0.5\n",
    "#PRED <- ifelse(datosF$probabilidades_result1<=mean(datosF$probabilidades_result1),0,1)\n",
    "PRED <- as.factor(PRED)\n",
    "\n",
    "# Calcular la matriz de confusion\n",
    "tabla <- caret::confusionMatrix(PRED,datos$CHURN,positive = \"1\")\n",
    "tabla\n",
    "\n",
    "# sensibilidad\n",
    "Sensitivity1 <- MLmetrics::Sensitivity(PRED,datos$CHURN)\n",
    "\n",
    "#Specificity\n",
    "Specificity1 <- MLmetrics::Specificity(PRED,datos$CHURN)\n",
    "\n",
    "# Precision\n",
    "Accuracy1 <- MLmetrics::Accuracy(PRED,datos$CHURN)\n",
    "\n",
    "# Calcular el error de mala clasificaci?n\n",
    "error1 <- 1-Accuracy1\n",
    "\n",
    "# indicadores\n",
    "AUC1\n",
    "gini1\n",
    "LogLoss1\n",
    "KS1\n",
    "Accuracy1\n",
    "error1\n",
    "Sensitivity1\n",
    "Specificity1\n",
    "\n",
    "########### 5) SEGUNDO ANALISIS  #################\n",
    "\n",
    "formula <-    CHURN ~\n",
    "  EDAD+\n",
    "  SEXO+\n",
    "  CIVIL+\n",
    "  HIJOS+\n",
    "  INGRESO+\n",
    "  AUTO\n",
    "\n",
    "\n",
    "modelo4 <- glm(formula,data=datos,family=binomial(link=cloglog) )\n",
    "\n",
    "# indicadores mediante la segunda funcion\n",
    "calcula_indicadores(modelo4)\n",
    "\n",
    "# ver la significancia del modelo\n",
    "\n",
    "summary(modelo4)\n",
    "\n",
    "## reajustando\n",
    "\n",
    "formula <-    CHURN ~\n",
    "  EDAD+\n",
    "  SEXO+\n",
    "  #CIVIL+\n",
    "  #HIJOS+\n",
    "  INGRESO#+\n",
    "  #AUTO\n",
    "\n",
    "\n",
    "modelo5 <- glm(formula,data=datos,family=binomial(link=cloglog) )\n",
    "\n",
    "# indicadores mediante la segunda funcion\n",
    "calcula_indicadores(modelo5)\n",
    "\n",
    "# ver la significancia del modelo\n",
    "\n",
    "summary(modelo5)\n",
    "\n",
    "## reajustando\n",
    "\n",
    "formula <-    CHURN ~\n",
    "  EDAD+\n",
    "  SEXO+\n",
    "  #CIVIL+\n",
    "  #HIJOS+\n",
    "  INGRESO -1 #+\n",
    "#AUTO\n",
    "\n",
    "\n",
    "modelo6 <- glm(formula,data=datos,family=binomial(link=cloglog) )\n",
    "\n",
    "# indicadores mediante la segunda funcion\n",
    "calcula_indicadores(modelo6)\n",
    "\n",
    "# ver la significancia del modelo\n",
    "\n",
    "summary(modelo6)\n",
    "\n",
    "## Indicadores\n",
    "\n",
    "datosF$probabilidades_result2 <- predict(modelo6, newdata =  datos,type=\"response\")\n",
    "\n",
    "## calcular el AUC\n",
    "AUC2 <- MLmetrics::AUC(datosF$probabilidades_result2,datos$CHURN)\n",
    "\n",
    "## calcular el GINI\n",
    "gini2 <- 2*(AUC2) -1\n",
    "\n",
    "## calcular el LOGLOSS\n",
    "LogLoss2 <- MLmetrics::LogLoss(datosF$probabilidades_result2,as.numeric(as.character(datos$CHURN)))\n",
    "\n",
    "## Calcular el KS\n",
    "KS2 <- MLmetrics::KS_Stat(datosF$probabilidades_result2,datos$CHURN)\n",
    "\n",
    "# Calcular los valores predichos\n",
    "\n",
    "PRED <- ifelse(datosF$probabilidades_result2<=0.5,0,1) # pto de corte 0.5\n",
    "PRED <- as.factor(PRED)\n",
    "\n",
    "# Calcular la matriz de confusion\n",
    "tabla <- caret::confusionMatrix(PRED,datos$CHURN,positive = \"1\")\n",
    "tabla\n",
    "\n",
    "# sensibilidad\n",
    "Sensitivity2 <- MLmetrics::Sensitivity(PRED,datos$CHURN)\n",
    "\n",
    "#Specificity\n",
    "Specificity2 <- MLmetrics::Specificity(PRED,datos$CHURN)\n",
    "\n",
    "# Precision\n",
    "Accuracy2 <- MLmetrics::Accuracy(PRED,datos$CHURN)\n",
    "\n",
    "# Calcular el error de mala clasificaci?n\n",
    "error2 <- 1-Accuracy2\n",
    "\n",
    "# indicadores\n",
    "AUC2\n",
    "gini2\n",
    "LogLoss2\n",
    "KS2\n",
    "Accuracy2\n",
    "error2\n",
    "Sensitivity2\n",
    "Specificity2\n",
    "\n",
    "## Tabla comparativa\n",
    "\n",
    "AUC <- rbind(AUC1,AUC2); AUC <- round(AUC,3)\n",
    "Gini <- rbind(gini1,gini2); Gini <- round(Gini,3)\n",
    "LogLoss <- rbind(LogLoss1,LogLoss2); LogLoss <- round(LogLoss,4)\n",
    "KS <- rbind(KS1,KS2); KS <- round(KS,4)\n",
    "Accuracy <- rbind(Accuracy1,Accuracy2); Accuracy <- round(Accuracy,3)\n",
    "Sensitivity <- rbind(Sensitivity1,Sensitivity2); Sensitivity <- round(Sensitivity,3)\n",
    "Specificity <- rbind(Specificity1,Specificity2); Specificity <- round(Specificity,3)\n",
    "\n",
    "Indicadores <- cbind(AUC,Gini,LogLoss,KS,Accuracy,Sensitivity,Specificity)\n",
    "rownames(Indicadores)<- c('modelo_logit','modelo_cloglog')\n",
    "colnames(Indicadores)<- c('AUC','Gini','LogLoss','KS','Accuracy','Sensitivity','Specificity')\n",
    "\n",
    "Indicadores\n"
   ]
  }
 ],
 "metadata": {
  "kernelspec": {
   "display_name": "R",
   "language": "R",
   "name": "ir"
  },
  "language_info": {
   "codemirror_mode": "r",
   "file_extension": ".r",
   "mimetype": "text/x-r-source",
   "name": "R",
   "pygments_lexer": "r",
   "version": "3.6.1"
  }
 },
 "nbformat": 4,
 "nbformat_minor": 4
}
