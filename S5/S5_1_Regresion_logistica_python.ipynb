{
 "cells": [
  {
   "cell_type": "code",
   "execution_count": 1,
   "metadata": {},
   "outputs": [],
   "source": [
    "import numpy as np\n",
    "import matplotlib.pyplot as plt\n",
    "from sklearn import linear_model\n",
    "# Fitting of a Logistic Regression and prediction using the model:\n",
    "from sklearn.linear_model import LogisticRegression"
   ]
  },
  {
   "cell_type": "code",
   "execution_count": 2,
   "metadata": {},
   "outputs": [
    {
     "data": {
      "image/png": "[encoded data removed]",
      "text/plain": [
       "<Figure size 432x288 with 1 Axes>"
      ]
     },
     "metadata": {
      "needs_background": "light"
     },
     "output_type": "display_data"
    }
   ],
   "source": [
    "def logist(x,l):\n",
    "    return 1/(1+np.exp(-l*x))\n",
    "\n",
    "x = np.linspace(-10, 10) # 50 points equally spaced from -10 to 10\n",
    "t = logist(x, 0.5)\n",
    "y = logist(x, 1)\n",
    "z = logist(x, 3)\n",
    "plt.plot(x, t, label = 'lambda=0.5')\n",
    "plt.plot(x, y, label = 'lambda=1')\n",
    "plt.plot(x, z, label = 'lambda=3')\n",
    "plt.legend(loc = 'upper left')\n",
    "plt.savefig(\"LogisticRegression.png\", dpi = 300, bbox_inches = 'tight')"
   ]
  },
  {
   "cell_type": "code",
   "execution_count": 3,
   "metadata": {},
   "outputs": [],
   "source": [
    "def lr_model(x):\n",
    "    return 1 / (1 + np.exp(-x))"
   ]
  },
  {
   "cell_type": "code",
   "execution_count": 4,
   "metadata": {},
   "outputs": [
    {
     "name": "stdout",
     "output_type": "stream",
     "text": [
      "[[ 1.76405235]\n",
      " [ 0.40015721]\n",
      " [ 0.97873798]\n",
      " [ 2.2408932 ]\n",
      " [ 1.86755799]\n",
      " [-0.97727788]\n",
      " [ 0.95008842]\n",
      " [-0.15135721]\n",
      " [-0.10321885]\n",
      " [ 0.4105985 ]\n",
      " [ 0.14404357]\n",
      " [ 1.45427351]\n",
      " [ 0.76103773]\n",
      " [ 0.12167502]\n",
      " [ 0.44386323]\n",
      " [ 0.33367433]\n",
      " [ 1.49407907]\n",
      " [-0.20515826]\n",
      " [ 0.3130677 ]\n",
      " [-0.85409574]\n",
      " [-2.55298982]\n",
      " [ 0.6536186 ]\n",
      " [ 0.8644362 ]\n",
      " [-0.74216502]\n",
      " [ 2.26975462]\n",
      " [-1.45436567]\n",
      " [ 0.04575852]\n",
      " [-0.18718385]\n",
      " [ 1.53277921]\n",
      " [ 1.46935877]\n",
      " [ 0.15494743]\n",
      " [ 0.37816252]\n",
      " [-0.88778575]\n",
      " [-1.98079647]\n",
      " [-0.34791215]\n",
      " [ 0.15634897]\n",
      " [ 1.23029068]\n",
      " [ 1.20237985]\n",
      " [-0.38732682]\n",
      " [-0.30230275]\n",
      " [-1.04855297]\n",
      " [-1.42001794]\n",
      " [-1.70627019]\n",
      " [ 1.9507754 ]\n",
      " [-0.50965218]\n",
      " [-0.4380743 ]\n",
      " [-1.25279536]\n",
      " [ 0.77749036]\n",
      " [-1.61389785]\n",
      " [-0.21274028]\n",
      " [-0.89546656]\n",
      " [ 0.3869025 ]\n",
      " [-0.51080514]\n",
      " [-1.18063218]\n",
      " [-0.02818223]\n",
      " [ 0.42833187]\n",
      " [ 0.06651722]\n",
      " [ 0.3024719 ]\n",
      " [-0.63432209]\n",
      " [-0.36274117]\n",
      " [-0.67246045]\n",
      " [-0.35955316]\n",
      " [-0.81314628]\n",
      " [-1.7262826 ]\n",
      " [ 0.17742614]\n",
      " [-0.40178094]\n",
      " [-1.63019835]\n",
      " [ 0.46278226]\n",
      " [-0.90729836]\n",
      " [ 0.0519454 ]\n",
      " [ 0.72909056]\n",
      " [ 0.12898291]\n",
      " [ 1.13940068]\n",
      " [-1.23482582]\n",
      " [ 0.40234164]\n",
      " [-0.68481009]\n",
      " [-0.87079715]\n",
      " [-0.57884966]\n",
      " [-0.31155253]\n",
      " [ 0.05616534]\n",
      " [-1.16514984]\n",
      " [ 0.90082649]\n",
      " [ 0.46566244]\n",
      " [-1.53624369]\n",
      " [ 1.48825219]\n",
      " [ 1.89588918]\n",
      " [ 1.17877957]\n",
      " [-0.17992484]\n",
      " [-1.07075262]\n",
      " [ 1.05445173]\n",
      " [-0.40317695]\n",
      " [ 1.22244507]\n",
      " [ 0.20827498]\n",
      " [ 0.97663904]\n",
      " [ 0.3563664 ]\n",
      " [ 0.70657317]\n",
      " [ 0.01050002]\n",
      " [ 1.78587049]\n",
      " [ 0.12691209]\n",
      " [ 0.40198936]]\n"
     ]
    }
   ],
   "source": [
    "X_test = np.linspace(-10, 10, 300)\n",
    "#num : int, optional\n",
    "#Number of samples to generate. Default is 50. Must be non-negative.  \n",
    "\n",
    "xmin, xmax = -10, 10\n",
    "np.random.seed(0)\n",
    "X = np.random.normal(size = 100) \n",
    "#print(type(X))\n",
    "#print(X)\n",
    "y = (X > 0).astype(np.float) \n",
    "#print(y)\n",
    "\n",
    "#X = X[:, np.newaxis] \n",
    "X = X.reshape(-1,1)\n",
    "print(X)\n"
   ]
  },
  {
   "cell_type": "code",
   "execution_count": 5,
   "metadata": {},
   "outputs": [
    {
     "data": {
      "text/plain": [
       "LinearRegression()"
      ]
     },
     "execution_count": 5,
     "metadata": {},
     "output_type": "execute_result"
    }
   ],
   "source": [
    "# Linear Regression:\n",
    "ols = linear_model.LinearRegression()\n",
    "ols.fit(X, y)"
   ]
  },
  {
   "cell_type": "code",
   "execution_count": 6,
   "metadata": {},
   "outputs": [
    {
     "data": {
      "text/plain": [
       "LogisticRegression(C=100000.0)"
      ]
     },
     "execution_count": 6,
     "metadata": {},
     "output_type": "execute_result"
    }
   ],
   "source": [
    "# Logistic Regression:\n",
    "clf = linear_model.LogisticRegression(C=1e5)\n",
    "clf.fit(X, y)\n",
    "clf"
   ]
  },
  {
   "cell_type": "code",
   "execution_count": 7,
   "metadata": {},
   "outputs": [
    {
     "name": "stderr",
     "output_type": "stream",
     "text": [
      "C:\\Users\\Aron\\anaconda3\\envs\\R\\lib\\site-packages\\ipykernel_launcher.py:2: RuntimeWarning: overflow encountered in exp\n",
      "  \n"
     ]
    },
    {
     "data": {
      "text/plain": [
       "array([0.00000000e+000, 0.00000000e+000, 0.00000000e+000, 0.00000000e+000,\n",
       "       0.00000000e+000, 0.00000000e+000, 0.00000000e+000, 0.00000000e+000,\n",
       "       0.00000000e+000, 0.00000000e+000, 0.00000000e+000, 0.00000000e+000,\n",
       "       0.00000000e+000, 0.00000000e+000, 0.00000000e+000, 0.00000000e+000,\n",
       "       0.00000000e+000, 0.00000000e+000, 0.00000000e+000, 0.00000000e+000,\n",
       "       0.00000000e+000, 0.00000000e+000, 0.00000000e+000, 0.00000000e+000,\n",
       "       0.00000000e+000, 0.00000000e+000, 0.00000000e+000, 0.00000000e+000,\n",
       "       0.00000000e+000, 0.00000000e+000, 0.00000000e+000, 0.00000000e+000,\n",
       "       0.00000000e+000, 0.00000000e+000, 0.00000000e+000, 0.00000000e+000,\n",
       "       0.00000000e+000, 0.00000000e+000, 0.00000000e+000, 0.00000000e+000,\n",
       "       0.00000000e+000, 0.00000000e+000, 0.00000000e+000, 0.00000000e+000,\n",
       "       0.00000000e+000, 0.00000000e+000, 0.00000000e+000, 0.00000000e+000,\n",
       "       0.00000000e+000, 0.00000000e+000, 0.00000000e+000, 0.00000000e+000,\n",
       "       0.00000000e+000, 0.00000000e+000, 0.00000000e+000, 0.00000000e+000,\n",
       "       0.00000000e+000, 0.00000000e+000, 0.00000000e+000, 0.00000000e+000,\n",
       "       0.00000000e+000, 0.00000000e+000, 0.00000000e+000, 0.00000000e+000,\n",
       "       0.00000000e+000, 0.00000000e+000, 0.00000000e+000, 0.00000000e+000,\n",
       "       0.00000000e+000, 0.00000000e+000, 0.00000000e+000, 0.00000000e+000,\n",
       "       0.00000000e+000, 0.00000000e+000, 0.00000000e+000, 0.00000000e+000,\n",
       "       0.00000000e+000, 0.00000000e+000, 0.00000000e+000, 0.00000000e+000,\n",
       "       0.00000000e+000, 0.00000000e+000, 0.00000000e+000, 0.00000000e+000,\n",
       "       1.79168315e-308, 9.14550547e-304, 4.66825121e-299, 2.38287205e-294,\n",
       "       1.21631826e-289, 6.20860072e-285, 3.16913132e-280, 1.61765811e-275,\n",
       "       8.25720836e-271, 4.21482695e-266, 2.15142521e-261, 1.09817804e-256,\n",
       "       5.60556330e-252, 2.86131562e-247, 1.46053601e-242, 7.45519099e-238,\n",
       "       3.80544350e-233, 1.94245865e-228, 9.91512712e-224, 5.06109851e-219,\n",
       "       2.58339786e-214, 1.31867508e-209, 6.73107305e-205, 3.43582320e-200,\n",
       "       1.75378888e-195, 8.95207716e-191, 4.56951725e-186, 2.33247407e-181,\n",
       "       1.19059301e-176, 6.07728822e-172, 3.10210389e-167, 1.58344449e-162,\n",
       "       8.08256762e-158, 4.12568296e-153, 2.10592236e-148, 1.07495147e-143,\n",
       "       5.48700510e-139, 2.80079852e-134, 1.42964554e-129, 7.29751299e-125,\n",
       "       3.72495800e-120, 1.90137546e-115, 9.70542124e-111, 4.95405580e-106,\n",
       "       2.52875875e-101, 1.29078498e-096, 6.58871021e-092, 3.36315521e-087,\n",
       "       1.71669608e-082, 8.76273987e-078, 4.47287152e-073, 2.28314202e-068,\n",
       "       1.16541186e-063, 5.94875300e-059, 3.03649409e-054, 1.54995449e-049,\n",
       "       7.91162054e-045, 4.03842437e-040, 2.06138190e-035, 1.05221615e-030,\n",
       "       5.37095442e-026, 2.74156136e-021, 1.39940840e-016, 7.14316989e-012,\n",
       "       3.64617346e-007, 1.82715489e-002, 9.98948492e-001, 9.99999979e-001,\n",
       "       1.00000000e+000, 1.00000000e+000, 1.00000000e+000, 1.00000000e+000,\n",
       "       1.00000000e+000, 1.00000000e+000, 1.00000000e+000, 1.00000000e+000,\n",
       "       1.00000000e+000, 1.00000000e+000, 1.00000000e+000, 1.00000000e+000,\n",
       "       1.00000000e+000, 1.00000000e+000, 1.00000000e+000, 1.00000000e+000,\n",
       "       1.00000000e+000, 1.00000000e+000, 1.00000000e+000, 1.00000000e+000,\n",
       "       1.00000000e+000, 1.00000000e+000, 1.00000000e+000, 1.00000000e+000,\n",
       "       1.00000000e+000, 1.00000000e+000, 1.00000000e+000, 1.00000000e+000,\n",
       "       1.00000000e+000, 1.00000000e+000, 1.00000000e+000, 1.00000000e+000,\n",
       "       1.00000000e+000, 1.00000000e+000, 1.00000000e+000, 1.00000000e+000,\n",
       "       1.00000000e+000, 1.00000000e+000, 1.00000000e+000, 1.00000000e+000,\n",
       "       1.00000000e+000, 1.00000000e+000, 1.00000000e+000, 1.00000000e+000,\n",
       "       1.00000000e+000, 1.00000000e+000, 1.00000000e+000, 1.00000000e+000,\n",
       "       1.00000000e+000, 1.00000000e+000, 1.00000000e+000, 1.00000000e+000,\n",
       "       1.00000000e+000, 1.00000000e+000, 1.00000000e+000, 1.00000000e+000,\n",
       "       1.00000000e+000, 1.00000000e+000, 1.00000000e+000, 1.00000000e+000,\n",
       "       1.00000000e+000, 1.00000000e+000, 1.00000000e+000, 1.00000000e+000,\n",
       "       1.00000000e+000, 1.00000000e+000, 1.00000000e+000, 1.00000000e+000,\n",
       "       1.00000000e+000, 1.00000000e+000, 1.00000000e+000, 1.00000000e+000,\n",
       "       1.00000000e+000, 1.00000000e+000, 1.00000000e+000, 1.00000000e+000,\n",
       "       1.00000000e+000, 1.00000000e+000, 1.00000000e+000, 1.00000000e+000,\n",
       "       1.00000000e+000, 1.00000000e+000, 1.00000000e+000, 1.00000000e+000,\n",
       "       1.00000000e+000, 1.00000000e+000, 1.00000000e+000, 1.00000000e+000,\n",
       "       1.00000000e+000, 1.00000000e+000, 1.00000000e+000, 1.00000000e+000,\n",
       "       1.00000000e+000, 1.00000000e+000, 1.00000000e+000, 1.00000000e+000,\n",
       "       1.00000000e+000, 1.00000000e+000, 1.00000000e+000, 1.00000000e+000,\n",
       "       1.00000000e+000, 1.00000000e+000, 1.00000000e+000, 1.00000000e+000,\n",
       "       1.00000000e+000, 1.00000000e+000, 1.00000000e+000, 1.00000000e+000,\n",
       "       1.00000000e+000, 1.00000000e+000, 1.00000000e+000, 1.00000000e+000,\n",
       "       1.00000000e+000, 1.00000000e+000, 1.00000000e+000, 1.00000000e+000,\n",
       "       1.00000000e+000, 1.00000000e+000, 1.00000000e+000, 1.00000000e+000,\n",
       "       1.00000000e+000, 1.00000000e+000, 1.00000000e+000, 1.00000000e+000,\n",
       "       1.00000000e+000, 1.00000000e+000, 1.00000000e+000, 1.00000000e+000,\n",
       "       1.00000000e+000, 1.00000000e+000, 1.00000000e+000, 1.00000000e+000,\n",
       "       1.00000000e+000, 1.00000000e+000, 1.00000000e+000, 1.00000000e+000,\n",
       "       1.00000000e+000, 1.00000000e+000, 1.00000000e+000, 1.00000000e+000,\n",
       "       1.00000000e+000, 1.00000000e+000, 1.00000000e+000, 1.00000000e+000,\n",
       "       1.00000000e+000, 1.00000000e+000, 1.00000000e+000, 1.00000000e+000])"
      ]
     },
     "execution_count": 7,
     "metadata": {},
     "output_type": "execute_result"
    }
   ],
   "source": [
    "# Drawing:\n",
    "loss = lr_model(X_test * clf.coef_ + clf.intercept_).ravel()\n",
    "loss"
   ]
  },
  {
   "cell_type": "code",
   "execution_count": 8,
   "metadata": {},
   "outputs": [
    {
     "name": "stderr",
     "output_type": "stream",
     "text": [
      "No handles with labels found to put in legend.\n"
     ]
    },
    {
     "data": {
      "image/png": "[encoded data removed]",
      "text/plain": [
       "<Figure size 432x288 with 1 Axes>"
      ]
     },
     "metadata": {
      "needs_background": "light"
     },
     "output_type": "display_data"
    }
   ],
   "source": [
    "plt.plot(X_test, loss, color = 'red', linewidth = 2)\n",
    "plt.axhline(0.5, color = 'black')\n",
    "plt.scatter(X, y, color = 'black')\n",
    "plt.legend(loc = 'lower right')\n",
    "plt.ylabel('y')\n",
    "plt.xlabel('x')\n",
    "plt.ylim(-1, 2)\n",
    "plt.xlim(-3, 3)\n",
    "plt.plot(X_test, ols.coef_ * X_test + ols.intercept_, color = 'blue', linewidth = 2)\n",
    "\n",
    "plt.savefig(\"LinearvsLR.png\", dpi = 300, bbox_inches = 'tight')"
   ]
  }
 ],
 "metadata": {
  "kernelspec": {
   "display_name": "Python 3",
   "language": "python",
   "name": "python3"
  },
  "language_info": {
   "codemirror_mode": {
    "name": "ipython",
    "version": 3
   },
   "file_extension": ".py",
   "mimetype": "text/x-python",
   "name": "python",
   "nbconvert_exporter": "python",
   "pygments_lexer": "ipython3",
   "version": "3.7.9"
  }
 },
 "nbformat": 4,
 "nbformat_minor": 4
}
