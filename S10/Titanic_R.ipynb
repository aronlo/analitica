{
 "cells": [
  {
   "cell_type": "code",
   "execution_count": 1,
   "metadata": {},
   "outputs": [
    {
     "data": {
      "text/html": [
       "<table>\n",
       "<thead><tr><th></th><th scope=col>used</th><th scope=col>(Mb)</th><th scope=col>gc trigger</th><th scope=col>(Mb)</th><th scope=col>max used</th><th scope=col>(Mb)</th></tr></thead>\n",
       "<tbody>\n",
       "\t<tr><th scope=row>Ncells</th><td>508125 </td><td>27.2   </td><td>1140830</td><td>61     </td><td> 621911</td><td>33.3   </td></tr>\n",
       "\t<tr><th scope=row>Vcells</th><td>939577 </td><td> 7.2   </td><td>8388608</td><td>64     </td><td>1603505</td><td>12.3   </td></tr>\n",
       "</tbody>\n",
       "</table>\n"
      ],
      "text/latex": [
       "\\begin{tabular}{r|llllll}\n",
       "  & used & (Mb) & gc trigger & (Mb) & max used & (Mb)\\\\\n",
       "\\hline\n",
       "\tNcells & 508125  & 27.2    & 1140830 & 61      &  621911 & 33.3   \\\\\n",
       "\tVcells & 939577  &  7.2    & 8388608 & 64      & 1603505 & 12.3   \\\\\n",
       "\\end{tabular}\n"
      ],
      "text/markdown": [
       "\n",
       "| <!--/--> | used | (Mb) | gc trigger | (Mb) | max used | (Mb) |\n",
       "|---|---|---|---|---|---|---|\n",
       "| Ncells | 508125  | 27.2    | 1140830 | 61      |  621911 | 33.3    |\n",
       "| Vcells | 939577  |  7.2    | 8388608 | 64      | 1603505 | 12.3    |\n",
       "\n"
      ],
      "text/plain": [
       "       used   (Mb) gc trigger (Mb) max used (Mb)\n",
       "Ncells 508125 27.2 1140830    61    621911  33.3\n",
       "Vcells 939577  7.2 8388608    64   1603505  12.3"
      ]
     },
     "metadata": {},
     "output_type": "display_data"
    },
    {
     "name": "stdout",
     "output_type": "stream",
     "text": [
      " 'table' num [1:4, 1:2, 1:2, 1:2] 0 0 35 0 0 0 17 0 118 154 ...\n",
      " - attr(*, \"dimnames\")=List of 4\n",
      "  ..$ Class   : chr [1:4] \"1st\" \"2nd\" \"3rd\" \"Crew\"\n",
      "  ..$ Sex     : chr [1:2] \"Male\" \"Female\"\n",
      "  ..$ Age     : chr [1:2] \"Child\" \"Adult\"\n",
      "  ..$ Survived: chr [1:2] \"No\" \"Yes\"\n"
     ]
    }
   ],
   "source": [
    "###################################################\n",
    "#####      ASSOCIATION RULE MINING WITH R     #####\n",
    "###################################################\n",
    "\n",
    "# So we are talking about association rule mining\n",
    "# with R.\n",
    "\n",
    "# free memory\n",
    "rm(list = ls())\n",
    "gc()\n",
    "\n",
    "# Basics of Association Rules\n",
    "\n",
    "# Association rules are rules presenting association \n",
    "# or correlation between itemsets. An association\n",
    "# rule is in the form of A ==> B, where A and B are \n",
    "# two disjoint itemsets, referred to respectively\n",
    "# as the lhs (left-hand side) and rhs (right-hand side)\n",
    "# of the rule. The three most widely-used measures\n",
    "# for selecting interesting rules are:\n",
    "\n",
    "# support, \n",
    "# confidence and \n",
    "# lift. \n",
    "\n",
    "# Support is the percentage of cases in the data that \n",
    "# contain both A and B, or the Union of A and B,\n",
    "# i.e. support(A => B) = P(A U B)\n",
    "\n",
    "# Confidence is the percentage of cases containing\n",
    "# A that also contain B, \n",
    "# i.e. confidence(A => B) = P(B|A) = P(A U B)/P(A)\n",
    "\n",
    "# Lift is the ratio of confidence to the percentage \n",
    "# of cases containing B,\n",
    "# i.e. life(A => B) = confidence(A => B)/P(B) or\n",
    "# P(A U B)/P(A)P(B)\n",
    "\n",
    "# where P(A) and P(B) are the percentages (or probability)\n",
    "# of cases containing A.\n",
    "\n",
    "# In addition to support, confidence and lift, there \n",
    "# are many other interestingness measures, such as\n",
    "# chi-square, conviction, gini and leverage.\n",
    "\n",
    "## The Titanic Dataset\n",
    "\n",
    "# The Titanic dataset in the datasets package is a \n",
    "# 4-dimensional table with summarized information\n",
    "# on the fate of passengers on the Titanic according \n",
    "# to social class, sex, age and survival. \n",
    "\n",
    "# You have an external R object version of it\n",
    "# available in your folder, but it is already loaded\n",
    "# into your session via the datasets package.\n",
    "\n",
    "# To make it suitable for association rule mining, \n",
    "# we reconstruct the raw data as titanic.raw, where \n",
    "# each row represents a person.\n",
    "\n",
    "setwd('C:/Users/Aron/Desktop/Analitica/S10/datasets')\n",
    "\n",
    "# Is a table at the moment\n",
    "data(Titanic)\n",
    "\n",
    "# Is a table....this is why we cannot see frequency\n",
    "str(Titanic)\n",
    "\n",
    "# Make it a data frame\n",
    "df <- as.data.frame(Titanic)"
   ]
  },
  {
   "cell_type": "code",
   "execution_count": 2,
   "metadata": {},
   "outputs": [
    {
     "data": {
      "text/html": [
       "<table>\n",
       "<thead><tr><th scope=col>Class</th><th scope=col>Sex</th><th scope=col>Age</th><th scope=col>Survived</th><th scope=col>Freq</th></tr></thead>\n",
       "<tbody>\n",
       "\t<tr><td>1st   </td><td>Male  </td><td>Child </td><td>No    </td><td> 0    </td></tr>\n",
       "\t<tr><td>2nd   </td><td>Male  </td><td>Child </td><td>No    </td><td> 0    </td></tr>\n",
       "\t<tr><td>3rd   </td><td>Male  </td><td>Child </td><td>No    </td><td>35    </td></tr>\n",
       "\t<tr><td>Crew  </td><td>Male  </td><td>Child </td><td>No    </td><td> 0    </td></tr>\n",
       "\t<tr><td>1st   </td><td>Female</td><td>Child </td><td>No    </td><td> 0    </td></tr>\n",
       "\t<tr><td>2nd   </td><td>Female</td><td>Child </td><td>No    </td><td> 0    </td></tr>\n",
       "</tbody>\n",
       "</table>\n"
      ],
      "text/latex": [
       "\\begin{tabular}{r|lllll}\n",
       " Class & Sex & Age & Survived & Freq\\\\\n",
       "\\hline\n",
       "\t 1st    & Male   & Child  & No     &  0    \\\\\n",
       "\t 2nd    & Male   & Child  & No     &  0    \\\\\n",
       "\t 3rd    & Male   & Child  & No     & 35    \\\\\n",
       "\t Crew   & Male   & Child  & No     &  0    \\\\\n",
       "\t 1st    & Female & Child  & No     &  0    \\\\\n",
       "\t 2nd    & Female & Child  & No     &  0    \\\\\n",
       "\\end{tabular}\n"
      ],
      "text/markdown": [
       "\n",
       "| Class | Sex | Age | Survived | Freq |\n",
       "|---|---|---|---|---|\n",
       "| 1st    | Male   | Child  | No     |  0     |\n",
       "| 2nd    | Male   | Child  | No     |  0     |\n",
       "| 3rd    | Male   | Child  | No     | 35     |\n",
       "| Crew   | Male   | Child  | No     |  0     |\n",
       "| 1st    | Female | Child  | No     |  0     |\n",
       "| 2nd    | Female | Child  | No     |  0     |\n",
       "\n"
      ],
      "text/plain": [
       "  Class Sex    Age   Survived Freq\n",
       "1 1st   Male   Child No        0  \n",
       "2 2nd   Male   Child No        0  \n",
       "3 3rd   Male   Child No       35  \n",
       "4 Crew  Male   Child No        0  \n",
       "5 1st   Female Child No        0  \n",
       "6 2nd   Female Child No        0  "
      ]
     },
     "metadata": {},
     "output_type": "display_data"
    }
   ],
   "source": [
    "# View first 6 records\n",
    "head(df)"
   ]
  },
  {
   "cell_type": "code",
   "execution_count": 3,
   "metadata": {},
   "outputs": [],
   "source": [
    "# make new object to hold data\n",
    "titanic.raw <- NULL"
   ]
  },
  {
   "cell_type": "code",
   "execution_count": 4,
   "metadata": {},
   "outputs": [],
   "source": [
    "# restructure it as a character matrix\n",
    "#rep: Replicate Elements of Vectors and Lists\n",
    "for(i in 1:4) {\n",
    "   titanic.raw <- cbind(titanic.raw, rep(as.character(df[,i]), df$Freq))\n",
    "}"
   ]
  },
  {
   "cell_type": "code",
   "execution_count": 5,
   "metadata": {},
   "outputs": [
    {
     "name": "stdout",
     "output_type": "stream",
     "text": [
      " chr [1:2201, 1:4] \"3rd\" \"3rd\" \"3rd\" \"3rd\" \"3rd\" \"3rd\" \"3rd\" \"3rd\" \"3rd\" ...\n"
     ]
    }
   ],
   "source": [
    "# take a look\n",
    "str(titanic.raw)"
   ]
  },
  {
   "cell_type": "code",
   "execution_count": 6,
   "metadata": {},
   "outputs": [],
   "source": [
    "# turn it back into a data frame, we created one record of \n",
    "# a person for each count in the frequency table\n",
    "titanic.raw <- as.data.frame(titanic.raw)"
   ]
  },
  {
   "cell_type": "code",
   "execution_count": 7,
   "metadata": {},
   "outputs": [
    {
     "name": "stdout",
     "output_type": "stream",
     "text": [
      "'data.frame':\t2201 obs. of  4 variables:\n",
      " $ V1: Factor w/ 4 levels \"1st\",\"2nd\",\"3rd\",..: 3 3 3 3 3 3 3 3 3 3 ...\n",
      " $ V2: Factor w/ 2 levels \"Female\",\"Male\": 2 2 2 2 2 2 2 2 2 2 ...\n",
      " $ V3: Factor w/ 2 levels \"Adult\",\"Child\": 2 2 2 2 2 2 2 2 2 2 ...\n",
      " $ V4: Factor w/ 2 levels \"No\",\"Yes\": 1 1 1 1 1 1 1 1 1 1 ...\n"
     ]
    }
   ],
   "source": [
    "# take another look\n",
    "str(titanic.raw)"
   ]
  },
  {
   "cell_type": "code",
   "execution_count": 8,
   "metadata": {},
   "outputs": [
    {
     "data": {
      "text/html": [
       "<ol class=list-inline>\n",
       "\t<li>'Class'</li>\n",
       "\t<li>'Sex'</li>\n",
       "\t<li>'Age'</li>\n",
       "\t<li>'Survived'</li>\n",
       "</ol>\n"
      ],
      "text/latex": [
       "\\begin{enumerate*}\n",
       "\\item 'Class'\n",
       "\\item 'Sex'\n",
       "\\item 'Age'\n",
       "\\item 'Survived'\n",
       "\\end{enumerate*}\n"
      ],
      "text/markdown": [
       "1. 'Class'\n",
       "2. 'Sex'\n",
       "3. 'Age'\n",
       "4. 'Survived'\n",
       "\n",
       "\n"
      ],
      "text/plain": [
       "[1] \"Class\"    \"Sex\"      \"Age\"      \"Survived\""
      ]
     },
     "metadata": {},
     "output_type": "display_data"
    },
    {
     "data": {
      "text/html": [
       "<ol class=list-inline>\n",
       "\t<li>2201</li>\n",
       "\t<li>4</li>\n",
       "</ol>\n"
      ],
      "text/latex": [
       "\\begin{enumerate*}\n",
       "\\item 2201\n",
       "\\item 4\n",
       "\\end{enumerate*}\n"
      ],
      "text/markdown": [
       "1. 2201\n",
       "2. 4\n",
       "\n",
       "\n"
      ],
      "text/plain": [
       "[1] 2201    4"
      ]
     },
     "metadata": {},
     "output_type": "display_data"
    },
    {
     "name": "stdout",
     "output_type": "stream",
     "text": [
      "'data.frame':\t2201 obs. of  4 variables:\n",
      " $ Class   : Factor w/ 4 levels \"1st\",\"2nd\",\"3rd\",..: 3 3 3 3 3 3 3 3 3 3 ...\n",
      " $ Sex     : Factor w/ 2 levels \"Female\",\"Male\": 2 2 2 2 2 2 2 2 2 2 ...\n",
      " $ Age     : Factor w/ 2 levels \"Adult\",\"Child\": 2 2 2 2 2 2 2 2 2 2 ...\n",
      " $ Survived: Factor w/ 2 levels \"No\",\"Yes\": 1 1 1 1 1 1 1 1 1 1 ...\n"
     ]
    },
    {
     "data": {
      "text/html": [
       "<table>\n",
       "<thead><tr><th scope=col>Class</th><th scope=col>Sex</th><th scope=col>Age</th><th scope=col>Survived</th></tr></thead>\n",
       "<tbody>\n",
       "\t<tr><td>3rd  </td><td>Male </td><td>Child</td><td>No   </td></tr>\n",
       "\t<tr><td>3rd  </td><td>Male </td><td>Child</td><td>No   </td></tr>\n",
       "\t<tr><td>3rd  </td><td>Male </td><td>Child</td><td>No   </td></tr>\n",
       "\t<tr><td>3rd  </td><td>Male </td><td>Child</td><td>No   </td></tr>\n",
       "\t<tr><td>3rd  </td><td>Male </td><td>Child</td><td>No   </td></tr>\n",
       "\t<tr><td>3rd  </td><td>Male </td><td>Child</td><td>No   </td></tr>\n",
       "</tbody>\n",
       "</table>\n"
      ],
      "text/latex": [
       "\\begin{tabular}{r|llll}\n",
       " Class & Sex & Age & Survived\\\\\n",
       "\\hline\n",
       "\t 3rd   & Male  & Child & No   \\\\\n",
       "\t 3rd   & Male  & Child & No   \\\\\n",
       "\t 3rd   & Male  & Child & No   \\\\\n",
       "\t 3rd   & Male  & Child & No   \\\\\n",
       "\t 3rd   & Male  & Child & No   \\\\\n",
       "\t 3rd   & Male  & Child & No   \\\\\n",
       "\\end{tabular}\n"
      ],
      "text/markdown": [
       "\n",
       "| Class | Sex | Age | Survived |\n",
       "|---|---|---|---|\n",
       "| 3rd   | Male  | Child | No    |\n",
       "| 3rd   | Male  | Child | No    |\n",
       "| 3rd   | Male  | Child | No    |\n",
       "| 3rd   | Male  | Child | No    |\n",
       "| 3rd   | Male  | Child | No    |\n",
       "| 3rd   | Male  | Child | No    |\n",
       "\n"
      ],
      "text/plain": [
       "  Class Sex  Age   Survived\n",
       "1 3rd   Male Child No      \n",
       "2 3rd   Male Child No      \n",
       "3 3rd   Male Child No      \n",
       "4 3rd   Male Child No      \n",
       "5 3rd   Male Child No      \n",
       "6 3rd   Male Child No      "
      ]
     },
     "metadata": {},
     "output_type": "display_data"
    },
    {
     "data": {
      "text/plain": [
       "  Class         Sex          Age       Survived  \n",
       " 1st :325   Female: 470   Adult:2092   No :1490  \n",
       " 2nd :285   Male  :1731   Child: 109   Yes: 711  \n",
       " 3rd :706                                        \n",
       " Crew:885                                        "
      ]
     },
     "metadata": {},
     "output_type": "display_data"
    }
   ],
   "source": [
    "# put the variable names back\n",
    "names(titanic.raw) <- names(df)[1:4]\n",
    "names(titanic.raw)\n",
    "dim(titanic.raw)\n",
    "str(titanic.raw)\n",
    "head(titanic.raw)\n",
    "summary(titanic.raw)"
   ]
  },
  {
   "cell_type": "code",
   "execution_count": 9,
   "metadata": {},
   "outputs": [
    {
     "name": "stderr",
     "output_type": "stream",
     "text": [
      "Warning message:\n",
      "\"package 'arules' was built under R version 3.6.3\"Loading required package: Matrix\n",
      "\n",
      "Attaching package: 'arules'\n",
      "\n",
      "The following objects are masked from 'package:base':\n",
      "\n",
      "    abbreviate, write\n",
      "\n"
     ]
    }
   ],
   "source": [
    "# So now we have a dataset where each row stands for\n",
    "# a person, and it can be used for association \n",
    "# rule mining.\n",
    "\n",
    "## Association Rule Mining\n",
    "\n",
    "# A classic algorithm for association rule mining is APRIORI \n",
    "# [Agrawal and Srikant, 1994]. It is a level-wise, breadth-\n",
    "# first algorithm which counts transactions to find frequent \n",
    "# itemsets and then derive association rules from them. \n",
    "\n",
    "# An implementation of it is function apriori() in package\n",
    "# arules [Hahsler et al., 2011]. Another algorithm for association \n",
    "# rule mining is the ECLAT algorithm [Zaki, 2000], which finds\n",
    "# frequent itemsets with equivalence classes, depth-first search\n",
    "# and set intersection instead of counting. It is implemented \n",
    "# as function eclat() in the same package.\n",
    "\n",
    "# Here we demonstrate association rule mining with apriori(). \n",
    "# With the function, the default settings are: 1) supp=0.1, \n",
    "# which is the minimum support of rules; 2) conf=0.8, which is the\n",
    "# minimum confidence of rules; and 3) maxlen=10, which is\n",
    "# the maximum length of rules.\n",
    "\n",
    "# Package arules provides the infrastructure for \n",
    "# representing,manipulating and analyzing transaction\n",
    "# data and patterns (frequent itemsets and association \n",
    "# rules). Also provides interfaces to\n",
    "# C implementations of the association mining algorithms\n",
    "# Apriori and Eclat by C. Borgelt.\n",
    "library(arules)"
   ]
  },
  {
   "cell_type": "code",
   "execution_count": 10,
   "metadata": {},
   "outputs": [],
   "source": [
    "# Take a look at the apriori function\n",
    "?apriori"
   ]
  },
  {
   "cell_type": "code",
   "execution_count": 11,
   "metadata": {},
   "outputs": [
    {
     "name": "stdout",
     "output_type": "stream",
     "text": [
      "Apriori\n",
      "\n",
      "Parameter specification:\n",
      " confidence minval smax arem  aval originalSupport maxtime support minlen\n",
      "        0.8    0.1    1 none FALSE            TRUE       5     0.1      1\n",
      " maxlen target  ext\n",
      "     10  rules TRUE\n",
      "\n",
      "Algorithmic control:\n",
      " filter tree heap memopt load sort verbose\n",
      "    0.1 TRUE TRUE  FALSE TRUE    2    TRUE\n",
      "\n",
      "Absolute minimum support count: 220 \n",
      "\n",
      "set item appearances ...[0 item(s)] done [0.00s].\n",
      "set transactions ...[10 item(s), 2201 transaction(s)] done [0.00s].\n",
      "sorting and recoding items ... [9 item(s)] done [0.00s].\n",
      "creating transaction tree ... done [0.00s].\n",
      "checking subsets of size 1 2 3 4 done [0.00s].\n",
      "writing ... [27 rule(s)] done [0.00s].\n",
      "creating S4 object  ... done [0.00s].\n"
     ]
    },
    {
     "data": {
      "text/plain": [
       "set of 27 rules "
      ]
     },
     "metadata": {},
     "output_type": "display_data"
    }
   ],
   "source": [
    "# find association rules with default settings\n",
    "rules.all <- apriori(titanic.raw)\n",
    "rules.all"
   ]
  },
  {
   "cell_type": "code",
   "execution_count": 12,
   "metadata": {},
   "outputs": [
    {
     "name": "stdout",
     "output_type": "stream",
     "text": [
      "     lhs                                   rhs           support   confidence\n",
      "[1]  {}                                 => {Age=Adult}   0.9504771 0.9504771 \n",
      "[2]  {Class=2nd}                        => {Age=Adult}   0.1185825 0.9157895 \n",
      "[3]  {Class=1st}                        => {Age=Adult}   0.1449341 0.9815385 \n",
      "[4]  {Sex=Female}                       => {Age=Adult}   0.1930940 0.9042553 \n",
      "[5]  {Class=3rd}                        => {Age=Adult}   0.2848705 0.8881020 \n",
      "[6]  {Survived=Yes}                     => {Age=Adult}   0.2971377 0.9198312 \n",
      "[7]  {Class=Crew}                       => {Sex=Male}    0.3916402 0.9740113 \n",
      "[8]  {Class=Crew}                       => {Age=Adult}   0.4020900 1.0000000 \n",
      "[9]  {Survived=No}                      => {Sex=Male}    0.6197183 0.9154362 \n",
      "[10] {Survived=No}                      => {Age=Adult}   0.6533394 0.9651007 \n",
      "[11] {Sex=Male}                         => {Age=Adult}   0.7573830 0.9630272 \n",
      "[12] {Sex=Female,Survived=Yes}          => {Age=Adult}   0.1435711 0.9186047 \n",
      "[13] {Class=3rd,Sex=Male}               => {Survived=No} 0.1917310 0.8274510 \n",
      "[14] {Class=3rd,Survived=No}            => {Age=Adult}   0.2162653 0.9015152 \n",
      "[15] {Class=3rd,Sex=Male}               => {Age=Adult}   0.2099046 0.9058824 \n",
      "[16] {Sex=Male,Survived=Yes}            => {Age=Adult}   0.1535666 0.9209809 \n",
      "[17] {Class=Crew,Survived=No}           => {Sex=Male}    0.3044071 0.9955423 \n",
      "[18] {Class=Crew,Survived=No}           => {Age=Adult}   0.3057701 1.0000000 \n",
      "[19] {Class=Crew,Sex=Male}              => {Age=Adult}   0.3916402 1.0000000 \n",
      "[20] {Class=Crew,Age=Adult}             => {Sex=Male}    0.3916402 0.9740113 \n",
      "[21] {Sex=Male,Survived=No}             => {Age=Adult}   0.6038164 0.9743402 \n",
      "[22] {Age=Adult,Survived=No}            => {Sex=Male}    0.6038164 0.9242003 \n",
      "[23] {Class=3rd,Sex=Male,Survived=No}   => {Age=Adult}   0.1758292 0.9170616 \n",
      "[24] {Class=3rd,Age=Adult,Survived=No}  => {Sex=Male}    0.1758292 0.8130252 \n",
      "[25] {Class=3rd,Sex=Male,Age=Adult}     => {Survived=No} 0.1758292 0.8376623 \n",
      "[26] {Class=Crew,Sex=Male,Survived=No}  => {Age=Adult}   0.3044071 1.0000000 \n",
      "[27] {Class=Crew,Age=Adult,Survived=No} => {Sex=Male}    0.3044071 0.9955423 \n",
      "     coverage  lift      count\n",
      "[1]  1.0000000 1.0000000 2092 \n",
      "[2]  0.1294866 0.9635051  261 \n",
      "[3]  0.1476602 1.0326798  319 \n",
      "[4]  0.2135393 0.9513700  425 \n",
      "[5]  0.3207633 0.9343750  627 \n",
      "[6]  0.3230350 0.9677574  654 \n",
      "[7]  0.4020900 1.2384742  862 \n",
      "[8]  0.4020900 1.0521033  885 \n",
      "[9]  0.6769650 1.1639949 1364 \n",
      "[10] 0.6769650 1.0153856 1438 \n",
      "[11] 0.7864607 1.0132040 1667 \n",
      "[12] 0.1562926 0.9664669  316 \n",
      "[13] 0.2317129 1.2222950  422 \n",
      "[14] 0.2398910 0.9484870  476 \n",
      "[15] 0.2317129 0.9530818  462 \n",
      "[16] 0.1667424 0.9689670  338 \n",
      "[17] 0.3057701 1.2658514  670 \n",
      "[18] 0.3057701 1.0521033  673 \n",
      "[19] 0.3916402 1.0521033  862 \n",
      "[20] 0.4020900 1.2384742  862 \n",
      "[21] 0.6197183 1.0251065 1329 \n",
      "[22] 0.6533394 1.1751385 1329 \n",
      "[23] 0.1917310 0.9648435  387 \n",
      "[24] 0.2162653 1.0337773  387 \n",
      "[25] 0.2099046 1.2373791  387 \n",
      "[26] 0.3044071 1.0521033  670 \n",
      "[27] 0.3057701 1.2658514  670 \n"
     ]
    }
   ],
   "source": [
    "inspect(rules.all)"
   ]
  },
  {
   "cell_type": "code",
   "execution_count": 13,
   "metadata": {},
   "outputs": [],
   "source": [
    "# As a common phenomenon for association rule mining, \n",
    "# many rules generated above are uninteresting.\n",
    "\n",
    "# Suppose that we are interested in only rules with \n",
    "# rhs indicating survival, so we set rhs=c(\"Survived=No\", \n",
    "# \"Survived=Yes\") in appearance to make sure that only\n",
    "# \"Survived=No\" and \"Survived=Yes\" will appear in the \n",
    "# rhs of rules. \n",
    "\n",
    "# All other items can appear in the lhs, as set with\n",
    "# default=\"lhs\". In the above result rules.all, we can \n",
    "# also see that the left-hand side (lhs) of the first \n",
    "# rule is empty. To exclude such rules, we set minlen \n",
    "# to 2 in the code below. Moreover, the details of the\n",
    "# progress are suppressed with verbose=F. \n",
    "\n",
    "# After association rule mining, rules are sorted by\n",
    "# lift to make high-lift rules appear first.\n",
    "\n",
    "# rules with rhs containing \"Survived\" only\n",
    "rules <- apriori(titanic.raw, control = list(verbose=F),\n",
    "                 parameter = list(minlen=2, supp=0.005, conf=0.8),\n",
    "                 appearance = list(rhs=c(\"Survived=No\", \"Survived=Yes\"),\n",
    "                                   default=\"lhs\"))\n",
    "quality(rules) <- round(quality(rules), digits=3)\n",
    "rules.sorted <- sort(rules, by=\"lift\")"
   ]
  },
  {
   "cell_type": "code",
   "execution_count": 14,
   "metadata": {},
   "outputs": [
    {
     "name": "stdout",
     "output_type": "stream",
     "text": [
      "     lhs                                  rhs            support confidence\n",
      "[1]  {Class=2nd,Age=Child}             => {Survived=Yes} 0.011   1.000     \n",
      "[2]  {Class=2nd,Sex=Female,Age=Child}  => {Survived=Yes} 0.006   1.000     \n",
      "[3]  {Class=1st,Sex=Female}            => {Survived=Yes} 0.064   0.972     \n",
      "[4]  {Class=1st,Sex=Female,Age=Adult}  => {Survived=Yes} 0.064   0.972     \n",
      "[5]  {Class=2nd,Sex=Female}            => {Survived=Yes} 0.042   0.877     \n",
      "[6]  {Class=Crew,Sex=Female}           => {Survived=Yes} 0.009   0.870     \n",
      "[7]  {Class=Crew,Sex=Female,Age=Adult} => {Survived=Yes} 0.009   0.870     \n",
      "[8]  {Class=2nd,Sex=Female,Age=Adult}  => {Survived=Yes} 0.036   0.860     \n",
      "[9]  {Class=2nd,Sex=Male,Age=Adult}    => {Survived=No}  0.070   0.917     \n",
      "[10] {Class=2nd,Sex=Male}              => {Survived=No}  0.070   0.860     \n",
      "[11] {Class=3rd,Sex=Male,Age=Adult}    => {Survived=No}  0.176   0.838     \n",
      "[12] {Class=3rd,Sex=Male}              => {Survived=No}  0.192   0.827     \n",
      "     coverage lift  count\n",
      "[1]  0.011    3.096  24  \n",
      "[2]  0.006    3.096  13  \n",
      "[3]  0.066    3.010 141  \n",
      "[4]  0.065    3.010 140  \n",
      "[5]  0.048    2.716  93  \n",
      "[6]  0.010    2.692  20  \n",
      "[7]  0.010    2.692  20  \n",
      "[8]  0.042    2.663  80  \n",
      "[9]  0.076    1.354 154  \n",
      "[10] 0.081    1.271 154  \n",
      "[11] 0.210    1.237 387  \n",
      "[12] 0.232    1.222 422  \n"
     ]
    }
   ],
   "source": [
    "inspect(rules.sorted)"
   ]
  },
  {
   "cell_type": "code",
   "execution_count": 15,
   "metadata": {
    "scrolled": true
   },
   "outputs": [
    {
     "name": "stderr",
     "output_type": "stream",
     "text": [
      "Warning message in `[<-`(`*tmp*`, as.vector(i), value = NA):\n",
      "\"x[.] <- val: x is \"ngTMatrix\", val not in {TRUE, FALSE} is coerced; NA |--> TRUE.\""
     ]
    },
    {
     "data": {
      "text/html": [
       "<dl class=dl-horizontal>\n",
       "\t<dt>{Class=2nd,Age=Child,Survived=Yes}</dt>\n",
       "\t\t<dd>1</dd>\n",
       "\t<dt>{Class=2nd,Sex=Female,Age=Child,Survived=Yes}</dt>\n",
       "\t\t<dd>2</dd>\n",
       "\t<dt>{Class=1st,Sex=Female,Survived=Yes}</dt>\n",
       "\t\t<dd>3</dd>\n",
       "\t<dt>{Class=1st,Sex=Female,Age=Adult,Survived=Yes}</dt>\n",
       "\t\t<dd>4</dd>\n",
       "\t<dt>{Class=2nd,Sex=Female,Survived=Yes}</dt>\n",
       "\t\t<dd>5</dd>\n",
       "\t<dt>{Class=Crew,Sex=Female,Survived=Yes}</dt>\n",
       "\t\t<dd>6</dd>\n",
       "\t<dt>{Class=Crew,Sex=Female,Age=Adult,Survived=Yes}</dt>\n",
       "\t\t<dd>7</dd>\n",
       "\t<dt>{Class=2nd,Sex=Female,Age=Adult,Survived=Yes}</dt>\n",
       "\t\t<dd>8</dd>\n",
       "\t<dt>{Class=2nd,Sex=Male,Age=Adult,Survived=No}</dt>\n",
       "\t\t<dd>9</dd>\n",
       "\t<dt>{Class=2nd,Sex=Male,Survived=No}</dt>\n",
       "\t\t<dd>10</dd>\n",
       "\t<dt>{Class=3rd,Sex=Male,Age=Adult,Survived=No}</dt>\n",
       "\t\t<dd>11</dd>\n",
       "\t<dt>{Class=3rd,Sex=Male,Survived=No}</dt>\n",
       "\t\t<dd>12</dd>\n",
       "</dl>\n"
      ],
      "text/latex": [
       "\\begin{description*}\n",
       "\\item[\\textbackslash{}\\{Class=2nd,Age=Child,Survived=Yes\\textbackslash{}\\}] 1\n",
       "\\item[\\textbackslash{}\\{Class=2nd,Sex=Female,Age=Child,Survived=Yes\\textbackslash{}\\}] 2\n",
       "\\item[\\textbackslash{}\\{Class=1st,Sex=Female,Survived=Yes\\textbackslash{}\\}] 3\n",
       "\\item[\\textbackslash{}\\{Class=1st,Sex=Female,Age=Adult,Survived=Yes\\textbackslash{}\\}] 4\n",
       "\\item[\\textbackslash{}\\{Class=2nd,Sex=Female,Survived=Yes\\textbackslash{}\\}] 5\n",
       "\\item[\\textbackslash{}\\{Class=Crew,Sex=Female,Survived=Yes\\textbackslash{}\\}] 6\n",
       "\\item[\\textbackslash{}\\{Class=Crew,Sex=Female,Age=Adult,Survived=Yes\\textbackslash{}\\}] 7\n",
       "\\item[\\textbackslash{}\\{Class=2nd,Sex=Female,Age=Adult,Survived=Yes\\textbackslash{}\\}] 8\n",
       "\\item[\\textbackslash{}\\{Class=2nd,Sex=Male,Age=Adult,Survived=No\\textbackslash{}\\}] 9\n",
       "\\item[\\textbackslash{}\\{Class=2nd,Sex=Male,Survived=No\\textbackslash{}\\}] 10\n",
       "\\item[\\textbackslash{}\\{Class=3rd,Sex=Male,Age=Adult,Survived=No\\textbackslash{}\\}] 11\n",
       "\\item[\\textbackslash{}\\{Class=3rd,Sex=Male,Survived=No\\textbackslash{}\\}] 12\n",
       "\\end{description*}\n"
      ],
      "text/markdown": [
       "{Class=2nd,Age=Child,Survived=Yes}\n",
       ":   1{Class=2nd,Sex=Female,Age=Child,Survived=Yes}\n",
       ":   2{Class=1st,Sex=Female,Survived=Yes}\n",
       ":   3{Class=1st,Sex=Female,Age=Adult,Survived=Yes}\n",
       ":   4{Class=2nd,Sex=Female,Survived=Yes}\n",
       ":   5{Class=Crew,Sex=Female,Survived=Yes}\n",
       ":   6{Class=Crew,Sex=Female,Age=Adult,Survived=Yes}\n",
       ":   7{Class=2nd,Sex=Female,Age=Adult,Survived=Yes}\n",
       ":   8{Class=2nd,Sex=Male,Age=Adult,Survived=No}\n",
       ":   9{Class=2nd,Sex=Male,Survived=No}\n",
       ":   10{Class=3rd,Sex=Male,Age=Adult,Survived=No}\n",
       ":   11{Class=3rd,Sex=Male,Survived=No}\n",
       ":   12\n",
       "\n"
      ],
      "text/plain": [
       "            {Class=2nd,Age=Child,Survived=Yes} \n",
       "                                             1 \n",
       " {Class=2nd,Sex=Female,Age=Child,Survived=Yes} \n",
       "                                             2 \n",
       "           {Class=1st,Sex=Female,Survived=Yes} \n",
       "                                             3 \n",
       " {Class=1st,Sex=Female,Age=Adult,Survived=Yes} \n",
       "                                             4 \n",
       "           {Class=2nd,Sex=Female,Survived=Yes} \n",
       "                                             5 \n",
       "          {Class=Crew,Sex=Female,Survived=Yes} \n",
       "                                             6 \n",
       "{Class=Crew,Sex=Female,Age=Adult,Survived=Yes} \n",
       "                                             7 \n",
       " {Class=2nd,Sex=Female,Age=Adult,Survived=Yes} \n",
       "                                             8 \n",
       "    {Class=2nd,Sex=Male,Age=Adult,Survived=No} \n",
       "                                             9 \n",
       "              {Class=2nd,Sex=Male,Survived=No} \n",
       "                                            10 \n",
       "    {Class=3rd,Sex=Male,Age=Adult,Survived=No} \n",
       "                                            11 \n",
       "              {Class=3rd,Sex=Male,Survived=No} \n",
       "                                            12 "
      ]
     },
     "metadata": {},
     "output_type": "display_data"
    }
   ],
   "source": [
    "# When other settings are unchanged, with a lower minimum \n",
    "# support, more rules will be produced, and the\n",
    "# associations between itemsets shown in the rules will be \n",
    "# more likely to be by chance. \n",
    "\n",
    "# In the above code, the minimum support is set to 0.005,\n",
    "# so each rule is supported at least by \n",
    "# 12 (=ceiling(0.005 * 2201)) cases, which is acceptable\n",
    "# for a population of 2201.\n",
    "\n",
    "# Support, confidence and lift are three common measures\n",
    "# for selecting interesting association rules. Besides them, \n",
    "# there are many other interestingness measures, \n",
    "# such as chi-square, conviction,gini and leverage.\n",
    "\n",
    "# More than 20 measures can be calculated with \n",
    "# function interestMeasure() in the arules package.\n",
    "\n",
    "## Removing Redundancy\n",
    "\n",
    "# Some rules generated in the previous section \n",
    "# (see rules.sorted, page 89) provide little or no\n",
    "# extra information when some other rules are in the result. \n",
    "\n",
    "# For example, the above rule 2 provides no extra knowledge\n",
    "# in addition to rule 1, since rules 1 tells us that all \n",
    "# 2nd-class children survived.\n",
    "\n",
    "# Generally speaking, when a rule (such as rule 2) is a super\n",
    "# rule of another rule (such as rule 1) and the former \n",
    "# has the same or a lower lift, the former rule \n",
    "# (rule 2) is considered to be redundant.\n",
    "\n",
    "# Other redundant rules in the above result are rules 4, 7 and 8, \n",
    "# compared respectively with rules 3, 6 and 5.\n",
    "\n",
    "# Below we prune redundant rules. Note that the rules\n",
    "# have already been sorted descendingly by lift.\n",
    "\n",
    "# find redundant rules\n",
    "subset.matrix <- is.subset(rules.sorted, rules.sorted)\n",
    "subset.matrix[lower.tri(subset.matrix, diag=T)] <- NA\n",
    "redundant <- colSums(subset.matrix, na.rm=T) >= 1\n",
    "which(redundant)\n",
    "# remove redundant rules\n",
    "rules.pruned <- rules.sorted[!redundant] #! indicates logical negation (NOT).\n",
    "inspect(rules.pruned)"
   ]
  },
  {
   "cell_type": "code",
   "execution_count": 16,
   "metadata": {},
   "outputs": [
    {
     "name": "stdout",
     "output_type": "stream",
     "text": [
      "    lhs                      rhs            support     confidence coverage   \n",
      "[1] {Class=2nd,Age=Child} => {Survived=Yes} 0.010904134 1.0000000  0.010904134\n",
      "[2] {Class=1st,Age=Child} => {Survived=Yes} 0.002726034 1.0000000  0.002726034\n",
      "[3] {Class=1st,Age=Adult} => {Survived=Yes} 0.089504771 0.6175549  0.144934121\n",
      "[4] {Class=2nd,Age=Adult} => {Survived=Yes} 0.042707860 0.3601533  0.118582463\n",
      "[5] {Class=3rd,Age=Child} => {Survived=Yes} 0.012267151 0.3417722  0.035892776\n",
      "[6] {Class=3rd,Age=Adult} => {Survived=Yes} 0.068605179 0.2408293  0.284870513\n",
      "    lift      count\n",
      "[1] 3.0956399  24  \n",
      "[2] 3.0956399   6  \n",
      "[3] 1.9117275 197  \n",
      "[4] 1.1149048  94  \n",
      "[5] 1.0580035  27  \n",
      "[6] 0.7455209 151  \n"
     ]
    }
   ],
   "source": [
    "# In the code above, function is.subset(r1, r2) checks \n",
    "# whether r1 is a subset of r2 (i.e., whether r2 is a \n",
    "# superset of r1). \n",
    "\n",
    "# Function lower.tri() returns a logical matrix with TRUE\n",
    "# in the lower triangle.\n",
    "\n",
    "# From the above results, we can see that rules 2, 4, 7 \n",
    "# and 8 (before redundancy removal) are successfully pruned.\n",
    "\n",
    "## Interpreting Rules\n",
    "\n",
    "# While it is easy to find high-lift rules from data, \n",
    "# it is not an easy job to understand the identified\n",
    "# rules. It is not uncommon that the association rules \n",
    "# are misinterpreted to find their business meanings.\n",
    "\n",
    "# For instance, in the above rule list rules.pruned, \n",
    "# the first rule \"{Class=2nd, Age=Child} => {Survived=Yes}\" \n",
    "# has a confidence of one and a lift of three and there \n",
    "# are no rules on children of the 1st or 3rd classes. \n",
    "\n",
    "# Therefore, it might be interpreted by users as \n",
    "# children of the 2nd class had a higher survival rate \n",
    "# than other children. This is wrong! The rule states only \n",
    "# that all children of class 2 survived, but provides \n",
    "# no information at all to compare the survival rates of\n",
    "# different classes. \n",
    "\n",
    "# To investigate the above issue, we run the code \n",
    "# below to find rules whose rhs is \"Survived=Yes\" and \n",
    "# lhs contains \"Class=1st\", \"Class=2nd\", \"Class=3rd\", \n",
    "# \"Age=Child\" and \"Age=Adult\" only, and which contains \n",
    "# no other items (default=\"none\"). We use lower thresholds\n",
    "# for both support and confidence than before to find \n",
    "# all rules for children of different classes.\n",
    "\n",
    "rules <- apriori(titanic.raw, \n",
    "                 parameter = list(minlen=3, supp=0.002, conf=0.2),\n",
    "                 appearance = list(rhs=c(\"Survived=Yes\"),\n",
    "                                   lhs=c(\"Class=1st\", \"Class=2nd\", \"Class=3rd\",\n",
    "                                         \"Age=Child\", \"Age=Adult\"),\n",
    "                                   default=\"none\"), \n",
    "                 control = list(verbose=F))\n",
    "rules.sorted <- sort(rules, by=\"confidence\")\n",
    "inspect(rules.sorted)"
   ]
  },
  {
   "cell_type": "code",
   "execution_count": 17,
   "metadata": {},
   "outputs": [
    {
     "name": "stderr",
     "output_type": "stream",
     "text": [
      "Warning message:\n",
      "\"package 'arulesViz' was built under R version 3.6.3\"Loading required package: grid\n",
      "Registered S3 methods overwritten by 'ggplot2':\n",
      "  method         from \n",
      "  [.quosures     rlang\n",
      "  c.quosures     rlang\n",
      "  print.quosures rlang\n"
     ]
    }
   ],
   "source": [
    "# In the above result, the first two rules show that children \n",
    "# of the 1st class are of the same survival rate as children\n",
    "# of the 2nd class and that all of them survived. \n",
    "\n",
    "# The rule of 1st-class children didn't appear before, \n",
    "# simply because of its support was below the threshold \n",
    "# specified in Section 9.3.\n",
    "\n",
    "# Rule 5 presents a sad fact that children of class 3 had \n",
    "# a low survival rate of 34%, which is comparable with that\n",
    "# of 2nd-class adults (see rule 4) and much lower than \n",
    "# 1st-class adults (see rule 3).\n",
    "\n",
    "## Visualizing Association Rules\n",
    "\n",
    "# Here we show some ways to visualize association rules, \n",
    "# including scatter plot, balloon plot, graph and parallel\n",
    "# coordinates plot. More examples on visualizing association\n",
    "# rules can be found in the vignettes of package arulesViz \n",
    "# [Hahsler and Chelluboina, 2012] which is included in\n",
    "# your folder of class materials for today.\n",
    "\n",
    "library(arulesViz)"
   ]
  },
  {
   "cell_type": "code",
   "execution_count": 18,
   "metadata": {},
   "outputs": [
    {
     "name": "stderr",
     "output_type": "stream",
     "text": [
      "To reduce overplotting, jitter is added! Use jitter = 0 to prevent jitter.\n"
     ]
    },
    {
     "data": {
      "image/png": "[encoded data removed]",
      "text/plain": [
       "plot without title"
      ]
     },
     "metadata": {},
     "output_type": "display_data"
    }
   ],
   "source": [
    "# figure 9.1 in PDF\n",
    "plot(rules.all) # figure 9.1 in PDF"
   ]
  },
  {
   "cell_type": "code",
   "execution_count": 19,
   "metadata": {},
   "outputs": [
    {
     "data": {
      "image/png": "[encoded data removed]",
      "text/plain": [
       "plot without title"
      ]
     },
     "metadata": {},
     "output_type": "display_data"
    }
   ],
   "source": [
    "# figure 9.2 in PDF\n",
    "plot(rules.all, method=\"grouped\")"
   ]
  },
  {
   "cell_type": "code",
   "execution_count": 20,
   "metadata": {},
   "outputs": [
    {
     "data": {
      "image/png": "[encoded data removed]",
      "text/plain": [
       "Plot with title \"Graph for 27 rules\""
      ]
     },
     "metadata": {},
     "output_type": "display_data"
    }
   ],
   "source": [
    "# figure 9.3 in PDF\n",
    "plot(rules.all, method=\"graph\")"
   ]
  },
  {
   "cell_type": "code",
   "execution_count": 21,
   "metadata": {},
   "outputs": [
    {
     "name": "stderr",
     "output_type": "stream",
     "text": [
      "Warning message:\n",
      "\"Unknown control parameters: type\""
     ]
    },
    {
     "name": "stdout",
     "output_type": "stream",
     "text": [
      "Available control parameters (with default values):\n",
      "main\t =  Graph for 27 rules\n",
      "nodeColors\t =  c(\"#66CC6680\", \"#9999CC80\")\n",
      "nodeCol\t =  c(\"#EE0000FF\", \"#EE0303FF\", \"#EE0606FF\", \"#EE0909FF\", \"#EE0C0CFF\", \"#EE0F0FFF\", \"#EE1212FF\", \"#EE1515FF\", \"#EE1818FF\", \"#EE1B1BFF\", \"#EE1E1EFF\", \"#EE2222FF\", \"#EE2525FF\", \"#EE2828FF\", \"#EE2B2BFF\", \"#EE2E2EFF\", \"#EE3131FF\", \"#EE3434FF\", \"#EE3737FF\", \"#EE3A3AFF\", \"#EE3D3DFF\", \"#EE4040FF\", \"#EE4444FF\", \"#EE4747FF\", \"#EE4A4AFF\", \"#EE4D4DFF\", \"#EE5050FF\", \"#EE5353FF\", \"#EE5656FF\", \"#EE5959FF\", \"#EE5C5CFF\", \"#EE5F5FFF\", \"#EE6262FF\", \"#EE6666FF\", \"#EE6969FF\", \"#EE6C6CFF\", \"#EE6F6FFF\", \"#EE7272FF\", \"#EE7575FF\",  \"#EE7878FF\", \"#EE7B7BFF\", \"#EE7E7EFF\", \"#EE8181FF\", \"#EE8484FF\", \"#EE8888FF\", \"#EE8B8BFF\", \"#EE8E8EFF\", \"#EE9191FF\", \"#EE9494FF\", \"#EE9797FF\", \"#EE9999FF\", \"#EE9B9BFF\", \"#EE9D9DFF\", \"#EE9F9FFF\", \"#EEA0A0FF\", \"#EEA2A2FF\", \"#EEA4A4FF\", \"#EEA5A5FF\", \"#EEA7A7FF\", \"#EEA9A9FF\", \"#EEABABFF\", \"#EEACACFF\", \"#EEAEAEFF\", \"#EEB0B0FF\", \"#EEB1B1FF\", \"#EEB3B3FF\", \"#EEB5B5FF\", \"#EEB7B7FF\", \"#EEB8B8FF\", \"#EEBABAFF\", \"#EEBCBCFF\", \"#EEBDBDFF\", \"#EEBFBFFF\", \"#EEC1C1FF\", \"#EEC3C3FF\", \"#EEC4C4FF\", \"#EEC6C6FF\", \"#EEC8C8FF\",  \"#EEC9C9FF\", \"#EECBCBFF\", \"#EECDCDFF\", \"#EECFCFFF\", \"#EED0D0FF\", \"#EED2D2FF\", \"#EED4D4FF\", \"#EED5D5FF\", \"#EED7D7FF\", \"#EED9D9FF\", \"#EEDBDBFF\", \"#EEDCDCFF\", \"#EEDEDEFF\", \"#EEE0E0FF\", \"#EEE1E1FF\", \"#EEE3E3FF\", \"#EEE5E5FF\", \"#EEE7E7FF\", \"#EEE8E8FF\", \"#EEEAEAFF\", \"#EEECECFF\", \"#EEEEEEFF\")\n",
      "edgeCol\t =  c(\"#474747FF\", \"#494949FF\", \"#4B4B4BFF\", \"#4D4D4DFF\", \"#4F4F4FFF\", \"#515151FF\", \"#535353FF\", \"#555555FF\", \"#575757FF\", \"#595959FF\", \"#5B5B5BFF\", \"#5E5E5EFF\", \"#606060FF\", \"#626262FF\", \"#646464FF\", \"#666666FF\", \"#686868FF\", \"#6A6A6AFF\", \"#6C6C6CFF\", \"#6E6E6EFF\", \"#707070FF\", \"#727272FF\", \"#747474FF\", \"#767676FF\", \"#787878FF\", \"#7A7A7AFF\", \"#7C7C7CFF\", \"#7E7E7EFF\", \"#808080FF\", \"#828282FF\", \"#848484FF\", \"#868686FF\", \"#888888FF\", \"#8A8A8AFF\", \"#8C8C8CFF\", \"#8D8D8DFF\", \"#8F8F8FFF\", \"#919191FF\", \"#939393FF\",  \"#959595FF\", \"#979797FF\", \"#999999FF\", \"#9A9A9AFF\", \"#9C9C9CFF\", \"#9E9E9EFF\", \"#A0A0A0FF\", \"#A2A2A2FF\", \"#A3A3A3FF\", \"#A5A5A5FF\", \"#A7A7A7FF\", \"#A9A9A9FF\", \"#AAAAAAFF\", \"#ACACACFF\", \"#AEAEAEFF\", \"#AFAFAFFF\", \"#B1B1B1FF\", \"#B3B3B3FF\", \"#B4B4B4FF\", \"#B6B6B6FF\", \"#B7B7B7FF\", \"#B9B9B9FF\", \"#BBBBBBFF\", \"#BCBCBCFF\", \"#BEBEBEFF\", \"#BFBFBFFF\", \"#C1C1C1FF\", \"#C2C2C2FF\", \"#C3C3C4FF\", \"#C5C5C5FF\", \"#C6C6C6FF\", \"#C8C8C8FF\", \"#C9C9C9FF\", \"#CACACAFF\", \"#CCCCCCFF\", \"#CDCDCDFF\", \"#CECECEFF\", \"#CFCFCFFF\", \"#D1D1D1FF\",  \"#D2D2D2FF\", \"#D3D3D3FF\", \"#D4D4D4FF\", \"#D5D5D5FF\", \"#D6D6D6FF\", \"#D7D7D7FF\", \"#D8D8D8FF\", \"#D9D9D9FF\", \"#DADADAFF\", \"#DBDBDBFF\", \"#DCDCDCFF\", \"#DDDDDDFF\", \"#DEDEDEFF\", \"#DEDEDEFF\", \"#DFDFDFFF\", \"#E0E0E0FF\", \"#E0E0E0FF\", \"#E1E1E1FF\", \"#E1E1E1FF\", \"#E2E2E2FF\", \"#E2E2E2FF\", \"#E2E2E2FF\")\n",
      "alpha\t =  0.5\n",
      "cex\t =  1\n",
      "itemLabels\t =  TRUE\n",
      "labelCol\t =  #000000B3\n",
      "measureLabels\t =  FALSE\n",
      "precision\t =  3\n",
      "layout\t =  NULL\n",
      "layoutParams\t =  list()\n",
      "arrowSize\t =  0.5\n",
      "engine\t =  igraph\n",
      "plot\t =  TRUE\n",
      "plot_options\t =  list()\n",
      "max\t =  100\n",
      "verbose\t =  FALSE\n"
     ]
    },
    {
     "data": {
      "image/png": "[encoded data removed]",
      "text/plain": [
       "Plot with title \"Graph for 27 rules\""
      ]
     },
     "metadata": {},
     "output_type": "display_data"
    }
   ],
   "source": [
    "# figure 9.4\n",
    "plot(rules.all, method=\"graph\", control=list(type=\"items\"))"
   ]
  },
  {
   "cell_type": "code",
   "execution_count": 22,
   "metadata": {},
   "outputs": [
    {
     "name": "stderr",
     "output_type": "stream",
     "text": [
      "Warning message:\n",
      "\"Unknown control parameters: type\""
     ]
    },
    {
     "name": "stdout",
     "output_type": "stream",
     "text": [
      "Available control parameters (with default values):\n",
      "main\t =  Graph for 10 rules\n",
      "nodeColors\t =  c(\"#66CC6680\", \"#9999CC80\")\n",
      "nodeCol\t =  c(\"#EE0000FF\", \"#EE0303FF\", \"#EE0606FF\", \"#EE0909FF\", \"#EE0C0CFF\", \"#EE0F0FFF\", \"#EE1212FF\", \"#EE1515FF\", \"#EE1818FF\", \"#EE1B1BFF\", \"#EE1E1EFF\", \"#EE2222FF\", \"#EE2525FF\", \"#EE2828FF\", \"#EE2B2BFF\", \"#EE2E2EFF\", \"#EE3131FF\", \"#EE3434FF\", \"#EE3737FF\", \"#EE3A3AFF\", \"#EE3D3DFF\", \"#EE4040FF\", \"#EE4444FF\", \"#EE4747FF\", \"#EE4A4AFF\", \"#EE4D4DFF\", \"#EE5050FF\", \"#EE5353FF\", \"#EE5656FF\", \"#EE5959FF\", \"#EE5C5CFF\", \"#EE5F5FFF\", \"#EE6262FF\", \"#EE6666FF\", \"#EE6969FF\", \"#EE6C6CFF\", \"#EE6F6FFF\", \"#EE7272FF\", \"#EE7575FF\",  \"#EE7878FF\", \"#EE7B7BFF\", \"#EE7E7EFF\", \"#EE8181FF\", \"#EE8484FF\", \"#EE8888FF\", \"#EE8B8BFF\", \"#EE8E8EFF\", \"#EE9191FF\", \"#EE9494FF\", \"#EE9797FF\", \"#EE9999FF\", \"#EE9B9BFF\", \"#EE9D9DFF\", \"#EE9F9FFF\", \"#EEA0A0FF\", \"#EEA2A2FF\", \"#EEA4A4FF\", \"#EEA5A5FF\", \"#EEA7A7FF\", \"#EEA9A9FF\", \"#EEABABFF\", \"#EEACACFF\", \"#EEAEAEFF\", \"#EEB0B0FF\", \"#EEB1B1FF\", \"#EEB3B3FF\", \"#EEB5B5FF\", \"#EEB7B7FF\", \"#EEB8B8FF\", \"#EEBABAFF\", \"#EEBCBCFF\", \"#EEBDBDFF\", \"#EEBFBFFF\", \"#EEC1C1FF\", \"#EEC3C3FF\", \"#EEC4C4FF\", \"#EEC6C6FF\", \"#EEC8C8FF\",  \"#EEC9C9FF\", \"#EECBCBFF\", \"#EECDCDFF\", \"#EECFCFFF\", \"#EED0D0FF\", \"#EED2D2FF\", \"#EED4D4FF\", \"#EED5D5FF\", \"#EED7D7FF\", \"#EED9D9FF\", \"#EEDBDBFF\", \"#EEDCDCFF\", \"#EEDEDEFF\", \"#EEE0E0FF\", \"#EEE1E1FF\", \"#EEE3E3FF\", \"#EEE5E5FF\", \"#EEE7E7FF\", \"#EEE8E8FF\", \"#EEEAEAFF\", \"#EEECECFF\", \"#EEEEEEFF\")\n",
      "edgeCol\t =  c(\"#474747FF\", \"#494949FF\", \"#4B4B4BFF\", \"#4D4D4DFF\", \"#4F4F4FFF\", \"#515151FF\", \"#535353FF\", \"#555555FF\", \"#575757FF\", \"#595959FF\", \"#5B5B5BFF\", \"#5E5E5EFF\", \"#606060FF\", \"#626262FF\", \"#646464FF\", \"#666666FF\", \"#686868FF\", \"#6A6A6AFF\", \"#6C6C6CFF\", \"#6E6E6EFF\", \"#707070FF\", \"#727272FF\", \"#747474FF\", \"#767676FF\", \"#787878FF\", \"#7A7A7AFF\", \"#7C7C7CFF\", \"#7E7E7EFF\", \"#808080FF\", \"#828282FF\", \"#848484FF\", \"#868686FF\", \"#888888FF\", \"#8A8A8AFF\", \"#8C8C8CFF\", \"#8D8D8DFF\", \"#8F8F8FFF\", \"#919191FF\", \"#939393FF\",  \"#959595FF\", \"#979797FF\", \"#999999FF\", \"#9A9A9AFF\", \"#9C9C9CFF\", \"#9E9E9EFF\", \"#A0A0A0FF\", \"#A2A2A2FF\", \"#A3A3A3FF\", \"#A5A5A5FF\", \"#A7A7A7FF\", \"#A9A9A9FF\", \"#AAAAAAFF\", \"#ACACACFF\", \"#AEAEAEFF\", \"#AFAFAFFF\", \"#B1B1B1FF\", \"#B3B3B3FF\", \"#B4B4B4FF\", \"#B6B6B6FF\", \"#B7B7B7FF\", \"#B9B9B9FF\", \"#BBBBBBFF\", \"#BCBCBCFF\", \"#BEBEBEFF\", \"#BFBFBFFF\", \"#C1C1C1FF\", \"#C2C2C2FF\", \"#C3C3C4FF\", \"#C5C5C5FF\", \"#C6C6C6FF\", \"#C8C8C8FF\", \"#C9C9C9FF\", \"#CACACAFF\", \"#CCCCCCFF\", \"#CDCDCDFF\", \"#CECECEFF\", \"#CFCFCFFF\", \"#D1D1D1FF\",  \"#D2D2D2FF\", \"#D3D3D3FF\", \"#D4D4D4FF\", \"#D5D5D5FF\", \"#D6D6D6FF\", \"#D7D7D7FF\", \"#D8D8D8FF\", \"#D9D9D9FF\", \"#DADADAFF\", \"#DBDBDBFF\", \"#DCDCDCFF\", \"#DDDDDDFF\", \"#DEDEDEFF\", \"#DEDEDEFF\", \"#DFDFDFFF\", \"#E0E0E0FF\", \"#E0E0E0FF\", \"#E1E1E1FF\", \"#E1E1E1FF\", \"#E2E2E2FF\", \"#E2E2E2FF\", \"#E2E2E2FF\")\n",
      "alpha\t =  0.5\n",
      "cex\t =  1\n",
      "itemLabels\t =  TRUE\n",
      "labelCol\t =  #000000B3\n",
      "measureLabels\t =  FALSE\n",
      "precision\t =  3\n",
      "layout\t =  NULL\n",
      "layoutParams\t =  list()\n",
      "arrowSize\t =  0.5\n",
      "engine\t =  igraph\n",
      "plot\t =  TRUE\n",
      "plot_options\t =  list()\n",
      "max\t =  100\n",
      "verbose\t =  FALSE\n"
     ]
    },
    {
     "data": {
      "image/png": "[encoded data removed]",
      "text/plain": [
       "Plot with title \"Graph for 10 rules\""
      ]
     },
     "metadata": {},
     "output_type": "display_data"
    }
   ],
   "source": [
    "plot(rules.all[1:10,], method=\"graph\", control=list(type=\"items\"))"
   ]
  }
 ],
 "metadata": {
  "kernelspec": {
   "display_name": "R",
   "language": "R",
   "name": "ir"
  },
  "language_info": {
   "codemirror_mode": "r",
   "file_extension": ".r",
   "mimetype": "text/x-r-source",
   "name": "R",
   "pygments_lexer": "r",
   "version": "3.6.1"
  }
 },
 "nbformat": 4,
 "nbformat_minor": 4
}
