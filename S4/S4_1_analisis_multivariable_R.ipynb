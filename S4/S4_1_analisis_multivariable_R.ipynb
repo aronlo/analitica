{
 "cells": [
  {
   "cell_type": "code",
   "execution_count": 2,
   "metadata": {
    "scrolled": true
   },
   "outputs": [
    {
     "name": "stdout",
     "output_type": "stream",
     "text": [
      "\n",
      "Bellow Packages Successfully Installed:\n",
      "\n",
      " MLmetrics    reshape data.table      dplyr      party    lattice      sqldf \n",
      "      TRUE       TRUE       TRUE       TRUE       TRUE       TRUE       TRUE \n",
      "   ggplot2        mlr    nortest    tseries \n",
      "      TRUE       TRUE       TRUE       TRUE \n"
     ]
    }
   ],
   "source": [
    "source(\"./ins_paquetes.R\")\n",
    "\n",
    "ins_paquetes('MLmetrics','reshape','data.table','dplyr',\n",
    "             'party','lattice','sqldf','ggplot2','mlr',\n",
    "             'nortest','tseries')\n",
    "\n",
    "library(reshape)\n",
    "library(data.table)\n",
    "library(dplyr)\n",
    "library(MLmetrics)\n",
    "library(party)\n",
    "library(lattice)\n",
    "library(sqldf)\n",
    "library(ggplot2)\n",
    "library(mlr)\n",
    "library(nortest)\n",
    "library(tseries)"
   ]
  },
  {
   "cell_type": "code",
   "execution_count": 3,
   "metadata": {},
   "outputs": [
    {
     "data": {
      "text/html": [
       "<table>\n",
       "<thead><tr><th scope=col>Loan_Status</th><th scope=col>CoapplicantIncome</th><th scope=col>LoanAmount</th><th scope=col>Loan_Amount_Term</th><th scope=col>Gender</th><th scope=col>Dependents</th><th scope=col>Self_Employed</th><th scope=col>Credit_History</th><th scope=col>Amauntxterm</th><th scope=col>Property_Area</th><th scope=col>Income</th></tr></thead>\n",
       "<tbody>\n",
       "\t<tr><td>1       </td><td>   0    </td><td>120     </td><td>360     </td><td>2       </td><td>1       </td><td>1       </td><td>2       </td><td>48.74167</td><td>1       </td><td>5849    </td></tr>\n",
       "\t<tr><td>0       </td><td>1508    </td><td>128     </td><td>360     </td><td>2       </td><td>2       </td><td>1       </td><td>2       </td><td>47.58594</td><td>1       </td><td>4583    </td></tr>\n",
       "\t<tr><td>1       </td><td>   0    </td><td> 66     </td><td>360     </td><td>2       </td><td>1       </td><td>2       </td><td>2       </td><td>45.45455</td><td>1       </td><td>3000    </td></tr>\n",
       "\t<tr><td>1       </td><td>2358    </td><td>120     </td><td>360     </td><td>2       </td><td>1       </td><td>1       </td><td>2       </td><td>41.17500</td><td>1       </td><td>2583    </td></tr>\n",
       "\t<tr><td>1       </td><td>   0    </td><td>141     </td><td>360     </td><td>2       </td><td>1       </td><td>1       </td><td>2       </td><td>42.55319</td><td>1       </td><td>6000    </td></tr>\n",
       "\t<tr><td>1       </td><td>4196    </td><td>267     </td><td>360     </td><td>2       </td><td>3       </td><td>2       </td><td>2       </td><td>36.00375</td><td>1       </td><td>5417    </td></tr>\n",
       "</tbody>\n",
       "</table>\n"
      ],
      "text/latex": [
       "\\begin{tabular}{r|lllllllllll}\n",
       " Loan\\_Status & CoapplicantIncome & LoanAmount & Loan\\_Amount\\_Term & Gender & Dependents & Self\\_Employed & Credit\\_History & Amauntxterm & Property\\_Area & Income\\\\\n",
       "\\hline\n",
       "\t 1        &    0     & 120      & 360      & 2        & 1        & 1        & 2        & 48.74167 & 1        & 5849    \\\\\n",
       "\t 0        & 1508     & 128      & 360      & 2        & 2        & 1        & 2        & 47.58594 & 1        & 4583    \\\\\n",
       "\t 1        &    0     &  66      & 360      & 2        & 1        & 2        & 2        & 45.45455 & 1        & 3000    \\\\\n",
       "\t 1        & 2358     & 120      & 360      & 2        & 1        & 1        & 2        & 41.17500 & 1        & 2583    \\\\\n",
       "\t 1        &    0     & 141      & 360      & 2        & 1        & 1        & 2        & 42.55319 & 1        & 6000    \\\\\n",
       "\t 1        & 4196     & 267      & 360      & 2        & 3        & 2        & 2        & 36.00375 & 1        & 5417    \\\\\n",
       "\\end{tabular}\n"
      ],
      "text/markdown": [
       "\n",
       "| Loan_Status | CoapplicantIncome | LoanAmount | Loan_Amount_Term | Gender | Dependents | Self_Employed | Credit_History | Amauntxterm | Property_Area | Income |\n",
       "|---|---|---|---|---|---|---|---|---|---|---|\n",
       "| 1        |    0     | 120      | 360      | 2        | 1        | 1        | 2        | 48.74167 | 1        | 5849     |\n",
       "| 0        | 1508     | 128      | 360      | 2        | 2        | 1        | 2        | 47.58594 | 1        | 4583     |\n",
       "| 1        |    0     |  66      | 360      | 2        | 1        | 2        | 2        | 45.45455 | 1        | 3000     |\n",
       "| 1        | 2358     | 120      | 360      | 2        | 1        | 1        | 2        | 41.17500 | 1        | 2583     |\n",
       "| 1        |    0     | 141      | 360      | 2        | 1        | 1        | 2        | 42.55319 | 1        | 6000     |\n",
       "| 1        | 4196     | 267      | 360      | 2        | 3        | 2        | 2        | 36.00375 | 1        | 5417     |\n",
       "\n"
      ],
      "text/plain": [
       "  Loan_Status CoapplicantIncome LoanAmount Loan_Amount_Term Gender Dependents\n",
       "1 1              0              120        360              2      1         \n",
       "2 0           1508              128        360              2      2         \n",
       "3 1              0               66        360              2      1         \n",
       "4 1           2358              120        360              2      1         \n",
       "5 1              0              141        360              2      1         \n",
       "6 1           4196              267        360              2      3         \n",
       "  Self_Employed Credit_History Amauntxterm Property_Area Income\n",
       "1 1             2              48.74167    1             5849  \n",
       "2 1             2              47.58594    1             4583  \n",
       "3 2             2              45.45455    1             3000  \n",
       "4 1             2              41.17500    1             2583  \n",
       "5 1             2              42.55319    1             6000  \n",
       "6 2             2              36.00375    1             5417  "
      ]
     },
     "metadata": {},
     "output_type": "display_data"
    }
   ],
   "source": [
    "########### 2) DATA A UTILIZAR ################# \n",
    "\n",
    "train <- read.csv(\"./datasets/data_loan_status.csv\")\n",
    "\n",
    "head(train)"
   ]
  },
  {
   "cell_type": "code",
   "execution_count": 4,
   "metadata": {},
   "outputs": [
    {
     "data": {
      "text/html": [
       "<table>\n",
       "<thead><tr><th scope=col>name</th><th scope=col>type</th><th scope=col>na</th><th scope=col>mean</th><th scope=col>disp</th><th scope=col>median</th><th scope=col>mad</th><th scope=col>min</th><th scope=col>max</th><th scope=col>nlevs</th></tr></thead>\n",
       "<tbody>\n",
       "\t<tr><td>Loan_Status      </td><td>integer          </td><td>0                </td><td>   0.6872964     </td><td>   0.4639727     </td><td>   1.00000       </td><td>   0.00000       </td><td>  0.0000         </td><td>    1.0000       </td><td>0                </td></tr>\n",
       "\t<tr><td>CoapplicantIncome</td><td>numeric          </td><td>0                </td><td>1621.2457980     </td><td>2926.2483692     </td><td>1188.50000       </td><td>1762.07010       </td><td>  0.0000         </td><td>41667.0000       </td><td>0                </td></tr>\n",
       "\t<tr><td>LoanAmount       </td><td>integer          </td><td>0                </td><td> 145.4657980     </td><td>  84.1809670     </td><td> 125.00000       </td><td>  44.47800       </td><td>  9.0000         </td><td>  700.0000       </td><td>0                </td></tr>\n",
       "\t<tr><td>Loan_Amount_Term </td><td>integer          </td><td>0                </td><td> 342.4104235     </td><td>  64.4286291     </td><td> 360.00000       </td><td>   0.00000       </td><td> 12.0000         </td><td>  480.0000       </td><td>0                </td></tr>\n",
       "\t<tr><td>Gender           </td><td>integer          </td><td>0                </td><td>   1.8175896     </td><td>   0.3864973     </td><td>   2.00000       </td><td>   0.00000       </td><td>  1.0000         </td><td>    2.0000       </td><td>0                </td></tr>\n",
       "\t<tr><td>Dependents       </td><td>integer          </td><td>0                </td><td>   1.7442997     </td><td>   1.0096234     </td><td>   1.00000       </td><td>   0.00000       </td><td>  1.0000         </td><td>    4.0000       </td><td>0                </td></tr>\n",
       "\t<tr><td>Self_Employed    </td><td>integer          </td><td>0                </td><td>   1.1335505     </td><td>   0.3404461     </td><td>   1.00000       </td><td>   0.00000       </td><td>  1.0000         </td><td>    2.0000       </td><td>0                </td></tr>\n",
       "\t<tr><td>Credit_History   </td><td>integer          </td><td>0                </td><td>   1.8550489     </td><td>   0.3523386     </td><td>   2.00000       </td><td>   0.00000       </td><td>  1.0000         </td><td>    2.0000       </td><td>0                </td></tr>\n",
       "\t<tr><td>Amauntxterm      </td><td>numeric          </td><td>0                </td><td>  51.3092255     </td><td>  37.7769436     </td><td>  41.45654       </td><td>  11.05022       </td><td> 12.0902         </td><td>  396.3667       </td><td>0                </td></tr>\n",
       "\t<tr><td>Property_Area    </td><td>integer          </td><td>0                </td><td>   1.3794788     </td><td>   0.4856529     </td><td>   1.00000       </td><td>   0.00000       </td><td>  1.0000         </td><td>    2.0000       </td><td>0                </td></tr>\n",
       "\t<tr><td>Income           </td><td>integer          </td><td>0                </td><td>5403.4592834     </td><td>6109.0416734     </td><td>3812.50000       </td><td>1822.85670       </td><td>150.0000         </td><td>81000.0000       </td><td>0                </td></tr>\n",
       "</tbody>\n",
       "</table>\n"
      ],
      "text/latex": [
       "\\begin{tabular}{r|llllllllll}\n",
       " name & type & na & mean & disp & median & mad & min & max & nlevs\\\\\n",
       "\\hline\n",
       "\t Loan\\_Status       & integer             & 0                   &    0.6872964        &    0.4639727        &    1.00000          &    0.00000          &   0.0000            &     1.0000          & 0                  \\\\\n",
       "\t CoapplicantIncome & numeric           & 0                 & 1621.2457980      & 2926.2483692      & 1188.50000        & 1762.07010        &   0.0000          & 41667.0000        & 0                \\\\\n",
       "\t LoanAmount        & integer           & 0                 &  145.4657980      &   84.1809670      &  125.00000        &   44.47800        &   9.0000          &   700.0000        & 0                \\\\\n",
       "\t Loan\\_Amount\\_Term  & integer               & 0                     &  342.4104235          &   64.4286291          &  360.00000            &    0.00000            &  12.0000              &   480.0000            & 0                    \\\\\n",
       "\t Gender            & integer           & 0                 &    1.8175896      &    0.3864973      &    2.00000        &    0.00000        &   1.0000          &     2.0000        & 0                \\\\\n",
       "\t Dependents        & integer           & 0                 &    1.7442997      &    1.0096234      &    1.00000        &    0.00000        &   1.0000          &     4.0000        & 0                \\\\\n",
       "\t Self\\_Employed     & integer             & 0                   &    1.1335505        &    0.3404461        &    1.00000          &    0.00000          &   1.0000            &     2.0000          & 0                  \\\\\n",
       "\t Credit\\_History    & integer             & 0                   &    1.8550489        &    0.3523386        &    2.00000          &    0.00000          &   1.0000            &     2.0000          & 0                  \\\\\n",
       "\t Amauntxterm       & numeric           & 0                 &   51.3092255      &   37.7769436      &   41.45654        &   11.05022        &  12.0902          &   396.3667        & 0                \\\\\n",
       "\t Property\\_Area     & integer             & 0                   &    1.3794788        &    0.4856529        &    1.00000          &    0.00000          &   1.0000            &     2.0000          & 0                  \\\\\n",
       "\t Income            & integer           & 0                 & 5403.4592834      & 6109.0416734      & 3812.50000        & 1822.85670        & 150.0000          & 81000.0000        & 0                \\\\\n",
       "\\end{tabular}\n"
      ],
      "text/markdown": [
       "\n",
       "| name | type | na | mean | disp | median | mad | min | max | nlevs |\n",
       "|---|---|---|---|---|---|---|---|---|---|\n",
       "| Loan_Status       | integer           | 0                 |    0.6872964      |    0.4639727      |    1.00000        |    0.00000        |   0.0000          |     1.0000        | 0                 |\n",
       "| CoapplicantIncome | numeric           | 0                 | 1621.2457980      | 2926.2483692      | 1188.50000        | 1762.07010        |   0.0000          | 41667.0000        | 0                 |\n",
       "| LoanAmount        | integer           | 0                 |  145.4657980      |   84.1809670      |  125.00000        |   44.47800        |   9.0000          |   700.0000        | 0                 |\n",
       "| Loan_Amount_Term  | integer           | 0                 |  342.4104235      |   64.4286291      |  360.00000        |    0.00000        |  12.0000          |   480.0000        | 0                 |\n",
       "| Gender            | integer           | 0                 |    1.8175896      |    0.3864973      |    2.00000        |    0.00000        |   1.0000          |     2.0000        | 0                 |\n",
       "| Dependents        | integer           | 0                 |    1.7442997      |    1.0096234      |    1.00000        |    0.00000        |   1.0000          |     4.0000        | 0                 |\n",
       "| Self_Employed     | integer           | 0                 |    1.1335505      |    0.3404461      |    1.00000        |    0.00000        |   1.0000          |     2.0000        | 0                 |\n",
       "| Credit_History    | integer           | 0                 |    1.8550489      |    0.3523386      |    2.00000        |    0.00000        |   1.0000          |     2.0000        | 0                 |\n",
       "| Amauntxterm       | numeric           | 0                 |   51.3092255      |   37.7769436      |   41.45654        |   11.05022        |  12.0902          |   396.3667        | 0                 |\n",
       "| Property_Area     | integer           | 0                 |    1.3794788      |    0.4856529      |    1.00000        |    0.00000        |   1.0000          |     2.0000        | 0                 |\n",
       "| Income            | integer           | 0                 | 5403.4592834      | 6109.0416734      | 3812.50000        | 1822.85670        | 150.0000          | 81000.0000        | 0                 |\n",
       "\n"
      ],
      "text/plain": [
       "   name              type    na mean         disp         median     mad       \n",
       "1  Loan_Status       integer 0     0.6872964    0.4639727    1.00000    0.00000\n",
       "2  CoapplicantIncome numeric 0  1621.2457980 2926.2483692 1188.50000 1762.07010\n",
       "3  LoanAmount        integer 0   145.4657980   84.1809670  125.00000   44.47800\n",
       "4  Loan_Amount_Term  integer 0   342.4104235   64.4286291  360.00000    0.00000\n",
       "5  Gender            integer 0     1.8175896    0.3864973    2.00000    0.00000\n",
       "6  Dependents        integer 0     1.7442997    1.0096234    1.00000    0.00000\n",
       "7  Self_Employed     integer 0     1.1335505    0.3404461    1.00000    0.00000\n",
       "8  Credit_History    integer 0     1.8550489    0.3523386    2.00000    0.00000\n",
       "9  Amauntxterm       numeric 0    51.3092255   37.7769436   41.45654   11.05022\n",
       "10 Property_Area     integer 0     1.3794788    0.4856529    1.00000    0.00000\n",
       "11 Income            integer 0  5403.4592834 6109.0416734 3812.50000 1822.85670\n",
       "   min      max        nlevs\n",
       "1    0.0000     1.0000 0    \n",
       "2    0.0000 41667.0000 0    \n",
       "3    9.0000   700.0000 0    \n",
       "4   12.0000   480.0000 0    \n",
       "5    1.0000     2.0000 0    \n",
       "6    1.0000     4.0000 0    \n",
       "7    1.0000     2.0000 0    \n",
       "8    1.0000     2.0000 0    \n",
       "9   12.0902   396.3667 0    \n",
       "10   1.0000     2.0000 0    \n",
       "11 150.0000 81000.0000 0    "
      ]
     },
     "metadata": {},
     "output_type": "display_data"
    }
   ],
   "source": [
    "########### 3) TRATAMIENTO DE LA DATA ################# \n",
    "\n",
    "## en primer lugar ver el analisis descriptivo de la data\n",
    "\n",
    "resumen <- data.frame(summarizeColumns(train))\n",
    "write.csv(resumen,\"tabla_resumen.csv\")\n",
    "\n",
    "resumen"
   ]
  },
  {
   "cell_type": "code",
   "execution_count": 5,
   "metadata": {},
   "outputs": [
    {
     "data": {
      "text/plain": [
       "  Loan_Status     CoapplicantIncome   LoanAmount    Loan_Amount_Term\n",
       " Min.   :0.0000   Min.   :    0     Min.   :  9.0   Min.   : 12.0   \n",
       " 1st Qu.:0.0000   1st Qu.:    0     1st Qu.:100.2   1st Qu.:360.0   \n",
       " Median :1.0000   Median : 1188     Median :125.0   Median :360.0   \n",
       " Mean   :0.6873   Mean   : 1621     Mean   :145.5   Mean   :342.4   \n",
       " 3rd Qu.:1.0000   3rd Qu.: 2297     3rd Qu.:164.8   3rd Qu.:360.0   \n",
       " Max.   :1.0000   Max.   :41667     Max.   :700.0   Max.   :480.0   \n",
       "     Gender        Dependents    Self_Employed   Credit_History \n",
       " Min.   :1.000   Min.   :1.000   Min.   :1.000   Min.   :1.000  \n",
       " 1st Qu.:2.000   1st Qu.:1.000   1st Qu.:1.000   1st Qu.:2.000  \n",
       " Median :2.000   Median :1.000   Median :1.000   Median :2.000  \n",
       " Mean   :1.818   Mean   :1.744   Mean   :1.134   Mean   :1.855  \n",
       " 3rd Qu.:2.000   3rd Qu.:2.000   3rd Qu.:1.000   3rd Qu.:2.000  \n",
       " Max.   :2.000   Max.   :4.000   Max.   :2.000   Max.   :2.000  \n",
       "  Amauntxterm     Property_Area       Income     \n",
       " Min.   : 12.09   Min.   :1.000   Min.   :  150  \n",
       " 1st Qu.: 35.53   1st Qu.:1.000   1st Qu.: 2878  \n",
       " Median : 41.46   Median :1.000   Median : 3812  \n",
       " Mean   : 51.31   Mean   :1.379   Mean   : 5403  \n",
       " 3rd Qu.: 52.15   3rd Qu.:2.000   3rd Qu.: 5795  \n",
       " Max.   :396.37   Max.   :2.000   Max.   :81000  "
      ]
     },
     "metadata": {},
     "output_type": "display_data"
    }
   ],
   "source": [
    "########### 4) PRIMER ANALISIS  ################# \n",
    "\n",
    "## generamos una copia de la data original\n",
    "\n",
    "data_train <- train\n",
    "\n",
    "## imputar en primer lugar la data\n",
    "#Impute and re-impute data\n",
    "#Allows imputation of missing feature values through various techniques. \n",
    "\n",
    "data_train <- mlr::impute(train, classes = list(factor = imputeMode(), \n",
    "                                                integer = imputeMode(),\n",
    "                                                numeric = imputeMedian()))\n",
    "\n",
    "data_train <- data_train$data[,1:ncol(train)]\n",
    "\n",
    "\n",
    "## luego dar un orden a las variables\n",
    "\n",
    "summary(data_train)"
   ]
  },
  {
   "cell_type": "code",
   "execution_count": 6,
   "metadata": {},
   "outputs": [
    {
     "data": {
      "text/html": [
       "<table>\n",
       "<thead><tr><th scope=col>Loan_Status</th><th scope=col>Gender</th><th scope=col>Dependents</th><th scope=col>Self_Employed</th><th scope=col>Credit_History</th><th scope=col>Property_Area</th><th scope=col>CoapplicantIncome</th><th scope=col>LoanAmount</th><th scope=col>Loan_Amount_Term</th><th scope=col>Amauntxterm</th><th scope=col>Income</th></tr></thead>\n",
       "<tbody>\n",
       "\t<tr><td>1       </td><td>2       </td><td>1       </td><td>1       </td><td>2       </td><td>1       </td><td>   0    </td><td>120     </td><td>360     </td><td>48.74167</td><td>5849    </td></tr>\n",
       "\t<tr><td>0       </td><td>2       </td><td>2       </td><td>1       </td><td>2       </td><td>1       </td><td>1508    </td><td>128     </td><td>360     </td><td>47.58594</td><td>4583    </td></tr>\n",
       "\t<tr><td>1       </td><td>2       </td><td>1       </td><td>2       </td><td>2       </td><td>1       </td><td>   0    </td><td> 66     </td><td>360     </td><td>45.45455</td><td>3000    </td></tr>\n",
       "\t<tr><td>1       </td><td>2       </td><td>1       </td><td>1       </td><td>2       </td><td>1       </td><td>2358    </td><td>120     </td><td>360     </td><td>41.17500</td><td>2583    </td></tr>\n",
       "\t<tr><td>1       </td><td>2       </td><td>1       </td><td>1       </td><td>2       </td><td>1       </td><td>   0    </td><td>141     </td><td>360     </td><td>42.55319</td><td>6000    </td></tr>\n",
       "\t<tr><td>1       </td><td>2       </td><td>3       </td><td>2       </td><td>2       </td><td>1       </td><td>4196    </td><td>267     </td><td>360     </td><td>36.00375</td><td>5417    </td></tr>\n",
       "</tbody>\n",
       "</table>\n"
      ],
      "text/latex": [
       "\\begin{tabular}{r|lllllllllll}\n",
       " Loan\\_Status & Gender & Dependents & Self\\_Employed & Credit\\_History & Property\\_Area & CoapplicantIncome & LoanAmount & Loan\\_Amount\\_Term & Amauntxterm & Income\\\\\n",
       "\\hline\n",
       "\t 1        & 2        & 1        & 1        & 2        & 1        &    0     & 120      & 360      & 48.74167 & 5849    \\\\\n",
       "\t 0        & 2        & 2        & 1        & 2        & 1        & 1508     & 128      & 360      & 47.58594 & 4583    \\\\\n",
       "\t 1        & 2        & 1        & 2        & 2        & 1        &    0     &  66      & 360      & 45.45455 & 3000    \\\\\n",
       "\t 1        & 2        & 1        & 1        & 2        & 1        & 2358     & 120      & 360      & 41.17500 & 2583    \\\\\n",
       "\t 1        & 2        & 1        & 1        & 2        & 1        &    0     & 141      & 360      & 42.55319 & 6000    \\\\\n",
       "\t 1        & 2        & 3        & 2        & 2        & 1        & 4196     & 267      & 360      & 36.00375 & 5417    \\\\\n",
       "\\end{tabular}\n"
      ],
      "text/markdown": [
       "\n",
       "| Loan_Status | Gender | Dependents | Self_Employed | Credit_History | Property_Area | CoapplicantIncome | LoanAmount | Loan_Amount_Term | Amauntxterm | Income |\n",
       "|---|---|---|---|---|---|---|---|---|---|---|\n",
       "| 1        | 2        | 1        | 1        | 2        | 1        |    0     | 120      | 360      | 48.74167 | 5849     |\n",
       "| 0        | 2        | 2        | 1        | 2        | 1        | 1508     | 128      | 360      | 47.58594 | 4583     |\n",
       "| 1        | 2        | 1        | 2        | 2        | 1        |    0     |  66      | 360      | 45.45455 | 3000     |\n",
       "| 1        | 2        | 1        | 1        | 2        | 1        | 2358     | 120      | 360      | 41.17500 | 2583     |\n",
       "| 1        | 2        | 1        | 1        | 2        | 1        |    0     | 141      | 360      | 42.55319 | 6000     |\n",
       "| 1        | 2        | 3        | 2        | 2        | 1        | 4196     | 267      | 360      | 36.00375 | 5417     |\n",
       "\n"
      ],
      "text/plain": [
       "  Loan_Status Gender Dependents Self_Employed Credit_History Property_Area\n",
       "1 1           2      1          1             2              1            \n",
       "2 0           2      2          1             2              1            \n",
       "3 1           2      1          2             2              1            \n",
       "4 1           2      1          1             2              1            \n",
       "5 1           2      1          1             2              1            \n",
       "6 1           2      3          2             2              1            \n",
       "  CoapplicantIncome LoanAmount Loan_Amount_Term Amauntxterm Income\n",
       "1    0              120        360              48.74167    5849  \n",
       "2 1508              128        360              47.58594    4583  \n",
       "3    0               66        360              45.45455    3000  \n",
       "4 2358              120        360              41.17500    2583  \n",
       "5    0              141        360              42.55319    6000  \n",
       "6 4196              267        360              36.00375    5417  "
      ]
     },
     "metadata": {},
     "output_type": "display_data"
    }
   ],
   "source": [
    "#dplyr::reexports   %>% Objects exported from other packages. Pipe operator\n",
    "\n",
    "cualis <- data_train %>% select(Loan_Status,Gender,Dependents,\n",
    "                                Self_Employed,Credit_History,\n",
    "                                Property_Area)\n",
    "cuantis <- data_train %>% select(-Loan_Status,-Gender,-Dependents,\n",
    "                                 -Self_Employed,-Credit_History,\n",
    "                                 -Property_Area)\n",
    "\n",
    "\n",
    "data_train <- cbind(cualis,cuantis)\n",
    "head(data_train)"
   ]
  },
  {
   "cell_type": "code",
   "execution_count": 7,
   "metadata": {},
   "outputs": [
    {
     "data": {
      "text/html": [
       "<table>\n",
       "<thead><tr><th scope=col>i</th><th scope=col>j</th><th scope=col>cor</th><th scope=col>filtro</th></tr></thead>\n",
       "<tbody>\n",
       "\t<tr><td>Loan_Status      </td><td>Gender           </td><td> 0.0179866787    </td><td>0                </td></tr>\n",
       "\t<tr><td>Loan_Status      </td><td>Dependents       </td><td> 0.0089823290    </td><td>0                </td></tr>\n",
       "\t<tr><td>Gender           </td><td>Dependents       </td><td> 0.1682933570    </td><td>0                </td></tr>\n",
       "\t<tr><td>Loan_Status      </td><td>Self_Employed    </td><td>-0.0037004377    </td><td>0                </td></tr>\n",
       "\t<tr><td>Gender           </td><td>Self_Employed    </td><td>-0.0005249884    </td><td>0                </td></tr>\n",
       "\t<tr><td>Dependents       </td><td>Self_Employed    </td><td> 0.0725515324    </td><td>0                </td></tr>\n",
       "\t<tr><td>Loan_Status      </td><td>Credit_History   </td><td> 0.5405560719    </td><td>0                </td></tr>\n",
       "\t<tr><td>Gender           </td><td>Credit_History   </td><td> 0.0091698521    </td><td>0                </td></tr>\n",
       "\t<tr><td>Dependents       </td><td>Credit_History   </td><td>-0.0317232667    </td><td>0                </td></tr>\n",
       "\t<tr><td>Self_Employed    </td><td>Credit_History   </td><td>-0.0015504603    </td><td>0                </td></tr>\n",
       "\t<tr><td>Loan_Status      </td><td>Property_Area    </td><td> 0.1365404316    </td><td>0                </td></tr>\n",
       "\t<tr><td>Gender           </td><td>Property_Area    </td><td>-0.1086226707    </td><td>0                </td></tr>\n",
       "\t<tr><td>Dependents       </td><td>Property_Area    </td><td> 0.0025903935    </td><td>0                </td></tr>\n",
       "\t<tr><td>Self_Employed    </td><td>Property_Area    </td><td> 0.0087095576    </td><td>0                </td></tr>\n",
       "\t<tr><td>Credit_History   </td><td>Property_Area    </td><td> 0.0359758390    </td><td>0                </td></tr>\n",
       "\t<tr><td>Loan_Status      </td><td>CoapplicantIncome</td><td> 0.0349595618    </td><td>0                </td></tr>\n",
       "\t<tr><td>Gender           </td><td>CoapplicantIncome</td><td> 0.2076071551    </td><td>0                </td></tr>\n",
       "\t<tr><td>Dependents       </td><td>CoapplicantIncome</td><td>-0.0378380467    </td><td>0                </td></tr>\n",
       "\t<tr><td>Self_Employed    </td><td>CoapplicantIncome</td><td>-0.0645438256    </td><td>0                </td></tr>\n",
       "\t<tr><td>Credit_History   </td><td>CoapplicantIncome</td><td> 0.0012708085    </td><td>0                </td></tr>\n",
       "\t<tr><td>Property_Area    </td><td>CoapplicantIncome</td><td>-0.0185979123    </td><td>0                </td></tr>\n",
       "\t<tr><td>Loan_Status      </td><td>LoanAmount       </td><td>-0.0292713425    </td><td>0                </td></tr>\n",
       "\t<tr><td>Gender           </td><td>LoanAmount       </td><td> 0.1539782716    </td><td>0                </td></tr>\n",
       "\t<tr><td>Dependents       </td><td>LoanAmount       </td><td> 0.1483801774    </td><td>0                </td></tr>\n",
       "\t<tr><td>Self_Employed    </td><td>LoanAmount       </td><td> 0.1112196200    </td><td>0                </td></tr>\n",
       "\t<tr><td>Credit_History   </td><td>LoanAmount       </td><td> 0.0019840608    </td><td>0                </td></tr>\n",
       "\t<tr><td>Property_Area    </td><td>LoanAmount       </td><td> 0.0048864706    </td><td>0                </td></tr>\n",
       "\t<tr><td>CoapplicantIncome</td><td>LoanAmount       </td><td> 0.2383320777    </td><td>0                </td></tr>\n",
       "\t<tr><td>Loan_Status      </td><td>Loan_Amount_Term </td><td>-0.0276636229    </td><td>0                </td></tr>\n",
       "\t<tr><td>Gender           </td><td>Loan_Amount_Term </td><td>-0.0864799891    </td><td>0                </td></tr>\n",
       "\t<tr><td>Dependents       </td><td>Loan_Amount_Term </td><td>-0.1216006846    </td><td>0                </td></tr>\n",
       "\t<tr><td>Self_Employed    </td><td>Loan_Amount_Term </td><td>-0.0414489500    </td><td>0                </td></tr>\n",
       "\t<tr><td>Credit_History   </td><td>Loan_Amount_Term </td><td> 0.0070928424    </td><td>0                </td></tr>\n",
       "\t<tr><td>Property_Area    </td><td>Loan_Amount_Term </td><td> 0.0562619925    </td><td>0                </td></tr>\n",
       "\t<tr><td>CoapplicantIncome</td><td>Loan_Amount_Term </td><td>-0.0124348906    </td><td>0                </td></tr>\n",
       "\t<tr><td>LoanAmount       </td><td>Loan_Amount_Term </td><td> 0.0385149043    </td><td>0                </td></tr>\n",
       "\t<tr><td>Loan_Status      </td><td>Amauntxterm      </td><td> 0.0214656712    </td><td>0                </td></tr>\n",
       "\t<tr><td>Gender           </td><td>Amauntxterm      </td><td> 0.0784835203    </td><td>0                </td></tr>\n",
       "\t<tr><td>Dependents       </td><td>Amauntxterm      </td><td>-0.0473979632    </td><td>0                </td></tr>\n",
       "\t<tr><td>Self_Employed    </td><td>Amauntxterm      </td><td> 0.0652344866    </td><td>0                </td></tr>\n",
       "\t<tr><td>Credit_History   </td><td>Amauntxterm      </td><td> 0.0272358325    </td><td>0                </td></tr>\n",
       "\t<tr><td>Property_Area    </td><td>Amauntxterm      </td><td>-0.0979830150    </td><td>0                </td></tr>\n",
       "\t<tr><td>CoapplicantIncome</td><td>Amauntxterm      </td><td> 0.1161263492    </td><td>0                </td></tr>\n",
       "\t<tr><td>LoanAmount       </td><td>Amauntxterm      </td><td>-0.2465897836    </td><td>0                </td></tr>\n",
       "\t<tr><td>Loan_Amount_Term </td><td>Amauntxterm      </td><td>-0.2044632390    </td><td>0                </td></tr>\n",
       "\t<tr><td>Loan_Status      </td><td>Income           </td><td>-0.0041623411    </td><td>0                </td></tr>\n",
       "\t<tr><td>Gender           </td><td>Income           </td><td> 0.0743914068    </td><td>0                </td></tr>\n",
       "\t<tr><td>Dependents       </td><td>Income           </td><td> 0.1406669377    </td><td>0                </td></tr>\n",
       "\t<tr><td>Self_Employed    </td><td>Income           </td><td> 0.1978655085    </td><td>0                </td></tr>\n",
       "\t<tr><td>Credit_History   </td><td>Income           </td><td> 0.0371803101    </td><td>0                </td></tr>\n",
       "\t<tr><td>Property_Area    </td><td>Income           </td><td> 0.0050842752    </td><td>0                </td></tr>\n",
       "\t<tr><td>CoapplicantIncome</td><td>Income           </td><td>-0.3200556581    </td><td>0                </td></tr>\n",
       "\t<tr><td>LoanAmount       </td><td>Income           </td><td> 0.5017547642    </td><td>0                </td></tr>\n",
       "\t<tr><td>Loan_Amount_Term </td><td>Income           </td><td>-0.0402918659    </td><td>0                </td></tr>\n",
       "\t<tr><td>Amauntxterm      </td><td>Income           </td><td> 0.2922176117    </td><td>0                </td></tr>\n",
       "</tbody>\n",
       "</table>\n"
      ],
      "text/latex": [
       "\\begin{tabular}{r|llll}\n",
       " i & j & cor & filtro\\\\\n",
       "\\hline\n",
       "\t Loan\\_Status       & Gender              &  0.0179866787       & 0                  \\\\\n",
       "\t Loan\\_Status       & Dependents          &  0.0089823290       & 0                  \\\\\n",
       "\t Gender            & Dependents        &  0.1682933570     & 0                \\\\\n",
       "\t Loan\\_Status       & Self\\_Employed     & -0.0037004377       & 0                  \\\\\n",
       "\t Gender              & Self\\_Employed     & -0.0005249884       & 0                  \\\\\n",
       "\t Dependents          & Self\\_Employed     &  0.0725515324       & 0                  \\\\\n",
       "\t Loan\\_Status       & Credit\\_History    &  0.5405560719       & 0                  \\\\\n",
       "\t Gender              & Credit\\_History    &  0.0091698521       & 0                  \\\\\n",
       "\t Dependents          & Credit\\_History    & -0.0317232667       & 0                  \\\\\n",
       "\t Self\\_Employed     & Credit\\_History    & -0.0015504603       & 0                  \\\\\n",
       "\t Loan\\_Status       & Property\\_Area     &  0.1365404316       & 0                  \\\\\n",
       "\t Gender              & Property\\_Area     & -0.1086226707       & 0                  \\\\\n",
       "\t Dependents          & Property\\_Area     &  0.0025903935       & 0                  \\\\\n",
       "\t Self\\_Employed     & Property\\_Area     &  0.0087095576       & 0                  \\\\\n",
       "\t Credit\\_History    & Property\\_Area     &  0.0359758390       & 0                  \\\\\n",
       "\t Loan\\_Status       & CoapplicantIncome   &  0.0349595618       & 0                  \\\\\n",
       "\t Gender            & CoapplicantIncome &  0.2076071551     & 0                \\\\\n",
       "\t Dependents        & CoapplicantIncome & -0.0378380467     & 0                \\\\\n",
       "\t Self\\_Employed     & CoapplicantIncome   & -0.0645438256       & 0                  \\\\\n",
       "\t Credit\\_History    & CoapplicantIncome   &  0.0012708085       & 0                  \\\\\n",
       "\t Property\\_Area     & CoapplicantIncome   & -0.0185979123       & 0                  \\\\\n",
       "\t Loan\\_Status       & LoanAmount          & -0.0292713425       & 0                  \\\\\n",
       "\t Gender            & LoanAmount        &  0.1539782716     & 0                \\\\\n",
       "\t Dependents        & LoanAmount        &  0.1483801774     & 0                \\\\\n",
       "\t Self\\_Employed     & LoanAmount          &  0.1112196200       & 0                  \\\\\n",
       "\t Credit\\_History    & LoanAmount          &  0.0019840608       & 0                  \\\\\n",
       "\t Property\\_Area     & LoanAmount          &  0.0048864706       & 0                  \\\\\n",
       "\t CoapplicantIncome & LoanAmount        &  0.2383320777     & 0                \\\\\n",
       "\t Loan\\_Status         & Loan\\_Amount\\_Term  & -0.0276636229         & 0                    \\\\\n",
       "\t Gender                & Loan\\_Amount\\_Term  & -0.0864799891         & 0                    \\\\\n",
       "\t Dependents            & Loan\\_Amount\\_Term  & -0.1216006846         & 0                    \\\\\n",
       "\t Self\\_Employed       & Loan\\_Amount\\_Term  & -0.0414489500         & 0                    \\\\\n",
       "\t Credit\\_History      & Loan\\_Amount\\_Term  &  0.0070928424         & 0                    \\\\\n",
       "\t Property\\_Area       & Loan\\_Amount\\_Term  &  0.0562619925         & 0                    \\\\\n",
       "\t CoapplicantIncome     & Loan\\_Amount\\_Term  & -0.0124348906         & 0                    \\\\\n",
       "\t LoanAmount            & Loan\\_Amount\\_Term  &  0.0385149043         & 0                    \\\\\n",
       "\t Loan\\_Status       & Amauntxterm         &  0.0214656712       & 0                  \\\\\n",
       "\t Gender            & Amauntxterm       &  0.0784835203     & 0                \\\\\n",
       "\t Dependents        & Amauntxterm       & -0.0473979632     & 0                \\\\\n",
       "\t Self\\_Employed     & Amauntxterm         &  0.0652344866       & 0                  \\\\\n",
       "\t Credit\\_History    & Amauntxterm         &  0.0272358325       & 0                  \\\\\n",
       "\t Property\\_Area     & Amauntxterm         & -0.0979830150       & 0                  \\\\\n",
       "\t CoapplicantIncome & Amauntxterm       &  0.1161263492     & 0                \\\\\n",
       "\t LoanAmount        & Amauntxterm       & -0.2465897836     & 0                \\\\\n",
       "\t Loan\\_Amount\\_Term  & Amauntxterm           & -0.2044632390         & 0                    \\\\\n",
       "\t Loan\\_Status       & Income              & -0.0041623411       & 0                  \\\\\n",
       "\t Gender            & Income            &  0.0743914068     & 0                \\\\\n",
       "\t Dependents        & Income            &  0.1406669377     & 0                \\\\\n",
       "\t Self\\_Employed     & Income              &  0.1978655085       & 0                  \\\\\n",
       "\t Credit\\_History    & Income              &  0.0371803101       & 0                  \\\\\n",
       "\t Property\\_Area     & Income              &  0.0050842752       & 0                  \\\\\n",
       "\t CoapplicantIncome & Income            & -0.3200556581     & 0                \\\\\n",
       "\t LoanAmount        & Income            &  0.5017547642     & 0                \\\\\n",
       "\t Loan\\_Amount\\_Term  & Income                & -0.0402918659         & 0                    \\\\\n",
       "\t Amauntxterm       & Income            &  0.2922176117     & 0                \\\\\n",
       "\\end{tabular}\n"
      ],
      "text/markdown": [
       "\n",
       "| i | j | cor | filtro |\n",
       "|---|---|---|---|\n",
       "| Loan_Status       | Gender            |  0.0179866787     | 0                 |\n",
       "| Loan_Status       | Dependents        |  0.0089823290     | 0                 |\n",
       "| Gender            | Dependents        |  0.1682933570     | 0                 |\n",
       "| Loan_Status       | Self_Employed     | -0.0037004377     | 0                 |\n",
       "| Gender            | Self_Employed     | -0.0005249884     | 0                 |\n",
       "| Dependents        | Self_Employed     |  0.0725515324     | 0                 |\n",
       "| Loan_Status       | Credit_History    |  0.5405560719     | 0                 |\n",
       "| Gender            | Credit_History    |  0.0091698521     | 0                 |\n",
       "| Dependents        | Credit_History    | -0.0317232667     | 0                 |\n",
       "| Self_Employed     | Credit_History    | -0.0015504603     | 0                 |\n",
       "| Loan_Status       | Property_Area     |  0.1365404316     | 0                 |\n",
       "| Gender            | Property_Area     | -0.1086226707     | 0                 |\n",
       "| Dependents        | Property_Area     |  0.0025903935     | 0                 |\n",
       "| Self_Employed     | Property_Area     |  0.0087095576     | 0                 |\n",
       "| Credit_History    | Property_Area     |  0.0359758390     | 0                 |\n",
       "| Loan_Status       | CoapplicantIncome |  0.0349595618     | 0                 |\n",
       "| Gender            | CoapplicantIncome |  0.2076071551     | 0                 |\n",
       "| Dependents        | CoapplicantIncome | -0.0378380467     | 0                 |\n",
       "| Self_Employed     | CoapplicantIncome | -0.0645438256     | 0                 |\n",
       "| Credit_History    | CoapplicantIncome |  0.0012708085     | 0                 |\n",
       "| Property_Area     | CoapplicantIncome | -0.0185979123     | 0                 |\n",
       "| Loan_Status       | LoanAmount        | -0.0292713425     | 0                 |\n",
       "| Gender            | LoanAmount        |  0.1539782716     | 0                 |\n",
       "| Dependents        | LoanAmount        |  0.1483801774     | 0                 |\n",
       "| Self_Employed     | LoanAmount        |  0.1112196200     | 0                 |\n",
       "| Credit_History    | LoanAmount        |  0.0019840608     | 0                 |\n",
       "| Property_Area     | LoanAmount        |  0.0048864706     | 0                 |\n",
       "| CoapplicantIncome | LoanAmount        |  0.2383320777     | 0                 |\n",
       "| Loan_Status       | Loan_Amount_Term  | -0.0276636229     | 0                 |\n",
       "| Gender            | Loan_Amount_Term  | -0.0864799891     | 0                 |\n",
       "| Dependents        | Loan_Amount_Term  | -0.1216006846     | 0                 |\n",
       "| Self_Employed     | Loan_Amount_Term  | -0.0414489500     | 0                 |\n",
       "| Credit_History    | Loan_Amount_Term  |  0.0070928424     | 0                 |\n",
       "| Property_Area     | Loan_Amount_Term  |  0.0562619925     | 0                 |\n",
       "| CoapplicantIncome | Loan_Amount_Term  | -0.0124348906     | 0                 |\n",
       "| LoanAmount        | Loan_Amount_Term  |  0.0385149043     | 0                 |\n",
       "| Loan_Status       | Amauntxterm       |  0.0214656712     | 0                 |\n",
       "| Gender            | Amauntxterm       |  0.0784835203     | 0                 |\n",
       "| Dependents        | Amauntxterm       | -0.0473979632     | 0                 |\n",
       "| Self_Employed     | Amauntxterm       |  0.0652344866     | 0                 |\n",
       "| Credit_History    | Amauntxterm       |  0.0272358325     | 0                 |\n",
       "| Property_Area     | Amauntxterm       | -0.0979830150     | 0                 |\n",
       "| CoapplicantIncome | Amauntxterm       |  0.1161263492     | 0                 |\n",
       "| LoanAmount        | Amauntxterm       | -0.2465897836     | 0                 |\n",
       "| Loan_Amount_Term  | Amauntxterm       | -0.2044632390     | 0                 |\n",
       "| Loan_Status       | Income            | -0.0041623411     | 0                 |\n",
       "| Gender            | Income            |  0.0743914068     | 0                 |\n",
       "| Dependents        | Income            |  0.1406669377     | 0                 |\n",
       "| Self_Employed     | Income            |  0.1978655085     | 0                 |\n",
       "| Credit_History    | Income            |  0.0371803101     | 0                 |\n",
       "| Property_Area     | Income            |  0.0050842752     | 0                 |\n",
       "| CoapplicantIncome | Income            | -0.3200556581     | 0                 |\n",
       "| LoanAmount        | Income            |  0.5017547642     | 0                 |\n",
       "| Loan_Amount_Term  | Income            | -0.0402918659     | 0                 |\n",
       "| Amauntxterm       | Income            |  0.2922176117     | 0                 |\n",
       "\n"
      ],
      "text/plain": [
       "   i                 j                 cor           filtro\n",
       "1  Loan_Status       Gender             0.0179866787 0     \n",
       "2  Loan_Status       Dependents         0.0089823290 0     \n",
       "3  Gender            Dependents         0.1682933570 0     \n",
       "4  Loan_Status       Self_Employed     -0.0037004377 0     \n",
       "5  Gender            Self_Employed     -0.0005249884 0     \n",
       "6  Dependents        Self_Employed      0.0725515324 0     \n",
       "7  Loan_Status       Credit_History     0.5405560719 0     \n",
       "8  Gender            Credit_History     0.0091698521 0     \n",
       "9  Dependents        Credit_History    -0.0317232667 0     \n",
       "10 Self_Employed     Credit_History    -0.0015504603 0     \n",
       "11 Loan_Status       Property_Area      0.1365404316 0     \n",
       "12 Gender            Property_Area     -0.1086226707 0     \n",
       "13 Dependents        Property_Area      0.0025903935 0     \n",
       "14 Self_Employed     Property_Area      0.0087095576 0     \n",
       "15 Credit_History    Property_Area      0.0359758390 0     \n",
       "16 Loan_Status       CoapplicantIncome  0.0349595618 0     \n",
       "17 Gender            CoapplicantIncome  0.2076071551 0     \n",
       "18 Dependents        CoapplicantIncome -0.0378380467 0     \n",
       "19 Self_Employed     CoapplicantIncome -0.0645438256 0     \n",
       "20 Credit_History    CoapplicantIncome  0.0012708085 0     \n",
       "21 Property_Area     CoapplicantIncome -0.0185979123 0     \n",
       "22 Loan_Status       LoanAmount        -0.0292713425 0     \n",
       "23 Gender            LoanAmount         0.1539782716 0     \n",
       "24 Dependents        LoanAmount         0.1483801774 0     \n",
       "25 Self_Employed     LoanAmount         0.1112196200 0     \n",
       "26 Credit_History    LoanAmount         0.0019840608 0     \n",
       "27 Property_Area     LoanAmount         0.0048864706 0     \n",
       "28 CoapplicantIncome LoanAmount         0.2383320777 0     \n",
       "29 Loan_Status       Loan_Amount_Term  -0.0276636229 0     \n",
       "30 Gender            Loan_Amount_Term  -0.0864799891 0     \n",
       "31 Dependents        Loan_Amount_Term  -0.1216006846 0     \n",
       "32 Self_Employed     Loan_Amount_Term  -0.0414489500 0     \n",
       "33 Credit_History    Loan_Amount_Term   0.0070928424 0     \n",
       "34 Property_Area     Loan_Amount_Term   0.0562619925 0     \n",
       "35 CoapplicantIncome Loan_Amount_Term  -0.0124348906 0     \n",
       "36 LoanAmount        Loan_Amount_Term   0.0385149043 0     \n",
       "37 Loan_Status       Amauntxterm        0.0214656712 0     \n",
       "38 Gender            Amauntxterm        0.0784835203 0     \n",
       "39 Dependents        Amauntxterm       -0.0473979632 0     \n",
       "40 Self_Employed     Amauntxterm        0.0652344866 0     \n",
       "41 Credit_History    Amauntxterm        0.0272358325 0     \n",
       "42 Property_Area     Amauntxterm       -0.0979830150 0     \n",
       "43 CoapplicantIncome Amauntxterm        0.1161263492 0     \n",
       "44 LoanAmount        Amauntxterm       -0.2465897836 0     \n",
       "45 Loan_Amount_Term  Amauntxterm       -0.2044632390 0     \n",
       "46 Loan_Status       Income            -0.0041623411 0     \n",
       "47 Gender            Income             0.0743914068 0     \n",
       "48 Dependents        Income             0.1406669377 0     \n",
       "49 Self_Employed     Income             0.1978655085 0     \n",
       "50 Credit_History    Income             0.0371803101 0     \n",
       "51 Property_Area     Income             0.0050842752 0     \n",
       "52 CoapplicantIncome Income            -0.3200556581 0     \n",
       "53 LoanAmount        Income             0.5017547642 0     \n",
       "54 Loan_Amount_Term  Income            -0.0402918659 0     \n",
       "55 Amauntxterm       Income             0.2922176117 0     "
      ]
     },
     "metadata": {},
     "output_type": "display_data"
    }
   ],
   "source": [
    "# recodificacion manual\n",
    "\n",
    "## ojo: siempre y cuando aplique realizarlo\n",
    "\n",
    "## ver correlacion antes de categorizar\n",
    "\n",
    "source(\"./funciones.R\")\n",
    "\n",
    "corre <- cor(data_train,method = c(\"spearman\"))\n",
    "\n",
    "## colocamos la primera funcion de correlacion\n",
    "corre <- correlacionS(corre)\n",
    "\n",
    "corre$filtro <- ifelse(abs(corre$cor)>0.6,1,0)\n",
    "\n",
    "corre"
   ]
  },
  {
   "cell_type": "code",
   "execution_count": 8,
   "metadata": {},
   "outputs": [
    {
     "data": {
      "text/plain": [
       " Loan_Status Gender  Dependents Self_Employed Credit_History Property_Area\n",
       " 0:192       1:112   1:360      1:532         1: 89          1:381        \n",
       " 1:422       2:502   2:102      2: 82         2:525          2:233        \n",
       "                     3:101                                                \n",
       "                     4: 51                                                \n",
       "                                                                          \n",
       "                                                                          \n",
       " CoapplicantIncome   LoanAmount    Loan_Amount_Term  Amauntxterm    \n",
       " Min.   :    0     Min.   :  9.0   Min.   : 12.0    Min.   : 12.09  \n",
       " 1st Qu.:    0     1st Qu.:100.2   1st Qu.:360.0    1st Qu.: 35.53  \n",
       " Median : 1188     Median :125.0   Median :360.0    Median : 41.46  \n",
       " Mean   : 1621     Mean   :145.5   Mean   :342.4    Mean   : 51.31  \n",
       " 3rd Qu.: 2297     3rd Qu.:164.8   3rd Qu.:360.0    3rd Qu.: 52.15  \n",
       " Max.   :41667     Max.   :700.0   Max.   :480.0    Max.   :396.37  \n",
       "     Income     \n",
       " Min.   :  150  \n",
       " 1st Qu.: 2878  \n",
       " Median : 3812  \n",
       " Mean   : 5403  \n",
       " 3rd Qu.: 5795  \n",
       " Max.   :81000  "
      ]
     },
     "metadata": {},
     "output_type": "display_data"
    }
   ],
   "source": [
    "write.csv(corre,\"correlacion_variables.csv\",row.names = F)\n",
    "\n",
    "# categorizando a factor\n",
    "\n",
    "data_train[,1:ncol(cualis)] <- lapply(data_train[,1:ncol(cualis)],as.factor)\n",
    "\n",
    "summary(data_train)"
   ]
  },
  {
   "cell_type": "code",
   "execution_count": 9,
   "metadata": {},
   "outputs": [
    {
     "data": {
      "text/html": [
       "<table>\n",
       "<thead><tr><th scope=col>names.data_train.</th></tr></thead>\n",
       "<tbody>\n",
       "\t<tr><td>Loan_Status      </td></tr>\n",
       "\t<tr><td>Gender           </td></tr>\n",
       "\t<tr><td>Dependents       </td></tr>\n",
       "\t<tr><td>Self_Employed    </td></tr>\n",
       "\t<tr><td>Credit_History   </td></tr>\n",
       "\t<tr><td>Property_Area    </td></tr>\n",
       "\t<tr><td>CoapplicantIncome</td></tr>\n",
       "\t<tr><td>LoanAmount       </td></tr>\n",
       "\t<tr><td>Loan_Amount_Term </td></tr>\n",
       "\t<tr><td>Amauntxterm      </td></tr>\n",
       "\t<tr><td>Income           </td></tr>\n",
       "</tbody>\n",
       "</table>\n"
      ],
      "text/latex": [
       "\\begin{tabular}{r|l}\n",
       " names.data\\_train.\\\\\n",
       "\\hline\n",
       "\t Loan\\_Status      \\\\\n",
       "\t Gender           \\\\\n",
       "\t Dependents       \\\\\n",
       "\t Self\\_Employed    \\\\\n",
       "\t Credit\\_History   \\\\\n",
       "\t Property\\_Area    \\\\\n",
       "\t CoapplicantIncome\\\\\n",
       "\t LoanAmount       \\\\\n",
       "\t Loan\\_Amount\\_Term \\\\\n",
       "\t Amauntxterm      \\\\\n",
       "\t Income           \\\\\n",
       "\\end{tabular}\n"
      ],
      "text/markdown": [
       "\n",
       "| names.data_train. |\n",
       "|---|\n",
       "| Loan_Status       |\n",
       "| Gender            |\n",
       "| Dependents        |\n",
       "| Self_Employed     |\n",
       "| Credit_History    |\n",
       "| Property_Area     |\n",
       "| CoapplicantIncome |\n",
       "| LoanAmount        |\n",
       "| Loan_Amount_Term  |\n",
       "| Amauntxterm       |\n",
       "| Income            |\n",
       "\n"
      ],
      "text/plain": [
       "   names.data_train.\n",
       "1  Loan_Status      \n",
       "2  Gender           \n",
       "3  Dependents       \n",
       "4  Self_Employed    \n",
       "5  Credit_History   \n",
       "6  Property_Area    \n",
       "7  CoapplicantIncome\n",
       "8  LoanAmount       \n",
       "9  Loan_Amount_Term \n",
       "10 Amauntxterm      \n",
       "11 Income           "
      ]
     },
     "metadata": {},
     "output_type": "display_data"
    }
   ],
   "source": [
    "## primer modelo regresion multiple ##\n",
    "\n",
    "# retiramos la variable correlacionada\n",
    "\n",
    "data.frame(names(data_train))"
   ]
  },
  {
   "cell_type": "code",
   "execution_count": 10,
   "metadata": {},
   "outputs": [
    {
     "data": {
      "text/html": [
       "<table>\n",
       "<thead><tr><th scope=col>variable</th><th scope=col>SSE</th><th scope=col>correlacion</th></tr></thead>\n",
       "<tbody>\n",
       "\t<tr><td>regresion </td><td>6137184465</td><td>0.8929965 </td></tr>\n",
       "</tbody>\n",
       "</table>\n"
      ],
      "text/latex": [
       "\\begin{tabular}{r|lll}\n",
       " variable & SSE & correlacion\\\\\n",
       "\\hline\n",
       "\t regresion  & 6137184465 & 0.8929965 \\\\\n",
       "\\end{tabular}\n"
      ],
      "text/markdown": [
       "\n",
       "| variable | SSE | correlacion |\n",
       "|---|---|---|\n",
       "| regresion  | 6137184465 | 0.8929965  |\n",
       "\n"
      ],
      "text/plain": [
       "  variable  SSE        correlacion\n",
       "1 regresion 6137184465 0.8929965  "
      ]
     },
     "metadata": {},
     "output_type": "display_data"
    }
   ],
   "source": [
    "formula <-    Income ~\n",
    "  #Loan_Status+\n",
    "  #     Gender+\n",
    "  # Dependents+\n",
    "  #Self_Employed+\n",
    "  # Credit_History+\n",
    "  # Property_Area+\n",
    "  CoapplicantIncome+\n",
    "  LoanAmount+\n",
    "  Loan_Amount_Term+\n",
    "  Amauntxterm\n",
    "\n",
    "\n",
    "modelo1 <- glm(formula,data=data_train,gaussian(link = \"identity\"))\n",
    "\n",
    "# indicadores mediante la segunda funcion\n",
    "calcula_indicadores(modelo1)"
   ]
  },
  {
   "cell_type": "code",
   "execution_count": 11,
   "metadata": {},
   "outputs": [
    {
     "data": {
      "text/html": [
       "<table>\n",
       "<thead><tr><th scope=col>variable2</th><th scope=col>pesos</th></tr></thead>\n",
       "<tbody>\n",
       "\t<tr><td>Loan_Amount_Ter </td><td> 0.1094597      </td></tr>\n",
       "\t<tr><td>CoapplicantIncom</td><td>16.0623489      </td></tr>\n",
       "\t<tr><td>Amauntxter      </td><td>34.7335041      </td></tr>\n",
       "\t<tr><td>LoanAmoun       </td><td>49.0946874      </td></tr>\n",
       "</tbody>\n",
       "</table>\n"
      ],
      "text/latex": [
       "\\begin{tabular}{r|ll}\n",
       " variable2 & pesos\\\\\n",
       "\\hline\n",
       "\t Loan\\_Amount\\_Ter  &  0.1094597          \\\\\n",
       "\t CoapplicantIncom & 16.0623489      \\\\\n",
       "\t Amauntxter       & 34.7335041      \\\\\n",
       "\t LoanAmoun        & 49.0946874      \\\\\n",
       "\\end{tabular}\n"
      ],
      "text/markdown": [
       "\n",
       "| variable2 | pesos |\n",
       "|---|---|\n",
       "| Loan_Amount_Ter  |  0.1094597       |\n",
       "| CoapplicantIncom | 16.0623489       |\n",
       "| Amauntxter       | 34.7335041       |\n",
       "| LoanAmoun        | 49.0946874       |\n",
       "\n"
      ],
      "text/plain": [
       "  variable2        pesos     \n",
       "1 Loan_Amount_Ter   0.1094597\n",
       "2 CoapplicantIncom 16.0623489\n",
       "3 Amauntxter       34.7335041\n",
       "4 LoanAmoun        49.0946874"
      ]
     },
     "metadata": {},
     "output_type": "display_data"
    }
   ],
   "source": [
    "# pesos del modelo importancia mediante la tercera funcion\n",
    "pesos(modelo1)"
   ]
  },
  {
   "cell_type": "code",
   "execution_count": 12,
   "metadata": {},
   "outputs": [
    {
     "data": {
      "text/plain": [
       "\n",
       "Call:\n",
       "glm(formula = formula, family = gaussian(link = \"identity\"), \n",
       "    data = data_train)\n",
       "\n",
       "Deviance Residuals: \n",
       "   Min      1Q  Median      3Q     Max  \n",
       "-18996    -357     307     654   44902  \n",
       "\n",
       "Coefficients:\n",
       "                    Estimate Std. Error t value Pr(>|t|)    \n",
       "(Intercept)       -5.071e+03  7.716e+02  -6.572 1.07e-10 ***\n",
       "CoapplicantIncome -9.062e-01  4.701e-02 -19.278  < 2e-16 ***\n",
       "LoanAmount         5.341e+01  1.585e+00  33.703  < 2e-16 ***\n",
       "Loan_Amount_Term  -3.188e+00  2.003e+00  -1.591    0.112    \n",
       "Amauntxterm        1.026e+02  3.619e+00  28.349  < 2e-16 ***\n",
       "---\n",
       "Signif. codes:  0 '***' 0.001 '**' 0.01 '*' 0.05 '.' 0.1 ' ' 1\n",
       "\n",
       "(Dispersion parameter for gaussian family taken to be 10077479)\n",
       "\n",
       "    Null deviance: 2.2877e+10  on 613  degrees of freedom\n",
       "Residual deviance: 6.1372e+09  on 609  degrees of freedom\n",
       "AIC: 11651\n",
       "\n",
       "Number of Fisher Scoring iterations: 2\n"
      ]
     },
     "metadata": {},
     "output_type": "display_data"
    }
   ],
   "source": [
    "# ver la significancia del modelo\n",
    "summary(modelo1)"
   ]
  },
  {
   "cell_type": "code",
   "execution_count": 13,
   "metadata": {},
   "outputs": [
    {
     "data": {
      "text/html": [
       "<table>\n",
       "<thead><tr><th scope=col>variable</th><th scope=col>SSE</th><th scope=col>correlacion</th></tr></thead>\n",
       "<tbody>\n",
       "\t<tr><td>regresion </td><td>6162706824</td><td>0.8966708 </td></tr>\n",
       "</tbody>\n",
       "</table>\n"
      ],
      "text/latex": [
       "\\begin{tabular}{r|lll}\n",
       " variable & SSE & correlacion\\\\\n",
       "\\hline\n",
       "\t regresion  & 6162706824 & 0.8966708 \\\\\n",
       "\\end{tabular}\n"
      ],
      "text/markdown": [
       "\n",
       "| variable | SSE | correlacion |\n",
       "|---|---|---|\n",
       "| regresion  | 6162706824 | 0.8966708  |\n",
       "\n"
      ],
      "text/plain": [
       "  variable  SSE        correlacion\n",
       "1 regresion 6162706824 0.8966708  "
      ]
     },
     "metadata": {},
     "output_type": "display_data"
    }
   ],
   "source": [
    "## reajustando\n",
    "\n",
    "formula <-    Income ~\n",
    "  CoapplicantIncome+\n",
    "  LoanAmount+\n",
    "  Amauntxterm\n",
    "\n",
    "modelo2 <- glm(formula,data=data_train,gaussian(link = \"identity\"))\n",
    "\n",
    "# indicadores mediante la segunda funcion\n",
    "calcula_indicadores(modelo2)"
   ]
  },
  {
   "cell_type": "code",
   "execution_count": 14,
   "metadata": {},
   "outputs": [
    {
     "data": {
      "text/html": [
       "<table>\n",
       "<thead><tr><th scope=col>variable2</th><th scope=col>pesos</th></tr></thead>\n",
       "<tbody>\n",
       "\t<tr><td>CoapplicantIncom</td><td>15.93867        </td></tr>\n",
       "\t<tr><td>Amauntxter      </td><td>35.20294        </td></tr>\n",
       "\t<tr><td>LoanAmoun       </td><td>48.85838        </td></tr>\n",
       "</tbody>\n",
       "</table>\n"
      ],
      "text/latex": [
       "\\begin{tabular}{r|ll}\n",
       " variable2 & pesos\\\\\n",
       "\\hline\n",
       "\t CoapplicantIncom & 15.93867        \\\\\n",
       "\t Amauntxter       & 35.20294        \\\\\n",
       "\t LoanAmoun        & 48.85838        \\\\\n",
       "\\end{tabular}\n"
      ],
      "text/markdown": [
       "\n",
       "| variable2 | pesos |\n",
       "|---|---|\n",
       "| CoapplicantIncom | 15.93867         |\n",
       "| Amauntxter       | 35.20294         |\n",
       "| LoanAmoun        | 48.85838         |\n",
       "\n"
      ],
      "text/plain": [
       "  variable2        pesos   \n",
       "1 CoapplicantIncom 15.93867\n",
       "2 Amauntxter       35.20294\n",
       "3 LoanAmoun        48.85838"
      ]
     },
     "metadata": {},
     "output_type": "display_data"
    }
   ],
   "source": [
    "# pesos del modelo importancia mediante la tercera funcion\n",
    "pesos(modelo2)"
   ]
  },
  {
   "cell_type": "code",
   "execution_count": 15,
   "metadata": {},
   "outputs": [
    {
     "data": {
      "text/plain": [
       "\n",
       "Call:\n",
       "glm(formula = formula, family = gaussian(link = \"identity\"), \n",
       "    data = data_train)\n",
       "\n",
       "Deviance Residuals: \n",
       "   Min      1Q  Median      3Q     Max  \n",
       "-19160    -347     307     609   44785  \n",
       "\n",
       "Coefficients:\n",
       "                    Estimate Std. Error t value Pr(>|t|)    \n",
       "(Intercept)       -6.180e+03  3.315e+02  -18.64   <2e-16 ***\n",
       "CoapplicantIncome -9.033e-01  4.703e-02  -19.21   <2e-16 ***\n",
       "LoanAmount         5.333e+01  1.586e+00   33.63   <2e-16 ***\n",
       "Amauntxterm        1.031e+02  3.611e+00   28.54   <2e-16 ***\n",
       "---\n",
       "Signif. codes:  0 '***' 0.001 '**' 0.01 '*' 0.05 '.' 0.1 ' ' 1\n",
       "\n",
       "(Dispersion parameter for gaussian family taken to be 10102798)\n",
       "\n",
       "    Null deviance: 2.2877e+10  on 613  degrees of freedom\n",
       "Residual deviance: 6.1627e+09  on 610  degrees of freedom\n",
       "AIC: 11651\n",
       "\n",
       "Number of Fisher Scoring iterations: 2\n"
      ]
     },
     "metadata": {},
     "output_type": "display_data"
    }
   ],
   "source": [
    "# ver la significancia del modelo\n",
    "summary(modelo2)"
   ]
  },
  {
   "cell_type": "code",
   "execution_count": 16,
   "metadata": {},
   "outputs": [
    {
     "data": {
      "image/png": "[encoded data removed]",
      "text/plain": [
       "plot without title"
      ]
     },
     "metadata": {},
     "output_type": "display_data"
    }
   ],
   "source": [
    "# Obtenemos los valores ajustados o predichos\n",
    "estimados <- modelo2$fitted.values\n",
    "\n",
    "ggplot(data = data_train, aes(x = LoanAmount, y = Income)) + geom_point(color = \"red\") +\n",
    "  geom_line(aes(y = estimados), color = \"blue\") +\n",
    "  geom_segment(aes(x = LoanAmount, xend = LoanAmount, y = Income, yend = estimados, color=\"Distancia\"), color = \"grey80\") +\n",
    "  labs(xlab = \"LoanAmount\", ylab = \"ingresos\") + \n",
    "  theme_bw()"
   ]
  },
  {
   "cell_type": "markdown",
   "metadata": {},
   "source": [
    "# Sesion 2\n",
    "Se debe de ver como si fuera un espejo.\n",
    "\n",
    "En este modelo hay un problema de linealidad, porque no hay esa proporcion"
   ]
  },
  {
   "cell_type": "code",
   "execution_count": 17,
   "metadata": {},
   "outputs": [
    {
     "data": {
      "image/png": "[encoded data removed]",
      "text/plain": [
       "plot without title"
      ]
     },
     "metadata": {},
     "output_type": "display_data"
    }
   ],
   "source": [
    "plot(modelo2$residuals)"
   ]
  },
  {
   "cell_type": "code",
   "execution_count": 18,
   "metadata": {},
   "outputs": [
    {
     "data": {
      "image/png": "[encoded data removed]",
      "text/plain": [
       "plot without title"
      ]
     },
     "metadata": {},
     "output_type": "display_data"
    }
   ],
   "source": [
    "plot(modelo2$fitted.values,modelo2$residuals)"
   ]
  },
  {
   "cell_type": "markdown",
   "metadata": {},
   "source": [
    "## Test de Shapiro-Wilk\n",
    "El valor de la data proviene de una distribucion nomal.\n",
    "\n",
    "Si nos da un p-value pequeño, rechazamos la hipotesis nula. <0.5\n",
    "\n",
    "No proviene de una distribucion normal, en este caso\n",
    "\n",
    "Ho <- La data proviene de una distribucion normal"
   ]
  },
  {
   "cell_type": "code",
   "execution_count": 19,
   "metadata": {},
   "outputs": [
    {
     "data": {
      "text/plain": [
       "\n",
       "\tShapiro-Wilk normality test\n",
       "\n",
       "data:  modelo2$residuals\n",
       "W = 0.46728, p-value < 2.2e-16\n"
      ]
     },
     "metadata": {},
     "output_type": "display_data"
    }
   ],
   "source": [
    "## Test de Shapiro-Wilk\n",
    "shapiro.test(x = modelo2$residuals)"
   ]
  },
  {
   "cell_type": "markdown",
   "metadata": {},
   "source": [
    "## Test de Kolmogorov-Smirnov\n",
    "Si el valor es pequeño, se rechaza la hipotesis nula"
   ]
  },
  {
   "cell_type": "code",
   "execution_count": 20,
   "metadata": {},
   "outputs": [
    {
     "name": "stderr",
     "output_type": "stream",
     "text": [
      "Warning message in ks.test(x = modelo2$residuals, \"pnorm\"):\n",
      "\"ties should not be present for the Kolmogorov-Smirnov test\""
     ]
    },
    {
     "data": {
      "text/plain": [
       "\n",
       "\tOne-sample Kolmogorov-Smirnov test\n",
       "\n",
       "data:  modelo2$residuals\n",
       "D = 0.65308, p-value < 2.2e-16\n",
       "alternative hypothesis: two-sided\n"
      ]
     },
     "metadata": {},
     "output_type": "display_data"
    }
   ],
   "source": [
    "## Test de Kolmogorov-Smirnov\n",
    "ks.test(x = modelo2$residuals,\"pnorm\")"
   ]
  },
  {
   "cell_type": "code",
   "execution_count": 21,
   "metadata": {},
   "outputs": [
    {
     "data": {
      "text/plain": [
       "\n",
       "\tLilliefors (Kolmogorov-Smirnov) normality test\n",
       "\n",
       "data:  modelo2$residuals\n",
       "D = 0.28304, p-value < 2.2e-16\n"
      ]
     },
     "metadata": {},
     "output_type": "display_data"
    }
   ],
   "source": [
    "## modificaci?n de Lillefors\n",
    "lillie.test(x = modelo2$residuals)"
   ]
  },
  {
   "cell_type": "code",
   "execution_count": 22,
   "metadata": {},
   "outputs": [
    {
     "data": {
      "text/plain": [
       "\n",
       "\tJarque Bera Test\n",
       "\n",
       "data:  modelo2$residuals\n",
       "X-squared = 176258, df = 2, p-value < 2.2e-16\n"
      ]
     },
     "metadata": {},
     "output_type": "display_data"
    }
   ],
   "source": [
    "## Test de Jarque-Bera\n",
    "jarque.bera.test(x = modelo2$residuals)"
   ]
  }
 ],
 "metadata": {
  "kernelspec": {
   "display_name": "R",
   "language": "R",
   "name": "ir"
  },
  "language_info": {
   "codemirror_mode": "r",
   "file_extension": ".r",
   "mimetype": "text/x-r-source",
   "name": "R",
   "pygments_lexer": "r",
   "version": "3.6.1"
  }
 },
 "nbformat": 4,
 "nbformat_minor": 4
}
