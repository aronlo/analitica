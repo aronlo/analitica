{
 "cells": [
  {
   "cell_type": "code",
   "execution_count": 13,
   "metadata": {},
   "outputs": [
    {
     "name": "stderr",
     "output_type": "stream",
     "text": [
      "Warning message:\n",
      "\"package 'sqldf' was built under R version 3.6.3\"Warning message:\n",
      "\"package 'RSQLite' was built under R version 3.6.3\"Error: package or namespace load failed for 'RSQLite' in loadNamespace(j <- i[[1L]], c(lib.loc, .libPaths()), versionCheck = vI[[j]]):\n",
      " namespace 'blob' 1.1.1 is being loaded, but >= 1.2.0 is required\n"
     ]
    },
    {
     "name": "stdout",
     "output_type": "stream",
     "text": [
      "\n",
      "Bellow Packages Successfully Installed:\n",
      "\n",
      "      rminer      lattice        sqldf         DMwR        caret          C50 \n",
      "        TRUE         TRUE        FALSE         TRUE         TRUE         TRUE \n",
      "randomForest \n",
      "        TRUE \n"
     ]
    }
   ],
   "source": [
    "rm(list=ls())\n",
    "\n",
    "#########################################################################\n",
    "### -- ANALÍTICA PREDICTIVA DE DATOS -- ## \n",
    "#########################################################################\n",
    "### Autores: Jose Cardenas - Jose Taquia ## \n",
    "#########################################################################\n",
    "\n",
    "#########################################################################\n",
    "\n",
    "\n",
    "source(\"./ins_paquetes.R\")\n",
    "\n",
    "ins_paquetes('rminer','lattice','sqldf','DMwR','caret','C50','randomForest')"
   ]
  },
  {
   "cell_type": "code",
   "execution_count": 14,
   "metadata": {},
   "outputs": [
    {
     "name": "stderr",
     "output_type": "stream",
     "text": [
      "Warning message:\n",
      "\"package 'sqldf' was built under R version 3.6.3\"Loading required package: RSQLite\n",
      "Warning message:\n",
      "\"package 'RSQLite' was built under R version 3.6.3\"Error: package or namespace load failed for 'RSQLite' in loadNamespace(j <- i[[1L]], c(lib.loc, .libPaths()), versionCheck = vI[[j]]):\n",
      " namespace 'blob' 1.1.1 is being loaded, but >= 1.2.0 is required\n"
     ]
    },
    {
     "ename": "ERROR",
     "evalue": "Error: package 'RSQLite' could not be loaded\n",
     "output_type": "error",
     "traceback": [
      "Error: package 'RSQLite' could not be loaded\nTraceback:\n",
      "1. library(sqldf)",
      "2. .getRequiredPackages2(pkgInfo, quietly = quietly)",
      "3. stop(gettextf(\"package %s could not be loaded\", sQuote(pkg)), \n .     call. = FALSE, domain = NA)"
     ]
    }
   ],
   "source": [
    "########### 1) LIBRERIAS A UTILIZAR ################# \n",
    "\n",
    "library(dplyr)\n",
    "library(MLmetrics)\n",
    "library(party)\n",
    "library(rminer)\n",
    "library(lattice)\n",
    "library(mlr)\n",
    "library(sqldf)\n",
    "library(ggplot2)\n",
    "library(DMwR)\n",
    "library(caret)\n",
    "library(C50)\n",
    "library(rpart)\n",
    "library(randomForest)"
   ]
  },
  {
   "cell_type": "code",
   "execution_count": 15,
   "metadata": {},
   "outputs": [],
   "source": [
    "########### 2) DATA A UTILIZAR ################# \n",
    "\n",
    "train <- read.csv(\"./datasets/german_credit_data_train.csv\")"
   ]
  },
  {
   "cell_type": "code",
   "execution_count": 16,
   "metadata": {},
   "outputs": [
    {
     "data": {
      "text/html": [
       "<table>\n",
       "<thead><tr><th scope=col>name</th><th scope=col>type</th><th scope=col>na</th><th scope=col>mean</th><th scope=col>disp</th><th scope=col>median</th><th scope=col>mad</th><th scope=col>min</th><th scope=col>max</th><th scope=col>nlevs</th></tr></thead>\n",
       "<tbody>\n",
       "\t<tr><td>Age             </td><td>integer         </td><td>  0             </td><td>  35.546000     </td><td>  11.3754686    </td><td>  33.0          </td><td>  10.3782       </td><td> 19             </td><td>   75           </td><td>0               </td></tr>\n",
       "\t<tr><td>Sex             </td><td>factor          </td><td>  0             </td><td>         NA     </td><td>   0.3100000    </td><td>    NA          </td><td>       NA       </td><td>310             </td><td>  690           </td><td>2               </td></tr>\n",
       "\t<tr><td>Job             </td><td>integer         </td><td>  1             </td><td>   1.904905     </td><td>   0.6533143    </td><td>   2.0          </td><td>   0.0000       </td><td>  0             </td><td>    3           </td><td>0               </td></tr>\n",
       "\t<tr><td>Housing         </td><td>factor          </td><td>  0             </td><td>         NA     </td><td>   0.2870000    </td><td>    NA          </td><td>       NA       </td><td>108             </td><td>  713           </td><td>3               </td></tr>\n",
       "\t<tr><td>Saving_accounts </td><td>factor          </td><td>182             </td><td>         NA     </td><td>          NA    </td><td>    NA          </td><td>       NA       </td><td>  1             </td><td>  603           </td><td>5               </td></tr>\n",
       "\t<tr><td>Checking_account</td><td>factor          </td><td>394             </td><td>         NA     </td><td>          NA    </td><td>    NA          </td><td>       NA       </td><td> 63             </td><td>  274           </td><td>3               </td></tr>\n",
       "\t<tr><td>Credit_amount   </td><td>integer         </td><td>  0             </td><td>3271.258000     </td><td>2822.7368760    </td><td>2319.5          </td><td>1627.1535       </td><td>250             </td><td>18424           </td><td>0               </td></tr>\n",
       "\t<tr><td>Duration        </td><td>integer         </td><td>  0             </td><td>  20.903000     </td><td>  12.0588145    </td><td>  18.0          </td><td>   8.8956       </td><td>  4             </td><td>   72           </td><td>0               </td></tr>\n",
       "\t<tr><td>Purpose         </td><td>factor          </td><td>  0             </td><td>         NA     </td><td>   0.6630000    </td><td>    NA          </td><td>       NA       </td><td> 12             </td><td>  337           </td><td>8               </td></tr>\n",
       "\t<tr><td>Risk            </td><td>factor          </td><td>  0             </td><td>         NA     </td><td>   0.3000000    </td><td>    NA          </td><td>       NA       </td><td>300             </td><td>  700           </td><td>2               </td></tr>\n",
       "</tbody>\n",
       "</table>\n"
      ],
      "text/latex": [
       "\\begin{tabular}{r|llllllllll}\n",
       " name & type & na & mean & disp & median & mad & min & max & nlevs\\\\\n",
       "\\hline\n",
       "\t Age              & integer          &   0              &   35.546000      &   11.3754686     &   33.0           &   10.3782        &  19              &    75            & 0               \\\\\n",
       "\t Sex              & factor           &   0              &          NA      &    0.3100000     &     NA           &        NA        & 310              &   690            & 2               \\\\\n",
       "\t Job              & integer          &   1              &    1.904905      &    0.6533143     &    2.0           &    0.0000        &   0              &     3            & 0               \\\\\n",
       "\t Housing          & factor           &   0              &          NA      &    0.2870000     &     NA           &        NA        & 108              &   713            & 3               \\\\\n",
       "\t Saving\\_accounts  & factor             & 182                &          NA        &           NA       &     NA             &        NA          &   1                &   603              & 5                 \\\\\n",
       "\t Checking\\_account & factor             & 394                &          NA        &           NA       &     NA             &        NA          &  63                &   274              & 3                 \\\\\n",
       "\t Credit\\_amount    & integer            &   0                & 3271.258000        & 2822.7368760       & 2319.5             & 1627.1535          & 250                & 18424              & 0                 \\\\\n",
       "\t Duration         & integer          &   0              &   20.903000      &   12.0588145     &   18.0           &    8.8956        &   4              &    72            & 0               \\\\\n",
       "\t Purpose          & factor           &   0              &          NA      &    0.6630000     &     NA           &        NA        &  12              &   337            & 8               \\\\\n",
       "\t Risk             & factor           &   0              &          NA      &    0.3000000     &     NA           &        NA        & 300              &   700            & 2               \\\\\n",
       "\\end{tabular}\n"
      ],
      "text/markdown": [
       "\n",
       "| name | type | na | mean | disp | median | mad | min | max | nlevs |\n",
       "|---|---|---|---|---|---|---|---|---|---|\n",
       "| Age              | integer          |   0              |   35.546000      |   11.3754686     |   33.0           |   10.3782        |  19              |    75            | 0                |\n",
       "| Sex              | factor           |   0              |          NA      |    0.3100000     |     NA           |        NA        | 310              |   690            | 2                |\n",
       "| Job              | integer          |   1              |    1.904905      |    0.6533143     |    2.0           |    0.0000        |   0              |     3            | 0                |\n",
       "| Housing          | factor           |   0              |          NA      |    0.2870000     |     NA           |        NA        | 108              |   713            | 3                |\n",
       "| Saving_accounts  | factor           | 182              |          NA      |           NA     |     NA           |        NA        |   1              |   603            | 5                |\n",
       "| Checking_account | factor           | 394              |          NA      |           NA     |     NA           |        NA        |  63              |   274            | 3                |\n",
       "| Credit_amount    | integer          |   0              | 3271.258000      | 2822.7368760     | 2319.5           | 1627.1535        | 250              | 18424            | 0                |\n",
       "| Duration         | integer          |   0              |   20.903000      |   12.0588145     |   18.0           |    8.8956        |   4              |    72            | 0                |\n",
       "| Purpose          | factor           |   0              |          NA      |    0.6630000     |     NA           |        NA        |  12              |   337            | 8                |\n",
       "| Risk             | factor           |   0              |          NA      |    0.3000000     |     NA           |        NA        | 300              |   700            | 2                |\n",
       "\n"
      ],
      "text/plain": [
       "   name             type    na  mean        disp         median mad       min\n",
       "1  Age              integer   0   35.546000   11.3754686   33.0   10.3782  19\n",
       "2  Sex              factor    0          NA    0.3100000     NA        NA 310\n",
       "3  Job              integer   1    1.904905    0.6533143    2.0    0.0000   0\n",
       "4  Housing          factor    0          NA    0.2870000     NA        NA 108\n",
       "5  Saving_accounts  factor  182          NA           NA     NA        NA   1\n",
       "6  Checking_account factor  394          NA           NA     NA        NA  63\n",
       "7  Credit_amount    integer   0 3271.258000 2822.7368760 2319.5 1627.1535 250\n",
       "8  Duration         integer   0   20.903000   12.0588145   18.0    8.8956   4\n",
       "9  Purpose          factor    0          NA    0.6630000     NA        NA  12\n",
       "10 Risk             factor    0          NA    0.3000000     NA        NA 300\n",
       "   max   nlevs\n",
       "1     75 0    \n",
       "2    690 2    \n",
       "3      3 0    \n",
       "4    713 3    \n",
       "5    603 5    \n",
       "6    274 3    \n",
       "7  18424 0    \n",
       "8     72 0    \n",
       "9    337 8    \n",
       "10   700 2    "
      ]
     },
     "metadata": {},
     "output_type": "display_data"
    }
   ],
   "source": [
    "########### 3) TRATAMIENTO DE LA DATA ################# \n",
    "\n",
    "## en primer lugar ver el analisis descriptivo de la data\n",
    "\n",
    "resumen <- data.frame(summarizeColumns(train))\n",
    "resumen\n",
    "write.csv(resumen,\"tabla_resumen.csv\")"
   ]
  },
  {
   "cell_type": "code",
   "execution_count": 17,
   "metadata": {},
   "outputs": [
    {
     "data": {
      "text/html": [
       "<table>\n",
       "<thead><tr><th scope=col>Age</th><th scope=col>Sex</th><th scope=col>Job</th><th scope=col>Housing</th><th scope=col>Saving_accounts</th><th scope=col>Checking_account</th><th scope=col>Credit_amount</th><th scope=col>Duration</th><th scope=col>Purpose</th><th scope=col>Risk</th></tr></thead>\n",
       "<tbody>\n",
       "\t<tr><td>67                 </td><td>male               </td><td> 2                 </td><td>own                </td><td>NA                 </td><td>little             </td><td>1169               </td><td> 6                 </td><td>radio/TV           </td><td>good               </td></tr>\n",
       "\t<tr><td>22                 </td><td>female             </td><td> 2                 </td><td>own                </td><td>little             </td><td>moderate           </td><td>5951               </td><td>48                 </td><td>radio/TV           </td><td>bad                </td></tr>\n",
       "\t<tr><td>49                 </td><td>male               </td><td> 1                 </td><td>own                </td><td>little             </td><td>NA                 </td><td>2096               </td><td>12                 </td><td>education          </td><td>good               </td></tr>\n",
       "\t<tr><td>45                 </td><td>male               </td><td> 2                 </td><td>free               </td><td>little             </td><td>little             </td><td>7882               </td><td>42                 </td><td>furniture/equipment</td><td>good               </td></tr>\n",
       "\t<tr><td>53                 </td><td>male               </td><td> 2                 </td><td>free               </td><td>little             </td><td>little             </td><td>4870               </td><td>24                 </td><td>car                </td><td>bad                </td></tr>\n",
       "\t<tr><td>35                 </td><td>male               </td><td>NA                 </td><td>free               </td><td>                   </td><td>NA                 </td><td>9055               </td><td>36                 </td><td>education          </td><td>good               </td></tr>\n",
       "</tbody>\n",
       "</table>\n"
      ],
      "text/latex": [
       "\\begin{tabular}{r|llllllllll}\n",
       " Age & Sex & Job & Housing & Saving\\_accounts & Checking\\_account & Credit\\_amount & Duration & Purpose & Risk\\\\\n",
       "\\hline\n",
       "\t 67                  & male                &  2                  & own                 & NA                  & little              & 1169                &  6                  & radio/TV            & good               \\\\\n",
       "\t 22                  & female              &  2                  & own                 & little              & moderate            & 5951                & 48                  & radio/TV            & bad                \\\\\n",
       "\t 49                  & male                &  1                  & own                 & little              & NA                  & 2096                & 12                  & education           & good               \\\\\n",
       "\t 45                  & male                &  2                  & free                & little              & little              & 7882                & 42                  & furniture/equipment & good               \\\\\n",
       "\t 53                  & male                &  2                  & free                & little              & little              & 4870                & 24                  & car                 & bad                \\\\\n",
       "\t 35                  & male                & NA                  & free                &                     & NA                  & 9055                & 36                  & education           & good               \\\\\n",
       "\\end{tabular}\n"
      ],
      "text/markdown": [
       "\n",
       "| Age | Sex | Job | Housing | Saving_accounts | Checking_account | Credit_amount | Duration | Purpose | Risk |\n",
       "|---|---|---|---|---|---|---|---|---|---|\n",
       "| 67                  | male                |  2                  | own                 | NA                  | little              | 1169                |  6                  | radio/TV            | good                |\n",
       "| 22                  | female              |  2                  | own                 | little              | moderate            | 5951                | 48                  | radio/TV            | bad                 |\n",
       "| 49                  | male                |  1                  | own                 | little              | NA                  | 2096                | 12                  | education           | good                |\n",
       "| 45                  | male                |  2                  | free                | little              | little              | 7882                | 42                  | furniture/equipment | good                |\n",
       "| 53                  | male                |  2                  | free                | little              | little              | 4870                | 24                  | car                 | bad                 |\n",
       "| 35                  | male                | NA                  | free                |                     | NA                  | 9055                | 36                  | education           | good                |\n",
       "\n"
      ],
      "text/plain": [
       "  Age Sex    Job Housing Saving_accounts Checking_account Credit_amount\n",
       "1 67  male    2  own     NA              little           1169         \n",
       "2 22  female  2  own     little          moderate         5951         \n",
       "3 49  male    1  own     little          NA               2096         \n",
       "4 45  male    2  free    little          little           7882         \n",
       "5 53  male    2  free    little          little           4870         \n",
       "6 35  male   NA  free                    NA               9055         \n",
       "  Duration Purpose             Risk\n",
       "1  6       radio/TV            good\n",
       "2 48       radio/TV            bad \n",
       "3 12       education           good\n",
       "4 42       furniture/equipment good\n",
       "5 24       car                 bad \n",
       "6 36       education           good"
      ]
     },
     "metadata": {},
     "output_type": "display_data"
    }
   ],
   "source": [
    "########### 4) PRIMER ANALISIS  ################# \n",
    "\n",
    "## generamos una copia de la data original\n",
    "\n",
    "data_train <- train\n",
    "head(data_train)"
   ]
  },
  {
   "cell_type": "code",
   "execution_count": 29,
   "metadata": {},
   "outputs": [],
   "source": [
    "## imputar en primer lugar la data\n",
    "\n",
    "#detach(\"package:e1071\", unload = TRUE)\n",
    "\n",
    "data_train <- mlr::impute(train, classes = list(factor = imputeMode(), \n",
    "                                                  integer = imputeMode(),\n",
    "                                                  numeric = imputeMedian()))\n",
    "data_train <- data_train$data[,1:ncol(train)]"
   ]
  },
  {
   "cell_type": "code",
   "execution_count": 30,
   "metadata": {},
   "outputs": [
    {
     "data": {
      "text/plain": [
       "      Age            Sex           Job        Housing      Saving_accounts\n",
       " Min.   :19.00   female:310   Min.   :0.000   free:108             :  1   \n",
       " 1st Qu.:27.00   male  :690   1st Qu.:2.000   own :713   little    :785   \n",
       " Median :33.00                Median :2.000   rent:179   moderate  :103   \n",
       " Mean   :35.55                Mean   :1.905              quite rich: 63   \n",
       " 3rd Qu.:42.00                3rd Qu.:2.000              rich      : 48   \n",
       " Max.   :75.00                Max.   :3.000                               \n",
       "                                                                          \n",
       " Checking_account Credit_amount      Duration                   Purpose   \n",
       " little  :668     Min.   :  250   Min.   : 4.0   car                :337  \n",
       " moderate:269     1st Qu.: 1366   1st Qu.:12.0   radio/TV           :280  \n",
       " rich    : 63     Median : 2320   Median :18.0   furniture/equipment:181  \n",
       "                  Mean   : 3271   Mean   :20.9   business           : 97  \n",
       "                  3rd Qu.: 3972   3rd Qu.:24.0   education          : 59  \n",
       "                  Max.   :18424   Max.   :72.0   repairs            : 22  \n",
       "                                                 (Other)            : 24  \n",
       "   Risk    \n",
       " bad :300  \n",
       " good:700  \n",
       "           \n",
       "           \n",
       "           \n",
       "           \n",
       "           "
      ]
     },
     "metadata": {},
     "output_type": "display_data"
    }
   ],
   "source": [
    "## luego dar un orden a las variables\n",
    "\n",
    "summary(data_train)\n",
    "cuantis <- data_train %>% select(Age,Credit_amount,Duration)\n",
    "cualis <- data_train %>% select(-Age,-Credit_amount,-Duration)\n",
    "\n",
    "data_train <- cbind(cuantis,cualis)"
   ]
  },
  {
   "cell_type": "code",
   "execution_count": 31,
   "metadata": {},
   "outputs": [],
   "source": [
    "# recodificacion manual\n",
    "data_train$Sex <- ifelse(data_train$Sex=='male',2,1)\n",
    "data_train$Housing <- ifelse(data_train$Housing == 'own',1,\n",
    "                             ifelse(data_train$Housing =='rent', 2,3))\n",
    "data_train$Saving_accounts <- ifelse(data_train$Saving_accounts == 'little',1,\n",
    "                                     ifelse(data_train$Saving_accounts == 'moderate',2,\n",
    "                                            ifelse(data_train$Saving_accounts == 'rich',3,4)))\n",
    "data_train$Checking_account <- ifelse(data_train$Checking_account == 'little',1,\n",
    "                                      ifelse(data_train$Checking_account == 'moderate',2,3))\n",
    "\n",
    "data_train$Purpose <- ifelse(data_train$Purpose == 'car',1,\n",
    "                             ifelse(data_train$Purpose == 'furniture/equipment',2,\n",
    "                                    ifelse(data_train$Purpose == 'radio/TV',3,\n",
    "                                           ifelse(data_train$Purpose == 'domestic appliances',4,\n",
    "                                                  ifelse(data_train$Purpose == 'repairs',5,\n",
    "                                                         ifelse(data_train$Purpose == 'education',6,\n",
    "                                                                ifelse(data_train$Purpose == 'business',7,8)))))))\n",
    "\n",
    "data_train$Risk <- ifelse(data_train$Risk=='bad',1,0)"
   ]
  },
  {
   "cell_type": "code",
   "execution_count": 32,
   "metadata": {},
   "outputs": [
    {
     "data": {
      "text/plain": [
       "      Age        Credit_amount      Duration    Sex     Job     Housing\n",
       " Min.   :19.00   Min.   :  250   Min.   : 4.0   1:310   0: 22   1:713  \n",
       " 1st Qu.:27.00   1st Qu.: 1366   1st Qu.:12.0   2:690   1:199   2:179  \n",
       " Median :33.00   Median : 2320   Median :18.0           2:631   3:108  \n",
       " Mean   :35.55   Mean   : 3271   Mean   :20.9           3:148          \n",
       " 3rd Qu.:42.00   3rd Qu.: 3972   3rd Qu.:24.0                          \n",
       " Max.   :75.00   Max.   :18424   Max.   :72.0                          \n",
       "                                                                       \n",
       " Saving_accounts Checking_account    Purpose    Risk   \n",
       " 1:785           1:668            1      :337   0:700  \n",
       " 2:103           2:269            3      :280   1:300  \n",
       " 3: 48           3: 63            2      :181          \n",
       " 4: 64                            7      : 97          \n",
       "                                  6      : 59          \n",
       "                                  5      : 22          \n",
       "                                  (Other): 24          "
      ]
     },
     "metadata": {},
     "output_type": "display_data"
    },
    {
     "data": {
      "text/plain": [
       "      Age        Credit_amount      Duration    Sex     Job     Housing\n",
       " Min.   :19.00   Min.   :  250   Min.   : 4.0   1:310   0: 22   1:713  \n",
       " 1st Qu.:27.00   1st Qu.: 1366   1st Qu.:12.0   2:690   1:199   2:179  \n",
       " Median :33.00   Median : 2320   Median :18.0           2:631   3:108  \n",
       " Mean   :35.55   Mean   : 3271   Mean   :20.9           3:148          \n",
       " 3rd Qu.:42.00   3rd Qu.: 3972   3rd Qu.:24.0                          \n",
       " Max.   :75.00   Max.   :18424   Max.   :72.0                          \n",
       "                                                                       \n",
       " Saving_accounts Checking_account    Purpose    Risk   \n",
       " 1:785           1:668            1      :337   0:700  \n",
       " 2:103           2:269            3      :280   1:300  \n",
       " 3: 48           3: 63            2      :181          \n",
       " 4: 64                            7      : 97          \n",
       "                                  6      : 59          \n",
       "                                  5      : 22          \n",
       "                                  (Other): 24          "
      ]
     },
     "metadata": {},
     "output_type": "display_data"
    }
   ],
   "source": [
    "# categorizando a factor\n",
    "\n",
    "data_train[,(ncol(cuantis)+1):ncol(data_train)] <- lapply(data_train[,(ncol(cuantis)+1):ncol(data_train)],as.factor)\n",
    "#lapply : Apply a Function over a List or Vector\n",
    "summary(data_train)\n",
    "\n",
    "data_train<-na.omit(data_train)\n",
    "summary(data_train)"
   ]
  },
  {
   "cell_type": "code",
   "execution_count": 33,
   "metadata": {},
   "outputs": [],
   "source": [
    "######### 5) PARTICION MUESTRAL  #################\n",
    "\n",
    "## Particionando la Data\n",
    "\n",
    "set.seed(1234)\n",
    "sample <- createDataPartition(data_train$Risk, p = .70,list = FALSE,times = 1)\n",
    "\n",
    "data.train <- data_train[ sample,]\n",
    "data.test <- data_train[-sample,]"
   ]
  },
  {
   "cell_type": "code",
   "execution_count": 37,
   "metadata": {},
   "outputs": [],
   "source": [
    "######### 6) MODELADO #################\n",
    "\n",
    "# modelo 1.- Random forest\n",
    "\n",
    "modelo1 <- randomForest::randomForest( Risk~.,data = data.train,   # Datos a entrenar \n",
    "                         ntree=50,           # N?mero de ?rboles\n",
    "                         mtry = 3,            # Cantidad de variables\n",
    "                         importance = TRUE,   # Determina la importancia de las variables\n",
    "                         replace=T)\n",
    "\n",
    "# probabilidades\n",
    "proba1 <- predict(modelo1, newdata=data.test,type=\"prob\")\n",
    "proba1 <- proba1[,2]"
   ]
  },
  {
   "cell_type": "code",
   "execution_count": 38,
   "metadata": {},
   "outputs": [],
   "source": [
    "# indicadores para probabilidades\n",
    "GINI_1     <- Gini(proba1,   as.numeric(as.character(data.test$Risk)))\n",
    "ks_1       <- KS_Stat(proba1,as.numeric(as.character(data.test$Risk)))\n",
    "LogLoss_1  <- LogLoss(proba1,as.numeric(as.character(data.test$Risk)))\n",
    "\n",
    "# Calcular los valores predichos\n",
    "PRED <- predict(modelo1, newdata=data.test,type=\"response\")"
   ]
  },
  {
   "cell_type": "code",
   "execution_count": 39,
   "metadata": {},
   "outputs": [
    {
     "data": {
      "text/plain": [
       "Confusion Matrix and Statistics\n",
       "\n",
       "          Reference\n",
       "Prediction   0   1\n",
       "         0 175  64\n",
       "         1  35  26\n",
       "                                         \n",
       "               Accuracy : 0.67           \n",
       "                 95% CI : (0.6136, 0.723)\n",
       "    No Information Rate : 0.7            \n",
       "    P-Value [Acc > NIR] : 0.883683       \n",
       "                                         \n",
       "                  Kappa : 0.1346         \n",
       "                                         \n",
       " Mcnemar's Test P-Value : 0.004891       \n",
       "                                         \n",
       "            Sensitivity : 0.28889        \n",
       "            Specificity : 0.83333        \n",
       "         Pos Pred Value : 0.42623        \n",
       "         Neg Pred Value : 0.73222        \n",
       "             Prevalence : 0.30000        \n",
       "         Detection Rate : 0.08667        \n",
       "   Detection Prevalence : 0.20333        \n",
       "      Balanced Accuracy : 0.56111        \n",
       "                                         \n",
       "       'Positive' Class : 1              \n",
       "                                         "
      ]
     },
     "metadata": {},
     "output_type": "display_data"
    }
   ],
   "source": [
    "# Calcular la matriz de confusion\n",
    "tabla <- confusionMatrix(PRED,data.test$Risk,positive = \"1\")\n",
    "tabla"
   ]
  },
  {
   "cell_type": "code",
   "execution_count": 40,
   "metadata": {},
   "outputs": [],
   "source": [
    "# sensibilidad\n",
    "Sensitivity_1 <- as.numeric(tabla$byClass[1])"
   ]
  },
  {
   "cell_type": "code",
   "execution_count": 41,
   "metadata": {},
   "outputs": [
    {
     "data": {
      "text/html": [
       "<strong>Accuracy:</strong> 0.67"
      ],
      "text/latex": [
       "\\textbf{Accuracy:} 0.67"
      ],
      "text/markdown": [
       "**Accuracy:** 0.67"
      ],
      "text/plain": [
       "Accuracy \n",
       "    0.67 "
      ]
     },
     "metadata": {},
     "output_type": "display_data"
    }
   ],
   "source": [
    "# Precision\n",
    "Accuracy_1 <- tabla$overall[1]\n",
    "Accuracy_1"
   ]
  }
 ],
 "metadata": {
  "kernelspec": {
   "display_name": "R",
   "language": "R",
   "name": "ir"
  },
  "language_info": {
   "codemirror_mode": "r",
   "file_extension": ".r",
   "mimetype": "text/x-r-source",
   "name": "R",
   "pygments_lexer": "r",
   "version": "3.6.1"
  }
 },
 "nbformat": 4,
 "nbformat_minor": 4
}
