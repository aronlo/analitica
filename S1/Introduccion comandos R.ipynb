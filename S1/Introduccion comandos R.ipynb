{
 "cells": [
  {
   "cell_type": "code",
   "execution_count": 1,
   "metadata": {},
   "outputs": [],
   "source": [
    "x <- c(1,2,3)\n",
    "y <- c(4,5,6)\n",
    "z <- c(7,8,9)\n",
    "m <- c(x,y,z)"
   ]
  },
  {
   "cell_type": "code",
   "execution_count": 2,
   "metadata": {},
   "outputs": [],
   "source": [
    "mat <- matrix(m, nrow=3, ncol=3)"
   ]
  },
  {
   "cell_type": "code",
   "execution_count": 3,
   "metadata": {},
   "outputs": [
    {
     "data": {
      "text/html": [
       "<table>\n",
       "<tbody>\n",
       "\t<tr><td>1</td><td>4</td><td>7</td></tr>\n",
       "\t<tr><td>2</td><td>5</td><td>8</td></tr>\n",
       "\t<tr><td>3</td><td>6</td><td>9</td></tr>\n",
       "</tbody>\n",
       "</table>\n"
      ],
      "text/latex": [
       "\\begin{tabular}{lll}\n",
       "\t 1 & 4 & 7\\\\\n",
       "\t 2 & 5 & 8\\\\\n",
       "\t 3 & 6 & 9\\\\\n",
       "\\end{tabular}\n"
      ],
      "text/markdown": [
       "\n",
       "| 1 | 4 | 7 |\n",
       "| 2 | 5 | 8 |\n",
       "| 3 | 6 | 9 |\n",
       "\n"
      ],
      "text/plain": [
       "     [,1] [,2] [,3]\n",
       "[1,] 1    4    7   \n",
       "[2,] 2    5    8   \n",
       "[3,] 3    6    9   "
      ]
     },
     "metadata": {},
     "output_type": "display_data"
    }
   ],
   "source": [
    "mat"
   ]
  },
  {
   "cell_type": "code",
   "execution_count": 4,
   "metadata": {},
   "outputs": [
    {
     "data": {
      "text/html": [
       "TRUE"
      ],
      "text/latex": [
       "TRUE"
      ],
      "text/markdown": [
       "TRUE"
      ],
      "text/plain": [
       "[1] TRUE"
      ]
     },
     "metadata": {},
     "output_type": "display_data"
    }
   ],
   "source": [
    "is.matrix(mat)"
   ]
  },
  {
   "cell_type": "code",
   "execution_count": 5,
   "metadata": {},
   "outputs": [
    {
     "data": {
      "text/html": [
       "<table>\n",
       "<tbody>\n",
       "\t<tr><td>72</td><td>73</td><td>84</td></tr>\n",
       "\t<tr><td> 6</td><td>92</td><td>88</td></tr>\n",
       "\t<tr><td>13</td><td>14</td><td>52</td></tr>\n",
       "\t<tr><td>75</td><td>83</td><td>57</td></tr>\n",
       "</tbody>\n",
       "</table>\n"
      ],
      "text/latex": [
       "\\begin{tabular}{lll}\n",
       "\t 72 & 73 & 84\\\\\n",
       "\t  6 & 92 & 88\\\\\n",
       "\t 13 & 14 & 52\\\\\n",
       "\t 75 & 83 & 57\\\\\n",
       "\\end{tabular}\n"
      ],
      "text/markdown": [
       "\n",
       "| 72 | 73 | 84 |\n",
       "|  6 | 92 | 88 |\n",
       "| 13 | 14 | 52 |\n",
       "| 75 | 83 | 57 |\n",
       "\n"
      ],
      "text/plain": [
       "     [,1] [,2] [,3]\n",
       "[1,] 72   73   84  \n",
       "[2,]  6   92   88  \n",
       "[3,] 13   14   52  \n",
       "[4,] 75   83   57  "
      ]
     },
     "metadata": {},
     "output_type": "display_data"
    }
   ],
   "source": [
    "#replace con remplazo aleatorio\n",
    "b = sample(1:100,12, replace= FALSE)\n",
    "B = matrix(b, nrow=4, ncol=3)\n",
    "B"
   ]
  },
  {
   "cell_type": "code",
   "execution_count": 6,
   "metadata": {
    "scrolled": true
   },
   "outputs": [
    {
     "data": {
      "text/html": [
       "<table>\n",
       "<thead><tr><th></th><th scope=col>x</th><th scope=col>y</th><th scope=col>z</th></tr></thead>\n",
       "<tbody>\n",
       "\t<tr><th scope=row>a</th><td>72</td><td>73</td><td>84</td></tr>\n",
       "\t<tr><th scope=row>b</th><td> 6</td><td>92</td><td>88</td></tr>\n",
       "\t<tr><th scope=row>c</th><td>13</td><td>14</td><td>52</td></tr>\n",
       "\t<tr><th scope=row>d</th><td>75</td><td>83</td><td>57</td></tr>\n",
       "</tbody>\n",
       "</table>\n"
      ],
      "text/latex": [
       "\\begin{tabular}{r|lll}\n",
       "  & x & y & z\\\\\n",
       "\\hline\n",
       "\ta & 72 & 73 & 84\\\\\n",
       "\tb &  6 & 92 & 88\\\\\n",
       "\tc & 13 & 14 & 52\\\\\n",
       "\td & 75 & 83 & 57\\\\\n",
       "\\end{tabular}\n"
      ],
      "text/markdown": [
       "\n",
       "| <!--/--> | x | y | z |\n",
       "|---|---|---|---|\n",
       "| a | 72 | 73 | 84 |\n",
       "| b |  6 | 92 | 88 |\n",
       "| c | 13 | 14 | 52 |\n",
       "| d | 75 | 83 | 57 |\n",
       "\n"
      ],
      "text/plain": [
       "  x  y  z \n",
       "a 72 73 84\n",
       "b  6 92 88\n",
       "c 13 14 52\n",
       "d 75 83 57"
      ]
     },
     "metadata": {},
     "output_type": "display_data"
    }
   ],
   "source": [
    "colnames(B) <- c(\"x\", \"y\", \"z\")\n",
    "rownames(B) <- c(\"a\", \"b\", \"c\", \"d\")\n",
    "B"
   ]
  },
  {
   "cell_type": "code",
   "execution_count": 7,
   "metadata": {},
   "outputs": [
    {
     "data": {
      "text/html": [
       "<table>\n",
       "<thead><tr><th></th><th scope=col>a</th><th scope=col>b</th><th scope=col>c</th><th scope=col>d</th></tr></thead>\n",
       "<tbody>\n",
       "\t<tr><th scope=row>x</th><td>72</td><td> 6</td><td>13</td><td>75</td></tr>\n",
       "\t<tr><th scope=row>y</th><td>73</td><td>92</td><td>14</td><td>83</td></tr>\n",
       "\t<tr><th scope=row>z</th><td>84</td><td>88</td><td>52</td><td>57</td></tr>\n",
       "</tbody>\n",
       "</table>\n"
      ],
      "text/latex": [
       "\\begin{tabular}{r|llll}\n",
       "  & a & b & c & d\\\\\n",
       "\\hline\n",
       "\tx & 72 &  6 & 13 & 75\\\\\n",
       "\ty & 73 & 92 & 14 & 83\\\\\n",
       "\tz & 84 & 88 & 52 & 57\\\\\n",
       "\\end{tabular}\n"
      ],
      "text/markdown": [
       "\n",
       "| <!--/--> | a | b | c | d |\n",
       "|---|---|---|---|---|\n",
       "| x | 72 |  6 | 13 | 75 |\n",
       "| y | 73 | 92 | 14 | 83 |\n",
       "| z | 84 | 88 | 52 | 57 |\n",
       "\n"
      ],
      "text/plain": [
       "  a  b  c  d \n",
       "x 72  6 13 75\n",
       "y 73 92 14 83\n",
       "z 84 88 52 57"
      ]
     },
     "metadata": {},
     "output_type": "display_data"
    }
   ],
   "source": [
    "#Traspuesta\n",
    "t(B)"
   ]
  },
  {
   "cell_type": "code",
   "execution_count": 8,
   "metadata": {},
   "outputs": [],
   "source": [
    "g <- c(\"p\", \"p2\", \"p3\")"
   ]
  },
  {
   "cell_type": "code",
   "execution_count": 9,
   "metadata": {},
   "outputs": [],
   "source": [
    "h <- t(B)"
   ]
  },
  {
   "cell_type": "code",
   "execution_count": 10,
   "metadata": {},
   "outputs": [
    {
     "data": {
      "text/html": [
       "<table>\n",
       "<thead><tr><th></th><th scope=col>a</th><th scope=col>b</th><th scope=col>c</th><th scope=col>d</th></tr></thead>\n",
       "<tbody>\n",
       "\t<tr><th scope=row>x</th><td>72</td><td> 6</td><td>13</td><td>75</td></tr>\n",
       "\t<tr><th scope=row>y</th><td>73</td><td>92</td><td>14</td><td>83</td></tr>\n",
       "\t<tr><th scope=row>z</th><td>84</td><td>88</td><td>52</td><td>57</td></tr>\n",
       "</tbody>\n",
       "</table>\n"
      ],
      "text/latex": [
       "\\begin{tabular}{r|llll}\n",
       "  & a & b & c & d\\\\\n",
       "\\hline\n",
       "\tx & 72 &  6 & 13 & 75\\\\\n",
       "\ty & 73 & 92 & 14 & 83\\\\\n",
       "\tz & 84 & 88 & 52 & 57\\\\\n",
       "\\end{tabular}\n"
      ],
      "text/markdown": [
       "\n",
       "| <!--/--> | a | b | c | d |\n",
       "|---|---|---|---|---|\n",
       "| x | 72 |  6 | 13 | 75 |\n",
       "| y | 73 | 92 | 14 | 83 |\n",
       "| z | 84 | 88 | 52 | 57 |\n",
       "\n"
      ],
      "text/plain": [
       "  a  b  c  d \n",
       "x 72  6 13 75\n",
       "y 73 92 14 83\n",
       "z 84 88 52 57"
      ]
     },
     "metadata": {},
     "output_type": "display_data"
    }
   ],
   "source": [
    "h"
   ]
  },
  {
   "cell_type": "code",
   "execution_count": 11,
   "metadata": {},
   "outputs": [
    {
     "data": {
      "text/html": [
       "<table>\n",
       "<thead><tr><th></th><th scope=col>a</th><th scope=col>b</th><th scope=col>c</th><th scope=col>d</th><th scope=col>g</th></tr></thead>\n",
       "<tbody>\n",
       "\t<tr><th scope=row>x</th><td>72</td><td>6 </td><td>13</td><td>75</td><td>p </td></tr>\n",
       "\t<tr><th scope=row>y</th><td>73</td><td>92</td><td>14</td><td>83</td><td>p2</td></tr>\n",
       "\t<tr><th scope=row>z</th><td>84</td><td>88</td><td>52</td><td>57</td><td>p3</td></tr>\n",
       "</tbody>\n",
       "</table>\n"
      ],
      "text/latex": [
       "\\begin{tabular}{r|lllll}\n",
       "  & a & b & c & d & g\\\\\n",
       "\\hline\n",
       "\tx & 72 & 6  & 13 & 75 & p \\\\\n",
       "\ty & 73 & 92 & 14 & 83 & p2\\\\\n",
       "\tz & 84 & 88 & 52 & 57 & p3\\\\\n",
       "\\end{tabular}\n"
      ],
      "text/markdown": [
       "\n",
       "| <!--/--> | a | b | c | d | g |\n",
       "|---|---|---|---|---|---|\n",
       "| x | 72 | 6  | 13 | 75 | p  |\n",
       "| y | 73 | 92 | 14 | 83 | p2 |\n",
       "| z | 84 | 88 | 52 | 57 | p3 |\n",
       "\n"
      ],
      "text/plain": [
       "  a  b  c  d  g \n",
       "x 72 6  13 75 p \n",
       "y 73 92 14 83 p2\n",
       "z 84 88 52 57 p3"
      ]
     },
     "metadata": {},
     "output_type": "display_data"
    }
   ],
   "source": [
    "cbind(h, g)"
   ]
  },
  {
   "cell_type": "code",
   "execution_count": 12,
   "metadata": {},
   "outputs": [
    {
     "name": "stderr",
     "output_type": "stream",
     "text": [
      "Warning message in cbind(B, g):\n",
      "\"number of rows of result is not a multiple of vector length (arg 2)\""
     ]
    },
    {
     "data": {
      "text/html": [
       "<table>\n",
       "<thead><tr><th></th><th scope=col>x</th><th scope=col>y</th><th scope=col>z</th><th scope=col>g</th></tr></thead>\n",
       "<tbody>\n",
       "\t<tr><th scope=row>a</th><td>72</td><td>73</td><td>84</td><td>p </td></tr>\n",
       "\t<tr><th scope=row>b</th><td>6 </td><td>92</td><td>88</td><td>p2</td></tr>\n",
       "\t<tr><th scope=row>c</th><td>13</td><td>14</td><td>52</td><td>p3</td></tr>\n",
       "\t<tr><th scope=row>d</th><td>75</td><td>83</td><td>57</td><td>p </td></tr>\n",
       "</tbody>\n",
       "</table>\n"
      ],
      "text/latex": [
       "\\begin{tabular}{r|llll}\n",
       "  & x & y & z & g\\\\\n",
       "\\hline\n",
       "\ta & 72 & 73 & 84 & p \\\\\n",
       "\tb & 6  & 92 & 88 & p2\\\\\n",
       "\tc & 13 & 14 & 52 & p3\\\\\n",
       "\td & 75 & 83 & 57 & p \\\\\n",
       "\\end{tabular}\n"
      ],
      "text/markdown": [
       "\n",
       "| <!--/--> | x | y | z | g |\n",
       "|---|---|---|---|---|\n",
       "| a | 72 | 73 | 84 | p  |\n",
       "| b | 6  | 92 | 88 | p2 |\n",
       "| c | 13 | 14 | 52 | p3 |\n",
       "| d | 75 | 83 | 57 | p  |\n",
       "\n"
      ],
      "text/plain": [
       "  x  y  z  g \n",
       "a 72 73 84 p \n",
       "b 6  92 88 p2\n",
       "c 13 14 52 p3\n",
       "d 75 83 57 p "
      ]
     },
     "metadata": {},
     "output_type": "display_data"
    }
   ],
   "source": [
    "cbind(B, g)"
   ]
  },
  {
   "cell_type": "code",
   "execution_count": 13,
   "metadata": {},
   "outputs": [
    {
     "data": {
      "text/html": [
       "'C:/Users/Aron/Desktop/Analitica/S1'"
      ],
      "text/latex": [
       "'C:/Users/Aron/Desktop/Analitica/S1'"
      ],
      "text/markdown": [
       "'C:/Users/Aron/Desktop/Analitica/S1'"
      ],
      "text/plain": [
       "[1] \"C:/Users/Aron/Desktop/Analitica/S1\""
      ]
     },
     "metadata": {},
     "output_type": "display_data"
    }
   ],
   "source": [
    "getwd()\n",
    "#setwd(\"C:/Users/Aron/Desktop/Analitica/S1\")"
   ]
  },
  {
   "cell_type": "code",
   "execution_count": 14,
   "metadata": {},
   "outputs": [],
   "source": [
    "#Cambiar el tipo de dato string a factor\n",
    "education <- read.csv(\"education.csv\", stringsAsFactors = FALSE)"
   ]
  },
  {
   "cell_type": "code",
   "execution_count": 15,
   "metadata": {},
   "outputs": [
    {
     "data": {
      "text/html": [
       "<table>\n",
       "<thead><tr><th scope=col>X</th><th scope=col>State</th><th scope=col>Region</th><th scope=col>X1</th><th scope=col>X2</th><th scope=col>X3</th><th scope=col>Y</th></tr></thead>\n",
       "<tbody>\n",
       "\t<tr><td> 1  </td><td>ME  </td><td>1   </td><td>508 </td><td>3944</td><td>325 </td><td>235 </td></tr>\n",
       "\t<tr><td> 2  </td><td>NH  </td><td>1   </td><td>564 </td><td>4578</td><td>323 </td><td>231 </td></tr>\n",
       "\t<tr><td> 3  </td><td>VT  </td><td>1   </td><td>322 </td><td>4011</td><td>328 </td><td>270 </td></tr>\n",
       "\t<tr><td> 4  </td><td>MA  </td><td>1   </td><td>846 </td><td>5233</td><td>305 </td><td>261 </td></tr>\n",
       "\t<tr><td> 5  </td><td>RI  </td><td>1   </td><td>871 </td><td>4780</td><td>303 </td><td>300 </td></tr>\n",
       "\t<tr><td> 6  </td><td>CT  </td><td>1   </td><td>774 </td><td>5889</td><td>307 </td><td>317 </td></tr>\n",
       "\t<tr><td> 7  </td><td>NY  </td><td>1   </td><td>856 </td><td>5663</td><td>301 </td><td>387 </td></tr>\n",
       "\t<tr><td> 8  </td><td>NJ  </td><td>1   </td><td>889 </td><td>5759</td><td>310 </td><td>285 </td></tr>\n",
       "\t<tr><td> 9  </td><td>PA  </td><td>1   </td><td>715 </td><td>4894</td><td>300 </td><td>300 </td></tr>\n",
       "\t<tr><td>10  </td><td>OH  </td><td>2   </td><td>753 </td><td>5012</td><td>324 </td><td>221 </td></tr>\n",
       "\t<tr><td>11  </td><td>IN  </td><td>2   </td><td>649 </td><td>4908</td><td>329 </td><td>264 </td></tr>\n",
       "\t<tr><td>12  </td><td>IL  </td><td>2   </td><td>830 </td><td>5753</td><td>320 </td><td>308 </td></tr>\n",
       "\t<tr><td>13  </td><td>MI  </td><td>2   </td><td>738 </td><td>5439</td><td>337 </td><td>379 </td></tr>\n",
       "\t<tr><td>14  </td><td>WI  </td><td>2   </td><td>659 </td><td>4634</td><td>328 </td><td>342 </td></tr>\n",
       "\t<tr><td>15  </td><td>MN  </td><td>2   </td><td>664 </td><td>4921</td><td>330 </td><td>378 </td></tr>\n",
       "\t<tr><td>16  </td><td>IA  </td><td>2   </td><td>572 </td><td>4869</td><td>318 </td><td>232 </td></tr>\n",
       "\t<tr><td>17  </td><td>MO  </td><td>2   </td><td>701 </td><td>4672</td><td>309 </td><td>231 </td></tr>\n",
       "\t<tr><td>18  </td><td>ND  </td><td>2   </td><td>443 </td><td>4782</td><td>333 </td><td>246 </td></tr>\n",
       "\t<tr><td>19  </td><td>SD  </td><td>2   </td><td>446 </td><td>4296</td><td>330 </td><td>230 </td></tr>\n",
       "\t<tr><td>20  </td><td>NB  </td><td>2   </td><td>615 </td><td>4827</td><td>318 </td><td>268 </td></tr>\n",
       "\t<tr><td>21  </td><td>KS  </td><td>2   </td><td>661 </td><td>5057</td><td>304 </td><td>337 </td></tr>\n",
       "\t<tr><td>22  </td><td>DE  </td><td>3   </td><td>722 </td><td>5540</td><td>328 </td><td>344 </td></tr>\n",
       "\t<tr><td>23  </td><td>MD  </td><td>3   </td><td>766 </td><td>5331</td><td>323 </td><td>330 </td></tr>\n",
       "\t<tr><td>24  </td><td>VA  </td><td>3   </td><td>631 </td><td>4715</td><td>317 </td><td>261 </td></tr>\n",
       "\t<tr><td>25  </td><td>WV  </td><td>3   </td><td>390 </td><td>3828</td><td>310 </td><td>214 </td></tr>\n",
       "\t<tr><td>26  </td><td>NC  </td><td>3   </td><td>450 </td><td>4120</td><td>321 </td><td>245 </td></tr>\n",
       "\t<tr><td>27  </td><td>SC  </td><td>3   </td><td>476 </td><td>3817</td><td>342 </td><td>233 </td></tr>\n",
       "\t<tr><td>28  </td><td>GA  </td><td>3   </td><td>603 </td><td>4243</td><td>339 </td><td>250 </td></tr>\n",
       "\t<tr><td>29  </td><td>FL  </td><td>3   </td><td>805 </td><td>4647</td><td>287 </td><td>243 </td></tr>\n",
       "\t<tr><td>30  </td><td>DY  </td><td>3   </td><td>523 </td><td>3967</td><td>325 </td><td>216 </td></tr>\n",
       "\t<tr><td>31  </td><td>TN  </td><td>3   </td><td>588 </td><td>3946</td><td>315 </td><td>212 </td></tr>\n",
       "\t<tr><td>32  </td><td>AL  </td><td>3   </td><td>584 </td><td>3724</td><td>332 </td><td>208 </td></tr>\n",
       "\t<tr><td>33  </td><td>MS  </td><td>3   </td><td>445 </td><td>3448</td><td>358 </td><td>215 </td></tr>\n",
       "\t<tr><td>34  </td><td>AR  </td><td>3   </td><td>500 </td><td>3680</td><td>320 </td><td>221 </td></tr>\n",
       "\t<tr><td>35  </td><td>LA  </td><td>3   </td><td>661 </td><td>3825</td><td>355 </td><td>244 </td></tr>\n",
       "\t<tr><td>36  </td><td>OK  </td><td>3   </td><td>680 </td><td>4189</td><td>306 </td><td>234 </td></tr>\n",
       "\t<tr><td>37  </td><td>TX  </td><td>3   </td><td>797 </td><td>4336</td><td>335 </td><td>269 </td></tr>\n",
       "\t<tr><td>38  </td><td>MT  </td><td>4   </td><td>534 </td><td>4418</td><td>335 </td><td>302 </td></tr>\n",
       "\t<tr><td>39  </td><td>ID  </td><td>4   </td><td>541 </td><td>4323</td><td>344 </td><td>268 </td></tr>\n",
       "\t<tr><td>40  </td><td>WY  </td><td>4   </td><td>605 </td><td>4813</td><td>331 </td><td>323 </td></tr>\n",
       "\t<tr><td>41  </td><td>CO  </td><td>4   </td><td>785 </td><td>5046</td><td>324 </td><td>304 </td></tr>\n",
       "\t<tr><td>42  </td><td>NM  </td><td>4   </td><td>698 </td><td>3764</td><td>366 </td><td>317 </td></tr>\n",
       "\t<tr><td>43  </td><td>AZ  </td><td>4   </td><td>796 </td><td>4504</td><td>340 </td><td>332 </td></tr>\n",
       "\t<tr><td>44  </td><td>UT  </td><td>4   </td><td>804 </td><td>4005</td><td>378 </td><td>315 </td></tr>\n",
       "\t<tr><td>45  </td><td>NV  </td><td>4   </td><td>809 </td><td>5560</td><td>330 </td><td>291 </td></tr>\n",
       "\t<tr><td>46  </td><td>WA  </td><td>4   </td><td>726 </td><td>4989</td><td>313 </td><td>312 </td></tr>\n",
       "\t<tr><td>47  </td><td>OR  </td><td>4   </td><td>671 </td><td>4697</td><td>305 </td><td>316 </td></tr>\n",
       "\t<tr><td>48  </td><td>CA  </td><td>4   </td><td>909 </td><td>5438</td><td>307 </td><td>332 </td></tr>\n",
       "\t<tr><td>49  </td><td>AK  </td><td>4   </td><td>831 </td><td>5309</td><td>333 </td><td>311 </td></tr>\n",
       "\t<tr><td>50  </td><td>HI  </td><td>4   </td><td>484 </td><td>5613</td><td>386 </td><td>546 </td></tr>\n",
       "</tbody>\n",
       "</table>\n"
      ],
      "text/latex": [
       "\\begin{tabular}{r|lllllll}\n",
       " X & State & Region & X1 & X2 & X3 & Y\\\\\n",
       "\\hline\n",
       "\t  1   & ME   & 1    & 508  & 3944 & 325  & 235 \\\\\n",
       "\t  2   & NH   & 1    & 564  & 4578 & 323  & 231 \\\\\n",
       "\t  3   & VT   & 1    & 322  & 4011 & 328  & 270 \\\\\n",
       "\t  4   & MA   & 1    & 846  & 5233 & 305  & 261 \\\\\n",
       "\t  5   & RI   & 1    & 871  & 4780 & 303  & 300 \\\\\n",
       "\t  6   & CT   & 1    & 774  & 5889 & 307  & 317 \\\\\n",
       "\t  7   & NY   & 1    & 856  & 5663 & 301  & 387 \\\\\n",
       "\t  8   & NJ   & 1    & 889  & 5759 & 310  & 285 \\\\\n",
       "\t  9   & PA   & 1    & 715  & 4894 & 300  & 300 \\\\\n",
       "\t 10   & OH   & 2    & 753  & 5012 & 324  & 221 \\\\\n",
       "\t 11   & IN   & 2    & 649  & 4908 & 329  & 264 \\\\\n",
       "\t 12   & IL   & 2    & 830  & 5753 & 320  & 308 \\\\\n",
       "\t 13   & MI   & 2    & 738  & 5439 & 337  & 379 \\\\\n",
       "\t 14   & WI   & 2    & 659  & 4634 & 328  & 342 \\\\\n",
       "\t 15   & MN   & 2    & 664  & 4921 & 330  & 378 \\\\\n",
       "\t 16   & IA   & 2    & 572  & 4869 & 318  & 232 \\\\\n",
       "\t 17   & MO   & 2    & 701  & 4672 & 309  & 231 \\\\\n",
       "\t 18   & ND   & 2    & 443  & 4782 & 333  & 246 \\\\\n",
       "\t 19   & SD   & 2    & 446  & 4296 & 330  & 230 \\\\\n",
       "\t 20   & NB   & 2    & 615  & 4827 & 318  & 268 \\\\\n",
       "\t 21   & KS   & 2    & 661  & 5057 & 304  & 337 \\\\\n",
       "\t 22   & DE   & 3    & 722  & 5540 & 328  & 344 \\\\\n",
       "\t 23   & MD   & 3    & 766  & 5331 & 323  & 330 \\\\\n",
       "\t 24   & VA   & 3    & 631  & 4715 & 317  & 261 \\\\\n",
       "\t 25   & WV   & 3    & 390  & 3828 & 310  & 214 \\\\\n",
       "\t 26   & NC   & 3    & 450  & 4120 & 321  & 245 \\\\\n",
       "\t 27   & SC   & 3    & 476  & 3817 & 342  & 233 \\\\\n",
       "\t 28   & GA   & 3    & 603  & 4243 & 339  & 250 \\\\\n",
       "\t 29   & FL   & 3    & 805  & 4647 & 287  & 243 \\\\\n",
       "\t 30   & DY   & 3    & 523  & 3967 & 325  & 216 \\\\\n",
       "\t 31   & TN   & 3    & 588  & 3946 & 315  & 212 \\\\\n",
       "\t 32   & AL   & 3    & 584  & 3724 & 332  & 208 \\\\\n",
       "\t 33   & MS   & 3    & 445  & 3448 & 358  & 215 \\\\\n",
       "\t 34   & AR   & 3    & 500  & 3680 & 320  & 221 \\\\\n",
       "\t 35   & LA   & 3    & 661  & 3825 & 355  & 244 \\\\\n",
       "\t 36   & OK   & 3    & 680  & 4189 & 306  & 234 \\\\\n",
       "\t 37   & TX   & 3    & 797  & 4336 & 335  & 269 \\\\\n",
       "\t 38   & MT   & 4    & 534  & 4418 & 335  & 302 \\\\\n",
       "\t 39   & ID   & 4    & 541  & 4323 & 344  & 268 \\\\\n",
       "\t 40   & WY   & 4    & 605  & 4813 & 331  & 323 \\\\\n",
       "\t 41   & CO   & 4    & 785  & 5046 & 324  & 304 \\\\\n",
       "\t 42   & NM   & 4    & 698  & 3764 & 366  & 317 \\\\\n",
       "\t 43   & AZ   & 4    & 796  & 4504 & 340  & 332 \\\\\n",
       "\t 44   & UT   & 4    & 804  & 4005 & 378  & 315 \\\\\n",
       "\t 45   & NV   & 4    & 809  & 5560 & 330  & 291 \\\\\n",
       "\t 46   & WA   & 4    & 726  & 4989 & 313  & 312 \\\\\n",
       "\t 47   & OR   & 4    & 671  & 4697 & 305  & 316 \\\\\n",
       "\t 48   & CA   & 4    & 909  & 5438 & 307  & 332 \\\\\n",
       "\t 49   & AK   & 4    & 831  & 5309 & 333  & 311 \\\\\n",
       "\t 50   & HI   & 4    & 484  & 5613 & 386  & 546 \\\\\n",
       "\\end{tabular}\n"
      ],
      "text/markdown": [
       "\n",
       "| X | State | Region | X1 | X2 | X3 | Y |\n",
       "|---|---|---|---|---|---|---|\n",
       "|  1   | ME   | 1    | 508  | 3944 | 325  | 235  |\n",
       "|  2   | NH   | 1    | 564  | 4578 | 323  | 231  |\n",
       "|  3   | VT   | 1    | 322  | 4011 | 328  | 270  |\n",
       "|  4   | MA   | 1    | 846  | 5233 | 305  | 261  |\n",
       "|  5   | RI   | 1    | 871  | 4780 | 303  | 300  |\n",
       "|  6   | CT   | 1    | 774  | 5889 | 307  | 317  |\n",
       "|  7   | NY   | 1    | 856  | 5663 | 301  | 387  |\n",
       "|  8   | NJ   | 1    | 889  | 5759 | 310  | 285  |\n",
       "|  9   | PA   | 1    | 715  | 4894 | 300  | 300  |\n",
       "| 10   | OH   | 2    | 753  | 5012 | 324  | 221  |\n",
       "| 11   | IN   | 2    | 649  | 4908 | 329  | 264  |\n",
       "| 12   | IL   | 2    | 830  | 5753 | 320  | 308  |\n",
       "| 13   | MI   | 2    | 738  | 5439 | 337  | 379  |\n",
       "| 14   | WI   | 2    | 659  | 4634 | 328  | 342  |\n",
       "| 15   | MN   | 2    | 664  | 4921 | 330  | 378  |\n",
       "| 16   | IA   | 2    | 572  | 4869 | 318  | 232  |\n",
       "| 17   | MO   | 2    | 701  | 4672 | 309  | 231  |\n",
       "| 18   | ND   | 2    | 443  | 4782 | 333  | 246  |\n",
       "| 19   | SD   | 2    | 446  | 4296 | 330  | 230  |\n",
       "| 20   | NB   | 2    | 615  | 4827 | 318  | 268  |\n",
       "| 21   | KS   | 2    | 661  | 5057 | 304  | 337  |\n",
       "| 22   | DE   | 3    | 722  | 5540 | 328  | 344  |\n",
       "| 23   | MD   | 3    | 766  | 5331 | 323  | 330  |\n",
       "| 24   | VA   | 3    | 631  | 4715 | 317  | 261  |\n",
       "| 25   | WV   | 3    | 390  | 3828 | 310  | 214  |\n",
       "| 26   | NC   | 3    | 450  | 4120 | 321  | 245  |\n",
       "| 27   | SC   | 3    | 476  | 3817 | 342  | 233  |\n",
       "| 28   | GA   | 3    | 603  | 4243 | 339  | 250  |\n",
       "| 29   | FL   | 3    | 805  | 4647 | 287  | 243  |\n",
       "| 30   | DY   | 3    | 523  | 3967 | 325  | 216  |\n",
       "| 31   | TN   | 3    | 588  | 3946 | 315  | 212  |\n",
       "| 32   | AL   | 3    | 584  | 3724 | 332  | 208  |\n",
       "| 33   | MS   | 3    | 445  | 3448 | 358  | 215  |\n",
       "| 34   | AR   | 3    | 500  | 3680 | 320  | 221  |\n",
       "| 35   | LA   | 3    | 661  | 3825 | 355  | 244  |\n",
       "| 36   | OK   | 3    | 680  | 4189 | 306  | 234  |\n",
       "| 37   | TX   | 3    | 797  | 4336 | 335  | 269  |\n",
       "| 38   | MT   | 4    | 534  | 4418 | 335  | 302  |\n",
       "| 39   | ID   | 4    | 541  | 4323 | 344  | 268  |\n",
       "| 40   | WY   | 4    | 605  | 4813 | 331  | 323  |\n",
       "| 41   | CO   | 4    | 785  | 5046 | 324  | 304  |\n",
       "| 42   | NM   | 4    | 698  | 3764 | 366  | 317  |\n",
       "| 43   | AZ   | 4    | 796  | 4504 | 340  | 332  |\n",
       "| 44   | UT   | 4    | 804  | 4005 | 378  | 315  |\n",
       "| 45   | NV   | 4    | 809  | 5560 | 330  | 291  |\n",
       "| 46   | WA   | 4    | 726  | 4989 | 313  | 312  |\n",
       "| 47   | OR   | 4    | 671  | 4697 | 305  | 316  |\n",
       "| 48   | CA   | 4    | 909  | 5438 | 307  | 332  |\n",
       "| 49   | AK   | 4    | 831  | 5309 | 333  | 311  |\n",
       "| 50   | HI   | 4    | 484  | 5613 | 386  | 546  |\n",
       "\n"
      ],
      "text/plain": [
       "   X  State Region X1  X2   X3  Y  \n",
       "1   1 ME    1      508 3944 325 235\n",
       "2   2 NH    1      564 4578 323 231\n",
       "3   3 VT    1      322 4011 328 270\n",
       "4   4 MA    1      846 5233 305 261\n",
       "5   5 RI    1      871 4780 303 300\n",
       "6   6 CT    1      774 5889 307 317\n",
       "7   7 NY    1      856 5663 301 387\n",
       "8   8 NJ    1      889 5759 310 285\n",
       "9   9 PA    1      715 4894 300 300\n",
       "10 10 OH    2      753 5012 324 221\n",
       "11 11 IN    2      649 4908 329 264\n",
       "12 12 IL    2      830 5753 320 308\n",
       "13 13 MI    2      738 5439 337 379\n",
       "14 14 WI    2      659 4634 328 342\n",
       "15 15 MN    2      664 4921 330 378\n",
       "16 16 IA    2      572 4869 318 232\n",
       "17 17 MO    2      701 4672 309 231\n",
       "18 18 ND    2      443 4782 333 246\n",
       "19 19 SD    2      446 4296 330 230\n",
       "20 20 NB    2      615 4827 318 268\n",
       "21 21 KS    2      661 5057 304 337\n",
       "22 22 DE    3      722 5540 328 344\n",
       "23 23 MD    3      766 5331 323 330\n",
       "24 24 VA    3      631 4715 317 261\n",
       "25 25 WV    3      390 3828 310 214\n",
       "26 26 NC    3      450 4120 321 245\n",
       "27 27 SC    3      476 3817 342 233\n",
       "28 28 GA    3      603 4243 339 250\n",
       "29 29 FL    3      805 4647 287 243\n",
       "30 30 DY    3      523 3967 325 216\n",
       "31 31 TN    3      588 3946 315 212\n",
       "32 32 AL    3      584 3724 332 208\n",
       "33 33 MS    3      445 3448 358 215\n",
       "34 34 AR    3      500 3680 320 221\n",
       "35 35 LA    3      661 3825 355 244\n",
       "36 36 OK    3      680 4189 306 234\n",
       "37 37 TX    3      797 4336 335 269\n",
       "38 38 MT    4      534 4418 335 302\n",
       "39 39 ID    4      541 4323 344 268\n",
       "40 40 WY    4      605 4813 331 323\n",
       "41 41 CO    4      785 5046 324 304\n",
       "42 42 NM    4      698 3764 366 317\n",
       "43 43 AZ    4      796 4504 340 332\n",
       "44 44 UT    4      804 4005 378 315\n",
       "45 45 NV    4      809 5560 330 291\n",
       "46 46 WA    4      726 4989 313 312\n",
       "47 47 OR    4      671 4697 305 316\n",
       "48 48 CA    4      909 5438 307 332\n",
       "49 49 AK    4      831 5309 333 311\n",
       "50 50 HI    4      484 5613 386 546"
      ]
     },
     "metadata": {},
     "output_type": "display_data"
    }
   ],
   "source": [
    "education"
   ]
  },
  {
   "cell_type": "code",
   "execution_count": 16,
   "metadata": {},
   "outputs": [],
   "source": [
    "#Overview de los datos\n",
    "data_types <- function(frame) {\n",
    "  res <- lapply(frame, class)\n",
    "  res_frame <- data.frame(unlist(res))\n",
    "  barplot(table(res_frame), main=\"Data Types\", col=\"steelblue\", ylab=\"Number of Features\")\n",
    "}"
   ]
  },
  {
   "cell_type": "code",
   "execution_count": 17,
   "metadata": {
    "scrolled": true
   },
   "outputs": [
    {
     "data": {
      "image/png": "[encoded data removed]",
      "text/plain": [
       "Plot with title \"Data Types\""
      ]
     },
     "metadata": {},
     "output_type": "display_data"
    }
   ],
   "source": [
    "data_types(education)"
   ]
  },
  {
   "cell_type": "code",
   "execution_count": 18,
   "metadata": {},
   "outputs": [
    {
     "data": {
      "text/html": [
       "<table>\n",
       "<thead><tr><th scope=col>X</th><th scope=col>State</th><th scope=col>Region</th><th scope=col>X1</th><th scope=col>X2</th><th scope=col>X3</th><th scope=col>Y</th></tr></thead>\n",
       "<tbody>\n",
       "\t<tr><td>1   </td><td>ME  </td><td>1   </td><td>508 </td><td>3944</td><td>325 </td><td>235 </td></tr>\n",
       "\t<tr><td>2   </td><td>NH  </td><td>1   </td><td>564 </td><td>4578</td><td>323 </td><td>231 </td></tr>\n",
       "\t<tr><td>3   </td><td>VT  </td><td>1   </td><td>322 </td><td>4011</td><td>328 </td><td>270 </td></tr>\n",
       "</tbody>\n",
       "</table>\n"
      ],
      "text/latex": [
       "\\begin{tabular}{r|lllllll}\n",
       " X & State & Region & X1 & X2 & X3 & Y\\\\\n",
       "\\hline\n",
       "\t 1    & ME   & 1    & 508  & 3944 & 325  & 235 \\\\\n",
       "\t 2    & NH   & 1    & 564  & 4578 & 323  & 231 \\\\\n",
       "\t 3    & VT   & 1    & 322  & 4011 & 328  & 270 \\\\\n",
       "\\end{tabular}\n"
      ],
      "text/markdown": [
       "\n",
       "| X | State | Region | X1 | X2 | X3 | Y |\n",
       "|---|---|---|---|---|---|---|\n",
       "| 1    | ME   | 1    | 508  | 3944 | 325  | 235  |\n",
       "| 2    | NH   | 1    | 564  | 4578 | 323  | 231  |\n",
       "| 3    | VT   | 1    | 322  | 4011 | 328  | 270  |\n",
       "\n"
      ],
      "text/plain": [
       "  X State Region X1  X2   X3  Y  \n",
       "1 1 ME    1      508 3944 325 235\n",
       "2 2 NH    1      564 4578 323 231\n",
       "3 3 VT    1      322 4011 328 270"
      ]
     },
     "metadata": {},
     "output_type": "display_data"
    }
   ],
   "source": [
    "head(education, 3)"
   ]
  },
  {
   "cell_type": "code",
   "execution_count": 19,
   "metadata": {},
   "outputs": [],
   "source": [
    "colnames(education) <- c ( \"X\", \"State\", \"Region\", \"Urban.Population\", \"Per.Capita.Income\", \"Minor.Population\", \"Education.Expenditures\")"
   ]
  },
  {
   "cell_type": "code",
   "execution_count": 20,
   "metadata": {},
   "outputs": [
    {
     "data": {
      "text/html": [
       "<table>\n",
       "<thead><tr><th scope=col>X</th><th scope=col>State</th><th scope=col>Region</th><th scope=col>Urban.Population</th><th scope=col>Per.Capita.Income</th><th scope=col>Minor.Population</th><th scope=col>Education.Expenditures</th></tr></thead>\n",
       "<tbody>\n",
       "\t<tr><td>1   </td><td>ME  </td><td>1   </td><td>508 </td><td>3944</td><td>325 </td><td>235 </td></tr>\n",
       "\t<tr><td>2   </td><td>NH  </td><td>1   </td><td>564 </td><td>4578</td><td>323 </td><td>231 </td></tr>\n",
       "\t<tr><td>3   </td><td>VT  </td><td>1   </td><td>322 </td><td>4011</td><td>328 </td><td>270 </td></tr>\n",
       "</tbody>\n",
       "</table>\n"
      ],
      "text/latex": [
       "\\begin{tabular}{r|lllllll}\n",
       " X & State & Region & Urban.Population & Per.Capita.Income & Minor.Population & Education.Expenditures\\\\\n",
       "\\hline\n",
       "\t 1    & ME   & 1    & 508  & 3944 & 325  & 235 \\\\\n",
       "\t 2    & NH   & 1    & 564  & 4578 & 323  & 231 \\\\\n",
       "\t 3    & VT   & 1    & 322  & 4011 & 328  & 270 \\\\\n",
       "\\end{tabular}\n"
      ],
      "text/markdown": [
       "\n",
       "| X | State | Region | Urban.Population | Per.Capita.Income | Minor.Population | Education.Expenditures |\n",
       "|---|---|---|---|---|---|---|\n",
       "| 1    | ME   | 1    | 508  | 3944 | 325  | 235  |\n",
       "| 2    | NH   | 1    | 564  | 4578 | 323  | 231  |\n",
       "| 3    | VT   | 1    | 322  | 4011 | 328  | 270  |\n",
       "\n"
      ],
      "text/plain": [
       "  X State Region Urban.Population Per.Capita.Income Minor.Population\n",
       "1 1 ME    1      508              3944              325             \n",
       "2 2 NH    1      564              4578              323             \n",
       "3 3 VT    1      322              4011              328             \n",
       "  Education.Expenditures\n",
       "1 235                   \n",
       "2 231                   \n",
       "3 270                   "
      ]
     },
     "metadata": {},
     "output_type": "display_data"
    }
   ],
   "source": [
    "head(education, 3)"
   ]
  },
  {
   "cell_type": "code",
   "execution_count": 21,
   "metadata": {},
   "outputs": [],
   "source": [
    "#subset para hacer slicing\n",
    "newdata2 <- subset(education, Region == 2)"
   ]
  },
  {
   "cell_type": "code",
   "execution_count": 22,
   "metadata": {
    "scrolled": true
   },
   "outputs": [
    {
     "data": {
      "text/html": [
       "<table>\n",
       "<thead><tr><th></th><th scope=col>X</th><th scope=col>State</th><th scope=col>Region</th><th scope=col>Urban.Population</th><th scope=col>Per.Capita.Income</th><th scope=col>Minor.Population</th><th scope=col>Education.Expenditures</th></tr></thead>\n",
       "<tbody>\n",
       "\t<tr><th scope=row>10</th><td>10  </td><td>OH  </td><td>2   </td><td>753 </td><td>5012</td><td>324 </td><td>221 </td></tr>\n",
       "\t<tr><th scope=row>11</th><td>11  </td><td>IN  </td><td>2   </td><td>649 </td><td>4908</td><td>329 </td><td>264 </td></tr>\n",
       "\t<tr><th scope=row>12</th><td>12  </td><td>IL  </td><td>2   </td><td>830 </td><td>5753</td><td>320 </td><td>308 </td></tr>\n",
       "\t<tr><th scope=row>13</th><td>13  </td><td>MI  </td><td>2   </td><td>738 </td><td>5439</td><td>337 </td><td>379 </td></tr>\n",
       "\t<tr><th scope=row>14</th><td>14  </td><td>WI  </td><td>2   </td><td>659 </td><td>4634</td><td>328 </td><td>342 </td></tr>\n",
       "\t<tr><th scope=row>15</th><td>15  </td><td>MN  </td><td>2   </td><td>664 </td><td>4921</td><td>330 </td><td>378 </td></tr>\n",
       "\t<tr><th scope=row>16</th><td>16  </td><td>IA  </td><td>2   </td><td>572 </td><td>4869</td><td>318 </td><td>232 </td></tr>\n",
       "\t<tr><th scope=row>17</th><td>17  </td><td>MO  </td><td>2   </td><td>701 </td><td>4672</td><td>309 </td><td>231 </td></tr>\n",
       "\t<tr><th scope=row>18</th><td>18  </td><td>ND  </td><td>2   </td><td>443 </td><td>4782</td><td>333 </td><td>246 </td></tr>\n",
       "\t<tr><th scope=row>19</th><td>19  </td><td>SD  </td><td>2   </td><td>446 </td><td>4296</td><td>330 </td><td>230 </td></tr>\n",
       "\t<tr><th scope=row>20</th><td>20  </td><td>NB  </td><td>2   </td><td>615 </td><td>4827</td><td>318 </td><td>268 </td></tr>\n",
       "\t<tr><th scope=row>21</th><td>21  </td><td>KS  </td><td>2   </td><td>661 </td><td>5057</td><td>304 </td><td>337 </td></tr>\n",
       "</tbody>\n",
       "</table>\n"
      ],
      "text/latex": [
       "\\begin{tabular}{r|lllllll}\n",
       "  & X & State & Region & Urban.Population & Per.Capita.Income & Minor.Population & Education.Expenditures\\\\\n",
       "\\hline\n",
       "\t10 & 10   & OH   & 2    & 753  & 5012 & 324  & 221 \\\\\n",
       "\t11 & 11   & IN   & 2    & 649  & 4908 & 329  & 264 \\\\\n",
       "\t12 & 12   & IL   & 2    & 830  & 5753 & 320  & 308 \\\\\n",
       "\t13 & 13   & MI   & 2    & 738  & 5439 & 337  & 379 \\\\\n",
       "\t14 & 14   & WI   & 2    & 659  & 4634 & 328  & 342 \\\\\n",
       "\t15 & 15   & MN   & 2    & 664  & 4921 & 330  & 378 \\\\\n",
       "\t16 & 16   & IA   & 2    & 572  & 4869 & 318  & 232 \\\\\n",
       "\t17 & 17   & MO   & 2    & 701  & 4672 & 309  & 231 \\\\\n",
       "\t18 & 18   & ND   & 2    & 443  & 4782 & 333  & 246 \\\\\n",
       "\t19 & 19   & SD   & 2    & 446  & 4296 & 330  & 230 \\\\\n",
       "\t20 & 20   & NB   & 2    & 615  & 4827 & 318  & 268 \\\\\n",
       "\t21 & 21   & KS   & 2    & 661  & 5057 & 304  & 337 \\\\\n",
       "\\end{tabular}\n"
      ],
      "text/markdown": [
       "\n",
       "| <!--/--> | X | State | Region | Urban.Population | Per.Capita.Income | Minor.Population | Education.Expenditures |\n",
       "|---|---|---|---|---|---|---|---|\n",
       "| 10 | 10   | OH   | 2    | 753  | 5012 | 324  | 221  |\n",
       "| 11 | 11   | IN   | 2    | 649  | 4908 | 329  | 264  |\n",
       "| 12 | 12   | IL   | 2    | 830  | 5753 | 320  | 308  |\n",
       "| 13 | 13   | MI   | 2    | 738  | 5439 | 337  | 379  |\n",
       "| 14 | 14   | WI   | 2    | 659  | 4634 | 328  | 342  |\n",
       "| 15 | 15   | MN   | 2    | 664  | 4921 | 330  | 378  |\n",
       "| 16 | 16   | IA   | 2    | 572  | 4869 | 318  | 232  |\n",
       "| 17 | 17   | MO   | 2    | 701  | 4672 | 309  | 231  |\n",
       "| 18 | 18   | ND   | 2    | 443  | 4782 | 333  | 246  |\n",
       "| 19 | 19   | SD   | 2    | 446  | 4296 | 330  | 230  |\n",
       "| 20 | 20   | NB   | 2    | 615  | 4827 | 318  | 268  |\n",
       "| 21 | 21   | KS   | 2    | 661  | 5057 | 304  | 337  |\n",
       "\n"
      ],
      "text/plain": [
       "   X  State Region Urban.Population Per.Capita.Income Minor.Population\n",
       "10 10 OH    2      753              5012              324             \n",
       "11 11 IN    2      649              4908              329             \n",
       "12 12 IL    2      830              5753              320             \n",
       "13 13 MI    2      738              5439              337             \n",
       "14 14 WI    2      659              4634              328             \n",
       "15 15 MN    2      664              4921              330             \n",
       "16 16 IA    2      572              4869              318             \n",
       "17 17 MO    2      701              4672              309             \n",
       "18 18 ND    2      443              4782              333             \n",
       "19 19 SD    2      446              4296              330             \n",
       "20 20 NB    2      615              4827              318             \n",
       "21 21 KS    2      661              5057              304             \n",
       "   Education.Expenditures\n",
       "10 221                   \n",
       "11 264                   \n",
       "12 308                   \n",
       "13 379                   \n",
       "14 342                   \n",
       "15 378                   \n",
       "16 232                   \n",
       "17 231                   \n",
       "18 246                   \n",
       "19 230                   \n",
       "20 268                   \n",
       "21 337                   "
      ]
     },
     "metadata": {},
     "output_type": "display_data"
    }
   ],
   "source": [
    "newdata2"
   ]
  },
  {
   "cell_type": "code",
   "execution_count": 23,
   "metadata": {},
   "outputs": [],
   "source": [
    "#Slicing con columna 2, 6, 7 \n",
    "newdata3 <- newdata2[c(2,(6:7))]"
   ]
  },
  {
   "cell_type": "code",
   "execution_count": 24,
   "metadata": {
    "scrolled": true
   },
   "outputs": [
    {
     "data": {
      "text/html": [
       "<table>\n",
       "<thead><tr><th></th><th scope=col>State</th><th scope=col>Minor.Population</th><th scope=col>Education.Expenditures</th></tr></thead>\n",
       "<tbody>\n",
       "\t<tr><th scope=row>10</th><td>OH </td><td>324</td><td>221</td></tr>\n",
       "\t<tr><th scope=row>11</th><td>IN </td><td>329</td><td>264</td></tr>\n",
       "\t<tr><th scope=row>12</th><td>IL </td><td>320</td><td>308</td></tr>\n",
       "\t<tr><th scope=row>13</th><td>MI </td><td>337</td><td>379</td></tr>\n",
       "\t<tr><th scope=row>14</th><td>WI </td><td>328</td><td>342</td></tr>\n",
       "\t<tr><th scope=row>15</th><td>MN </td><td>330</td><td>378</td></tr>\n",
       "\t<tr><th scope=row>16</th><td>IA </td><td>318</td><td>232</td></tr>\n",
       "\t<tr><th scope=row>17</th><td>MO </td><td>309</td><td>231</td></tr>\n",
       "\t<tr><th scope=row>18</th><td>ND </td><td>333</td><td>246</td></tr>\n",
       "\t<tr><th scope=row>19</th><td>SD </td><td>330</td><td>230</td></tr>\n",
       "\t<tr><th scope=row>20</th><td>NB </td><td>318</td><td>268</td></tr>\n",
       "\t<tr><th scope=row>21</th><td>KS </td><td>304</td><td>337</td></tr>\n",
       "</tbody>\n",
       "</table>\n"
      ],
      "text/latex": [
       "\\begin{tabular}{r|lll}\n",
       "  & State & Minor.Population & Education.Expenditures\\\\\n",
       "\\hline\n",
       "\t10 & OH  & 324 & 221\\\\\n",
       "\t11 & IN  & 329 & 264\\\\\n",
       "\t12 & IL  & 320 & 308\\\\\n",
       "\t13 & MI  & 337 & 379\\\\\n",
       "\t14 & WI  & 328 & 342\\\\\n",
       "\t15 & MN  & 330 & 378\\\\\n",
       "\t16 & IA  & 318 & 232\\\\\n",
       "\t17 & MO  & 309 & 231\\\\\n",
       "\t18 & ND  & 333 & 246\\\\\n",
       "\t19 & SD  & 330 & 230\\\\\n",
       "\t20 & NB  & 318 & 268\\\\\n",
       "\t21 & KS  & 304 & 337\\\\\n",
       "\\end{tabular}\n"
      ],
      "text/markdown": [
       "\n",
       "| <!--/--> | State | Minor.Population | Education.Expenditures |\n",
       "|---|---|---|---|\n",
       "| 10 | OH  | 324 | 221 |\n",
       "| 11 | IN  | 329 | 264 |\n",
       "| 12 | IL  | 320 | 308 |\n",
       "| 13 | MI  | 337 | 379 |\n",
       "| 14 | WI  | 328 | 342 |\n",
       "| 15 | MN  | 330 | 378 |\n",
       "| 16 | IA  | 318 | 232 |\n",
       "| 17 | MO  | 309 | 231 |\n",
       "| 18 | ND  | 333 | 246 |\n",
       "| 19 | SD  | 330 | 230 |\n",
       "| 20 | NB  | 318 | 268 |\n",
       "| 21 | KS  | 304 | 337 |\n",
       "\n"
      ],
      "text/plain": [
       "   State Minor.Population Education.Expenditures\n",
       "10 OH    324              221                   \n",
       "11 IN    329              264                   \n",
       "12 IL    320              308                   \n",
       "13 MI    337              379                   \n",
       "14 WI    328              342                   \n",
       "15 MN    330              378                   \n",
       "16 IA    318              232                   \n",
       "17 MO    309              231                   \n",
       "18 ND    333              246                   \n",
       "19 SD    330              230                   \n",
       "20 NB    318              268                   \n",
       "21 KS    304              337                   "
      ]
     },
     "metadata": {},
     "output_type": "display_data"
    }
   ],
   "source": [
    "newdata3"
   ]
  }
 ],
 "metadata": {
  "kernelspec": {
   "display_name": "R",
   "language": "R",
   "name": "ir"
  },
  "language_info": {
   "codemirror_mode": "r",
   "file_extension": ".r",
   "mimetype": "text/x-r-source",
   "name": "R",
   "pygments_lexer": "r",
   "version": "3.6.1"
  }
 },
 "nbformat": 4,
 "nbformat_minor": 4
}
